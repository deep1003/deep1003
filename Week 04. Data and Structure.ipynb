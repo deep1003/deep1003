{
  "nbformat": 4,
  "nbformat_minor": 0,
  "metadata": {
    "colab": {
      "provenance": [],
      "authorship_tag": "ABX9TyM2VvMWlbPbZ8Ay+GoTaYFR",
      "include_colab_link": true
    },
    "kernelspec": {
      "name": "python3",
      "display_name": "Python 3"
    },
    "language_info": {
      "name": "python"
    }
  },
  "cells": [
    {
      "cell_type": "markdown",
      "metadata": {
        "id": "view-in-github",
        "colab_type": "text"
      },
      "source": [
        "<a href=\"https://colab.research.google.com/github/deep1003/deep1003/blob/master/Week%2004.%20Data%20and%20Structure.ipynb\" target=\"_parent\"><img src=\"https://colab.research.google.com/assets/colab-badge.svg\" alt=\"Open In Colab\"/></a>"
      ]
    },
    {
      "cell_type": "code",
      "source": [
        "import pandas as pd\n",
        "\n",
        "# Creating a DataFrame from a dictionary\n",
        "data = {\n",
        "    'Name': ['Alice', 'Bob', 'Charlie'],\n",
        "    'Age': [25, 30, 35],\n",
        "    'City': ['New York', 'Los Angeles', 'Chicago']\n",
        "}\n",
        "\n",
        "df = pd.DataFrame(data)\n",
        "df"
      ],
      "metadata": {
        "id": "XZ51hAlt33P7",
        "collapsed": true
      },
      "execution_count": null,
      "outputs": []
    },
    {
      "cell_type": "code",
      "execution_count": null,
      "metadata": {
        "colab": {
          "base_uri": "https://localhost:8080/"
        },
        "id": "lnqsBrjXoFIp",
        "outputId": "b62209e0-6054-4c3f-a9ce-a079ffd502b0"
      },
      "outputs": [
        {
          "output_type": "stream",
          "name": "stdout",
          "text": [
            "First element: 1\n",
            "Second element: apple\n",
            "Third element: 3.5\n"
          ]
        },
        {
          "output_type": "execute_result",
          "data": {
            "text/plain": [
              "1"
            ]
          },
          "metadata": {},
          "execution_count": 32
        }
      ],
      "source": [
        "# Creating a list with mixed data types\n",
        "my_list = [1, \"apple\", 3.5]\n",
        "\n",
        "# Accessing list elements by index\n",
        "print(\"First element:\", my_list[0])  # Access the first element\n",
        "print(\"Second element:\", my_list[1])  # Access the second element\n",
        "print(\"Third element:\", my_list[2])  # Access the third element\n",
        "\n",
        "# Adding an element to the list\n",
        "my_list.append('new item')\n",
        "\n",
        "# Displaying the updated lis\n",
        "my_list[0]\n"
      ]
    },
    {
      "cell_type": "code",
      "source": [
        "# Nested list\n",
        "data_list1 = [['Alice', 25, 'New York']]\n",
        "data_list1[0][1]"
      ],
      "metadata": {
        "colab": {
          "base_uri": "https://localhost:8080/"
        },
        "id": "_xJTLVSB15bX",
        "outputId": "6b89b691-971e-44f6-e588-b57095b9163e"
      },
      "execution_count": null,
      "outputs": [
        {
          "output_type": "execute_result",
          "data": {
            "text/plain": [
              "25"
            ]
          },
          "metadata": {},
          "execution_count": 25
        }
      ]
    },
    {
      "cell_type": "code",
      "source": [
        "#display the data_list\n",
        "data_list1 = [['Alice', 25, 'New York'], ['Bob', 30, 'Los Angeles'], ['Charlie', 35, 'Chicago']]\n",
        "data_list1"
      ],
      "metadata": {
        "colab": {
          "base_uri": "https://localhost:8080/"
        },
        "id": "Obgt7B_3vLye",
        "outputId": "81d25eac-1453-4bb7-b42e-13f36db694d5"
      },
      "execution_count": null,
      "outputs": [
        {
          "output_type": "execute_result",
          "data": {
            "text/plain": [
              "[['Alice', 25, 'New York'],\n",
              " ['Bob', 30, 'Los Angeles'],\n",
              " ['Charlie', 35, 'Chicago']]"
            ]
          },
          "metadata": {},
          "execution_count": 30
        }
      ]
    },
    {
      "cell_type": "code",
      "source": [],
      "metadata": {
        "id": "irviqEED4hsa"
      },
      "execution_count": null,
      "outputs": []
    },
    {
      "cell_type": "code",
      "source": [
        "import numpy as np\n",
        "\n",
        "\n",
        "# Defining a matrix (2D array)\n",
        "matrix = np.array([[1, 2, 3],\n",
        "                   [4, 5, 6],\n",
        "                   [7, 8, 9]])\n",
        "print(matrix)\n"
      ],
      "metadata": {
        "colab": {
          "base_uri": "https://localhost:8080/"
        },
        "id": "9dvg3OWq9w47",
        "outputId": "69a3e53a-8b1f-4e35-e853-6094af2aadec"
      },
      "execution_count": null,
      "outputs": [
        {
          "output_type": "stream",
          "name": "stdout",
          "text": [
            "[[1 2 3]\n",
            " [4 5 6]\n",
            " [7 8 9]]\n"
          ]
        }
      ]
    },
    {
      "cell_type": "code",
      "source": [
        "matrix[1][1]"
      ],
      "metadata": {
        "colab": {
          "base_uri": "https://localhost:8080/"
        },
        "id": "TWLqmx3C-s3O",
        "outputId": "a089ecb4-0382-421b-f2ed-6d413ec43abe"
      },
      "execution_count": null,
      "outputs": [
        {
          "output_type": "execute_result",
          "data": {
            "text/plain": [
              "5"
            ]
          },
          "metadata": {},
          "execution_count": 43
        }
      ]
    },
    {
      "cell_type": "code",
      "source": [
        "import numpy as np\n",
        "\n",
        "# Defining a matrix (2D array)\n",
        "matrix = np.array([[1, 2, 3],\n",
        "                   [4, 5, 6],\n",
        "                   [7, 8, 9]])\n",
        "\n",
        "# Accessing the element at row 1, column 1 (remember Python uses zero-based indexing)\n",
        "matrix[1][1]"
      ],
      "metadata": {
        "colab": {
          "base_uri": "https://localhost:8080/"
        },
        "id": "6Ch03vKB_GIL",
        "outputId": "60455cf5-83b2-4e2e-e3bd-dc6639725b5b"
      },
      "execution_count": null,
      "outputs": [
        {
          "output_type": "stream",
          "name": "stdout",
          "text": [
            "[[1 2 3]\n",
            " [4 5 6]\n",
            " [7 8 9]]\n"
          ]
        },
        {
          "output_type": "execute_result",
          "data": {
            "text/plain": [
              "5"
            ]
          },
          "metadata": {},
          "execution_count": 42
        }
      ]
    },
    {
      "cell_type": "code",
      "source": [
        "vector = np.array([1, 2, 3])\n",
        "vector"
      ],
      "metadata": {
        "colab": {
          "base_uri": "https://localhost:8080/"
        },
        "id": "8xeAKU4UW0g6",
        "outputId": "9bb5bb3b-a45f-41ef-f0e5-7c1e58a27be2"
      },
      "execution_count": null,
      "outputs": [
        {
          "output_type": "execute_result",
          "data": {
            "text/plain": [
              "array([1, 2, 3])"
            ]
          },
          "metadata": {},
          "execution_count": 57
        }
      ]
    },
    {
      "cell_type": "code",
      "source": [
        "type(vector)"
      ],
      "metadata": {
        "colab": {
          "base_uri": "https://localhost:8080/"
        },
        "id": "12CLJf3DbvlY",
        "outputId": "214ffdd8-1d91-4a7f-ea85-3abfd54ed21e"
      },
      "execution_count": null,
      "outputs": [
        {
          "output_type": "execute_result",
          "data": {
            "text/plain": [
              "numpy.ndarray"
            ]
          },
          "metadata": {},
          "execution_count": 61
        }
      ]
    },
    {
      "cell_type": "code",
      "source": [
        "type(matrix)"
      ],
      "metadata": {
        "colab": {
          "base_uri": "https://localhost:8080/"
        },
        "id": "PIfdDlM2b8EX",
        "outputId": "3fc96e20-3553-4152-fe63-80c7ca0c6279"
      },
      "execution_count": null,
      "outputs": [
        {
          "output_type": "execute_result",
          "data": {
            "text/plain": [
              "numpy.ndarray"
            ]
          },
          "metadata": {},
          "execution_count": 62
        }
      ]
    },
    {
      "cell_type": "code",
      "source": [
        "vector1 = np.array([\"1\", \"2\", \"3\"])\n",
        "vector1"
      ],
      "metadata": {
        "colab": {
          "base_uri": "https://localhost:8080/"
        },
        "id": "TV0vdkd2cASa",
        "outputId": "985a25dd-4ad7-4c33-86d0-9de360c1dbff"
      },
      "execution_count": null,
      "outputs": [
        {
          "output_type": "execute_result",
          "data": {
            "text/plain": [
              "array(['1', '2', '3'], dtype='<U1')"
            ]
          },
          "metadata": {},
          "execution_count": 64
        }
      ]
    },
    {
      "cell_type": "code",
      "source": [
        "type(vector1)"
      ],
      "metadata": {
        "colab": {
          "base_uri": "https://localhost:8080/"
        },
        "id": "ZNwuiDWHcT8j",
        "outputId": "b69701e1-3b3d-4702-e835-084929ab3c54"
      },
      "execution_count": null,
      "outputs": [
        {
          "output_type": "execute_result",
          "data": {
            "text/plain": [
              "numpy.ndarray"
            ]
          },
          "metadata": {},
          "execution_count": 65
        }
      ]
    },
    {
      "cell_type": "code",
      "source": [
        "# Nested list\n",
        "my_list = [[1, \"apple\", 3.5],\n",
        "           [2, \"car\", 4.5],\n",
        "           [3, \"bob\", 5.5]]\n",
        "\n",
        "# Display \"apple\"\n",
        "print(my_list[0][1])  # Access the second element from the first nested list\n"
      ],
      "metadata": {
        "colab": {
          "base_uri": "https://localhost:8080/"
        },
        "id": "PWpTFybecbYd",
        "outputId": "7ab318df-69fb-434f-dd67-996c2e553c63"
      },
      "execution_count": null,
      "outputs": [
        {
          "output_type": "stream",
          "name": "stdout",
          "text": [
            "apple\n"
          ]
        }
      ]
    },
    {
      "cell_type": "code",
      "source": [
        "import numpy as np\n",
        "\n",
        "# Nested list\n",
        "my_list = [[1, \"apple\", 3.5],\n",
        "           [2, \"car\", 4.5],\n",
        "           [3, \"bob\", 5.5]]\n",
        "\n",
        "# Convert nested list to matrix (numpy array)\n",
        "matrix = np.array(my_list)\n",
        "\n",
        "# Display the matrix\n",
        "print(matrix)\n"
      ],
      "metadata": {
        "id": "BBIOeuE1fZ0L"
      },
      "execution_count": null,
      "outputs": []
    },
    {
      "cell_type": "code",
      "source": [
        "import numpy as np\n",
        "\n",
        "# Define matrices A and B\n",
        "A = np.array([[1, 2, 3],\n",
        "              [4, 5, 6]])\n",
        "\n",
        "B = np.array([[7, 8],\n",
        "              [9, 10],\n",
        "              [11, 12]])\n",
        "\n",
        "# Perform matrix multiplication\n",
        "C = np.dot(A, B)\n",
        "\n",
        "# Display the result\n",
        "print(\"Matrix C:\\n\", C)\n"
      ],
      "metadata": {
        "colab": {
          "base_uri": "https://localhost:8080/"
        },
        "id": "OZqkwd2SnN4B",
        "outputId": "73ff63a5-5e88-49d6-8e24-56629738a353"
      },
      "execution_count": null,
      "outputs": [
        {
          "output_type": "stream",
          "name": "stdout",
          "text": [
            "Matrix C:\n",
            " [[ 58  64]\n",
            " [139 154]]\n"
          ]
        }
      ]
    },
    {
      "cell_type": "code",
      "source": [
        "import numpy as np\n",
        "\n",
        "# Define matrices A and B\n",
        "A = np.array([[1, 2, 3],\n",
        "              [4, 5, 6]])\n",
        "\n",
        "B = np.array([[7, 8],\n",
        "              [9, 10],\n",
        "              [11, 12]])\n",
        "\n",
        "# Perform matrix multiplication\n",
        "C = np.dot(A, B)\n",
        "\n",
        "# Display the result\n",
        "print(\"Matrix C:\\n\", C)\n"
      ],
      "metadata": {
        "colab": {
          "base_uri": "https://localhost:8080/"
        },
        "id": "bOy7wSw6njFv",
        "outputId": "08318c6f-d1a6-4021-fd3d-80de0a77e428"
      },
      "execution_count": 1,
      "outputs": [
        {
          "output_type": "stream",
          "name": "stdout",
          "text": [
            "Matrix C:\n",
            " [[ 58  64]\n",
            " [139 154]]\n"
          ]
        }
      ]
    },
    {
      "cell_type": "code",
      "source": [
        "import numpy as np\n",
        "\n",
        "# Define a 3x3 matrix\n",
        "A = np.array([[1, 2, 3],\n",
        "              [4, 5, 6],\n",
        "              [7, 8, 9]])\n",
        "\n",
        "# Define a 3x1 vector\n",
        "v = np.array([1, 2, 3])\n",
        "\n",
        "# Perform matrix-vector multiplication\n",
        "w = np.dot(A, v)\n",
        "\n",
        "# Display the result\n",
        "print(\"Resulting vector w:\\n\", w)"
      ],
      "metadata": {
        "colab": {
          "base_uri": "https://localhost:8080/"
        },
        "id": "aPiHlsWEnnaY",
        "outputId": "c1decfa0-0f32-4134-c557-c68bd348f69b"
      },
      "execution_count": 2,
      "outputs": [
        {
          "output_type": "stream",
          "name": "stdout",
          "text": [
            "Resulting vector w:\n",
            " [14 32 50]\n"
          ]
        }
      ]
    },
    {
      "cell_type": "code",
      "source": [
        "import matplotlib.pyplot as plt\n",
        "import numpy as np\n",
        "\n",
        "# Define matrices A and B\n",
        "A = np.array([[1, 2, 3],\n",
        "              [4, 5, 6]])\n",
        "B = np.array([[7, 8],\n",
        "              [9, 10],\n",
        "              [11, 12]])\n",
        "\n",
        "# Perform matrix multiplication\n",
        "C = np.dot(A, B)\n",
        "\n",
        "# Create a function to annotate the matrix in the plot\n",
        "def plot_matrix(ax, matrix, title):\n",
        "    ax.matshow(matrix, cmap='Pastel1', alpha=0.3)\n",
        "    for (i, j), val in np.ndenumerate(matrix):\n",
        "        ax.text(j, i, f'{val}', ha='center', va='center', fontweight='bold')\n",
        "    ax.set_xticks(np.arange(matrix.shape[1]))\n",
        "    ax.set_yticks(np.arange(matrix.shape[0]))\n",
        "    ax.set_xticklabels(np.arange(matrix.shape[1]), fontweight='bold')\n",
        "    ax.set_yticklabels(np.arange(matrix.shape[0]), fontweight='bold')\n",
        "    ax.set_title(title)\n",
        "\n",
        "# Create a figure to plot\n",
        "fig, axes = plt.subplots(1, 3, figsize=(12, 4))\n",
        "\n",
        "# Plot matrix A\n",
        "plot_matrix(axes[0], A, \"Matrix A\")\n",
        "\n",
        "# Plot matrix B\n",
        "plot_matrix(axes[1], B, \"Matrix B\")\n",
        "\n",
        "# Plot matrix C (Result of A * B)\n",
        "plot_matrix(axes[2], C, \"Matrix C = A * B\")\n",
        "\n",
        "plt.tight_layout()\n",
        "plt.show()\n"
      ],
      "metadata": {
        "colab": {
          "base_uri": "https://localhost:8080/",
          "height": 407
        },
        "id": "-Jowff3XqS0e",
        "outputId": "75ac5cb4-25e1-47cd-beda-29d39bcf5b3a"
      },
      "execution_count": 3,
      "outputs": [
        {
          "output_type": "display_data",
          "data": {
            "text/plain": [
              "<Figure size 1200x400 with 3 Axes>"
            ],
            "image/png": "[encoded data removed]"
          },
          "metadata": {}
        }
      ]
    },
    {
      "cell_type": "code",
      "source": [
        "# Define matrix A and vector v\n",
        "A = np.array([[1, 2, 3],\n",
        "              [4, 5, 6]])\n",
        "\n",
        "v = np.array([1, 2, 3])\n",
        "\n",
        "# Perform matrix-vector multiplication\n",
        "w = np.dot(A, v)\n",
        "\n",
        "# Create a figure to plot matrix A, vector v, and resulting vector w\n",
        "fig, axes = plt.subplots(1, 3, figsize=(12, 4))\n",
        "\n",
        "# Plot matrix A\n",
        "plot_matrix(axes[0], A, \"Matrix A\")\n",
        "\n",
        "# Plot vector v (reshape to make it a column vector for visualization)\n",
        "plot_matrix(axes[1], v.reshape(-1, 1), \"Vector v\")\n",
        "\n",
        "# Plot resulting vector w (reshape to make it a column vector for visualization)\n",
        "plot_matrix(axes[2], w.reshape(-1, 1), \"Vector w = A * v\")\n",
        "\n",
        "plt.tight_layout()\n",
        "plt.show()\n"
      ],
      "metadata": {
        "colab": {
          "base_uri": "https://localhost:8080/",
          "height": 407
        },
        "id": "pZLFcKffqT87",
        "outputId": "e6952343-54b9-46cd-f32e-82552c46c037"
      },
      "execution_count": 4,
      "outputs": [
        {
          "output_type": "display_data",
          "data": {
            "text/plain": [
              "<Figure size 1200x400 with 3 Axes>"
            ],
            "image/png": "[encoded data removed]"
          },
          "metadata": {}
        }
      ]
    }
  ]
}