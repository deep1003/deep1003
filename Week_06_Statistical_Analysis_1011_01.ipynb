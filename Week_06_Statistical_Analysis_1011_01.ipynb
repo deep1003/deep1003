{
  "cells": [
    {
      "cell_type": "markdown",
      "metadata": {
        "id": "view-in-github",
        "colab_type": "text"
      },
      "source": [
        "<a href=\"https://colab.research.google.com/github/deep1003/deep1003/blob/master/Week_06_Statistical_Analysis_1011_01.ipynb\" target=\"_parent\"><img src=\"https://colab.research.google.com/assets/colab-badge.svg\" alt=\"Open In Colab\"/></a>"
      ]
    },
    {
      "cell_type": "markdown",
      "source": [
        "##**Colab User Guide**"
      ],
      "metadata": {
        "id": "-2LD3LrVUy62"
      }
    },
    {
      "cell_type": "markdown",
      "metadata": {
        "id": "rCluOU5j-mud"
      },
      "source": [
        "**Colab 단축키**"
      ]
    },
    {
      "cell_type": "code",
      "execution_count": 29,
      "metadata": {
        "id": "3Nt66JP98pHR"
      },
      "outputs": [],
      "source": [
        "# Colab 단축키\n",
        "# Ctrl + S (저장)\n",
        "# Ctrl + Enter (셀하나 실행)\n",
        "# Ctrl + Shift + Enter (선택한 코드만 실행)\n",
        "# Ctrl + F9 (전체실행)\n",
        "# Ctrl + F8 (현재 셀 포함 이전 전체 실행)\n",
        "# Ctrl + F10 (현재 셀 포함 이후 전체 실행)"
      ]
    },
    {
      "cell_type": "markdown",
      "metadata": {
        "id": "w01LHhVJZ0Js"
      },
      "source": [
        "**패키지 설치** (Colab은 새로 시작할 때마다 패키지를 설치하고, 라이브러리를 불러와야 한다.)"
      ]
    },
    {
      "cell_type": "code",
      "execution_count": 30,
      "metadata": {
        "colab": {
          "base_uri": "https://localhost:8080/"
        },
        "id": "0uPC_8grm2WA",
        "outputId": "10eb3064-c556-4990-b9fd-3332f2dd7198"
      },
      "outputs": [
        {
          "output_type": "stream",
          "name": "stdout",
          "text": [
            "Requirement already satisfied: seaborn in /usr/local/lib/python3.10/dist-packages (0.13.1)\n",
            "Requirement already satisfied: numpy!=1.24.0,>=1.20 in /usr/local/lib/python3.10/dist-packages (from seaborn) (1.26.4)\n",
            "Requirement already satisfied: pandas>=1.2 in /usr/local/lib/python3.10/dist-packages (from seaborn) (2.2.2)\n",
            "Requirement already satisfied: matplotlib!=3.6.1,>=3.4 in /usr/local/lib/python3.10/dist-packages (from seaborn) (3.7.1)\n",
            "Requirement already satisfied: contourpy>=1.0.1 in /usr/local/lib/python3.10/dist-packages (from matplotlib!=3.6.1,>=3.4->seaborn) (1.3.0)\n",
            "Requirement already satisfied: cycler>=0.10 in /usr/local/lib/python3.10/dist-packages (from matplotlib!=3.6.1,>=3.4->seaborn) (0.12.1)\n",
            "Requirement already satisfied: fonttools>=4.22.0 in /usr/local/lib/python3.10/dist-packages (from matplotlib!=3.6.1,>=3.4->seaborn) (4.54.1)\n",
            "Requirement already satisfied: kiwisolver>=1.0.1 in /usr/local/lib/python3.10/dist-packages (from matplotlib!=3.6.1,>=3.4->seaborn) (1.4.7)\n",
            "Requirement already satisfied: packaging>=20.0 in /usr/local/lib/python3.10/dist-packages (from matplotlib!=3.6.1,>=3.4->seaborn) (24.1)\n",
            "Requirement already satisfied: pillow>=6.2.0 in /usr/local/lib/python3.10/dist-packages (from matplotlib!=3.6.1,>=3.4->seaborn) (10.4.0)\n",
            "Requirement already satisfied: pyparsing>=2.3.1 in /usr/local/lib/python3.10/dist-packages (from matplotlib!=3.6.1,>=3.4->seaborn) (3.1.4)\n",
            "Requirement already satisfied: python-dateutil>=2.7 in /usr/local/lib/python3.10/dist-packages (from matplotlib!=3.6.1,>=3.4->seaborn) (2.8.2)\n",
            "Requirement already satisfied: pytz>=2020.1 in /usr/local/lib/python3.10/dist-packages (from pandas>=1.2->seaborn) (2024.2)\n",
            "Requirement already satisfied: tzdata>=2022.7 in /usr/local/lib/python3.10/dist-packages (from pandas>=1.2->seaborn) (2024.2)\n",
            "Requirement already satisfied: six>=1.5 in /usr/local/lib/python3.10/dist-packages (from python-dateutil>=2.7->matplotlib!=3.6.1,>=3.4->seaborn) (1.16.0)\n",
            "Requirement already satisfied: networkx in /usr/local/lib/python3.10/dist-packages (3.3)\n"
          ]
        }
      ],
      "source": [
        "# Colab에 기본적으로 설치된 라이브러리: pandas, matplotlib, numpy\n",
        "# 설치가 필요한 라이브러리: networkx, seaborn\n",
        "# Colab에서는 '!'를 사용해야 한다.\n",
        "\n",
        "!pip install seaborn\n",
        "!pip install networkx\n"
      ]
    },
    {
      "cell_type": "markdown",
      "metadata": {
        "id": "eP69RBd5Zv54"
      },
      "source": [
        "**라이브러리 불러오기**"
      ]
    },
    {
      "cell_type": "code",
      "execution_count": 31,
      "metadata": {
        "id": "ubqo_a08ezpr"
      },
      "outputs": [],
      "source": [
        "# pandas 라이브러리를 'pd'로 가져오기 (데이터 처리)\n",
        "import pandas as pd\n",
        "# matplotlib의 pyplot 모듈을 'plt'로 가져오기 (그래프 시각화)\n",
        "import matplotlib.pyplot as plt\n",
        "# numpy 라이브러리를 'np'로 가져오기 (수치 연산)\n",
        "import numpy as np\n",
        "# seaborn 라이브러리를 'sns'로 가져오기 (통계적 데이터 시각화)\n",
        "import seaborn as sns\n",
        "# networkx 라이브러리를 'nx'로 가져오기 (네트워크 분석)\n",
        "import networkx as nx"
      ]
    },
    {
      "cell_type": "markdown",
      "source": [
        "##**1. Descriptive Statistics**"
      ],
      "metadata": {
        "id": "hTVHxsB56bGY"
      }
    },
    {
      "cell_type": "markdown",
      "metadata": {
        "id": "pe4WS4xlxFuI"
      },
      "source": [
        "##**1.2 Variance (분산)**"
      ]
    },
    {
      "cell_type": "code",
      "execution_count": 32,
      "metadata": {
        "colab": {
          "base_uri": "https://localhost:8080/"
        },
        "id": "9CO241G0xLB3",
        "outputId": "45fb2a5a-80a0-48ce-b68a-361bc50e8098"
      },
      "outputs": [
        {
          "output_type": "stream",
          "name": "stdout",
          "text": [
            "분산: 250.0\n"
          ]
        }
      ],
      "source": [
        "# 예제 데이터\n",
        "x = np.array([10, 20, 30, 40, 50])  # 데이터 벡터\n",
        "\n",
        "# 한 벡터의 분산 계산 함수\n",
        "def calculate_variance(x):\n",
        "    # 벡터의 길이를 n에 저장\n",
        "    n = len(x)\n",
        "\n",
        "    # x 벡터의 평균 계산\n",
        "    x_mean = np.mean(x)\n",
        "\n",
        "    # 분산 계산: (x - x평균)의 제곱을 더한 후, n-1로 나눔\n",
        "    variance = np.sum((x - x_mean) ** 2) / (n - 1)\n",
        "\n",
        "    # 계산된 분산 반환\n",
        "    return variance\n",
        "\n",
        "# calculate_variance 함수로 x의 분산 계산\n",
        "var = calculate_variance(x)\n",
        "\n",
        "# 계산된 분산 출력\n",
        "print(f\"분산: {var}\")\n"
      ]
    },
    {
      "cell_type": "markdown",
      "source": [
        "##**2. Correlation**"
      ],
      "metadata": {
        "id": "afr2qyO76lYK"
      }
    },
    {
      "cell_type": "markdown",
      "metadata": {
        "id": "DOosSWiGxq72"
      },
      "source": [
        "##**2.1 Covariance (공분산)**"
      ]
    },
    {
      "cell_type": "code",
      "execution_count": 33,
      "metadata": {
        "colab": {
          "base_uri": "https://localhost:8080/"
        },
        "id": "dyCSg3akxwpP",
        "outputId": "323ed598-fc24-4c67-e5b0-e01b78d7fbcb"
      },
      "outputs": [
        {
          "output_type": "stream",
          "name": "stdout",
          "text": [
            "공분산: 250.0\n"
          ]
        }
      ],
      "source": [
        "# 예제 데이터\n",
        "x = np.array([10, 20, 30, 40, 50])  # 첫 번째 데이터 벡터\n",
        "y = np.array([15, 25, 35, 45, 55])  # 두 번째 데이터 벡터\n",
        "\n",
        "# 두 벡터 x와 y의 공분산 계산 함수\n",
        "def calculate_covariance(x, y):\n",
        "    # 입력된 두 벡터의 길이가 같은지 확인. 다르면 오류 발생\n",
        "    if len(x) != len(y):\n",
        "        raise ValueError(\"두 벡터의 길이는 같아야 함\")\n",
        "\n",
        "    # 벡터의 길이를 n에 저장\n",
        "    n = len(x)\n",
        "\n",
        "    # x 벡터와 y 벡터의 평균 계산\n",
        "    x_mean = np.mean(x)\n",
        "    y_mean = np.mean(y)\n",
        "\n",
        "    # 공분산 계산: (x - x평균)과 (y - y평균)을 곱한 후, n-1로 나눔\n",
        "    covariance = np.dot(x - x_mean, y - y_mean) / (n - 1)\n",
        "\n",
        "    # 계산된 공분산 반환\n",
        "    return covariance\n",
        "\n",
        "# calculate_covariance 함수로 x와 y의 공분산 계산\n",
        "cov = calculate_covariance(x, y)\n",
        "\n",
        "# 계산된 공분산 출력\n",
        "print(f\"공분산: {cov}\")\n"
      ]
    },
    {
      "cell_type": "markdown",
      "metadata": {
        "id": "6nzwgAzjhvkE"
      },
      "source": [
        "##**2.2 Pearson Correlation**"
      ]
    },
    {
      "cell_type": "code",
      "execution_count": 34,
      "metadata": {
        "colab": {
          "base_uri": "https://localhost:8080/",
          "height": 490
        },
        "id": "ayTXc1TCh1F0",
        "outputId": "55e22bfd-3c6a-4230-8857-4bec929378c5"
      },
      "outputs": [
        {
          "output_type": "stream",
          "name": "stdout",
          "text": [
            "Pearson Correlation Coefficient: 0.9538512608492794\n"
          ]
        },
        {
          "output_type": "display_data",
          "data": {
            "text/plain": [
              "<Figure size 640x480 with 1 Axes>"
            ],
            "image/png": "[encoded data removed]"
          },
          "metadata": {}
        }
      ],
      "source": [
        "# 두 변수 x와 y의 상관관계를 scatter plot, Pearson 상관계수 출력\n",
        "\n",
        "# x와 y 데이터 값 설정\n",
        "x = np.array([8, 14, 39, 43, 68])\n",
        "y = np.array([15, 25, 35, 49, 55])\n",
        "\n",
        "# Pearson 상관계수를 numpy를 사용해 계산\n",
        "pearson_corr = np.corrcoef(x, y)[0, 1]\n",
        "\n",
        "# Pearson 상관계수 출력\n",
        "print(f\"Pearson Correlation Coefficient: {pearson_corr}\")\n",
        "\n",
        "# scatter plot 생성 (x와 y 값을 점으로 표시)\n",
        "plt.scatter(x, y)\n",
        "\n",
        "# x축, y축 라벨과 제목 추가\n",
        "plt.xlabel('x')  # x축 라벨\n",
        "plt.ylabel('y')  # y축 라벨\n",
        "plt.title(f'Pearson Correlation = {pearson_corr:.2f}')  # 상관계수 포함한 제목\n",
        "\n",
        "# plot 보여주기\n",
        "plt.show()\n"
      ]
    },
    {
      "cell_type": "markdown",
      "metadata": {
        "id": "3qQ0HFq0jwH-"
      },
      "source": [
        "##**4. Linear Regression**"
      ]
    },
    {
      "cell_type": "markdown",
      "metadata": {
        "id": "vsp8V5jWeo9G"
      },
      "source": [
        "##**4.2 Data Collection**"
      ]
    },
    {
      "cell_type": "code",
      "source": [
        "# @title CSV 파일 불러오기\n",
        "import pandas as pd\n",
        "\n",
        "# GitHub raw 파일 URL\n",
        "url = 'https://raw.githubusercontent.com/deep1003/deep1003/master/df_combined.csv'\n",
        "\n",
        "df_combined = pd.read_csv(url)\n"
      ],
      "metadata": {
        "id": "tiI2Dl1aq8C2"
      },
      "execution_count": 35,
      "outputs": []
    },
    {
      "cell_type": "code",
      "source": [
        "# @title 데이터 프레임 확인\n",
        "print(df_combined.head())\n"
      ],
      "metadata": {
        "colab": {
          "base_uri": "https://localhost:8080/"
        },
        "id": "EQeGEKu20WAD",
        "outputId": "79a32d77-978f-4932-9e3a-90705072b73f"
      },
      "execution_count": 36,
      "outputs": [
        {
          "output_type": "stream",
          "name": "stdout",
          "text": [
            "   constant_term  num_friends  work_hours_per_day  has_PhD  minutes\n",
            "0              1           49                   4        0    68.77\n",
            "1              1           41                   9        0    51.25\n",
            "2              1           40                   8        0    52.08\n",
            "3              1           25                   6        0    38.36\n",
            "4              1           21                   1        0    44.54\n"
          ]
        }
      ]
    },
    {
      "cell_type": "code",
      "source": [
        "# @title output dimension of data frame\n",
        "df_combined.shape"
      ],
      "metadata": {
        "colab": {
          "base_uri": "https://localhost:8080/"
        },
        "id": "ndevMyOVz1X8",
        "outputId": "06c88faf-bd27-4b70-c0cb-64c6f9d91842"
      },
      "execution_count": 37,
      "outputs": [
        {
          "output_type": "execute_result",
          "data": {
            "text/plain": [
              "(203, 5)"
            ]
          },
          "metadata": {},
          "execution_count": 37
        }
      ]
    },
    {
      "cell_type": "code",
      "source": [
        "# @title check number of nulls and data type of data frame\n",
        "df_combined.info()"
      ],
      "metadata": {
        "colab": {
          "base_uri": "https://localhost:8080/"
        },
        "id": "ZwGyWelnz8Yc",
        "outputId": "5181cfee-ab9b-4072-a266-dbb13597e9ec"
      },
      "execution_count": 38,
      "outputs": [
        {
          "output_type": "stream",
          "name": "stdout",
          "text": [
            "<class 'pandas.core.frame.DataFrame'>\n",
            "RangeIndex: 203 entries, 0 to 202\n",
            "Data columns (total 5 columns):\n",
            " #   Column              Non-Null Count  Dtype  \n",
            "---  ------              --------------  -----  \n",
            " 0   constant_term       203 non-null    int64  \n",
            " 1   num_friends         203 non-null    int64  \n",
            " 2   work_hours_per_day  203 non-null    int64  \n",
            " 3   has_PhD             203 non-null    int64  \n",
            " 4   minutes             203 non-null    float64\n",
            "dtypes: float64(1), int64(4)\n",
            "memory usage: 8.1 KB\n"
          ]
        }
      ]
    },
    {
      "cell_type": "code",
      "source": [
        "# @title  output variable name set of data frame\n",
        "df_combined.columns"
      ],
      "metadata": {
        "colab": {
          "base_uri": "https://localhost:8080/"
        },
        "id": "ApO8Yf3Fz8KU",
        "outputId": "96fe7c80-ccc7-46fe-918d-de85aa99577f"
      },
      "execution_count": 39,
      "outputs": [
        {
          "output_type": "execute_result",
          "data": {
            "text/plain": [
              "Index(['constant_term', 'num_friends', 'work_hours_per_day', 'has_PhD',\n",
              "       'minutes'],\n",
              "      dtype='object')"
            ]
          },
          "metadata": {},
          "execution_count": 39
        }
      ]
    },
    {
      "cell_type": "markdown",
      "source": [
        "##**4.6 Results Analysis**\n"
      ],
      "metadata": {
        "id": "V5YVmWipK8U-"
      }
    },
    {
      "cell_type": "code",
      "execution_count": 40,
      "metadata": {
        "id": "cpQ5Ex1oh9nE"
      },
      "outputs": [],
      "source": [
        "# @title  OLS 회귀분석을 수행하는 코드\n",
        "# 종속변수(Y): 'minutes'\n",
        "# 설명변수(X): 'num_friends', 'work_hours_per_day', 'has_PhD'\n",
        "# 상수항을 추가한 후 OLS 회귀모형을 적합\n",
        "\n",
        "# statsmodels 라이브러리를 사용하여 OLS 회귀분석 수행\n",
        "import statsmodels.api as sm\n",
        "\n",
        "# 종속변수 (Y): 'minutes' 열을 사용\n",
        "y = df_combined['minutes']\n",
        "\n",
        "# 설명변수 (X): 'num_friends', 'work_hours_per_day', 'has_PhD' 열을 사용\n",
        "X = df_combined[['num_friends', 'work_hours_per_day', 'has_PhD']]\n",
        "\n",
        "# 상수항(constant)을 추가 (OLS 회귀분석에서는 상수항을 포함하는 것이 일반적)\n",
        "X = sm.add_constant(X)\n",
        "\n",
        "# OLS 회귀모형을 적합 (종속변수와 설명변수를 사용하여 OLS 모델을 적합시킴)\n",
        "model = sm.OLS(y, X)\n",
        "\n",
        "# 모델을 적합하고 결과를 저장 (회귀계수, 통계량 등 포함)\n",
        "results = model.fit()\n",
        "\n",
        "# Null model (only intercept)\n",
        "null_model = sm.OLS(y, sm.add_constant([1] * len(y)))\n",
        "\n",
        "# 모델을 적합하고 결과를 저장 (회귀계수, 통계량 등 포함)\n",
        "results_null = null_model.fit()\n"
      ]
    },
    {
      "cell_type": "code",
      "source": [
        "# @title  회귀분석 출력 (결과 요약)\n",
        "print(results.summary())"
      ],
      "metadata": {
        "colab": {
          "base_uri": "https://localhost:8080/"
        },
        "id": "dxqdq4Ixd-6T",
        "outputId": "6fcd0ddf-d86d-4bc8-87e9-fb0fb7ac2601"
      },
      "execution_count": 41,
      "outputs": [
        {
          "output_type": "stream",
          "name": "stdout",
          "text": [
            "                            OLS Regression Results                            \n",
            "==============================================================================\n",
            "Dep. Variable:                minutes   R-squared:                       0.680\n",
            "Model:                            OLS   Adj. R-squared:                  0.675\n",
            "Method:                 Least Squares   F-statistic:                     141.0\n",
            "Date:                Mon, 07 Oct 2024   Prob (F-statistic):           5.39e-49\n",
            "Time:                        08:54:14   Log-Likelihood:                -636.61\n",
            "No. Observations:                 203   AIC:                             1281.\n",
            "Df Residuals:                     199   BIC:                             1294.\n",
            "Df Model:                           3                                         \n",
            "Covariance Type:            nonrobust                                         \n",
            "======================================================================================\n",
            "                         coef    std err          t      P>|t|      [0.025      0.975]\n",
            "--------------------------------------------------------------------------------------\n",
            "const                 30.5790      1.190     25.692      0.000      28.232      32.926\n",
            "num_friends            0.9725      0.080     12.188      0.000       0.815       1.130\n",
            "work_hours_per_day    -1.8650      0.127    -14.721      0.000      -2.115      -1.615\n",
            "has_PhD                0.9232      0.998      0.925      0.356      -1.044       2.891\n",
            "==============================================================================\n",
            "Omnibus:                        2.820   Durbin-Watson:                   2.044\n",
            "Prob(Omnibus):                  0.244   Jarque-Bera (JB):                2.010\n",
            "Skew:                           0.013   Prob(JB):                        0.366\n",
            "Kurtosis:                       2.513   Cond. No.                         37.0\n",
            "==============================================================================\n",
            "\n",
            "Notes:\n",
            "[1] Standard Errors assume that the covariance matrix of the errors is correctly specified.\n"
          ]
        }
      ]
    },
    {
      "cell_type": "code",
      "source": [
        "# @title  Null 모델 회귀분석 출력 (결과 요약)\n",
        "print(results_null.summary())"
      ],
      "metadata": {
        "colab": {
          "base_uri": "https://localhost:8080/"
        },
        "id": "EqFId-GSewdL",
        "outputId": "0920b72f-8db1-4d15-acbe-d1f22d0e6d90"
      },
      "execution_count": 42,
      "outputs": [
        {
          "output_type": "stream",
          "name": "stdout",
          "text": [
            "                            OLS Regression Results                            \n",
            "==============================================================================\n",
            "Dep. Variable:                minutes   R-squared:                       0.000\n",
            "Model:                            OLS   Adj. R-squared:                  0.000\n",
            "Method:                 Least Squares   F-statistic:                       nan\n",
            "Date:                Mon, 07 Oct 2024   Prob (F-statistic):                nan\n",
            "Time:                        08:54:14   Log-Likelihood:                -752.27\n",
            "No. Observations:                 203   AIC:                             1507.\n",
            "Df Residuals:                     202   BIC:                             1510.\n",
            "Df Model:                           0                                         \n",
            "Covariance Type:            nonrobust                                         \n",
            "==============================================================================\n",
            "                 coef    std err          t      P>|t|      [0.025      0.975]\n",
            "------------------------------------------------------------------------------\n",
            "const         29.1633      0.693     42.107      0.000      27.798      30.529\n",
            "==============================================================================\n",
            "Omnibus:                       12.167   Durbin-Watson:                   1.373\n",
            "Prob(Omnibus):                  0.002   Jarque-Bera (JB):               13.424\n",
            "Skew:                           0.502   Prob(JB):                      0.00122\n",
            "Kurtosis:                       3.760   Cond. No.                         1.00\n",
            "==============================================================================\n",
            "\n",
            "Notes:\n",
            "[1] Standard Errors assume that the covariance matrix of the errors is correctly specified.\n"
          ]
        }
      ]
    },
    {
      "cell_type": "markdown",
      "source": [
        "## **5. Logistic Regression**\n",
        "\n"
      ],
      "metadata": {
        "id": "cpBr8gu2d00c"
      }
    },
    {
      "cell_type": "markdown",
      "source": [
        "##**5.2 Bernoulli distribution**"
      ],
      "metadata": {
        "id": "3pq8K1d57KUQ"
      }
    },
    {
      "cell_type": "code",
      "source": [
        "from scipy.stats import bernoulli\n",
        "\n",
        "# Set the probability of success (p)\n",
        "p = 0.7  # You can change this to any value between 0 and 1\n",
        "\n",
        "# Create sample data from Bernoulli distribution\n",
        "n_samples = 1000\n",
        "data = bernoulli.rvs(p, size=n_samples)\n",
        "\n",
        "# Plot the PDF of Bernoulli distribution\n",
        "x = [0, 1]\n",
        "pmf = [1 - p, p]\n",
        "\n",
        "plt.bar(x, pmf, color=['blue', 'orange'], alpha=0.7)\n",
        "plt.xticks(x, ['Failure (0)', 'Success (1)'])\n",
        "plt.title(f'Bernoulli Distribution (p = {p})')\n",
        "plt.xlabel('Outcome')\n",
        "plt.ylabel('Probability')\n",
        "plt.show()\n"
      ],
      "metadata": {
        "id": "-qoEQOWo7Kh5",
        "colab": {
          "base_uri": "https://localhost:8080/",
          "height": 472
        },
        "outputId": "319f6545-c060-4d25-f67b-5dcd152e8c90"
      },
      "execution_count": 43,
      "outputs": [
        {
          "output_type": "display_data",
          "data": {
            "text/plain": [
              "<Figure size 640x480 with 1 Axes>"
            ],
            "image/png": "[encoded data removed]"
          },
          "metadata": {}
        }
      ]
    },
    {
      "cell_type": "markdown",
      "source": [
        "##**5.2 Logistic function (probability form)**\n"
      ],
      "metadata": {
        "id": "gdGy5-3qkGJg"
      }
    },
    {
      "cell_type": "code",
      "source": [
        "\n",
        "# 입력 값 x 생성 (-10부터 10까지 1000개의 값)\n",
        "x = np.linspace(-10, 10, 1000)\n",
        "\n",
        "# 로지스틱 함수 계산: y = 1 / (1 + exp(-x))\n",
        "y = 1 / (1 + np.exp(-x))\n",
        "\n",
        "# 로지스틱 함수 그래프 그리기\n",
        "plt.plot(x, y)\n",
        "plt.title('Logistic function (probability form)')\n",
        "plt.xlabel('x value')\n",
        "plt.ylabel('Probability y')\n",
        "plt.grid(True)\n",
        "plt.show()\n"
      ],
      "metadata": {
        "colab": {
          "base_uri": "https://localhost:8080/",
          "height": 472
        },
        "id": "7nVjbP2jejFN",
        "outputId": "11a838d1-9f67-4ad0-d353-404c9a7893db"
      },
      "execution_count": 58,
      "outputs": [
        {
          "output_type": "display_data",
          "data": {
            "text/plain": [
              "<Figure size 640x480 with 1 Axes>"
            ],
            "image/png": "[encoded data removed]"
          },
          "metadata": {}
        }
      ]
    },
    {
      "cell_type": "markdown",
      "source": [
        "##**5.4 Data**"
      ],
      "metadata": {
        "id": "olu0CiEJRHh1"
      }
    },
    {
      "cell_type": "code",
      "source": [
        "# @title  나이, 연령  그룹, 심장병 여부 데이터 생성\n",
        "data = {\n",
        "    'ID': list(range(1, 101)),  # 1부터 100까지의 ID 리스트 생성\n",
        "    # range(1, 101)을 사용한 이유는 파이썬의 range() 함수가 시작 값은 포함하지만 종료 값은 포함하지 않기 때문임. 따라서, range(1, 101)을 사용하면 1부터 100까지의 숫자가 생성됩\n",
        "\n",
        "    'AGE': [  # 나이 데이터\n",
        "        20, 23, 24, 25, 25, 26, 26, 28, 28, 29,\n",
        "        30, 30, 30, 30, 30, 30, 32, 32, 33, 33,\n",
        "        34, 34, 34, 34, 34, 35, 35, 36, 36, 36,\n",
        "        37, 37, 37, 38, 38, 39, 39, 40, 40, 41,\n",
        "        41, 42, 42, 42, 42, 43, 43, 43, 44, 44,\n",
        "\n",
        "        44, 44, 45, 45, 46, 46, 47, 47, 47, 48,\n",
        "        48, 48, 49, 49, 49, 50, 50, 51, 52, 52,\n",
        "        53, 53, 54, 55, 55, 55, 56, 56, 56, 57,\n",
        "        57, 57, 57, 57, 57, 58, 58, 58, 59, 59,\n",
        "        60, 60, 61, 62, 62, 63, 64, 64, 65, 69\n",
        "    ],\n",
        "    'AGRP': [  # 연령 그룹 데이터\n",
        "        1, 1, 1, 1, 1, 1, 1, 1, 1, 1,\n",
        "        2, 2, 2, 2, 2, 2, 2, 2, 2, 2,\n",
        "        2, 2, 2, 2, 2, 3, 3, 3, 3, 3,\n",
        "        3, 3, 3, 3, 3, 3, 3, 4, 4, 4,\n",
        "        4, 4, 4, 4, 4, 4, 4, 4, 4, 4,\n",
        "\n",
        "        4, 4, 5, 5, 5, 5, 5, 5, 5, 5,\n",
        "        5, 5, 5, 5, 5, 6, 6, 6, 6, 6,\n",
        "        6, 6, 6, 7, 7, 7, 7, 7, 7, 7,\n",
        "        7, 7, 7, 7, 7, 7, 7, 7, 7, 7,\n",
        "        8, 8, 8, 8, 8, 8, 8, 8, 8, 8\n",
        "    ],\n",
        "    'CHD': [  # 심장병 여부 데이터 (0: 없음, 1: 있음)\n",
        "        0, 0, 0, 0, 1, 0, 0, 0, 0, 0,\n",
        "        0, 0, 0, 0, 0, 1, 0, 0, 0, 0,\n",
        "        0, 0, 1, 0, 0, 0, 0, 0, 1, 0,\n",
        "        0, 1, 0, 1, 0, 1, 0, 1, 0, 1,\n",
        "        0, 1, 0, 0, 0, 0, 1, 0, 1, 0,\n",
        "\n",
        "        1, 1, 0, 1, 0, 1, 0, 0, 1, 0,\n",
        "        0, 1, 1, 0, 0, 1, 0, 0, 0, 1,\n",
        "        1, 1, 1, 0, 1, 1, 1, 1, 1, 0,\n",
        "        0, 1, 1, 1, 1, 0, 1, 1, 1, 1,\n",
        "        0, 1, 1, 1, 1, 1, 0, 1, 1, 1\n",
        "    ]\n",
        "}\n",
        "\n",
        "# 데이터 프레임 생성\n",
        "df = pd.DataFrame(data)\n"
      ],
      "metadata": {
        "id": "RWyR50MLUs6k"
      },
      "execution_count": 45,
      "outputs": []
    },
    {
      "cell_type": "code",
      "source": [
        "# @title  데이터프레임(df)의 첫 5 행 출력\n",
        "print(df.head())"
      ],
      "metadata": {
        "colab": {
          "base_uri": "https://localhost:8080/"
        },
        "id": "cskP7vw9YagQ",
        "outputId": "917a1276-a6c4-4297-a1b6-eb2a363a10aa"
      },
      "execution_count": 46,
      "outputs": [
        {
          "output_type": "stream",
          "name": "stdout",
          "text": [
            "   ID  AGE  AGRP  CHD\n",
            "0   1   20     1    0\n",
            "1   2   23     1    0\n",
            "2   3   24     1    0\n",
            "3   4   25     1    0\n",
            "4   5   25     1    1\n"
          ]
        }
      ]
    },
    {
      "cell_type": "code",
      "source": [
        "# @title output dimension of data frame\n",
        "df.shape"
      ],
      "metadata": {
        "colab": {
          "base_uri": "https://localhost:8080/"
        },
        "id": "b5zDUo02EwHJ",
        "outputId": "e3285ef9-bf70-485d-e330-876b2d9427c7"
      },
      "execution_count": 47,
      "outputs": [
        {
          "output_type": "execute_result",
          "data": {
            "text/plain": [
              "(100, 4)"
            ]
          },
          "metadata": {},
          "execution_count": 47
        }
      ]
    },
    {
      "cell_type": "code",
      "source": [
        "# @title check number of nulls and data type of data frame\n",
        "df.info()"
      ],
      "metadata": {
        "colab": {
          "base_uri": "https://localhost:8080/"
        },
        "id": "rHbLlbVdE6I0",
        "outputId": "a4a45551-da1f-42c6-e899-7fc97379bbbf"
      },
      "execution_count": 48,
      "outputs": [
        {
          "output_type": "stream",
          "name": "stdout",
          "text": [
            "<class 'pandas.core.frame.DataFrame'>\n",
            "RangeIndex: 100 entries, 0 to 99\n",
            "Data columns (total 4 columns):\n",
            " #   Column  Non-Null Count  Dtype\n",
            "---  ------  --------------  -----\n",
            " 0   ID      100 non-null    int64\n",
            " 1   AGE     100 non-null    int64\n",
            " 2   AGRP    100 non-null    int64\n",
            " 3   CHD     100 non-null    int64\n",
            "dtypes: int64(4)\n",
            "memory usage: 3.2 KB\n"
          ]
        }
      ]
    },
    {
      "cell_type": "code",
      "source": [
        "# @title  output variable name set of data frame\n",
        "df.columns"
      ],
      "metadata": {
        "colab": {
          "base_uri": "https://localhost:8080/"
        },
        "id": "odUmvaQQG7d-",
        "outputId": "94a4088e-5a11-40e4-ebf8-0a376cc114b7"
      },
      "execution_count": 49,
      "outputs": [
        {
          "output_type": "execute_result",
          "data": {
            "text/plain": [
              "Index(['ID', 'AGE', 'AGRP', 'CHD'], dtype='object')"
            ]
          },
          "metadata": {},
          "execution_count": 49
        }
      ]
    },
    {
      "source": [
        "# @title CHD (심장병 여부)\n",
        "\n",
        "from matplotlib import pyplot as plt\n",
        "df['CHD'].plot(kind='hist', bins=20, title='CHD')\n",
        "plt.gca().spines[['top', 'right',]].set_visible(False)"
      ],
      "cell_type": "code",
      "execution_count": 50,
      "outputs": [
        {
          "output_type": "display_data",
          "data": {
            "text/plain": [
              "<Figure size 640x480 with 1 Axes>"
            ],
            "image/png": "[encoded data removed]"
          },
          "metadata": {}
        }
      ],
      "metadata": {
        "colab": {
          "base_uri": "https://localhost:8080/",
          "height": 452
        },
        "id": "NWYdE2wNEU0g",
        "outputId": "93cdea10-bf72-4deb-8421-644eb63fdb40"
      }
    },
    {
      "source": [
        "# @title AGE(나이)\n",
        "\n",
        "from matplotlib import pyplot as plt\n",
        "df['AGE'].plot(kind='hist', bins=20, title='AGE')\n",
        "plt.gca().spines[['top', 'right',]].set_visible(False)"
      ],
      "cell_type": "code",
      "execution_count": 51,
      "outputs": [
        {
          "output_type": "display_data",
          "data": {
            "text/plain": [
              "<Figure size 640x480 with 1 Axes>"
            ],
            "image/png": "[encoded data removed]"
          },
          "metadata": {}
        }
      ],
      "metadata": {
        "colab": {
          "base_uri": "https://localhost:8080/",
          "height": 452
        },
        "id": "dFT8LPDLD8QI",
        "outputId": "df769890-3ae5-4fbc-8860-3fc0404b0be1"
      }
    },
    {
      "source": [
        "# @title AGRP (나이그룹)\n",
        "\n",
        "from matplotlib import pyplot as plt\n",
        "df['AGRP'].plot(kind='hist', bins=20, title='AGRP')\n",
        "plt.gca().spines[['top', 'right',]].set_visible(False)"
      ],
      "cell_type": "code",
      "execution_count": 52,
      "outputs": [
        {
          "output_type": "display_data",
          "data": {
            "text/plain": [
              "<Figure size 640x480 with 1 Axes>"
            ],
            "image/png": "[encoded data removed]"
          },
          "metadata": {}
        }
      ],
      "metadata": {
        "colab": {
          "base_uri": "https://localhost:8080/",
          "height": 452
        },
        "id": "ffW3ca6LERKw",
        "outputId": "5b99dc7b-0405-4e49-82c0-e2ef41e170e1"
      }
    },
    {
      "cell_type": "markdown",
      "source": [
        "##**5.5 Results**\n"
      ],
      "metadata": {
        "id": "8aNmsqCLQ8H1"
      }
    },
    {
      "cell_type": "code",
      "source": [
        "# @title 로지스틱 회귀 모델 생성 및 적합\n",
        "\n",
        "import statsmodels.api as sm\n",
        "\n",
        "# 로지스틱 회귀 수행\n",
        "# 독립 변수(나이 AGE), 종속 변수(심장병 여부 CHD)\n",
        "X = df[['AGE']]  # 나이(AGE)를 독립 변수로 설정\n",
        "y = df['CHD']  # 심장병 여부(CHD)를 종속 변수로 설정\n",
        "\n",
        "# 상수항 추가 (절편)\n",
        "X = sm.add_constant(X)\n",
        "\n",
        "# 로지스틱 회귀 모델 적합\n",
        "model = sm.Logit(y, X)\n",
        "result = model.fit()\n"
      ],
      "metadata": {
        "colab": {
          "base_uri": "https://localhost:8080/"
        },
        "id": "4oxnkGVGZZg6",
        "outputId": "a672e310-135a-429b-f42f-5babfd601096"
      },
      "execution_count": 53,
      "outputs": [
        {
          "output_type": "stream",
          "name": "stdout",
          "text": [
            "Optimization terminated successfully.\n",
            "         Current function value: 0.557877\n",
            "         Iterations 6\n"
          ]
        }
      ]
    },
    {
      "cell_type": "code",
      "source": [
        "# @title 로지스틱 회귀 출력 (요약)\n",
        "\n",
        "# 모델 요약 출력 (선택 사항)\n",
        "print(result.summary())"
      ],
      "metadata": {
        "colab": {
          "base_uri": "https://localhost:8080/"
        },
        "id": "KZKfcZeRbIUq",
        "outputId": "95c7515a-288e-44cf-8ee1-1e0ccd69cdcf"
      },
      "execution_count": 54,
      "outputs": [
        {
          "output_type": "stream",
          "name": "stdout",
          "text": [
            "                           Logit Regression Results                           \n",
            "==============================================================================\n",
            "Dep. Variable:                    CHD   No. Observations:                  100\n",
            "Model:                          Logit   Df Residuals:                       98\n",
            "Method:                           MLE   Df Model:                            1\n",
            "Date:                Mon, 07 Oct 2024   Pseudo R-squ.:                  0.1893\n",
            "Time:                        08:54:24   Log-Likelihood:                -55.788\n",
            "converged:                       True   LL-Null:                       -68.814\n",
            "Covariance Type:            nonrobust   LLR p-value:                 3.323e-07\n",
            "==============================================================================\n",
            "                 coef    std err          z      P>|z|      [0.025      0.975]\n",
            "------------------------------------------------------------------------------\n",
            "const         -4.7812      1.069     -4.471      0.000      -6.877      -2.685\n",
            "AGE            0.1018      0.023      4.437      0.000       0.057       0.147\n",
            "==============================================================================\n"
          ]
        }
      ]
    },
    {
      "cell_type": "code",
      "source": [
        "# @title  새로운 나이 범위에 대한 예측 확률 계산\n",
        "\n",
        "# 나이 범위를 200개의 값으로 나누어 생성\n",
        "AGE_min = df['AGE'].min()\n",
        "AGE_max = df['AGE'].max()\n",
        "AGE_new = np.linspace(AGE_min, AGE_max, 200)\n",
        "\n",
        "# 새로운 데이터에 상수항 추가\n",
        "X_new = sm.add_constant(AGE_new)\n",
        "\n",
        "# 각 나이에 대한 심장병 발생 확률을 예측\n",
        "y_pred = result.predict(X_new)\n"
      ],
      "metadata": {
        "id": "HutgxB6yZfu6"
      },
      "execution_count": 55,
      "outputs": []
    },
    {
      "cell_type": "code",
      "source": [
        "# @title  로지스틱 회귀 곡선 플롯팅\n",
        "plt.figure(figsize=(10, 6))\n",
        "\n",
        "# 실제 데이터 산포도\n",
        "plt.scatter(df['AGE'], df['CHD'], color='blue', alpha=0.5, label='Data')\n",
        "\n",
        "# 로지스틱 회귀로 예측한 곡선\n",
        "plt.plot(AGE_new, y_pred, color='red', label='Logistic Regression Curve')\n",
        "\n",
        "plt.xlabel('Age')  # x축 레이블: 나이\n",
        "plt.ylabel('Probability of CHD')  # y축 레이블: 심장병 발생 확률\n",
        "plt.title('Logistic Regression: Age vs CHD')  # 그래프 제목\n",
        "plt.legend()  # 범례 표시\n",
        "plt.grid(True)\n",
        "plt.show()  # 그래프 출력"
      ],
      "metadata": {
        "colab": {
          "base_uri": "https://localhost:8080/",
          "height": 564
        },
        "id": "egeF3mgZZpI6",
        "outputId": "62ada79c-d66c-4885-a41f-625e9fc0fff4"
      },
      "execution_count": 56,
      "outputs": [
        {
          "output_type": "display_data",
          "data": {
            "text/plain": [
              "<Figure size 1000x600 with 1 Axes>"
            ],
            "image/png": "[encoded data removed]"
          },
          "metadata": {}
        }
      ]
    },
    {
      "cell_type": "code",
      "source": [],
      "metadata": {
        "id": "dtH-N47zzquS"
      },
      "execution_count": 56,
      "outputs": []
    }
  ],
  "metadata": {
    "accelerator": "GPU",
    "colab": {
      "gpuType": "T4",
      "machine_shape": "hm",
      "provenance": [],
      "include_colab_link": true
    },
    "kernelspec": {
      "display_name": "Python 3 (ipykernel)",
      "language": "python",
      "name": "python3"
    },
    "language_info": {
      "codemirror_mode": {
        "name": "ipython",
        "version": 3
      },
      "file_extension": ".py",
      "mimetype": "text/x-python",
      "name": "python",
      "nbconvert_exporter": "python",
      "pygments_lexer": "ipython3",
      "version": "3.12.2"
    }
  },
  "nbformat": 4,
  "nbformat_minor": 0
}