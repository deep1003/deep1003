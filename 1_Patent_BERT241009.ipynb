{
  "nbformat": 4,
  "nbformat_minor": 0,
  "metadata": {
    "colab": {
      "provenance": [],
      "machine_shape": "hm",
      "gpuType": "L4",
      "authorship_tag": "ABX9TyMN6Op2DpUUAxdAxYI7k8A0",
      "include_colab_link": true
    },
    "kernelspec": {
      "name": "python3",
      "display_name": "Python 3"
    },
    "language_info": {
      "name": "python"
    },
    "accelerator": "GPU",
    "widgets": {
      "application/vnd.jupyter.widget-state+json": {
        "760e1f15f9d847148cf71b16430f0ffb": {
          "model_module": "@jupyter-widgets/controls",
          "model_name": "HBoxModel",
          "model_module_version": "1.5.0",
          "state": {
            "_dom_classes": [],
            "_model_module": "@jupyter-widgets/controls",
            "_model_module_version": "1.5.0",
            "_model_name": "HBoxModel",
            "_view_count": null,
            "_view_module": "@jupyter-widgets/controls",
            "_view_module_version": "1.5.0",
            "_view_name": "HBoxView",
            "box_style": "",
            "children": [
              "IPY_MODEL_20c6d5cea67e41109a68cf3c23070bcf",
              "IPY_MODEL_becf0bfa61644a3a9b1c4289a9687e7f",
              "IPY_MODEL_c722156950214888bfbf28470d04dd47"
            ],
            "layout": "IPY_MODEL_112ecabad27145329344a22cdae3aa22"
          }
        },
        "20c6d5cea67e41109a68cf3c23070bcf": {
          "model_module": "@jupyter-widgets/controls",
          "model_name": "HTMLModel",
          "model_module_version": "1.5.0",
          "state": {
            "_dom_classes": [],
            "_model_module": "@jupyter-widgets/controls",
            "_model_module_version": "1.5.0",
            "_model_name": "HTMLModel",
            "_view_count": null,
            "_view_module": "@jupyter-widgets/controls",
            "_view_module_version": "1.5.0",
            "_view_name": "HTMLView",
            "description": "",
            "description_tooltip": null,
            "layout": "IPY_MODEL_889b2ac277124f988de9eb6f838f057a",
            "placeholder": "​",
            "style": "IPY_MODEL_527db8ab545546e18db93be1af6e25fb",
            "value": "tokenizer_config.json: 100%"
          }
        },
        "becf0bfa61644a3a9b1c4289a9687e7f": {
          "model_module": "@jupyter-widgets/controls",
          "model_name": "FloatProgressModel",
          "model_module_version": "1.5.0",
          "state": {
            "_dom_classes": [],
            "_model_module": "@jupyter-widgets/controls",
            "_model_module_version": "1.5.0",
            "_model_name": "FloatProgressModel",
            "_view_count": null,
            "_view_module": "@jupyter-widgets/controls",
            "_view_module_version": "1.5.0",
            "_view_name": "ProgressView",
            "bar_style": "success",
            "description": "",
            "description_tooltip": null,
            "layout": "IPY_MODEL_ce15c861ddf24d5cafe455ccac84cf55",
            "max": 48,
            "min": 0,
            "orientation": "horizontal",
            "style": "IPY_MODEL_fdfb1698272943c29d282e0dd9788876",
            "value": 48
          }
        },
        "c722156950214888bfbf28470d04dd47": {
          "model_module": "@jupyter-widgets/controls",
          "model_name": "HTMLModel",
          "model_module_version": "1.5.0",
          "state": {
            "_dom_classes": [],
            "_model_module": "@jupyter-widgets/controls",
            "_model_module_version": "1.5.0",
            "_model_name": "HTMLModel",
            "_view_count": null,
            "_view_module": "@jupyter-widgets/controls",
            "_view_module_version": "1.5.0",
            "_view_name": "HTMLView",
            "description": "",
            "description_tooltip": null,
            "layout": "IPY_MODEL_5ce8329da41d460cbcdf3586d77561cf",
            "placeholder": "​",
            "style": "IPY_MODEL_112f044a4c4a44f1b912bc34b089d961",
            "value": " 48.0/48.0 [00:00&lt;00:00, 66.1B/s]"
          }
        },
        "112ecabad27145329344a22cdae3aa22": {
          "model_module": "@jupyter-widgets/base",
          "model_name": "LayoutModel",
          "model_module_version": "1.2.0",
          "state": {
            "_model_module": "@jupyter-widgets/base",
            "_model_module_version": "1.2.0",
            "_model_name": "LayoutModel",
            "_view_count": null,
            "_view_module": "@jupyter-widgets/base",
            "_view_module_version": "1.2.0",
            "_view_name": "LayoutView",
            "align_content": null,
            "align_items": null,
            "align_self": null,
            "border": null,
            "bottom": null,
            "display": null,
            "flex": null,
            "flex_flow": null,
            "grid_area": null,
            "grid_auto_columns": null,
            "grid_auto_flow": null,
            "grid_auto_rows": null,
            "grid_column": null,
            "grid_gap": null,
            "grid_row": null,
            "grid_template_areas": null,
            "grid_template_columns": null,
            "grid_template_rows": null,
            "height": null,
            "justify_content": null,
            "justify_items": null,
            "left": null,
            "margin": null,
            "max_height": null,
            "max_width": null,
            "min_height": null,
            "min_width": null,
            "object_fit": null,
            "object_position": null,
            "order": null,
            "overflow": null,
            "overflow_x": null,
            "overflow_y": null,
            "padding": null,
            "right": null,
            "top": null,
            "visibility": null,
            "width": null
          }
        },
        "889b2ac277124f988de9eb6f838f057a": {
          "model_module": "@jupyter-widgets/base",
          "model_name": "LayoutModel",
          "model_module_version": "1.2.0",
          "state": {
            "_model_module": "@jupyter-widgets/base",
            "_model_module_version": "1.2.0",
            "_model_name": "LayoutModel",
            "_view_count": null,
            "_view_module": "@jupyter-widgets/base",
            "_view_module_version": "1.2.0",
            "_view_name": "LayoutView",
            "align_content": null,
            "align_items": null,
            "align_self": null,
            "border": null,
            "bottom": null,
            "display": null,
            "flex": null,
            "flex_flow": null,
            "grid_area": null,
            "grid_auto_columns": null,
            "grid_auto_flow": null,
            "grid_auto_rows": null,
            "grid_column": null,
            "grid_gap": null,
            "grid_row": null,
            "grid_template_areas": null,
            "grid_template_columns": null,
            "grid_template_rows": null,
            "height": null,
            "justify_content": null,
            "justify_items": null,
            "left": null,
            "margin": null,
            "max_height": null,
            "max_width": null,
            "min_height": null,
            "min_width": null,
            "object_fit": null,
            "object_position": null,
            "order": null,
            "overflow": null,
            "overflow_x": null,
            "overflow_y": null,
            "padding": null,
            "right": null,
            "top": null,
            "visibility": null,
            "width": null
          }
        },
        "527db8ab545546e18db93be1af6e25fb": {
          "model_module": "@jupyter-widgets/controls",
          "model_name": "DescriptionStyleModel",
          "model_module_version": "1.5.0",
          "state": {
            "_model_module": "@jupyter-widgets/controls",
            "_model_module_version": "1.5.0",
            "_model_name": "DescriptionStyleModel",
            "_view_count": null,
            "_view_module": "@jupyter-widgets/base",
            "_view_module_version": "1.2.0",
            "_view_name": "StyleView",
            "description_width": ""
          }
        },
        "ce15c861ddf24d5cafe455ccac84cf55": {
          "model_module": "@jupyter-widgets/base",
          "model_name": "LayoutModel",
          "model_module_version": "1.2.0",
          "state": {
            "_model_module": "@jupyter-widgets/base",
            "_model_module_version": "1.2.0",
            "_model_name": "LayoutModel",
            "_view_count": null,
            "_view_module": "@jupyter-widgets/base",
            "_view_module_version": "1.2.0",
            "_view_name": "LayoutView",
            "align_content": null,
            "align_items": null,
            "align_self": null,
            "border": null,
            "bottom": null,
            "display": null,
            "flex": null,
            "flex_flow": null,
            "grid_area": null,
            "grid_auto_columns": null,
            "grid_auto_flow": null,
            "grid_auto_rows": null,
            "grid_column": null,
            "grid_gap": null,
            "grid_row": null,
            "grid_template_areas": null,
            "grid_template_columns": null,
            "grid_template_rows": null,
            "height": null,
            "justify_content": null,
            "justify_items": null,
            "left": null,
            "margin": null,
            "max_height": null,
            "max_width": null,
            "min_height": null,
            "min_width": null,
            "object_fit": null,
            "object_position": null,
            "order": null,
            "overflow": null,
            "overflow_x": null,
            "overflow_y": null,
            "padding": null,
            "right": null,
            "top": null,
            "visibility": null,
            "width": null
          }
        },
        "fdfb1698272943c29d282e0dd9788876": {
          "model_module": "@jupyter-widgets/controls",
          "model_name": "ProgressStyleModel",
          "model_module_version": "1.5.0",
          "state": {
            "_model_module": "@jupyter-widgets/controls",
            "_model_module_version": "1.5.0",
            "_model_name": "ProgressStyleModel",
            "_view_count": null,
            "_view_module": "@jupyter-widgets/base",
            "_view_module_version": "1.2.0",
            "_view_name": "StyleView",
            "bar_color": null,
            "description_width": ""
          }
        },
        "5ce8329da41d460cbcdf3586d77561cf": {
          "model_module": "@jupyter-widgets/base",
          "model_name": "LayoutModel",
          "model_module_version": "1.2.0",
          "state": {
            "_model_module": "@jupyter-widgets/base",
            "_model_module_version": "1.2.0",
            "_model_name": "LayoutModel",
            "_view_count": null,
            "_view_module": "@jupyter-widgets/base",
            "_view_module_version": "1.2.0",
            "_view_name": "LayoutView",
            "align_content": null,
            "align_items": null,
            "align_self": null,
            "border": null,
            "bottom": null,
            "display": null,
            "flex": null,
            "flex_flow": null,
            "grid_area": null,
            "grid_auto_columns": null,
            "grid_auto_flow": null,
            "grid_auto_rows": null,
            "grid_column": null,
            "grid_gap": null,
            "grid_row": null,
            "grid_template_areas": null,
            "grid_template_columns": null,
            "grid_template_rows": null,
            "height": null,
            "justify_content": null,
            "justify_items": null,
            "left": null,
            "margin": null,
            "max_height": null,
            "max_width": null,
            "min_height": null,
            "min_width": null,
            "object_fit": null,
            "object_position": null,
            "order": null,
            "overflow": null,
            "overflow_x": null,
            "overflow_y": null,
            "padding": null,
            "right": null,
            "top": null,
            "visibility": null,
            "width": null
          }
        },
        "112f044a4c4a44f1b912bc34b089d961": {
          "model_module": "@jupyter-widgets/controls",
          "model_name": "DescriptionStyleModel",
          "model_module_version": "1.5.0",
          "state": {
            "_model_module": "@jupyter-widgets/controls",
            "_model_module_version": "1.5.0",
            "_model_name": "DescriptionStyleModel",
            "_view_count": null,
            "_view_module": "@jupyter-widgets/base",
            "_view_module_version": "1.2.0",
            "_view_name": "StyleView",
            "description_width": ""
          }
        },
        "73b8edce72944687a2376cc448553805": {
          "model_module": "@jupyter-widgets/controls",
          "model_name": "HBoxModel",
          "model_module_version": "1.5.0",
          "state": {
            "_dom_classes": [],
            "_model_module": "@jupyter-widgets/controls",
            "_model_module_version": "1.5.0",
            "_model_name": "HBoxModel",
            "_view_count": null,
            "_view_module": "@jupyter-widgets/controls",
            "_view_module_version": "1.5.0",
            "_view_name": "HBoxView",
            "box_style": "",
            "children": [
              "IPY_MODEL_9242fc242ae54a9783244b4c8b0eb62d",
              "IPY_MODEL_e8526ad2e5654eaebf6c2a3af84a6b4e",
              "IPY_MODEL_b60930ad51b2490f8fc24a9a9f95f9a3"
            ],
            "layout": "IPY_MODEL_55b203a2347348d3aeff036745345087"
          }
        },
        "9242fc242ae54a9783244b4c8b0eb62d": {
          "model_module": "@jupyter-widgets/controls",
          "model_name": "HTMLModel",
          "model_module_version": "1.5.0",
          "state": {
            "_dom_classes": [],
            "_model_module": "@jupyter-widgets/controls",
            "_model_module_version": "1.5.0",
            "_model_name": "HTMLModel",
            "_view_count": null,
            "_view_module": "@jupyter-widgets/controls",
            "_view_module_version": "1.5.0",
            "_view_name": "HTMLView",
            "description": "",
            "description_tooltip": null,
            "layout": "IPY_MODEL_e7c45ca8aa094a7ea356bdc6977c4e38",
            "placeholder": "​",
            "style": "IPY_MODEL_6b47f62bb6f44a619f994798c0596940",
            "value": "vocab.txt: 100%"
          }
        },
        "e8526ad2e5654eaebf6c2a3af84a6b4e": {
          "model_module": "@jupyter-widgets/controls",
          "model_name": "FloatProgressModel",
          "model_module_version": "1.5.0",
          "state": {
            "_dom_classes": [],
            "_model_module": "@jupyter-widgets/controls",
            "_model_module_version": "1.5.0",
            "_model_name": "FloatProgressModel",
            "_view_count": null,
            "_view_module": "@jupyter-widgets/controls",
            "_view_module_version": "1.5.0",
            "_view_name": "ProgressView",
            "bar_style": "success",
            "description": "",
            "description_tooltip": null,
            "layout": "IPY_MODEL_09e0e15d66dc48ce9c4e1f6bfda61d50",
            "max": 231508,
            "min": 0,
            "orientation": "horizontal",
            "style": "IPY_MODEL_25912489492c4df19faff9b75db13d1a",
            "value": 231508
          }
        },
        "b60930ad51b2490f8fc24a9a9f95f9a3": {
          "model_module": "@jupyter-widgets/controls",
          "model_name": "HTMLModel",
          "model_module_version": "1.5.0",
          "state": {
            "_dom_classes": [],
            "_model_module": "@jupyter-widgets/controls",
            "_model_module_version": "1.5.0",
            "_model_name": "HTMLModel",
            "_view_count": null,
            "_view_module": "@jupyter-widgets/controls",
            "_view_module_version": "1.5.0",
            "_view_name": "HTMLView",
            "description": "",
            "description_tooltip": null,
            "layout": "IPY_MODEL_ad7b850c182f432e8e5e88747feafe5b",
            "placeholder": "​",
            "style": "IPY_MODEL_8a04a5eaa95f4809a1674962e85275f5",
            "value": " 232k/232k [00:00&lt;00:00, 499kB/s]"
          }
        },
        "55b203a2347348d3aeff036745345087": {
          "model_module": "@jupyter-widgets/base",
          "model_name": "LayoutModel",
          "model_module_version": "1.2.0",
          "state": {
            "_model_module": "@jupyter-widgets/base",
            "_model_module_version": "1.2.0",
            "_model_name": "LayoutModel",
            "_view_count": null,
            "_view_module": "@jupyter-widgets/base",
            "_view_module_version": "1.2.0",
            "_view_name": "LayoutView",
            "align_content": null,
            "align_items": null,
            "align_self": null,
            "border": null,
            "bottom": null,
            "display": null,
            "flex": null,
            "flex_flow": null,
            "grid_area": null,
            "grid_auto_columns": null,
            "grid_auto_flow": null,
            "grid_auto_rows": null,
            "grid_column": null,
            "grid_gap": null,
            "grid_row": null,
            "grid_template_areas": null,
            "grid_template_columns": null,
            "grid_template_rows": null,
            "height": null,
            "justify_content": null,
            "justify_items": null,
            "left": null,
            "margin": null,
            "max_height": null,
            "max_width": null,
            "min_height": null,
            "min_width": null,
            "object_fit": null,
            "object_position": null,
            "order": null,
            "overflow": null,
            "overflow_x": null,
            "overflow_y": null,
            "padding": null,
            "right": null,
            "top": null,
            "visibility": null,
            "width": null
          }
        },
        "e7c45ca8aa094a7ea356bdc6977c4e38": {
          "model_module": "@jupyter-widgets/base",
          "model_name": "LayoutModel",
          "model_module_version": "1.2.0",
          "state": {
            "_model_module": "@jupyter-widgets/base",
            "_model_module_version": "1.2.0",
            "_model_name": "LayoutModel",
            "_view_count": null,
            "_view_module": "@jupyter-widgets/base",
            "_view_module_version": "1.2.0",
            "_view_name": "LayoutView",
            "align_content": null,
            "align_items": null,
            "align_self": null,
            "border": null,
            "bottom": null,
            "display": null,
            "flex": null,
            "flex_flow": null,
            "grid_area": null,
            "grid_auto_columns": null,
            "grid_auto_flow": null,
            "grid_auto_rows": null,
            "grid_column": null,
            "grid_gap": null,
            "grid_row": null,
            "grid_template_areas": null,
            "grid_template_columns": null,
            "grid_template_rows": null,
            "height": null,
            "justify_content": null,
            "justify_items": null,
            "left": null,
            "margin": null,
            "max_height": null,
            "max_width": null,
            "min_height": null,
            "min_width": null,
            "object_fit": null,
            "object_position": null,
            "order": null,
            "overflow": null,
            "overflow_x": null,
            "overflow_y": null,
            "padding": null,
            "right": null,
            "top": null,
            "visibility": null,
            "width": null
          }
        },
        "6b47f62bb6f44a619f994798c0596940": {
          "model_module": "@jupyter-widgets/controls",
          "model_name": "DescriptionStyleModel",
          "model_module_version": "1.5.0",
          "state": {
            "_model_module": "@jupyter-widgets/controls",
            "_model_module_version": "1.5.0",
            "_model_name": "DescriptionStyleModel",
            "_view_count": null,
            "_view_module": "@jupyter-widgets/base",
            "_view_module_version": "1.2.0",
            "_view_name": "StyleView",
            "description_width": ""
          }
        },
        "09e0e15d66dc48ce9c4e1f6bfda61d50": {
          "model_module": "@jupyter-widgets/base",
          "model_name": "LayoutModel",
          "model_module_version": "1.2.0",
          "state": {
            "_model_module": "@jupyter-widgets/base",
            "_model_module_version": "1.2.0",
            "_model_name": "LayoutModel",
            "_view_count": null,
            "_view_module": "@jupyter-widgets/base",
            "_view_module_version": "1.2.0",
            "_view_name": "LayoutView",
            "align_content": null,
            "align_items": null,
            "align_self": null,
            "border": null,
            "bottom": null,
            "display": null,
            "flex": null,
            "flex_flow": null,
            "grid_area": null,
            "grid_auto_columns": null,
            "grid_auto_flow": null,
            "grid_auto_rows": null,
            "grid_column": null,
            "grid_gap": null,
            "grid_row": null,
            "grid_template_areas": null,
            "grid_template_columns": null,
            "grid_template_rows": null,
            "height": null,
            "justify_content": null,
            "justify_items": null,
            "left": null,
            "margin": null,
            "max_height": null,
            "max_width": null,
            "min_height": null,
            "min_width": null,
            "object_fit": null,
            "object_position": null,
            "order": null,
            "overflow": null,
            "overflow_x": null,
            "overflow_y": null,
            "padding": null,
            "right": null,
            "top": null,
            "visibility": null,
            "width": null
          }
        },
        "25912489492c4df19faff9b75db13d1a": {
          "model_module": "@jupyter-widgets/controls",
          "model_name": "ProgressStyleModel",
          "model_module_version": "1.5.0",
          "state": {
            "_model_module": "@jupyter-widgets/controls",
            "_model_module_version": "1.5.0",
            "_model_name": "ProgressStyleModel",
            "_view_count": null,
            "_view_module": "@jupyter-widgets/base",
            "_view_module_version": "1.2.0",
            "_view_name": "StyleView",
            "bar_color": null,
            "description_width": ""
          }
        },
        "ad7b850c182f432e8e5e88747feafe5b": {
          "model_module": "@jupyter-widgets/base",
          "model_name": "LayoutModel",
          "model_module_version": "1.2.0",
          "state": {
            "_model_module": "@jupyter-widgets/base",
            "_model_module_version": "1.2.0",
            "_model_name": "LayoutModel",
            "_view_count": null,
            "_view_module": "@jupyter-widgets/base",
            "_view_module_version": "1.2.0",
            "_view_name": "LayoutView",
            "align_content": null,
            "align_items": null,
            "align_self": null,
            "border": null,
            "bottom": null,
            "display": null,
            "flex": null,
            "flex_flow": null,
            "grid_area": null,
            "grid_auto_columns": null,
            "grid_auto_flow": null,
            "grid_auto_rows": null,
            "grid_column": null,
            "grid_gap": null,
            "grid_row": null,
            "grid_template_areas": null,
            "grid_template_columns": null,
            "grid_template_rows": null,
            "height": null,
            "justify_content": null,
            "justify_items": null,
            "left": null,
            "margin": null,
            "max_height": null,
            "max_width": null,
            "min_height": null,
            "min_width": null,
            "object_fit": null,
            "object_position": null,
            "order": null,
            "overflow": null,
            "overflow_x": null,
            "overflow_y": null,
            "padding": null,
            "right": null,
            "top": null,
            "visibility": null,
            "width": null
          }
        },
        "8a04a5eaa95f4809a1674962e85275f5": {
          "model_module": "@jupyter-widgets/controls",
          "model_name": "DescriptionStyleModel",
          "model_module_version": "1.5.0",
          "state": {
            "_model_module": "@jupyter-widgets/controls",
            "_model_module_version": "1.5.0",
            "_model_name": "DescriptionStyleModel",
            "_view_count": null,
            "_view_module": "@jupyter-widgets/base",
            "_view_module_version": "1.2.0",
            "_view_name": "StyleView",
            "description_width": ""
          }
        },
        "de1cb81d03c44efe8d4db4dd92bee765": {
          "model_module": "@jupyter-widgets/controls",
          "model_name": "HBoxModel",
          "model_module_version": "1.5.0",
          "state": {
            "_dom_classes": [],
            "_model_module": "@jupyter-widgets/controls",
            "_model_module_version": "1.5.0",
            "_model_name": "HBoxModel",
            "_view_count": null,
            "_view_module": "@jupyter-widgets/controls",
            "_view_module_version": "1.5.0",
            "_view_name": "HBoxView",
            "box_style": "",
            "children": [
              "IPY_MODEL_eeed07d0b340405d80df6db30eaee7e3",
              "IPY_MODEL_91637f601084498e9ca64c319e15d5eb",
              "IPY_MODEL_0c7dc4b79c0b479384df81a9d031c68e"
            ],
            "layout": "IPY_MODEL_54ac0e90af7d43b8937c1c3242dfcdbe"
          }
        },
        "eeed07d0b340405d80df6db30eaee7e3": {
          "model_module": "@jupyter-widgets/controls",
          "model_name": "HTMLModel",
          "model_module_version": "1.5.0",
          "state": {
            "_dom_classes": [],
            "_model_module": "@jupyter-widgets/controls",
            "_model_module_version": "1.5.0",
            "_model_name": "HTMLModel",
            "_view_count": null,
            "_view_module": "@jupyter-widgets/controls",
            "_view_module_version": "1.5.0",
            "_view_name": "HTMLView",
            "description": "",
            "description_tooltip": null,
            "layout": "IPY_MODEL_835d23d0b63c4cce807ff8e979f33a68",
            "placeholder": "​",
            "style": "IPY_MODEL_31b351523fe549249f4735c9ea849e18",
            "value": "tokenizer.json: 100%"
          }
        },
        "91637f601084498e9ca64c319e15d5eb": {
          "model_module": "@jupyter-widgets/controls",
          "model_name": "FloatProgressModel",
          "model_module_version": "1.5.0",
          "state": {
            "_dom_classes": [],
            "_model_module": "@jupyter-widgets/controls",
            "_model_module_version": "1.5.0",
            "_model_name": "FloatProgressModel",
            "_view_count": null,
            "_view_module": "@jupyter-widgets/controls",
            "_view_module_version": "1.5.0",
            "_view_name": "ProgressView",
            "bar_style": "success",
            "description": "",
            "description_tooltip": null,
            "layout": "IPY_MODEL_3b7d2a10c30749fc9d8df47eb77ad385",
            "max": 466062,
            "min": 0,
            "orientation": "horizontal",
            "style": "IPY_MODEL_636277f860314d48b3ba4f06648c4113",
            "value": 466062
          }
        },
        "0c7dc4b79c0b479384df81a9d031c68e": {
          "model_module": "@jupyter-widgets/controls",
          "model_name": "HTMLModel",
          "model_module_version": "1.5.0",
          "state": {
            "_dom_classes": [],
            "_model_module": "@jupyter-widgets/controls",
            "_model_module_version": "1.5.0",
            "_model_name": "HTMLModel",
            "_view_count": null,
            "_view_module": "@jupyter-widgets/controls",
            "_view_module_version": "1.5.0",
            "_view_name": "HTMLView",
            "description": "",
            "description_tooltip": null,
            "layout": "IPY_MODEL_b929dba6bd464c11951c47ada173a573",
            "placeholder": "​",
            "style": "IPY_MODEL_370365f7a2fe45608fb30626b4d5ba07",
            "value": " 466k/466k [00:00&lt;00:00, 2.14MB/s]"
          }
        },
        "54ac0e90af7d43b8937c1c3242dfcdbe": {
          "model_module": "@jupyter-widgets/base",
          "model_name": "LayoutModel",
          "model_module_version": "1.2.0",
          "state": {
            "_model_module": "@jupyter-widgets/base",
            "_model_module_version": "1.2.0",
            "_model_name": "LayoutModel",
            "_view_count": null,
            "_view_module": "@jupyter-widgets/base",
            "_view_module_version": "1.2.0",
            "_view_name": "LayoutView",
            "align_content": null,
            "align_items": null,
            "align_self": null,
            "border": null,
            "bottom": null,
            "display": null,
            "flex": null,
            "flex_flow": null,
            "grid_area": null,
            "grid_auto_columns": null,
            "grid_auto_flow": null,
            "grid_auto_rows": null,
            "grid_column": null,
            "grid_gap": null,
            "grid_row": null,
            "grid_template_areas": null,
            "grid_template_columns": null,
            "grid_template_rows": null,
            "height": null,
            "justify_content": null,
            "justify_items": null,
            "left": null,
            "margin": null,
            "max_height": null,
            "max_width": null,
            "min_height": null,
            "min_width": null,
            "object_fit": null,
            "object_position": null,
            "order": null,
            "overflow": null,
            "overflow_x": null,
            "overflow_y": null,
            "padding": null,
            "right": null,
            "top": null,
            "visibility": null,
            "width": null
          }
        },
        "835d23d0b63c4cce807ff8e979f33a68": {
          "model_module": "@jupyter-widgets/base",
          "model_name": "LayoutModel",
          "model_module_version": "1.2.0",
          "state": {
            "_model_module": "@jupyter-widgets/base",
            "_model_module_version": "1.2.0",
            "_model_name": "LayoutModel",
            "_view_count": null,
            "_view_module": "@jupyter-widgets/base",
            "_view_module_version": "1.2.0",
            "_view_name": "LayoutView",
            "align_content": null,
            "align_items": null,
            "align_self": null,
            "border": null,
            "bottom": null,
            "display": null,
            "flex": null,
            "flex_flow": null,
            "grid_area": null,
            "grid_auto_columns": null,
            "grid_auto_flow": null,
            "grid_auto_rows": null,
            "grid_column": null,
            "grid_gap": null,
            "grid_row": null,
            "grid_template_areas": null,
            "grid_template_columns": null,
            "grid_template_rows": null,
            "height": null,
            "justify_content": null,
            "justify_items": null,
            "left": null,
            "margin": null,
            "max_height": null,
            "max_width": null,
            "min_height": null,
            "min_width": null,
            "object_fit": null,
            "object_position": null,
            "order": null,
            "overflow": null,
            "overflow_x": null,
            "overflow_y": null,
            "padding": null,
            "right": null,
            "top": null,
            "visibility": null,
            "width": null
          }
        },
        "31b351523fe549249f4735c9ea849e18": {
          "model_module": "@jupyter-widgets/controls",
          "model_name": "DescriptionStyleModel",
          "model_module_version": "1.5.0",
          "state": {
            "_model_module": "@jupyter-widgets/controls",
            "_model_module_version": "1.5.0",
            "_model_name": "DescriptionStyleModel",
            "_view_count": null,
            "_view_module": "@jupyter-widgets/base",
            "_view_module_version": "1.2.0",
            "_view_name": "StyleView",
            "description_width": ""
          }
        },
        "3b7d2a10c30749fc9d8df47eb77ad385": {
          "model_module": "@jupyter-widgets/base",
          "model_name": "LayoutModel",
          "model_module_version": "1.2.0",
          "state": {
            "_model_module": "@jupyter-widgets/base",
            "_model_module_version": "1.2.0",
            "_model_name": "LayoutModel",
            "_view_count": null,
            "_view_module": "@jupyter-widgets/base",
            "_view_module_version": "1.2.0",
            "_view_name": "LayoutView",
            "align_content": null,
            "align_items": null,
            "align_self": null,
            "border": null,
            "bottom": null,
            "display": null,
            "flex": null,
            "flex_flow": null,
            "grid_area": null,
            "grid_auto_columns": null,
            "grid_auto_flow": null,
            "grid_auto_rows": null,
            "grid_column": null,
            "grid_gap": null,
            "grid_row": null,
            "grid_template_areas": null,
            "grid_template_columns": null,
            "grid_template_rows": null,
            "height": null,
            "justify_content": null,
            "justify_items": null,
            "left": null,
            "margin": null,
            "max_height": null,
            "max_width": null,
            "min_height": null,
            "min_width": null,
            "object_fit": null,
            "object_position": null,
            "order": null,
            "overflow": null,
            "overflow_x": null,
            "overflow_y": null,
            "padding": null,
            "right": null,
            "top": null,
            "visibility": null,
            "width": null
          }
        },
        "636277f860314d48b3ba4f06648c4113": {
          "model_module": "@jupyter-widgets/controls",
          "model_name": "ProgressStyleModel",
          "model_module_version": "1.5.0",
          "state": {
            "_model_module": "@jupyter-widgets/controls",
            "_model_module_version": "1.5.0",
            "_model_name": "ProgressStyleModel",
            "_view_count": null,
            "_view_module": "@jupyter-widgets/base",
            "_view_module_version": "1.2.0",
            "_view_name": "StyleView",
            "bar_color": null,
            "description_width": ""
          }
        },
        "b929dba6bd464c11951c47ada173a573": {
          "model_module": "@jupyter-widgets/base",
          "model_name": "LayoutModel",
          "model_module_version": "1.2.0",
          "state": {
            "_model_module": "@jupyter-widgets/base",
            "_model_module_version": "1.2.0",
            "_model_name": "LayoutModel",
            "_view_count": null,
            "_view_module": "@jupyter-widgets/base",
            "_view_module_version": "1.2.0",
            "_view_name": "LayoutView",
            "align_content": null,
            "align_items": null,
            "align_self": null,
            "border": null,
            "bottom": null,
            "display": null,
            "flex": null,
            "flex_flow": null,
            "grid_area": null,
            "grid_auto_columns": null,
            "grid_auto_flow": null,
            "grid_auto_rows": null,
            "grid_column": null,
            "grid_gap": null,
            "grid_row": null,
            "grid_template_areas": null,
            "grid_template_columns": null,
            "grid_template_rows": null,
            "height": null,
            "justify_content": null,
            "justify_items": null,
            "left": null,
            "margin": null,
            "max_height": null,
            "max_width": null,
            "min_height": null,
            "min_width": null,
            "object_fit": null,
            "object_position": null,
            "order": null,
            "overflow": null,
            "overflow_x": null,
            "overflow_y": null,
            "padding": null,
            "right": null,
            "top": null,
            "visibility": null,
            "width": null
          }
        },
        "370365f7a2fe45608fb30626b4d5ba07": {
          "model_module": "@jupyter-widgets/controls",
          "model_name": "DescriptionStyleModel",
          "model_module_version": "1.5.0",
          "state": {
            "_model_module": "@jupyter-widgets/controls",
            "_model_module_version": "1.5.0",
            "_model_name": "DescriptionStyleModel",
            "_view_count": null,
            "_view_module": "@jupyter-widgets/base",
            "_view_module_version": "1.2.0",
            "_view_name": "StyleView",
            "description_width": ""
          }
        },
        "f9ae7fa8e529454c84d6f844ef017105": {
          "model_module": "@jupyter-widgets/controls",
          "model_name": "HBoxModel",
          "model_module_version": "1.5.0",
          "state": {
            "_dom_classes": [],
            "_model_module": "@jupyter-widgets/controls",
            "_model_module_version": "1.5.0",
            "_model_name": "HBoxModel",
            "_view_count": null,
            "_view_module": "@jupyter-widgets/controls",
            "_view_module_version": "1.5.0",
            "_view_name": "HBoxView",
            "box_style": "",
            "children": [
              "IPY_MODEL_70830df1e91344b38edc06497f372192",
              "IPY_MODEL_2127f8f9d31b4ce8b4eb4ae02bbc36d9",
              "IPY_MODEL_d3ed95034db44d3883c288480c6ddba8"
            ],
            "layout": "IPY_MODEL_183dfe52afbd44d7a686cccf1ac8176a"
          }
        },
        "70830df1e91344b38edc06497f372192": {
          "model_module": "@jupyter-widgets/controls",
          "model_name": "HTMLModel",
          "model_module_version": "1.5.0",
          "state": {
            "_dom_classes": [],
            "_model_module": "@jupyter-widgets/controls",
            "_model_module_version": "1.5.0",
            "_model_name": "HTMLModel",
            "_view_count": null,
            "_view_module": "@jupyter-widgets/controls",
            "_view_module_version": "1.5.0",
            "_view_name": "HTMLView",
            "description": "",
            "description_tooltip": null,
            "layout": "IPY_MODEL_562f08ee1f404ec085afdc91176f5ed8",
            "placeholder": "​",
            "style": "IPY_MODEL_66dc877bccec40908d3ba76a49033b92",
            "value": "config.json: 100%"
          }
        },
        "2127f8f9d31b4ce8b4eb4ae02bbc36d9": {
          "model_module": "@jupyter-widgets/controls",
          "model_name": "FloatProgressModel",
          "model_module_version": "1.5.0",
          "state": {
            "_dom_classes": [],
            "_model_module": "@jupyter-widgets/controls",
            "_model_module_version": "1.5.0",
            "_model_name": "FloatProgressModel",
            "_view_count": null,
            "_view_module": "@jupyter-widgets/controls",
            "_view_module_version": "1.5.0",
            "_view_name": "ProgressView",
            "bar_style": "success",
            "description": "",
            "description_tooltip": null,
            "layout": "IPY_MODEL_ab45473e70604cd8b52f77ac82b4e263",
            "max": 570,
            "min": 0,
            "orientation": "horizontal",
            "style": "IPY_MODEL_f1334968d6394d42b3a4d67b5bc34659",
            "value": 570
          }
        },
        "d3ed95034db44d3883c288480c6ddba8": {
          "model_module": "@jupyter-widgets/controls",
          "model_name": "HTMLModel",
          "model_module_version": "1.5.0",
          "state": {
            "_dom_classes": [],
            "_model_module": "@jupyter-widgets/controls",
            "_model_module_version": "1.5.0",
            "_model_name": "HTMLModel",
            "_view_count": null,
            "_view_module": "@jupyter-widgets/controls",
            "_view_module_version": "1.5.0",
            "_view_name": "HTMLView",
            "description": "",
            "description_tooltip": null,
            "layout": "IPY_MODEL_85cdb99e819c460ba18a82c3c7b08226",
            "placeholder": "​",
            "style": "IPY_MODEL_5834bc52d5dd4c75bdd0fd58a4423d6e",
            "value": " 570/570 [00:00&lt;00:00, 1.33kB/s]"
          }
        },
        "183dfe52afbd44d7a686cccf1ac8176a": {
          "model_module": "@jupyter-widgets/base",
          "model_name": "LayoutModel",
          "model_module_version": "1.2.0",
          "state": {
            "_model_module": "@jupyter-widgets/base",
            "_model_module_version": "1.2.0",
            "_model_name": "LayoutModel",
            "_view_count": null,
            "_view_module": "@jupyter-widgets/base",
            "_view_module_version": "1.2.0",
            "_view_name": "LayoutView",
            "align_content": null,
            "align_items": null,
            "align_self": null,
            "border": null,
            "bottom": null,
            "display": null,
            "flex": null,
            "flex_flow": null,
            "grid_area": null,
            "grid_auto_columns": null,
            "grid_auto_flow": null,
            "grid_auto_rows": null,
            "grid_column": null,
            "grid_gap": null,
            "grid_row": null,
            "grid_template_areas": null,
            "grid_template_columns": null,
            "grid_template_rows": null,
            "height": null,
            "justify_content": null,
            "justify_items": null,
            "left": null,
            "margin": null,
            "max_height": null,
            "max_width": null,
            "min_height": null,
            "min_width": null,
            "object_fit": null,
            "object_position": null,
            "order": null,
            "overflow": null,
            "overflow_x": null,
            "overflow_y": null,
            "padding": null,
            "right": null,
            "top": null,
            "visibility": null,
            "width": null
          }
        },
        "562f08ee1f404ec085afdc91176f5ed8": {
          "model_module": "@jupyter-widgets/base",
          "model_name": "LayoutModel",
          "model_module_version": "1.2.0",
          "state": {
            "_model_module": "@jupyter-widgets/base",
            "_model_module_version": "1.2.0",
            "_model_name": "LayoutModel",
            "_view_count": null,
            "_view_module": "@jupyter-widgets/base",
            "_view_module_version": "1.2.0",
            "_view_name": "LayoutView",
            "align_content": null,
            "align_items": null,
            "align_self": null,
            "border": null,
            "bottom": null,
            "display": null,
            "flex": null,
            "flex_flow": null,
            "grid_area": null,
            "grid_auto_columns": null,
            "grid_auto_flow": null,
            "grid_auto_rows": null,
            "grid_column": null,
            "grid_gap": null,
            "grid_row": null,
            "grid_template_areas": null,
            "grid_template_columns": null,
            "grid_template_rows": null,
            "height": null,
            "justify_content": null,
            "justify_items": null,
            "left": null,
            "margin": null,
            "max_height": null,
            "max_width": null,
            "min_height": null,
            "min_width": null,
            "object_fit": null,
            "object_position": null,
            "order": null,
            "overflow": null,
            "overflow_x": null,
            "overflow_y": null,
            "padding": null,
            "right": null,
            "top": null,
            "visibility": null,
            "width": null
          }
        },
        "66dc877bccec40908d3ba76a49033b92": {
          "model_module": "@jupyter-widgets/controls",
          "model_name": "DescriptionStyleModel",
          "model_module_version": "1.5.0",
          "state": {
            "_model_module": "@jupyter-widgets/controls",
            "_model_module_version": "1.5.0",
            "_model_name": "DescriptionStyleModel",
            "_view_count": null,
            "_view_module": "@jupyter-widgets/base",
            "_view_module_version": "1.2.0",
            "_view_name": "StyleView",
            "description_width": ""
          }
        },
        "ab45473e70604cd8b52f77ac82b4e263": {
          "model_module": "@jupyter-widgets/base",
          "model_name": "LayoutModel",
          "model_module_version": "1.2.0",
          "state": {
            "_model_module": "@jupyter-widgets/base",
            "_model_module_version": "1.2.0",
            "_model_name": "LayoutModel",
            "_view_count": null,
            "_view_module": "@jupyter-widgets/base",
            "_view_module_version": "1.2.0",
            "_view_name": "LayoutView",
            "align_content": null,
            "align_items": null,
            "align_self": null,
            "border": null,
            "bottom": null,
            "display": null,
            "flex": null,
            "flex_flow": null,
            "grid_area": null,
            "grid_auto_columns": null,
            "grid_auto_flow": null,
            "grid_auto_rows": null,
            "grid_column": null,
            "grid_gap": null,
            "grid_row": null,
            "grid_template_areas": null,
            "grid_template_columns": null,
            "grid_template_rows": null,
            "height": null,
            "justify_content": null,
            "justify_items": null,
            "left": null,
            "margin": null,
            "max_height": null,
            "max_width": null,
            "min_height": null,
            "min_width": null,
            "object_fit": null,
            "object_position": null,
            "order": null,
            "overflow": null,
            "overflow_x": null,
            "overflow_y": null,
            "padding": null,
            "right": null,
            "top": null,
            "visibility": null,
            "width": null
          }
        },
        "f1334968d6394d42b3a4d67b5bc34659": {
          "model_module": "@jupyter-widgets/controls",
          "model_name": "ProgressStyleModel",
          "model_module_version": "1.5.0",
          "state": {
            "_model_module": "@jupyter-widgets/controls",
            "_model_module_version": "1.5.0",
            "_model_name": "ProgressStyleModel",
            "_view_count": null,
            "_view_module": "@jupyter-widgets/base",
            "_view_module_version": "1.2.0",
            "_view_name": "StyleView",
            "bar_color": null,
            "description_width": ""
          }
        },
        "85cdb99e819c460ba18a82c3c7b08226": {
          "model_module": "@jupyter-widgets/base",
          "model_name": "LayoutModel",
          "model_module_version": "1.2.0",
          "state": {
            "_model_module": "@jupyter-widgets/base",
            "_model_module_version": "1.2.0",
            "_model_name": "LayoutModel",
            "_view_count": null,
            "_view_module": "@jupyter-widgets/base",
            "_view_module_version": "1.2.0",
            "_view_name": "LayoutView",
            "align_content": null,
            "align_items": null,
            "align_self": null,
            "border": null,
            "bottom": null,
            "display": null,
            "flex": null,
            "flex_flow": null,
            "grid_area": null,
            "grid_auto_columns": null,
            "grid_auto_flow": null,
            "grid_auto_rows": null,
            "grid_column": null,
            "grid_gap": null,
            "grid_row": null,
            "grid_template_areas": null,
            "grid_template_columns": null,
            "grid_template_rows": null,
            "height": null,
            "justify_content": null,
            "justify_items": null,
            "left": null,
            "margin": null,
            "max_height": null,
            "max_width": null,
            "min_height": null,
            "min_width": null,
            "object_fit": null,
            "object_position": null,
            "order": null,
            "overflow": null,
            "overflow_x": null,
            "overflow_y": null,
            "padding": null,
            "right": null,
            "top": null,
            "visibility": null,
            "width": null
          }
        },
        "5834bc52d5dd4c75bdd0fd58a4423d6e": {
          "model_module": "@jupyter-widgets/controls",
          "model_name": "DescriptionStyleModel",
          "model_module_version": "1.5.0",
          "state": {
            "_model_module": "@jupyter-widgets/controls",
            "_model_module_version": "1.5.0",
            "_model_name": "DescriptionStyleModel",
            "_view_count": null,
            "_view_module": "@jupyter-widgets/base",
            "_view_module_version": "1.2.0",
            "_view_name": "StyleView",
            "description_width": ""
          }
        },
        "3e201e56a2f34f17b051edf835cb73a5": {
          "model_module": "@jupyter-widgets/controls",
          "model_name": "HBoxModel",
          "model_module_version": "1.5.0",
          "state": {
            "_dom_classes": [],
            "_model_module": "@jupyter-widgets/controls",
            "_model_module_version": "1.5.0",
            "_model_name": "HBoxModel",
            "_view_count": null,
            "_view_module": "@jupyter-widgets/controls",
            "_view_module_version": "1.5.0",
            "_view_name": "HBoxView",
            "box_style": "",
            "children": [
              "IPY_MODEL_af437d8a3b1e4b589af2149b8408761a",
              "IPY_MODEL_ec19ae6ef49f40ce810c1cbd17960046",
              "IPY_MODEL_7e096142fcb34003a1dc0f2775a49735"
            ],
            "layout": "IPY_MODEL_118743f41a794fda8d06fde6e4d17073"
          }
        },
        "af437d8a3b1e4b589af2149b8408761a": {
          "model_module": "@jupyter-widgets/controls",
          "model_name": "HTMLModel",
          "model_module_version": "1.5.0",
          "state": {
            "_dom_classes": [],
            "_model_module": "@jupyter-widgets/controls",
            "_model_module_version": "1.5.0",
            "_model_name": "HTMLModel",
            "_view_count": null,
            "_view_module": "@jupyter-widgets/controls",
            "_view_module_version": "1.5.0",
            "_view_name": "HTMLView",
            "description": "",
            "description_tooltip": null,
            "layout": "IPY_MODEL_bfbb080350ad4058a16f859d374f0cae",
            "placeholder": "​",
            "style": "IPY_MODEL_b28a88a4e2e04a6692cb3b602b07ece5",
            "value": "model.safetensors: 100%"
          }
        },
        "ec19ae6ef49f40ce810c1cbd17960046": {
          "model_module": "@jupyter-widgets/controls",
          "model_name": "FloatProgressModel",
          "model_module_version": "1.5.0",
          "state": {
            "_dom_classes": [],
            "_model_module": "@jupyter-widgets/controls",
            "_model_module_version": "1.5.0",
            "_model_name": "FloatProgressModel",
            "_view_count": null,
            "_view_module": "@jupyter-widgets/controls",
            "_view_module_version": "1.5.0",
            "_view_name": "ProgressView",
            "bar_style": "success",
            "description": "",
            "description_tooltip": null,
            "layout": "IPY_MODEL_e841bbab2bf3437fa7ae46e4caac4452",
            "max": 440449768,
            "min": 0,
            "orientation": "horizontal",
            "style": "IPY_MODEL_697094fe77a84c549a9baeb5d29b6c6d",
            "value": 440449768
          }
        },
        "7e096142fcb34003a1dc0f2775a49735": {
          "model_module": "@jupyter-widgets/controls",
          "model_name": "HTMLModel",
          "model_module_version": "1.5.0",
          "state": {
            "_dom_classes": [],
            "_model_module": "@jupyter-widgets/controls",
            "_model_module_version": "1.5.0",
            "_model_name": "HTMLModel",
            "_view_count": null,
            "_view_module": "@jupyter-widgets/controls",
            "_view_module_version": "1.5.0",
            "_view_name": "HTMLView",
            "description": "",
            "description_tooltip": null,
            "layout": "IPY_MODEL_b92f4625eaeb437a92f13a8e1d60424e",
            "placeholder": "​",
            "style": "IPY_MODEL_42df59501d2f4452b5b8a4962af1299e",
            "value": " 440M/440M [00:02&lt;00:00, 330MB/s]"
          }
        },
        "118743f41a794fda8d06fde6e4d17073": {
          "model_module": "@jupyter-widgets/base",
          "model_name": "LayoutModel",
          "model_module_version": "1.2.0",
          "state": {
            "_model_module": "@jupyter-widgets/base",
            "_model_module_version": "1.2.0",
            "_model_name": "LayoutModel",
            "_view_count": null,
            "_view_module": "@jupyter-widgets/base",
            "_view_module_version": "1.2.0",
            "_view_name": "LayoutView",
            "align_content": null,
            "align_items": null,
            "align_self": null,
            "border": null,
            "bottom": null,
            "display": null,
            "flex": null,
            "flex_flow": null,
            "grid_area": null,
            "grid_auto_columns": null,
            "grid_auto_flow": null,
            "grid_auto_rows": null,
            "grid_column": null,
            "grid_gap": null,
            "grid_row": null,
            "grid_template_areas": null,
            "grid_template_columns": null,
            "grid_template_rows": null,
            "height": null,
            "justify_content": null,
            "justify_items": null,
            "left": null,
            "margin": null,
            "max_height": null,
            "max_width": null,
            "min_height": null,
            "min_width": null,
            "object_fit": null,
            "object_position": null,
            "order": null,
            "overflow": null,
            "overflow_x": null,
            "overflow_y": null,
            "padding": null,
            "right": null,
            "top": null,
            "visibility": null,
            "width": null
          }
        },
        "bfbb080350ad4058a16f859d374f0cae": {
          "model_module": "@jupyter-widgets/base",
          "model_name": "LayoutModel",
          "model_module_version": "1.2.0",
          "state": {
            "_model_module": "@jupyter-widgets/base",
            "_model_module_version": "1.2.0",
            "_model_name": "LayoutModel",
            "_view_count": null,
            "_view_module": "@jupyter-widgets/base",
            "_view_module_version": "1.2.0",
            "_view_name": "LayoutView",
            "align_content": null,
            "align_items": null,
            "align_self": null,
            "border": null,
            "bottom": null,
            "display": null,
            "flex": null,
            "flex_flow": null,
            "grid_area": null,
            "grid_auto_columns": null,
            "grid_auto_flow": null,
            "grid_auto_rows": null,
            "grid_column": null,
            "grid_gap": null,
            "grid_row": null,
            "grid_template_areas": null,
            "grid_template_columns": null,
            "grid_template_rows": null,
            "height": null,
            "justify_content": null,
            "justify_items": null,
            "left": null,
            "margin": null,
            "max_height": null,
            "max_width": null,
            "min_height": null,
            "min_width": null,
            "object_fit": null,
            "object_position": null,
            "order": null,
            "overflow": null,
            "overflow_x": null,
            "overflow_y": null,
            "padding": null,
            "right": null,
            "top": null,
            "visibility": null,
            "width": null
          }
        },
        "b28a88a4e2e04a6692cb3b602b07ece5": {
          "model_module": "@jupyter-widgets/controls",
          "model_name": "DescriptionStyleModel",
          "model_module_version": "1.5.0",
          "state": {
            "_model_module": "@jupyter-widgets/controls",
            "_model_module_version": "1.5.0",
            "_model_name": "DescriptionStyleModel",
            "_view_count": null,
            "_view_module": "@jupyter-widgets/base",
            "_view_module_version": "1.2.0",
            "_view_name": "StyleView",
            "description_width": ""
          }
        },
        "e841bbab2bf3437fa7ae46e4caac4452": {
          "model_module": "@jupyter-widgets/base",
          "model_name": "LayoutModel",
          "model_module_version": "1.2.0",
          "state": {
            "_model_module": "@jupyter-widgets/base",
            "_model_module_version": "1.2.0",
            "_model_name": "LayoutModel",
            "_view_count": null,
            "_view_module": "@jupyter-widgets/base",
            "_view_module_version": "1.2.0",
            "_view_name": "LayoutView",
            "align_content": null,
            "align_items": null,
            "align_self": null,
            "border": null,
            "bottom": null,
            "display": null,
            "flex": null,
            "flex_flow": null,
            "grid_area": null,
            "grid_auto_columns": null,
            "grid_auto_flow": null,
            "grid_auto_rows": null,
            "grid_column": null,
            "grid_gap": null,
            "grid_row": null,
            "grid_template_areas": null,
            "grid_template_columns": null,
            "grid_template_rows": null,
            "height": null,
            "justify_content": null,
            "justify_items": null,
            "left": null,
            "margin": null,
            "max_height": null,
            "max_width": null,
            "min_height": null,
            "min_width": null,
            "object_fit": null,
            "object_position": null,
            "order": null,
            "overflow": null,
            "overflow_x": null,
            "overflow_y": null,
            "padding": null,
            "right": null,
            "top": null,
            "visibility": null,
            "width": null
          }
        },
        "697094fe77a84c549a9baeb5d29b6c6d": {
          "model_module": "@jupyter-widgets/controls",
          "model_name": "ProgressStyleModel",
          "model_module_version": "1.5.0",
          "state": {
            "_model_module": "@jupyter-widgets/controls",
            "_model_module_version": "1.5.0",
            "_model_name": "ProgressStyleModel",
            "_view_count": null,
            "_view_module": "@jupyter-widgets/base",
            "_view_module_version": "1.2.0",
            "_view_name": "StyleView",
            "bar_color": null,
            "description_width": ""
          }
        },
        "b92f4625eaeb437a92f13a8e1d60424e": {
          "model_module": "@jupyter-widgets/base",
          "model_name": "LayoutModel",
          "model_module_version": "1.2.0",
          "state": {
            "_model_module": "@jupyter-widgets/base",
            "_model_module_version": "1.2.0",
            "_model_name": "LayoutModel",
            "_view_count": null,
            "_view_module": "@jupyter-widgets/base",
            "_view_module_version": "1.2.0",
            "_view_name": "LayoutView",
            "align_content": null,
            "align_items": null,
            "align_self": null,
            "border": null,
            "bottom": null,
            "display": null,
            "flex": null,
            "flex_flow": null,
            "grid_area": null,
            "grid_auto_columns": null,
            "grid_auto_flow": null,
            "grid_auto_rows": null,
            "grid_column": null,
            "grid_gap": null,
            "grid_row": null,
            "grid_template_areas": null,
            "grid_template_columns": null,
            "grid_template_rows": null,
            "height": null,
            "justify_content": null,
            "justify_items": null,
            "left": null,
            "margin": null,
            "max_height": null,
            "max_width": null,
            "min_height": null,
            "min_width": null,
            "object_fit": null,
            "object_position": null,
            "order": null,
            "overflow": null,
            "overflow_x": null,
            "overflow_y": null,
            "padding": null,
            "right": null,
            "top": null,
            "visibility": null,
            "width": null
          }
        },
        "42df59501d2f4452b5b8a4962af1299e": {
          "model_module": "@jupyter-widgets/controls",
          "model_name": "DescriptionStyleModel",
          "model_module_version": "1.5.0",
          "state": {
            "_model_module": "@jupyter-widgets/controls",
            "_model_module_version": "1.5.0",
            "_model_name": "DescriptionStyleModel",
            "_view_count": null,
            "_view_module": "@jupyter-widgets/base",
            "_view_module_version": "1.2.0",
            "_view_name": "StyleView",
            "description_width": ""
          }
        }
      }
    }
  },
  "cells": [
    {
      "cell_type": "markdown",
      "metadata": {
        "id": "view-in-github",
        "colab_type": "text"
      },
      "source": [
        "<a href=\"https://colab.research.google.com/github/deep1003/deep1003/blob/master/1_Patent_BERT241009.ipynb\" target=\"_parent\"><img src=\"https://colab.research.google.com/assets/colab-badge.svg\" alt=\"Open In Colab\"/></a>"
      ]
    },
    {
      "cell_type": "code",
      "execution_count": 2,
      "metadata": {
        "id": "BXvXks5q_jvG",
        "colab": {
          "base_uri": "https://localhost:8080/"
        },
        "outputId": "ba40e91a-a630-48d7-bb8f-57f93151d212"
      },
      "outputs": [
        {
          "output_type": "stream",
          "name": "stdout",
          "text": [
            "Collecting pycountry\n",
            "  Downloading pycountry-24.6.1-py3-none-any.whl.metadata (12 kB)\n",
            "Downloading pycountry-24.6.1-py3-none-any.whl (6.3 MB)\n",
            "\u001b[?25l   \u001b[90m━━━━━━━━━━━━━━━━━━━━━━━━━━━━━━━━━━━━━━━━\u001b[0m \u001b[32m0.0/6.3 MB\u001b[0m \u001b[31m?\u001b[0m eta \u001b[36m-:--:--\u001b[0m\r\u001b[2K   \u001b[91m━━━━━━━━━━━━━━━━━━━━━━━━━━━\u001b[0m\u001b[90m╺\u001b[0m\u001b[90m━━━━━━━━━━━━\u001b[0m \u001b[32m4.3/6.3 MB\u001b[0m \u001b[31m129.4 MB/s\u001b[0m eta \u001b[36m0:00:01\u001b[0m\r\u001b[2K   \u001b[91m━━━━━━━━━━━━━━━━━━━━━━━━━━━━━━━━━━━━━━━\u001b[0m\u001b[91m╸\u001b[0m \u001b[32m6.3/6.3 MB\u001b[0m \u001b[31m140.4 MB/s\u001b[0m eta \u001b[36m0:00:01\u001b[0m\r\u001b[2K   \u001b[91m━━━━━━━━━━━━━━━━━━━━━━━━━━━━━━━━━━━━━━━\u001b[0m\u001b[91m╸\u001b[0m \u001b[32m6.3/6.3 MB\u001b[0m \u001b[31m140.4 MB/s\u001b[0m eta \u001b[36m0:00:01\u001b[0m\r\u001b[2K   \u001b[90m━━━━━━━━━━━━━━━━━━━━━━━━━━━━━━━━━━━━━━━━\u001b[0m \u001b[32m6.3/6.3 MB\u001b[0m \u001b[31m46.2 MB/s\u001b[0m eta \u001b[36m0:00:00\u001b[0m\n",
            "\u001b[?25hInstalling collected packages: pycountry\n",
            "Successfully installed pycountry-24.6.1\n"
          ]
        }
      ],
      "source": [
        "# !pip install --target=$my_path pycountry\n",
        "!pip install pycountry\n",
        "import pycountry"
      ]
    },
    {
      "cell_type": "code",
      "source": [
        "# @article{patent_bert,\n",
        "#   author = \"Jieh-Sheng Lee and Jieh Hsiang\",\n",
        "#   title = \"{PatentBERT: Patent classification with fine-tuning a pre-trained BERT model}\",\n",
        "#   journal = \"World Patent Information\",\n",
        "#   volume = \"61\",\n",
        "#   number = \"101965\",\n",
        "#   year = \"2020\",\n",
        "# }"
      ],
      "metadata": {
        "id": "EBPUD9ydT4fq"
      },
      "execution_count": 3,
      "outputs": []
    },
    {
      "cell_type": "code",
      "source": [
        "# 필요한 라이브러리 설치\n",
        "!pip install transformers\n",
        "!pip install torch\n",
        "!pip install pandas\n",
        "!pip install scikit-learn\n",
        "!pip install joblib\n"
      ],
      "metadata": {
        "colab": {
          "base_uri": "https://localhost:8080/"
        },
        "id": "mKtSCtomT6Sy",
        "outputId": "909fb3c6-b76d-43a3-9536-595e496c6979"
      },
      "execution_count": 4,
      "outputs": [
        {
          "output_type": "stream",
          "name": "stdout",
          "text": [
            "Requirement already satisfied: transformers in /usr/local/lib/python3.10/dist-packages (4.44.2)\n",
            "Requirement already satisfied: filelock in /usr/local/lib/python3.10/dist-packages (from transformers) (3.16.1)\n",
            "Requirement already satisfied: huggingface-hub<1.0,>=0.23.2 in /usr/local/lib/python3.10/dist-packages (from transformers) (0.24.7)\n",
            "Requirement already satisfied: numpy>=1.17 in /usr/local/lib/python3.10/dist-packages (from transformers) (1.26.4)\n",
            "Requirement already satisfied: packaging>=20.0 in /usr/local/lib/python3.10/dist-packages (from transformers) (24.1)\n",
            "Requirement already satisfied: pyyaml>=5.1 in /usr/local/lib/python3.10/dist-packages (from transformers) (6.0.2)\n",
            "Requirement already satisfied: regex!=2019.12.17 in /usr/local/lib/python3.10/dist-packages (from transformers) (2024.9.11)\n",
            "Requirement already satisfied: requests in /usr/local/lib/python3.10/dist-packages (from transformers) (2.32.3)\n",
            "Requirement already satisfied: safetensors>=0.4.1 in /usr/local/lib/python3.10/dist-packages (from transformers) (0.4.5)\n",
            "Requirement already satisfied: tokenizers<0.20,>=0.19 in /usr/local/lib/python3.10/dist-packages (from transformers) (0.19.1)\n",
            "Requirement already satisfied: tqdm>=4.27 in /usr/local/lib/python3.10/dist-packages (from transformers) (4.66.5)\n",
            "Requirement already satisfied: fsspec>=2023.5.0 in /usr/local/lib/python3.10/dist-packages (from huggingface-hub<1.0,>=0.23.2->transformers) (2024.6.1)\n",
            "Requirement already satisfied: typing-extensions>=3.7.4.3 in /usr/local/lib/python3.10/dist-packages (from huggingface-hub<1.0,>=0.23.2->transformers) (4.12.2)\n",
            "Requirement already satisfied: charset-normalizer<4,>=2 in /usr/local/lib/python3.10/dist-packages (from requests->transformers) (3.3.2)\n",
            "Requirement already satisfied: idna<4,>=2.5 in /usr/local/lib/python3.10/dist-packages (from requests->transformers) (3.10)\n",
            "Requirement already satisfied: urllib3<3,>=1.21.1 in /usr/local/lib/python3.10/dist-packages (from requests->transformers) (2.2.3)\n",
            "Requirement already satisfied: certifi>=2017.4.17 in /usr/local/lib/python3.10/dist-packages (from requests->transformers) (2024.8.30)\n",
            "Requirement already satisfied: torch in /usr/local/lib/python3.10/dist-packages (2.4.1+cu121)\n",
            "Requirement already satisfied: filelock in /usr/local/lib/python3.10/dist-packages (from torch) (3.16.1)\n",
            "Requirement already satisfied: typing-extensions>=4.8.0 in /usr/local/lib/python3.10/dist-packages (from torch) (4.12.2)\n",
            "Requirement already satisfied: sympy in /usr/local/lib/python3.10/dist-packages (from torch) (1.13.3)\n",
            "Requirement already satisfied: networkx in /usr/local/lib/python3.10/dist-packages (from torch) (3.3)\n",
            "Requirement already satisfied: jinja2 in /usr/local/lib/python3.10/dist-packages (from torch) (3.1.4)\n",
            "Requirement already satisfied: fsspec in /usr/local/lib/python3.10/dist-packages (from torch) (2024.6.1)\n",
            "Requirement already satisfied: MarkupSafe>=2.0 in /usr/local/lib/python3.10/dist-packages (from jinja2->torch) (2.1.5)\n",
            "Requirement already satisfied: mpmath<1.4,>=1.1.0 in /usr/local/lib/python3.10/dist-packages (from sympy->torch) (1.3.0)\n",
            "Requirement already satisfied: pandas in /usr/local/lib/python3.10/dist-packages (2.2.2)\n",
            "Requirement already satisfied: numpy>=1.22.4 in /usr/local/lib/python3.10/dist-packages (from pandas) (1.26.4)\n",
            "Requirement already satisfied: python-dateutil>=2.8.2 in /usr/local/lib/python3.10/dist-packages (from pandas) (2.8.2)\n",
            "Requirement already satisfied: pytz>=2020.1 in /usr/local/lib/python3.10/dist-packages (from pandas) (2024.2)\n",
            "Requirement already satisfied: tzdata>=2022.7 in /usr/local/lib/python3.10/dist-packages (from pandas) (2024.2)\n",
            "Requirement already satisfied: six>=1.5 in /usr/local/lib/python3.10/dist-packages (from python-dateutil>=2.8.2->pandas) (1.16.0)\n",
            "Requirement already satisfied: scikit-learn in /usr/local/lib/python3.10/dist-packages (1.5.2)\n",
            "Requirement already satisfied: numpy>=1.19.5 in /usr/local/lib/python3.10/dist-packages (from scikit-learn) (1.26.4)\n",
            "Requirement already satisfied: scipy>=1.6.0 in /usr/local/lib/python3.10/dist-packages (from scikit-learn) (1.13.1)\n",
            "Requirement already satisfied: joblib>=1.2.0 in /usr/local/lib/python3.10/dist-packages (from scikit-learn) (1.4.2)\n",
            "Requirement already satisfied: threadpoolctl>=3.1.0 in /usr/local/lib/python3.10/dist-packages (from scikit-learn) (3.5.0)\n",
            "Requirement already satisfied: joblib in /usr/local/lib/python3.10/dist-packages (1.4.2)\n"
          ]
        }
      ]
    },
    {
      "cell_type": "code",
      "source": [
        "#import libraries\n",
        "import pandas as pd\n",
        "import numpy as np\n",
        "import matplotlib.pyplot as plt\n",
        "import seaborn as sns\n",
        "import joblib"
      ],
      "metadata": {
        "id": "CQJ4wS_9kUWt"
      },
      "execution_count": 5,
      "outputs": []
    },
    {
      "cell_type": "code",
      "source": [
        "#mount Google Drive\n",
        "from google.colab import drive\n",
        "drive.mount('/content/drive')"
      ],
      "metadata": {
        "colab": {
          "base_uri": "https://localhost:8080/"
        },
        "id": "PSo28H_Rc3pI",
        "outputId": "900c055a-0cc1-45e2-f65c-6a66113ed5cc"
      },
      "execution_count": 37,
      "outputs": [
        {
          "output_type": "stream",
          "name": "stdout",
          "text": [
            "Mounted at /content/drive\n"
          ]
        }
      ]
    },
    {
      "cell_type": "code",
      "source": [
        "# CSV 파일 읽기\n",
        "df1 = pd.read_csv('/content/drive/MyDrive/Colab Notebooks/resulttable (7).csv', delimiter=';')\n",
        "\n",
        "# 데이터 확인\n",
        "print(df1.head())\n",
        "print(df1.columns)\n",
        "df1"
      ],
      "metadata": {
        "colab": {
          "base_uri": "https://localhost:8080/",
          "height": 1000
        },
        "id": "AUV0VxEKdAS_",
        "outputId": "43788d56-c58e-4580-8c87-747e21df7a6a"
      },
      "execution_count": 79,
      "outputs": [
        {
          "output_type": "stream",
          "name": "stdout",
          "text": [
            "    appln_id  earliest_filing_year person_ctry_code cpc_class_symbol  \\\n",
            "0  584648513                  2022               US    G06F  18/2193   \n",
            "1  584648513                  2022               US    G06F  18/2323   \n",
            "2  584648513                  2022               US     G06F  21/552   \n",
            "3  584648513                  2022               US     G06F  21/554   \n",
            "4  584648513                  2022               US      G06N  20/00   \n",
            "\n",
            "   nace2_code                                        appln_title  \\\n",
            "0        26.2  Configuring machine learning model thresholds ...   \n",
            "1        26.2  Configuring machine learning model thresholds ...   \n",
            "2        26.2  Configuring machine learning model thresholds ...   \n",
            "3        26.2  Configuring machine learning model thresholds ...   \n",
            "4        26.2  Configuring machine learning model thresholds ...   \n",
            "\n",
            "                                      appln_abstract  \n",
            "0  Certain aspects of the present disclosure prov...  \n",
            "1  Certain aspects of the present disclosure prov...  \n",
            "2  Certain aspects of the present disclosure prov...  \n",
            "3  Certain aspects of the present disclosure prov...  \n",
            "4  Certain aspects of the present disclosure prov...  \n",
            "Index(['appln_id', 'earliest_filing_year', 'person_ctry_code',\n",
            "       'cpc_class_symbol', 'nace2_code', 'appln_title', 'appln_abstract'],\n",
            "      dtype='object')\n"
          ]
        },
        {
          "output_type": "execute_result",
          "data": {
            "text/plain": [
              "       appln_id  earliest_filing_year person_ctry_code cpc_class_symbol  \\\n",
              "0     584648513                  2022               US    G06F  18/2193   \n",
              "1     584648513                  2022               US    G06F  18/2323   \n",
              "2     584648513                  2022               US     G06F  21/552   \n",
              "3     584648513                  2022               US     G06F  21/554   \n",
              "4     584648513                  2022               US      G06N  20/00   \n",
              "...         ...                   ...              ...              ...   \n",
              "6747  606045343                  2023               US      G06T   9/00   \n",
              "6748  606045343                  2023               US   G06T2207/20076   \n",
              "6749  606045540                  2023               CN    G06F   3/0202   \n",
              "6750  606045540                  2023               CN     H01H  13/705   \n",
              "6751  606045540                  2023               CN    H05K   5/0018   \n",
              "\n",
              "      nace2_code                                        appln_title  \\\n",
              "0           26.2  Configuring machine learning model thresholds ...   \n",
              "1           26.2  Configuring machine learning model thresholds ...   \n",
              "2           26.2  Configuring machine learning model thresholds ...   \n",
              "3           26.2  Configuring machine learning model thresholds ...   \n",
              "4           26.2  Configuring machine learning model thresholds ...   \n",
              "...          ...                                                ...   \n",
              "6747        26.2  Augmented diffusion inversion using latent tra...   \n",
              "6748        26.2  Augmented diffusion inversion using latent tra...   \n",
              "6749        26.2  Keypad structure and visual programmable intel...   \n",
              "6750        26.2  Keypad structure and visual programmable intel...   \n",
              "6751        26.2  Keypad structure and visual programmable intel...   \n",
              "\n",
              "                                         appln_abstract  \n",
              "0     Certain aspects of the present disclosure prov...  \n",
              "1     Certain aspects of the present disclosure prov...  \n",
              "2     Certain aspects of the present disclosure prov...  \n",
              "3     Certain aspects of the present disclosure prov...  \n",
              "4     Certain aspects of the present disclosure prov...  \n",
              "...                                                 ...  \n",
              "6747  Augmented Denoising Diffusion Implicit Models ...  \n",
              "6748  Augmented Denoising Diffusion Implicit Models ...  \n",
              "6749  The present disclosure discloses a keypad stru...  \n",
              "6750  The present disclosure discloses a keypad stru...  \n",
              "6751  The present disclosure discloses a keypad stru...  \n",
              "\n",
              "[6752 rows x 7 columns]"
            ],
            "text/html": [
              "\n",
              "  <div id=\"df-350c7b66-6ec7-44a7-9182-bd3616071b52\" class=\"colab-df-container\">\n",
              "    <div>\n",
              "<style scoped>\n",
              "    .dataframe tbody tr th:only-of-type {\n",
              "        vertical-align: middle;\n",
              "    }\n",
              "\n",
              "    .dataframe tbody tr th {\n",
              "        vertical-align: top;\n",
              "    }\n",
              "\n",
              "    .dataframe thead th {\n",
              "        text-align: right;\n",
              "    }\n",
              "</style>\n",
              "<table border=\"1\" class=\"dataframe\">\n",
              "  <thead>\n",
              "    <tr style=\"text-align: right;\">\n",
              "      <th></th>\n",
              "      <th>appln_id</th>\n",
              "      <th>earliest_filing_year</th>\n",
              "      <th>person_ctry_code</th>\n",
              "      <th>cpc_class_symbol</th>\n",
              "      <th>nace2_code</th>\n",
              "      <th>appln_title</th>\n",
              "      <th>appln_abstract</th>\n",
              "    </tr>\n",
              "  </thead>\n",
              "  <tbody>\n",
              "    <tr>\n",
              "      <th>0</th>\n",
              "      <td>584648513</td>\n",
              "      <td>2022</td>\n",
              "      <td>US</td>\n",
              "      <td>G06F  18/2193</td>\n",
              "      <td>26.2</td>\n",
              "      <td>Configuring machine learning model thresholds ...</td>\n",
              "      <td>Certain aspects of the present disclosure prov...</td>\n",
              "    </tr>\n",
              "    <tr>\n",
              "      <th>1</th>\n",
              "      <td>584648513</td>\n",
              "      <td>2022</td>\n",
              "      <td>US</td>\n",
              "      <td>G06F  18/2323</td>\n",
              "      <td>26.2</td>\n",
              "      <td>Configuring machine learning model thresholds ...</td>\n",
              "      <td>Certain aspects of the present disclosure prov...</td>\n",
              "    </tr>\n",
              "    <tr>\n",
              "      <th>2</th>\n",
              "      <td>584648513</td>\n",
              "      <td>2022</td>\n",
              "      <td>US</td>\n",
              "      <td>G06F  21/552</td>\n",
              "      <td>26.2</td>\n",
              "      <td>Configuring machine learning model thresholds ...</td>\n",
              "      <td>Certain aspects of the present disclosure prov...</td>\n",
              "    </tr>\n",
              "    <tr>\n",
              "      <th>3</th>\n",
              "      <td>584648513</td>\n",
              "      <td>2022</td>\n",
              "      <td>US</td>\n",
              "      <td>G06F  21/554</td>\n",
              "      <td>26.2</td>\n",
              "      <td>Configuring machine learning model thresholds ...</td>\n",
              "      <td>Certain aspects of the present disclosure prov...</td>\n",
              "    </tr>\n",
              "    <tr>\n",
              "      <th>4</th>\n",
              "      <td>584648513</td>\n",
              "      <td>2022</td>\n",
              "      <td>US</td>\n",
              "      <td>G06N  20/00</td>\n",
              "      <td>26.2</td>\n",
              "      <td>Configuring machine learning model thresholds ...</td>\n",
              "      <td>Certain aspects of the present disclosure prov...</td>\n",
              "    </tr>\n",
              "    <tr>\n",
              "      <th>...</th>\n",
              "      <td>...</td>\n",
              "      <td>...</td>\n",
              "      <td>...</td>\n",
              "      <td>...</td>\n",
              "      <td>...</td>\n",
              "      <td>...</td>\n",
              "      <td>...</td>\n",
              "    </tr>\n",
              "    <tr>\n",
              "      <th>6747</th>\n",
              "      <td>606045343</td>\n",
              "      <td>2023</td>\n",
              "      <td>US</td>\n",
              "      <td>G06T   9/00</td>\n",
              "      <td>26.2</td>\n",
              "      <td>Augmented diffusion inversion using latent tra...</td>\n",
              "      <td>Augmented Denoising Diffusion Implicit Models ...</td>\n",
              "    </tr>\n",
              "    <tr>\n",
              "      <th>6748</th>\n",
              "      <td>606045343</td>\n",
              "      <td>2023</td>\n",
              "      <td>US</td>\n",
              "      <td>G06T2207/20076</td>\n",
              "      <td>26.2</td>\n",
              "      <td>Augmented diffusion inversion using latent tra...</td>\n",
              "      <td>Augmented Denoising Diffusion Implicit Models ...</td>\n",
              "    </tr>\n",
              "    <tr>\n",
              "      <th>6749</th>\n",
              "      <td>606045540</td>\n",
              "      <td>2023</td>\n",
              "      <td>CN</td>\n",
              "      <td>G06F   3/0202</td>\n",
              "      <td>26.2</td>\n",
              "      <td>Keypad structure and visual programmable intel...</td>\n",
              "      <td>The present disclosure discloses a keypad stru...</td>\n",
              "    </tr>\n",
              "    <tr>\n",
              "      <th>6750</th>\n",
              "      <td>606045540</td>\n",
              "      <td>2023</td>\n",
              "      <td>CN</td>\n",
              "      <td>H01H  13/705</td>\n",
              "      <td>26.2</td>\n",
              "      <td>Keypad structure and visual programmable intel...</td>\n",
              "      <td>The present disclosure discloses a keypad stru...</td>\n",
              "    </tr>\n",
              "    <tr>\n",
              "      <th>6751</th>\n",
              "      <td>606045540</td>\n",
              "      <td>2023</td>\n",
              "      <td>CN</td>\n",
              "      <td>H05K   5/0018</td>\n",
              "      <td>26.2</td>\n",
              "      <td>Keypad structure and visual programmable intel...</td>\n",
              "      <td>The present disclosure discloses a keypad stru...</td>\n",
              "    </tr>\n",
              "  </tbody>\n",
              "</table>\n",
              "<p>6752 rows × 7 columns</p>\n",
              "</div>\n",
              "    <div class=\"colab-df-buttons\">\n",
              "\n",
              "  <div class=\"colab-df-container\">\n",
              "    <button class=\"colab-df-convert\" onclick=\"convertToInteractive('df-350c7b66-6ec7-44a7-9182-bd3616071b52')\"\n",
              "            title=\"Convert this dataframe to an interactive table.\"\n",
              "            style=\"display:none;\">\n",
              "\n",
              "  <svg xmlns=\"http://www.w3.org/2000/svg\" height=\"24px\" viewBox=\"0 -960 960 960\">\n",
              "    <path d=\"M120-120v-720h720v720H120Zm60-500h600v-160H180v160Zm220 220h160v-160H400v160Zm0 220h160v-160H400v160ZM180-400h160v-160H180v160Zm440 0h160v-160H620v160ZM180-180h160v-160H180v160Zm440 0h160v-160H620v160Z\"/>\n",
              "  </svg>\n",
              "    </button>\n",
              "\n",
              "  <style>\n",
              "    .colab-df-container {\n",
              "      display:flex;\n",
              "      gap: 12px;\n",
              "    }\n",
              "\n",
              "    .colab-df-convert {\n",
              "      background-color: #E8F0FE;\n",
              "      border: none;\n",
              "      border-radius: 50%;\n",
              "      cursor: pointer;\n",
              "      display: none;\n",
              "      fill: #1967D2;\n",
              "      height: 32px;\n",
              "      padding: 0 0 0 0;\n",
              "      width: 32px;\n",
              "    }\n",
              "\n",
              "    .colab-df-convert:hover {\n",
              "      background-color: #E2EBFA;\n",
              "      box-shadow: 0px 1px 2px rgba(60, 64, 67, 0.3), 0px 1px 3px 1px rgba(60, 64, 67, 0.15);\n",
              "      fill: #174EA6;\n",
              "    }\n",
              "\n",
              "    .colab-df-buttons div {\n",
              "      margin-bottom: 4px;\n",
              "    }\n",
              "\n",
              "    [theme=dark] .colab-df-convert {\n",
              "      background-color: #3B4455;\n",
              "      fill: #D2E3FC;\n",
              "    }\n",
              "\n",
              "    [theme=dark] .colab-df-convert:hover {\n",
              "      background-color: #434B5C;\n",
              "      box-shadow: 0px 1px 3px 1px rgba(0, 0, 0, 0.15);\n",
              "      filter: drop-shadow(0px 1px 2px rgba(0, 0, 0, 0.3));\n",
              "      fill: #FFFFFF;\n",
              "    }\n",
              "  </style>\n",
              "\n",
              "    <script>\n",
              "      const buttonEl =\n",
              "        document.querySelector('#df-350c7b66-6ec7-44a7-9182-bd3616071b52 button.colab-df-convert');\n",
              "      buttonEl.style.display =\n",
              "        google.colab.kernel.accessAllowed ? 'block' : 'none';\n",
              "\n",
              "      async function convertToInteractive(key) {\n",
              "        const element = document.querySelector('#df-350c7b66-6ec7-44a7-9182-bd3616071b52');\n",
              "        const dataTable =\n",
              "          await google.colab.kernel.invokeFunction('convertToInteractive',\n",
              "                                                    [key], {});\n",
              "        if (!dataTable) return;\n",
              "\n",
              "        const docLinkHtml = 'Like what you see? Visit the ' +\n",
              "          '<a target=\"_blank\" href=https://colab.research.google.com/notebooks/data_table.ipynb>data table notebook</a>'\n",
              "          + ' to learn more about interactive tables.';\n",
              "        element.innerHTML = '';\n",
              "        dataTable['output_type'] = 'display_data';\n",
              "        await google.colab.output.renderOutput(dataTable, element);\n",
              "        const docLink = document.createElement('div');\n",
              "        docLink.innerHTML = docLinkHtml;\n",
              "        element.appendChild(docLink);\n",
              "      }\n",
              "    </script>\n",
              "  </div>\n",
              "\n",
              "\n",
              "<div id=\"df-18626617-d3a8-4ddf-9bde-e55f291d3798\">\n",
              "  <button class=\"colab-df-quickchart\" onclick=\"quickchart('df-18626617-d3a8-4ddf-9bde-e55f291d3798')\"\n",
              "            title=\"Suggest charts\"\n",
              "            style=\"display:none;\">\n",
              "\n",
              "<svg xmlns=\"http://www.w3.org/2000/svg\" height=\"24px\"viewBox=\"0 0 24 24\"\n",
              "     width=\"24px\">\n",
              "    <g>\n",
              "        <path d=\"M19 3H5c-1.1 0-2 .9-2 2v14c0 1.1.9 2 2 2h14c1.1 0 2-.9 2-2V5c0-1.1-.9-2-2-2zM9 17H7v-7h2v7zm4 0h-2V7h2v10zm4 0h-2v-4h2v4z\"/>\n",
              "    </g>\n",
              "</svg>\n",
              "  </button>\n",
              "\n",
              "<style>\n",
              "  .colab-df-quickchart {\n",
              "      --bg-color: #E8F0FE;\n",
              "      --fill-color: #1967D2;\n",
              "      --hover-bg-color: #E2EBFA;\n",
              "      --hover-fill-color: #174EA6;\n",
              "      --disabled-fill-color: #AAA;\n",
              "      --disabled-bg-color: #DDD;\n",
              "  }\n",
              "\n",
              "  [theme=dark] .colab-df-quickchart {\n",
              "      --bg-color: #3B4455;\n",
              "      --fill-color: #D2E3FC;\n",
              "      --hover-bg-color: #434B5C;\n",
              "      --hover-fill-color: #FFFFFF;\n",
              "      --disabled-bg-color: #3B4455;\n",
              "      --disabled-fill-color: #666;\n",
              "  }\n",
              "\n",
              "  .colab-df-quickchart {\n",
              "    background-color: var(--bg-color);\n",
              "    border: none;\n",
              "    border-radius: 50%;\n",
              "    cursor: pointer;\n",
              "    display: none;\n",
              "    fill: var(--fill-color);\n",
              "    height: 32px;\n",
              "    padding: 0;\n",
              "    width: 32px;\n",
              "  }\n",
              "\n",
              "  .colab-df-quickchart:hover {\n",
              "    background-color: var(--hover-bg-color);\n",
              "    box-shadow: 0 1px 2px rgba(60, 64, 67, 0.3), 0 1px 3px 1px rgba(60, 64, 67, 0.15);\n",
              "    fill: var(--button-hover-fill-color);\n",
              "  }\n",
              "\n",
              "  .colab-df-quickchart-complete:disabled,\n",
              "  .colab-df-quickchart-complete:disabled:hover {\n",
              "    background-color: var(--disabled-bg-color);\n",
              "    fill: var(--disabled-fill-color);\n",
              "    box-shadow: none;\n",
              "  }\n",
              "\n",
              "  .colab-df-spinner {\n",
              "    border: 2px solid var(--fill-color);\n",
              "    border-color: transparent;\n",
              "    border-bottom-color: var(--fill-color);\n",
              "    animation:\n",
              "      spin 1s steps(1) infinite;\n",
              "  }\n",
              "\n",
              "  @keyframes spin {\n",
              "    0% {\n",
              "      border-color: transparent;\n",
              "      border-bottom-color: var(--fill-color);\n",
              "      border-left-color: var(--fill-color);\n",
              "    }\n",
              "    20% {\n",
              "      border-color: transparent;\n",
              "      border-left-color: var(--fill-color);\n",
              "      border-top-color: var(--fill-color);\n",
              "    }\n",
              "    30% {\n",
              "      border-color: transparent;\n",
              "      border-left-color: var(--fill-color);\n",
              "      border-top-color: var(--fill-color);\n",
              "      border-right-color: var(--fill-color);\n",
              "    }\n",
              "    40% {\n",
              "      border-color: transparent;\n",
              "      border-right-color: var(--fill-color);\n",
              "      border-top-color: var(--fill-color);\n",
              "    }\n",
              "    60% {\n",
              "      border-color: transparent;\n",
              "      border-right-color: var(--fill-color);\n",
              "    }\n",
              "    80% {\n",
              "      border-color: transparent;\n",
              "      border-right-color: var(--fill-color);\n",
              "      border-bottom-color: var(--fill-color);\n",
              "    }\n",
              "    90% {\n",
              "      border-color: transparent;\n",
              "      border-bottom-color: var(--fill-color);\n",
              "    }\n",
              "  }\n",
              "</style>\n",
              "\n",
              "  <script>\n",
              "    async function quickchart(key) {\n",
              "      const quickchartButtonEl =\n",
              "        document.querySelector('#' + key + ' button');\n",
              "      quickchartButtonEl.disabled = true;  // To prevent multiple clicks.\n",
              "      quickchartButtonEl.classList.add('colab-df-spinner');\n",
              "      try {\n",
              "        const charts = await google.colab.kernel.invokeFunction(\n",
              "            'suggestCharts', [key], {});\n",
              "      } catch (error) {\n",
              "        console.error('Error during call to suggestCharts:', error);\n",
              "      }\n",
              "      quickchartButtonEl.classList.remove('colab-df-spinner');\n",
              "      quickchartButtonEl.classList.add('colab-df-quickchart-complete');\n",
              "    }\n",
              "    (() => {\n",
              "      let quickchartButtonEl =\n",
              "        document.querySelector('#df-18626617-d3a8-4ddf-9bde-e55f291d3798 button');\n",
              "      quickchartButtonEl.style.display =\n",
              "        google.colab.kernel.accessAllowed ? 'block' : 'none';\n",
              "    })();\n",
              "  </script>\n",
              "</div>\n",
              "\n",
              "  <div id=\"id_aa2097af-4158-496e-b771-a9ee1fa79aeb\">\n",
              "    <style>\n",
              "      .colab-df-generate {\n",
              "        background-color: #E8F0FE;\n",
              "        border: none;\n",
              "        border-radius: 50%;\n",
              "        cursor: pointer;\n",
              "        display: none;\n",
              "        fill: #1967D2;\n",
              "        height: 32px;\n",
              "        padding: 0 0 0 0;\n",
              "        width: 32px;\n",
              "      }\n",
              "\n",
              "      .colab-df-generate:hover {\n",
              "        background-color: #E2EBFA;\n",
              "        box-shadow: 0px 1px 2px rgba(60, 64, 67, 0.3), 0px 1px 3px 1px rgba(60, 64, 67, 0.15);\n",
              "        fill: #174EA6;\n",
              "      }\n",
              "\n",
              "      [theme=dark] .colab-df-generate {\n",
              "        background-color: #3B4455;\n",
              "        fill: #D2E3FC;\n",
              "      }\n",
              "\n",
              "      [theme=dark] .colab-df-generate:hover {\n",
              "        background-color: #434B5C;\n",
              "        box-shadow: 0px 1px 3px 1px rgba(0, 0, 0, 0.15);\n",
              "        filter: drop-shadow(0px 1px 2px rgba(0, 0, 0, 0.3));\n",
              "        fill: #FFFFFF;\n",
              "      }\n",
              "    </style>\n",
              "    <button class=\"colab-df-generate\" onclick=\"generateWithVariable('df1')\"\n",
              "            title=\"Generate code using this dataframe.\"\n",
              "            style=\"display:none;\">\n",
              "\n",
              "  <svg xmlns=\"http://www.w3.org/2000/svg\" height=\"24px\"viewBox=\"0 0 24 24\"\n",
              "       width=\"24px\">\n",
              "    <path d=\"M7,19H8.4L18.45,9,17,7.55,7,17.6ZM5,21V16.75L18.45,3.32a2,2,0,0,1,2.83,0l1.4,1.43a1.91,1.91,0,0,1,.58,1.4,1.91,1.91,0,0,1-.58,1.4L9.25,21ZM18.45,9,17,7.55Zm-12,3A5.31,5.31,0,0,0,4.9,8.1,5.31,5.31,0,0,0,1,6.5,5.31,5.31,0,0,0,4.9,4.9,5.31,5.31,0,0,0,6.5,1,5.31,5.31,0,0,0,8.1,4.9,5.31,5.31,0,0,0,12,6.5,5.46,5.46,0,0,0,6.5,12Z\"/>\n",
              "  </svg>\n",
              "    </button>\n",
              "    <script>\n",
              "      (() => {\n",
              "      const buttonEl =\n",
              "        document.querySelector('#id_aa2097af-4158-496e-b771-a9ee1fa79aeb button.colab-df-generate');\n",
              "      buttonEl.style.display =\n",
              "        google.colab.kernel.accessAllowed ? 'block' : 'none';\n",
              "\n",
              "      buttonEl.onclick = () => {\n",
              "        google.colab.notebook.generateWithVariable('df1');\n",
              "      }\n",
              "      })();\n",
              "    </script>\n",
              "  </div>\n",
              "\n",
              "    </div>\n",
              "  </div>\n"
            ],
            "application/vnd.google.colaboratory.intrinsic+json": {
              "type": "dataframe",
              "variable_name": "df1",
              "summary": "{\n  \"name\": \"df1\",\n  \"rows\": 6752,\n  \"fields\": [\n    {\n      \"column\": \"appln_id\",\n      \"properties\": {\n        \"dtype\": \"number\",\n        \"std\": 5795606,\n        \"min\": 575161108,\n        \"max\": 606406409,\n        \"num_unique_values\": 617,\n        \"samples\": [\n          593028443,\n          597326860,\n          581702140\n        ],\n        \"semantic_type\": \"\",\n        \"description\": \"\"\n      }\n    },\n    {\n      \"column\": \"earliest_filing_year\",\n      \"properties\": {\n        \"dtype\": \"number\",\n        \"std\": 0,\n        \"min\": 2022,\n        \"max\": 2023,\n        \"num_unique_values\": 2,\n        \"samples\": [\n          2023,\n          2022\n        ],\n        \"semantic_type\": \"\",\n        \"description\": \"\"\n      }\n    },\n    {\n      \"column\": \"person_ctry_code\",\n      \"properties\": {\n        \"dtype\": \"category\",\n        \"num_unique_values\": 26,\n        \"samples\": [\n          \"DE\",\n          \"FI\"\n        ],\n        \"semantic_type\": \"\",\n        \"description\": \"\"\n      }\n    },\n    {\n      \"column\": \"cpc_class_symbol\",\n      \"properties\": {\n        \"dtype\": \"category\",\n        \"num_unique_values\": 2464,\n        \"samples\": [\n          \"H02J2300/24\",\n          \"G06F  16/24526\"\n        ],\n        \"semantic_type\": \"\",\n        \"description\": \"\"\n      }\n    },\n    {\n      \"column\": \"nace2_code\",\n      \"properties\": {\n        \"dtype\": \"number\",\n        \"std\": 7.5787440647639555,\n        \"min\": 10.0,\n        \"max\": 62.0,\n        \"num_unique_values\": 47,\n        \"samples\": [\n          26.7,\n          23.0\n        ],\n        \"semantic_type\": \"\",\n        \"description\": \"\"\n      }\n    },\n    {\n      \"column\": \"appln_title\",\n      \"properties\": {\n        \"dtype\": \"category\",\n        \"num_unique_values\": 575,\n        \"samples\": [\n          \"Optimized header information to enable access control\",\n          \"Systems and methods for vehicle reversing detection using machine learning\"\n        ],\n        \"semantic_type\": \"\",\n        \"description\": \"\"\n      }\n    },\n    {\n      \"column\": \"appln_abstract\",\n      \"properties\": {\n        \"dtype\": \"category\",\n        \"num_unique_values\": 588,\n        \"samples\": [\n          \"Various illustrative aspects are directed to a data storage device comprising one or more disks, an actuator arm assembly comprising one or more disk heads and a voice coil motor (VCM), the VCM configured to operate in a PWM mode and a linear mode, and one or more processing devices configured to: seek the VCM towards a target track in the PWM mode; transition the VCM from the PWM mode to the linear mode, wherein the transitioning comprises switching an offset compensation value from a first offset compensation value to a second compensation offset value to compensate for a transition offset induced while transitioning the VCM from the PWM to the linear mode, wherein the first and the second offset compensation values correspond to the PWM and linear modes, respectively, and seek the VCM towards the target track in the linear mode for a linear mode time.\",\n          \"Devices, systems, and methods are provided for encapsulating machine learning in a clean room to generate a goal-based output. A method may include identifying, by a device operating within a clean room, an agreement between multiple parties to share data for use in machine learning to generate a goal-based output; retrieving the data; selecting the machine learning model based on a goal indicated by the agreement; generating, using the data as inputs to the selected machine learning model, a first set of probabilities indicative that a respective user may perform an action; generating, using the selected machine learning model and the first set of probabilities, a second set of probabilities indicative that a respective user may perform the action; generating the goal-based output based on the second set of probabilities; and sending the goal-based output from the clean room to a destination location.\"\n        ],\n        \"semantic_type\": \"\",\n        \"description\": \"\"\n      }\n    }\n  ]\n}"
            }
          },
          "metadata": {},
          "execution_count": 79
        }
      ]
    },
    {
      "cell_type": "code",
      "source": [
        "# # GitHub raw URL\n",
        "# data_url = 'https://raw.githubusercontent.com/deep1003/deep1003/master/patent_industry.csv'\n",
        "\n",
        "# # 데이터 로드\n",
        "# df1 = pd.read_csv(data_url, delimiter=';')  # Try ',' or ';'\n",
        "\n",
        "# 데이터 확인\n",
        "print(df1.head())\n",
        "print(df1.columns)"
      ],
      "metadata": {
        "colab": {
          "base_uri": "https://localhost:8080/"
        },
        "id": "KbbwGK8jUENK",
        "outputId": "e1c43f9f-7f47-44ba-802e-ceae306b0ff2"
      },
      "execution_count": 80,
      "outputs": [
        {
          "output_type": "stream",
          "name": "stdout",
          "text": [
            "    appln_id  earliest_filing_year person_ctry_code cpc_class_symbol  \\\n",
            "0  584648513                  2022               US    G06F  18/2193   \n",
            "1  584648513                  2022               US    G06F  18/2323   \n",
            "2  584648513                  2022               US     G06F  21/552   \n",
            "3  584648513                  2022               US     G06F  21/554   \n",
            "4  584648513                  2022               US      G06N  20/00   \n",
            "\n",
            "   nace2_code                                        appln_title  \\\n",
            "0        26.2  Configuring machine learning model thresholds ...   \n",
            "1        26.2  Configuring machine learning model thresholds ...   \n",
            "2        26.2  Configuring machine learning model thresholds ...   \n",
            "3        26.2  Configuring machine learning model thresholds ...   \n",
            "4        26.2  Configuring machine learning model thresholds ...   \n",
            "\n",
            "                                      appln_abstract  \n",
            "0  Certain aspects of the present disclosure prov...  \n",
            "1  Certain aspects of the present disclosure prov...  \n",
            "2  Certain aspects of the present disclosure prov...  \n",
            "3  Certain aspects of the present disclosure prov...  \n",
            "4  Certain aspects of the present disclosure prov...  \n",
            "Index(['appln_id', 'earliest_filing_year', 'person_ctry_code',\n",
            "       'cpc_class_symbol', 'nace2_code', 'appln_title', 'appln_abstract'],\n",
            "      dtype='object')\n"
          ]
        }
      ]
    },
    {
      "cell_type": "code",
      "source": [
        "df1.shape"
      ],
      "metadata": {
        "colab": {
          "base_uri": "https://localhost:8080/"
        },
        "id": "9i2Ln5F9mWlt",
        "outputId": "c8b2a1e8-e288-4c78-ed2b-131926058fb4"
      },
      "execution_count": 81,
      "outputs": [
        {
          "output_type": "execute_result",
          "data": {
            "text/plain": [
              "(6752, 7)"
            ]
          },
          "metadata": {},
          "execution_count": 81
        }
      ]
    },
    {
      "cell_type": "code",
      "source": [
        "# 'cpc_class_symbol' 컬럼의 첫 4글자를 잘라서 'cpc4' 컬럼 생성\n",
        "df1['cpc4'] = df1['cpc_class_symbol'].str[:4].str.strip()\n",
        "\n",
        "# 결과 확인\n",
        "print(df1)"
      ],
      "metadata": {
        "colab": {
          "base_uri": "https://localhost:8080/"
        },
        "id": "eBgiYzaNVihS",
        "outputId": "2e915564-43d5-49ce-9c4b-e0506160ff67"
      },
      "execution_count": 82,
      "outputs": [
        {
          "output_type": "stream",
          "name": "stdout",
          "text": [
            "       appln_id  earliest_filing_year person_ctry_code cpc_class_symbol  \\\n",
            "0     584648513                  2022               US    G06F  18/2193   \n",
            "1     584648513                  2022               US    G06F  18/2323   \n",
            "2     584648513                  2022               US     G06F  21/552   \n",
            "3     584648513                  2022               US     G06F  21/554   \n",
            "4     584648513                  2022               US      G06N  20/00   \n",
            "...         ...                   ...              ...              ...   \n",
            "6747  606045343                  2023               US      G06T   9/00   \n",
            "6748  606045343                  2023               US   G06T2207/20076   \n",
            "6749  606045540                  2023               CN    G06F   3/0202   \n",
            "6750  606045540                  2023               CN     H01H  13/705   \n",
            "6751  606045540                  2023               CN    H05K   5/0018   \n",
            "\n",
            "      nace2_code                                        appln_title  \\\n",
            "0           26.2  Configuring machine learning model thresholds ...   \n",
            "1           26.2  Configuring machine learning model thresholds ...   \n",
            "2           26.2  Configuring machine learning model thresholds ...   \n",
            "3           26.2  Configuring machine learning model thresholds ...   \n",
            "4           26.2  Configuring machine learning model thresholds ...   \n",
            "...          ...                                                ...   \n",
            "6747        26.2  Augmented diffusion inversion using latent tra...   \n",
            "6748        26.2  Augmented diffusion inversion using latent tra...   \n",
            "6749        26.2  Keypad structure and visual programmable intel...   \n",
            "6750        26.2  Keypad structure and visual programmable intel...   \n",
            "6751        26.2  Keypad structure and visual programmable intel...   \n",
            "\n",
            "                                         appln_abstract  cpc4  \n",
            "0     Certain aspects of the present disclosure prov...  G06F  \n",
            "1     Certain aspects of the present disclosure prov...  G06F  \n",
            "2     Certain aspects of the present disclosure prov...  G06F  \n",
            "3     Certain aspects of the present disclosure prov...  G06F  \n",
            "4     Certain aspects of the present disclosure prov...  G06N  \n",
            "...                                                 ...   ...  \n",
            "6747  Augmented Denoising Diffusion Implicit Models ...  G06T  \n",
            "6748  Augmented Denoising Diffusion Implicit Models ...  G06T  \n",
            "6749  The present disclosure discloses a keypad stru...  G06F  \n",
            "6750  The present disclosure discloses a keypad stru...  H01H  \n",
            "6751  The present disclosure discloses a keypad stru...  H05K  \n",
            "\n",
            "[6752 rows x 8 columns]\n"
          ]
        }
      ]
    },
    {
      "cell_type": "code",
      "source": [
        "df1.shape"
      ],
      "metadata": {
        "colab": {
          "base_uri": "https://localhost:8080/"
        },
        "id": "8mHYTXbDVeuy",
        "outputId": "05023726-673a-4964-f38a-426acc43748d"
      },
      "execution_count": 83,
      "outputs": [
        {
          "output_type": "execute_result",
          "data": {
            "text/plain": [
              "(6752, 8)"
            ]
          },
          "metadata": {},
          "execution_count": 83
        }
      ]
    },
    {
      "cell_type": "markdown",
      "source": [
        "**중복 제거**"
      ],
      "metadata": {
        "id": "ytVD8tnFXava"
      }
    },
    {
      "cell_type": "code",
      "source": [
        "# 중복 제거 기준 컬럼 리스트\n",
        "duplicate_subset = ['appln_id', 'earliest_filing_year', 'person_ctry_code', 'cpc4']\n",
        "\n",
        "# 중복 제거: 첫 번째 발생을 유지하고 나머지는 제거\n",
        "df = df1.drop_duplicates(subset=duplicate_subset, keep='first')\n",
        "\n",
        "# 결과 확인\n",
        "print(\"\\n중복이 제거된 데이터프레임:\")\n",
        "print(df)\n"
      ],
      "metadata": {
        "colab": {
          "base_uri": "https://localhost:8080/"
        },
        "id": "Q0KebhraWsXU",
        "outputId": "08f96f47-042e-4415-af52-97dbe889ac03"
      },
      "execution_count": 84,
      "outputs": [
        {
          "output_type": "stream",
          "name": "stdout",
          "text": [
            "\n",
            "중복이 제거된 데이터프레임:\n",
            "       appln_id  earliest_filing_year person_ctry_code cpc_class_symbol  \\\n",
            "0     584648513                  2022               US    G06F  18/2193   \n",
            "4     584648513                  2022               US      G06N  20/00   \n",
            "5     585982552                  2022               US     B60W  60/001   \n",
            "6     580619052                  2022               CN     A42B   1/245   \n",
            "8     580619052                  2022               CN     H04R   1/028   \n",
            "...         ...                   ...              ...              ...   \n",
            "6699  600721244                  2022               US     G06F   8/311   \n",
            "6716  601629719                  2023               US      H02J   3/32   \n",
            "6721  602560994                  2023               US     H04R  25/507   \n",
            "6745  605586723                  2022               US     G06F  16/906   \n",
            "6746  606045343                  2023               US      G06T   5/70   \n",
            "\n",
            "      nace2_code                                        appln_title  \\\n",
            "0          26.20  Configuring machine learning model thresholds ...   \n",
            "4          26.20  Configuring machine learning model thresholds ...   \n",
            "5          26.51  Vehicle scenario mining for machine learning m...   \n",
            "6          26.30                  Audio intelligent wearable device   \n",
            "8          26.30                  Audio intelligent wearable device   \n",
            "...          ...                                                ...   \n",
            "6699       26.20  Intelligent interceptor for SaaS cloud migrati...   \n",
            "6716       27.12  Systems and methods for optimized loading of b...   \n",
            "6721       26.30  Neural-network based denoising of audio signal...   \n",
            "6745       26.20  Generating synthetic data based on time series...   \n",
            "6746       26.20  Augmented diffusion inversion using latent tra...   \n",
            "\n",
            "                                         appln_abstract  cpc4  \n",
            "0     Certain aspects of the present disclosure prov...  G06F  \n",
            "4     Certain aspects of the present disclosure prov...  G06N  \n",
            "5     Provided are methods for vehicle scenario mini...  B60W  \n",
            "6     The present disclosure discloses an audio inte...  A42B  \n",
            "8     The present disclosure discloses an audio inte...  H04R  \n",
            "...                                                 ...   ...  \n",
            "6699  Aspects of the subject disclosure may include,...  G06F  \n",
            "6716  The present disclosure provides systems and me...  H02J  \n",
            "6721  A hearing aid includes a non-programmable user...  H04R  \n",
            "6745  Aspects described herein may relate to methods...  G06F  \n",
            "6746  Augmented Denoising Diffusion Implicit Models ...  G06T  \n",
            "\n",
            "[1311 rows x 8 columns]\n"
          ]
        }
      ]
    },
    {
      "cell_type": "code",
      "source": [
        "sns.countplot(x='earliest_filing_year', data=df)"
      ],
      "metadata": {
        "colab": {
          "base_uri": "https://localhost:8080/",
          "height": 477
        },
        "id": "i7TKYkvEXj_I",
        "outputId": "0e4f5847-352f-406f-f054-a78a5418bcc3"
      },
      "execution_count": 85,
      "outputs": [
        {
          "output_type": "execute_result",
          "data": {
            "text/plain": [
              "<Axes: xlabel='earliest_filing_year', ylabel='count'>"
            ]
          },
          "metadata": {},
          "execution_count": 85
        },
        {
          "output_type": "display_data",
          "data": {
            "text/plain": [
              "<Figure size 640x480 with 1 Axes>"
            ],
            "image/png": "[encoded data removed]"
          },
          "metadata": {}
        }
      ]
    },
    {
      "cell_type": "code",
      "source": [
        "#sns coutplot for country\n",
        "sns.countplot(x='person_ctry_code', data=df)"
      ],
      "metadata": {
        "colab": {
          "base_uri": "https://localhost:8080/",
          "height": 477
        },
        "id": "AT1g7IP8kZml",
        "outputId": "85dcff46-4f6b-4461-f598-30e034d5e9b8"
      },
      "execution_count": 86,
      "outputs": [
        {
          "output_type": "execute_result",
          "data": {
            "text/plain": [
              "<Axes: xlabel='person_ctry_code', ylabel='count'>"
            ]
          },
          "metadata": {},
          "execution_count": 86
        },
        {
          "output_type": "display_data",
          "data": {
            "text/plain": [
              "<Figure size 640x480 with 1 Axes>"
            ],
            "image/png": "[encoded data removed]"
          },
          "metadata": {}
        }
      ]
    },
    {
      "cell_type": "code",
      "source": [
        "#sns countplog for cpc_class_symbol\n",
        "sns.countplot(x='cpc_class_symbol', data=df)"
      ],
      "metadata": {
        "colab": {
          "base_uri": "https://localhost:8080/",
          "height": 477
        },
        "id": "8-q09CAPkp-K",
        "outputId": "31e1e76a-f8de-424f-e86b-e9960bffc47b"
      },
      "execution_count": 87,
      "outputs": [
        {
          "output_type": "execute_result",
          "data": {
            "text/plain": [
              "<Axes: xlabel='cpc_class_symbol', ylabel='count'>"
            ]
          },
          "metadata": {},
          "execution_count": 87
        },
        {
          "output_type": "display_data",
          "data": {
            "text/plain": [
              "<Figure size 640x480 with 1 Axes>"
            ],
            "image/png": "[encoded data removed]"
          },
          "metadata": {}
        }
      ]
    },
    {
      "cell_type": "code",
      "source": [
        "#sns countplog for cpc4\n",
        "sns.countplot(x='cpc4', data=df)"
      ],
      "metadata": {
        "colab": {
          "base_uri": "https://localhost:8080/",
          "height": 468
        },
        "id": "0Rv3JT3qYEmZ",
        "outputId": "08826a89-b77e-4517-aa09-da74888dcb38"
      },
      "execution_count": 52,
      "outputs": [
        {
          "output_type": "execute_result",
          "data": {
            "text/plain": [
              "<Axes: xlabel='cpc4', ylabel='count'>"
            ]
          },
          "metadata": {},
          "execution_count": 52
        },
        {
          "output_type": "display_data",
          "data": {
            "text/plain": [
              "<Figure size 640x480 with 1 Axes>"
            ],
            "image/png": "[encoded data removed]"
          },
          "metadata": {}
        }
      ]
    },
    {
      "cell_type": "code",
      "source": [
        "#sns countplot for nace2_code\n",
        "sns.countplot(x='nace2_code', data=df)"
      ],
      "metadata": {
        "colab": {
          "base_uri": "https://localhost:8080/",
          "height": 469
        },
        "id": "XpQW--G_lOXe",
        "outputId": "89bf92ef-68ca-4e82-d688-8dabf27f0c00"
      },
      "execution_count": 53,
      "outputs": [
        {
          "output_type": "execute_result",
          "data": {
            "text/plain": [
              "<Axes: xlabel='nace2_code', ylabel='count'>"
            ]
          },
          "metadata": {},
          "execution_count": 53
        },
        {
          "output_type": "display_data",
          "data": {
            "text/plain": [
              "<Figure size 640x480 with 1 Axes>"
            ],
            "image/png": "[encoded data removed]"
          },
          "metadata": {}
        }
      ]
    },
    {
      "cell_type": "code",
      "source": [
        "# 필요한 컬럼 선택\n",
        "df = df[['appln_id', 'earliest_filing_year', 'person_ctry_code',\n",
        "         'cpc_class_symbol', 'cpc4', 'nace2_code', 'appln_title', 'appln_abstract']]\n",
        "\n",
        "# 결측치 확인\n",
        "print(df.isnull().sum())\n"
      ],
      "metadata": {
        "colab": {
          "base_uri": "https://localhost:8080/"
        },
        "id": "tw2guz8rllCU",
        "outputId": "fa8ac752-88fb-4cda-ced1-4b3ec3dcd3d5"
      },
      "execution_count": 54,
      "outputs": [
        {
          "output_type": "stream",
          "name": "stdout",
          "text": [
            "appln_id                0\n",
            "earliest_filing_year    0\n",
            "person_ctry_code        0\n",
            "cpc_class_symbol        0\n",
            "cpc4                    0\n",
            "nace2_code              0\n",
            "appln_title             0\n",
            "appln_abstract          0\n",
            "dtype: int64\n"
          ]
        }
      ]
    },
    {
      "cell_type": "code",
      "source": [
        "# 결측치 처리: title과 abstract는 빈 문자열로, cpc4은 제거\n",
        "df['appln_title'] = df['appln_title'].fillna('')\n",
        "df['appln_abstract'] = df['appln_abstract'].fillna('')\n",
        "df = df.dropna(subset=['cpc4'])\n"
      ],
      "metadata": {
        "id": "C0reYWValuez"
      },
      "execution_count": 55,
      "outputs": []
    },
    {
      "cell_type": "code",
      "source": [
        "df.shape"
      ],
      "metadata": {
        "colab": {
          "base_uri": "https://localhost:8080/"
        },
        "id": "IfWOM4C6mlFj",
        "outputId": "9f33b79e-5bd0-464d-8eee-640f6bd3dca6"
      },
      "execution_count": 56,
      "outputs": [
        {
          "output_type": "execute_result",
          "data": {
            "text/plain": [
              "(1311, 8)"
            ]
          },
          "metadata": {},
          "execution_count": 56
        }
      ]
    },
    {
      "cell_type": "code",
      "source": [
        "# cpc_class_symbol의 클래스 수 확인\n",
        "print(df['cpc4'].nunique())\n"
      ],
      "metadata": {
        "colab": {
          "base_uri": "https://localhost:8080/"
        },
        "id": "tPsdpGJAlz4L",
        "outputId": "fce67454-3b90-4d87-930a-3cb3d7a1f371"
      },
      "execution_count": 57,
      "outputs": [
        {
          "output_type": "stream",
          "name": "stdout",
          "text": [
            "158\n"
          ]
        }
      ]
    },
    {
      "cell_type": "code",
      "source": [
        "# cpc_class_symbol의 클래스 수가 많을 경우, 상위 N개 클래스로 제한하는 것이 모델 학습에 유리할 수 있음\n",
        "# 상위 N개의 클래스만 선택 (예: 653개 중에서 상위 20개만 선택)\n",
        "top_n = 20\n",
        "top_classes = df['cpc4'].value_counts().nlargest(top_n).index\n",
        "df = df[df['cpc4'].isin(top_classes)]\n"
      ],
      "metadata": {
        "id": "W-P8SXMWl601"
      },
      "execution_count": 58,
      "outputs": []
    },
    {
      "cell_type": "code",
      "source": [
        "df.shape"
      ],
      "metadata": {
        "colab": {
          "base_uri": "https://localhost:8080/"
        },
        "id": "9QO03PVgmILi",
        "outputId": "21e88613-a108-4315-b553-81b2339c65d0"
      },
      "execution_count": 59,
      "outputs": [
        {
          "output_type": "execute_result",
          "data": {
            "text/plain": [
              "(989, 8)"
            ]
          },
          "metadata": {},
          "execution_count": 59
        }
      ]
    },
    {
      "cell_type": "code",
      "source": [
        "# 레이블 인코딩을 위한 라이브러리 불러오기\n",
        "from sklearn.preprocessing import LabelEncoder\n",
        "import joblib\n",
        "\n",
        "# 레이블 인코딩 객체 생성\n",
        "le = LabelEncoder()\n",
        "\n",
        "# 'cpc4' 열을 레이블 인코딩하여 'cpc_class_encoded' 열에 저장\n",
        "df['cpc_class_encoded'] = le.fit_transform(df['cpc4'])\n",
        "\n",
        "# 인코더 객체를 'label_encoder.joblib' 파일로 저장\n",
        "joblib.dump(le, 'label_encoder.joblib')\n",
        "\n",
        "# 'appln_title', 'appln_abstract', 'cpc4', 'cpc_class_encoded' 열을 출력하여 결과 확인\n",
        "print(df[['appln_title', 'appln_abstract', 'cpc4', 'cpc_class_encoded']].head())\n"
      ],
      "metadata": {
        "colab": {
          "base_uri": "https://localhost:8080/"
        },
        "id": "GzwqiZFklZBq",
        "outputId": "13911fb8-0bba-449b-a505-6a4b14e0fa57"
      },
      "execution_count": 60,
      "outputs": [
        {
          "output_type": "stream",
          "name": "stdout",
          "text": [
            "                                          appln_title  \\\n",
            "0   Configuring machine learning model thresholds ...   \n",
            "4   Configuring machine learning model thresholds ...   \n",
            "5   Vehicle scenario mining for machine learning m...   \n",
            "8                   Audio intelligent wearable device   \n",
            "10  Vehicle scenario mining for machine learning m...   \n",
            "\n",
            "                                       appln_abstract  cpc4  cpc_class_encoded  \n",
            "0   Certain aspects of the present disclosure prov...  G06F                  3  \n",
            "4   Certain aspects of the present disclosure prov...  G06N                  4  \n",
            "5   Provided are methods for vehicle scenario mini...  B60W                  1  \n",
            "8   The present disclosure discloses an audio inte...  H04R                 15  \n",
            "10  Provided are methods for vehicle scenario mini...  G05B                  2  \n"
          ]
        }
      ]
    },
    {
      "cell_type": "code",
      "source": [
        "df.shape"
      ],
      "metadata": {
        "colab": {
          "base_uri": "https://localhost:8080/"
        },
        "id": "r2AwFVVhnOUl",
        "outputId": "17946113-c29c-4b09-efe8-ae9a3ff83582"
      },
      "execution_count": 61,
      "outputs": [
        {
          "output_type": "execute_result",
          "data": {
            "text/plain": [
              "(989, 9)"
            ]
          },
          "metadata": {},
          "execution_count": 61
        }
      ]
    },
    {
      "cell_type": "code",
      "source": [
        "# 데이터프레임 변수들의 데이터 유형 확인\n",
        "print(df.dtypes)\n"
      ],
      "metadata": {
        "colab": {
          "base_uri": "https://localhost:8080/"
        },
        "id": "f8161TTOej8o",
        "outputId": "4438c8cd-e9b3-43e0-c1a8-2aa184ab82ad"
      },
      "execution_count": 62,
      "outputs": [
        {
          "output_type": "stream",
          "name": "stdout",
          "text": [
            "appln_id                  int64\n",
            "earliest_filing_year      int64\n",
            "person_ctry_code         object\n",
            "cpc_class_symbol         object\n",
            "cpc4                     object\n",
            "nace2_code              float64\n",
            "appln_title              object\n",
            "appln_abstract           object\n",
            "cpc_class_encoded         int64\n",
            "dtype: object\n"
          ]
        }
      ]
    },
    {
      "cell_type": "markdown",
      "source": [
        "##**5. 데이터셋 클래스 정의**\n"
      ],
      "metadata": {
        "id": "gNQdCMChn40K"
      }
    },
    {
      "cell_type": "markdown",
      "source": [
        "**PatentBERT는 BERT 모델을 기반으로 하므로, appln_title과 appln_abstract를 결합하여 입력으로 사용. claims가 없으므로 생략**\n"
      ],
      "metadata": {
        "id": "wF4TOkO3n_ch"
      }
    },
    {
      "cell_type": "code",
      "source": [
        "import torch\n",
        "from transformers import BertTokenizer\n",
        "\n",
        "from torch.utils.data import Dataset, DataLoader\n",
        "\n",
        "# 특허 데이터셋 정의\n",
        "class PatentDataset(Dataset):\n",
        "    # 데이터셋 초기화 함수\n",
        "    def __init__(self, titles, abstracts, labels, tokenizer, max_length):\n",
        "        self.titles = titles  # 특허 제목 리스트\n",
        "        self.abstracts = abstracts  # 특허 초록 리스트\n",
        "        self.labels = labels  # 레이블 리스트\n",
        "        self.tokenizer = tokenizer  # 토크나이저 (BERT 등)\n",
        "        self.max_length = max_length  # 최대 토큰 길이 설정\n",
        "\n",
        "    # 데이터셋 크기 반환\n",
        "    def __len__(self):\n",
        "        return len(self.titles)\n",
        "\n",
        "    # 특정 인덱스에 해당하는 데이터 반환\n",
        "    def __getitem__(self, idx):\n",
        "        title = str(self.titles[idx])  # 특허 제목을 문자열로 변환\n",
        "        abstract = str(self.abstracts[idx])  # 특허 초록을 문자열로 변환\n",
        "        label = self.labels[idx]  # 해당 데이터의 레이블\n",
        "\n",
        "        # 제목과 초록을 하나의 텍스트로 결합\n",
        "        text = title + \" \" + abstract\n",
        "\n",
        "        # 토크나이저로 텍스트를 인코딩\n",
        "        encoding = self.tokenizer.encode_plus(\n",
        "            text,  # 입력 텍스트\n",
        "            add_special_tokens=True,  # 특수 토큰 추가 ([CLS], [SEP] 등)\n",
        "            max_length=self.max_length,  # 최대 길이 설정\n",
        "            truncation=True,  # 초과된 길이는 자르기\n",
        "            padding='max_length',  # 최대 길이에 맞춰 패딩\n",
        "            return_attention_mask=True,  # attention mask 반환\n",
        "            return_tensors='pt',  # PyTorch 텐서로 반환\n",
        "        )\n",
        "\n",
        "        # 인코딩된 데이터와 레이블 반환\n",
        "        return {\n",
        "            'input_ids': encoding['input_ids'].flatten(),  # 입력 IDs\n",
        "            'attention_mask': encoding['attention_mask'].flatten(),  # attention mask\n",
        "            'labels': torch.tensor(label, dtype=torch.long)  # 레이블 (정수형)\n",
        "        }\n"
      ],
      "metadata": {
        "id": "ravdiNO-nopC"
      },
      "execution_count": 63,
      "outputs": []
    },
    {
      "cell_type": "markdown",
      "source": [
        "##**6. 모델 초기화 및 학습**\n"
      ],
      "metadata": {
        "id": "BBWHV8c4pKWC"
      }
    },
    {
      "cell_type": "markdown",
      "source": [
        "**6.1 데이터 분할**\n"
      ],
      "metadata": {
        "id": "2lKgf2P6pO9j"
      }
    },
    {
      "cell_type": "code",
      "source": [
        "from sklearn.model_selection import train_test_split\n",
        "\n",
        "# 특징(feature) 변수와 타겟(target) 변수 정의\n",
        "# X: 특허 제목과 초록을 포함하는 입력 데이터 (feature)\n",
        "# y: CPC 분류를 나타내는 인코딩된 값 (target)\n",
        "X = df[['appln_title', 'appln_abstract']]  # 특허 제목과 초록을 feature 변수로 선택\n",
        "y = df['cpc_class_encoded']  # CPC 분류 코드 인코딩을 target 변수로 설정\n",
        "\n",
        "# 훈련 세트와 테스트 세트로 데이터를 분할\n",
        "# test_size=0.2: 테스트 세트는 전체 데이터의 20%로 설정\n",
        "# random_state=42: 무작위 분할의 일관성을 위해 시드 값 고정\n",
        "# stratify=y: 타겟 변수를 기준으로 훈련/테스트 세트에 균등한 비율로 분포시키기 위함 (층화 추출)\n",
        "X_train, X_test, y_train, y_test = train_test_split(\n",
        "    X, y, test_size=0.2, random_state=42, stratify=y\n",
        ")\n",
        "\n",
        "# 훈련 데이터와 테스트 데이터의 크기 출력\n",
        "print(f'Train size: {X_train.shape[0]}')  # 훈련 세트의 샘플 수 출력\n",
        "print(f'Test size: {X_test.shape[0]}')  # 테스트 세트의 샘플 수 출력\n"
      ],
      "metadata": {
        "colab": {
          "base_uri": "https://localhost:8080/"
        },
        "id": "cH_mSDEroMvG",
        "outputId": "f60749a8-32d1-46f1-f341-9491e5b7a8ee"
      },
      "execution_count": 64,
      "outputs": [
        {
          "output_type": "stream",
          "name": "stdout",
          "text": [
            "Train size: 791\n",
            "Test size: 198\n"
          ]
        }
      ]
    },
    {
      "cell_type": "markdown",
      "source": [
        "**6.2 토크나이저 및 데이터로드 설정**\n"
      ],
      "metadata": {
        "id": "yTmPRPRwqXhW"
      }
    },
    {
      "cell_type": "code",
      "source": [
        "# BERT 토크나이저 초기화\n",
        "# 'bert-base-uncased' 사전 학습된 모델의 토크나이저를 불러옴\n",
        "tokenizer = BertTokenizer.from_pretrained('bert-base-uncased')\n",
        "\n",
        "# 최대 시퀀스 길이 설정\n",
        "MAX_LENGTH = 512  # 모델이 처리할 수 있는 최대 토큰 길이 (GPU 메모리에 따라 조정 필요)\n",
        "\n",
        "# 훈련 데이터셋 생성\n",
        "train_dataset = PatentDataset(\n",
        "    titles=X_train['appln_title'].to_numpy(),  # 훈련 세트의 제목을 NumPy 배열로 변환\n",
        "    abstracts=X_train['appln_abstract'].to_numpy(),  # 훈련 세트의 초록을 NumPy 배열로 변환\n",
        "    labels=y_train.to_numpy(),  # 훈련 세트의 레이블을 NumPy 배열로 변환\n",
        "    tokenizer=tokenizer,  # BERT 토크나이저 사용\n",
        "    max_length=MAX_LENGTH  # 최대 시퀀스 길이 설정\n",
        ")\n",
        "\n",
        "# 테스트 데이터셋 생성\n",
        "test_dataset = PatentDataset(\n",
        "    titles=X_test['appln_title'].to_numpy(),  # 테스트 세트의 제목을 NumPy 배열로 변환\n",
        "    abstracts=X_test['appln_abstract'].to_numpy(),  # 테스트 세트의 초록을 NumPy 배열로 변환\n",
        "    labels=y_test.to_numpy(),  # 테스트 세트의 레이블을 NumPy 배열로 변환\n",
        "    tokenizer=tokenizer,  # BERT 토크나이저 사용\n",
        "    max_length=MAX_LENGTH  # 최대 시퀀스 길이 설정\n",
        ")\n",
        "\n",
        "# 배치 사이즈 설정\n",
        "BATCH_SIZE = 8  # 각 배치에서 처리할 샘플 수 (GPU 메모리 한도에 맞춰 조정 가능)\n",
        "\n",
        "# 훈련 데이터로더 생성\n",
        "# 배치 사이즈만큼 데이터를 묶어서 모델에 전달하며, 훈련 데이터는 매번 셔플링함\n",
        "train_loader = DataLoader(train_dataset, batch_size=BATCH_SIZE, shuffle=True)\n",
        "\n",
        "# 테스트 데이터로더 생성\n",
        "# 테스트 데이터는 셔플링하지 않고 그대로 배치 사이즈만큼 묶어서 모델에 전달\n",
        "test_loader = DataLoader(test_dataset, batch_size=BATCH_SIZE)\n"
      ],
      "metadata": {
        "colab": {
          "base_uri": "https://localhost:8080/",
          "height": 314,
          "referenced_widgets": [
            "760e1f15f9d847148cf71b16430f0ffb",
            "20c6d5cea67e41109a68cf3c23070bcf",
            "becf0bfa61644a3a9b1c4289a9687e7f",
            "c722156950214888bfbf28470d04dd47",
            "112ecabad27145329344a22cdae3aa22",
            "889b2ac277124f988de9eb6f838f057a",
            "527db8ab545546e18db93be1af6e25fb",
            "ce15c861ddf24d5cafe455ccac84cf55",
            "fdfb1698272943c29d282e0dd9788876",
            "5ce8329da41d460cbcdf3586d77561cf",
            "112f044a4c4a44f1b912bc34b089d961",
            "73b8edce72944687a2376cc448553805",
            "9242fc242ae54a9783244b4c8b0eb62d",
            "e8526ad2e5654eaebf6c2a3af84a6b4e",
            "b60930ad51b2490f8fc24a9a9f95f9a3",
            "55b203a2347348d3aeff036745345087",
            "e7c45ca8aa094a7ea356bdc6977c4e38",
            "6b47f62bb6f44a619f994798c0596940",
            "09e0e15d66dc48ce9c4e1f6bfda61d50",
            "25912489492c4df19faff9b75db13d1a",
            "ad7b850c182f432e8e5e88747feafe5b",
            "8a04a5eaa95f4809a1674962e85275f5",
            "de1cb81d03c44efe8d4db4dd92bee765",
            "eeed07d0b340405d80df6db30eaee7e3",
            "91637f601084498e9ca64c319e15d5eb",
            "0c7dc4b79c0b479384df81a9d031c68e",
            "54ac0e90af7d43b8937c1c3242dfcdbe",
            "835d23d0b63c4cce807ff8e979f33a68",
            "31b351523fe549249f4735c9ea849e18",
            "3b7d2a10c30749fc9d8df47eb77ad385",
            "636277f860314d48b3ba4f06648c4113",
            "b929dba6bd464c11951c47ada173a573",
            "370365f7a2fe45608fb30626b4d5ba07",
            "f9ae7fa8e529454c84d6f844ef017105",
            "70830df1e91344b38edc06497f372192",
            "2127f8f9d31b4ce8b4eb4ae02bbc36d9",
            "d3ed95034db44d3883c288480c6ddba8",
            "183dfe52afbd44d7a686cccf1ac8176a",
            "562f08ee1f404ec085afdc91176f5ed8",
            "66dc877bccec40908d3ba76a49033b92",
            "ab45473e70604cd8b52f77ac82b4e263",
            "f1334968d6394d42b3a4d67b5bc34659",
            "85cdb99e819c460ba18a82c3c7b08226",
            "5834bc52d5dd4c75bdd0fd58a4423d6e"
          ]
        },
        "id": "bPMPTVNfqEL-",
        "outputId": "e58620cc-a35c-4a54-9ca2-b255da987399"
      },
      "execution_count": 65,
      "outputs": [
        {
          "output_type": "stream",
          "name": "stderr",
          "text": [
            "/usr/local/lib/python3.10/dist-packages/huggingface_hub/utils/_token.py:89: UserWarning: \n",
            "The secret `HF_TOKEN` does not exist in your Colab secrets.\n",
            "To authenticate with the Hugging Face Hub, create a token in your settings tab (https://huggingface.co/settings/tokens), set it as secret in your Google Colab and restart your session.\n",
            "You will be able to reuse this secret in all of your notebooks.\n",
            "Please note that authentication is recommended but still optional to access public models or datasets.\n",
            "  warnings.warn(\n"
          ]
        },
        {
          "output_type": "display_data",
          "data": {
            "text/plain": [
              "tokenizer_config.json:   0%|          | 0.00/48.0 [00:00<?, ?B/s]"
            ],
            "application/vnd.jupyter.widget-view+json": {
              "version_major": 2,
              "version_minor": 0,
              "model_id": "760e1f15f9d847148cf71b16430f0ffb"
            }
          },
          "metadata": {}
        },
        {
          "output_type": "display_data",
          "data": {
            "text/plain": [
              "vocab.txt:   0%|          | 0.00/232k [00:00<?, ?B/s]"
            ],
            "application/vnd.jupyter.widget-view+json": {
              "version_major": 2,
              "version_minor": 0,
              "model_id": "73b8edce72944687a2376cc448553805"
            }
          },
          "metadata": {}
        },
        {
          "output_type": "display_data",
          "data": {
            "text/plain": [
              "tokenizer.json:   0%|          | 0.00/466k [00:00<?, ?B/s]"
            ],
            "application/vnd.jupyter.widget-view+json": {
              "version_major": 2,
              "version_minor": 0,
              "model_id": "de1cb81d03c44efe8d4db4dd92bee765"
            }
          },
          "metadata": {}
        },
        {
          "output_type": "display_data",
          "data": {
            "text/plain": [
              "config.json:   0%|          | 0.00/570 [00:00<?, ?B/s]"
            ],
            "application/vnd.jupyter.widget-view+json": {
              "version_major": 2,
              "version_minor": 0,
              "model_id": "f9ae7fa8e529454c84d6f844ef017105"
            }
          },
          "metadata": {}
        },
        {
          "output_type": "stream",
          "name": "stderr",
          "text": [
            "/usr/local/lib/python3.10/dist-packages/transformers/tokenization_utils_base.py:1601: FutureWarning: `clean_up_tokenization_spaces` was not set. It will be set to `True` by default. This behavior will be depracted in transformers v4.45, and will be then set to `False` by default. For more details check this issue: https://github.com/huggingface/transformers/issues/31884\n",
            "  warnings.warn(\n"
          ]
        }
      ]
    },
    {
      "cell_type": "markdown",
      "source": [
        "**6.3 모델 초기화**\n"
      ],
      "metadata": {
        "id": "RGZRw0OAq2PS"
      }
    },
    {
      "cell_type": "code",
      "source": [
        "from transformers import BertForSequenceClassification, AdamW, get_linear_schedule_with_warmup\n",
        "\n",
        "# 클래스 수 설정 (레이블 인코더로 인코딩된 클래스 수)\n",
        "num_labels = len(le.classes_)  # 레이블 인코더에서 인코딩된 고유 클래스 수를 가져옴\n",
        "\n",
        "# BERT 모델 초기화 (시퀀스 분류용)\n",
        "# 'bert-base-uncased' 사전 학습된 모델을 불러와서 시퀀스 분류 작업에 맞게 설정\n",
        "# num_labels: 분류할 클래스 수\n",
        "# output_attentions=False: 어텐션 가중치를 출력하지 않음\n",
        "# output_hidden_states=False: 히든 스테이트를 출력하지 않음\n",
        "model = BertForSequenceClassification.from_pretrained(\n",
        "    'bert-base-uncased',\n",
        "    num_labels=num_labels,\n",
        "    output_attentions=False,\n",
        "    output_hidden_states=False\n",
        ")\n",
        "\n",
        "# GPU 사용 설정\n",
        "# torch.cuda.is_available(): GPU가 사용 가능한지 확인\n",
        "# 사용 가능하면 'cuda' 장치를, 그렇지 않으면 'cpu' 장치를 사용\n",
        "device = torch.device('cuda') if torch.cuda.is_available() else torch.device('cpu')\n",
        "\n",
        "# 모델을 선택된 장치로 이동 (GPU 또는 CPU)\n",
        "model.to(device)\n",
        "\n",
        "# 현재 사용 중인 장치 출력 (GPU 또는 CPU)\n",
        "print(f'Using device: {device}')\n"
      ],
      "metadata": {
        "colab": {
          "base_uri": "https://localhost:8080/",
          "height": 125,
          "referenced_widgets": [
            "3e201e56a2f34f17b051edf835cb73a5",
            "af437d8a3b1e4b589af2149b8408761a",
            "ec19ae6ef49f40ce810c1cbd17960046",
            "7e096142fcb34003a1dc0f2775a49735",
            "118743f41a794fda8d06fde6e4d17073",
            "bfbb080350ad4058a16f859d374f0cae",
            "b28a88a4e2e04a6692cb3b602b07ece5",
            "e841bbab2bf3437fa7ae46e4caac4452",
            "697094fe77a84c549a9baeb5d29b6c6d",
            "b92f4625eaeb437a92f13a8e1d60424e",
            "42df59501d2f4452b5b8a4962af1299e"
          ]
        },
        "id": "cuGRSLgKqyRZ",
        "outputId": "0afebed6-2750-417d-ff19-5f617d1a0fab"
      },
      "execution_count": 66,
      "outputs": [
        {
          "output_type": "display_data",
          "data": {
            "text/plain": [
              "model.safetensors:   0%|          | 0.00/440M [00:00<?, ?B/s]"
            ],
            "application/vnd.jupyter.widget-view+json": {
              "version_major": 2,
              "version_minor": 0,
              "model_id": "3e201e56a2f34f17b051edf835cb73a5"
            }
          },
          "metadata": {}
        },
        {
          "output_type": "stream",
          "name": "stderr",
          "text": [
            "Some weights of BertForSequenceClassification were not initialized from the model checkpoint at bert-base-uncased and are newly initialized: ['classifier.bias', 'classifier.weight']\n",
            "You should probably TRAIN this model on a down-stream task to be able to use it for predictions and inference.\n"
          ]
        },
        {
          "output_type": "stream",
          "name": "stdout",
          "text": [
            "Using device: cuda\n"
          ]
        }
      ]
    },
    {
      "cell_type": "markdown",
      "source": [
        "**6.4 옵티마이저 및 스케줄러 설정**\n"
      ],
      "metadata": {
        "id": "MTbMm-uArMII"
      }
    },
    {
      "cell_type": "code",
      "source": [
        "# 옵티마이저 설정 (AdamW 사용)\n",
        "# model.parameters(): 모델의 학습 가능한 파라미터들을 옵티마이저에 전달\n",
        "# lr=2e-5: 학습률(Learning rate)을 2e-5로 설정 (BERT 모델에 적합한 작은 학습률)\n",
        "# correct_bias=False: Adam 옵티마이저의 편향 수정 여부 (일반적으로 False로 설정)\n",
        "optimizer = AdamW(model.parameters(), lr=2e-5, correct_bias=False)\n",
        "\n",
        "# 학습할 에포크(Epoch) 수 설정\n",
        "# EPOCHS: 모델이 전체 훈련 데이터를 학습하는 횟수 (3번 반복)\n",
        "EPOCHS = 3\n",
        "\n",
        "# 전체 학습 스텝 수 계산\n",
        "# len(train_loader): 훈련 데이터의 배치 수\n",
        "# total_steps: 훈련 세트에서 각 에포크 당 스텝 수 * 에포크 수\n",
        "total_steps = len(train_loader) * EPOCHS\n",
        "\n",
        "# 학습률 스케줄러 설정 (선형 스케줄링 사용)\n",
        "# get_linear_schedule_with_warmup: 학습 초기에는 학습률을 천천히 증가시키고 이후 선형적으로 감소\n",
        "# optimizer: 학습할 옵티마이저\n",
        "# num_warmup_steps=0: 워밍업 단계(학습률을 천천히 증가시키는 단계)의 스텝 수 (0이면 워밍업 없이 바로 학습 시작)\n",
        "# num_training_steps: 전체 학습 스텝 수 (total_steps 값)\n",
        "scheduler = get_linear_schedule_with_warmup(\n",
        "    optimizer,\n",
        "    num_warmup_steps=0,\n",
        "    num_training_steps=total_steps\n",
        ")\n"
      ],
      "metadata": {
        "colab": {
          "base_uri": "https://localhost:8080/"
        },
        "id": "QuQCEkE9rG1K",
        "outputId": "b0442cdc-76ff-474c-a6c1-99213b09030f"
      },
      "execution_count": 67,
      "outputs": [
        {
          "output_type": "stream",
          "name": "stderr",
          "text": [
            "/usr/local/lib/python3.10/dist-packages/transformers/optimization.py:591: FutureWarning: This implementation of AdamW is deprecated and will be removed in a future version. Use the PyTorch implementation torch.optim.AdamW instead, or set `no_deprecation_warning=True` to disable this warning\n",
            "  warnings.warn(\n"
          ]
        }
      ]
    },
    {
      "cell_type": "markdown",
      "source": [
        "**6.5 학습 및 평가 함수 정의**\n"
      ],
      "metadata": {
        "id": "mLW_setercyr"
      }
    },
    {
      "cell_type": "code",
      "source": [
        "from sklearn.metrics import classification_report\n",
        "\n",
        "# 에포크 동안 모델 학습 함수\n",
        "def train_epoch(model, data_loader, optimizer, device, scheduler):\n",
        "    model.train()  # 모델을 학습 모드로 설정 (dropout과 batchnorm이 활성화됨)\n",
        "    total_loss = 0  # 전체 손실값 초기화\n",
        "\n",
        "    # 데이터로더에서 배치를 하나씩 가져와 학습\n",
        "    for batch in data_loader:\n",
        "        optimizer.zero_grad()  # 옵티마이저의 그래디언트 초기화\n",
        "\n",
        "        # 배치에서 입력 데이터와 attention mask, 레이블을 가져와서 장치(GPU/CPU)로 이동\n",
        "        input_ids = batch['input_ids'].to(device)\n",
        "        attention_mask = batch['attention_mask'].to(device)\n",
        "        labels = batch['labels'].to(device)\n",
        "\n",
        "        # 모델에 입력 데이터를 전달하여 출력값 및 손실 계산\n",
        "        outputs = model(\n",
        "            input_ids=input_ids,\n",
        "            attention_mask=attention_mask,\n",
        "            labels=labels\n",
        "        )\n",
        "\n",
        "        loss = outputs.loss  # 모델의 손실값 가져오기\n",
        "        total_loss += loss.item()  # 배치 손실을 누적\n",
        "\n",
        "        loss.backward()  # 손실값을 기준으로 역전파 수행\n",
        "        optimizer.step()  # 옵티마이저가 파라미터 업데이트\n",
        "        scheduler.step()  # 스케줄러로 학습률 조정\n",
        "\n",
        "    avg_loss = total_loss / len(data_loader)  # 평균 손실 계산\n",
        "    return avg_loss  # 에포크 동안의 평균 손실값 반환\n",
        "\n",
        "# 모델 평가 함수\n",
        "def eval_model(model, data_loader, device):\n",
        "    model.eval()  # 모델을 평가 모드로 설정 (dropout과 batchnorm 비활성화)\n",
        "    predictions = []  # 예측값 저장 리스트\n",
        "    true_labels = []  # 실제 레이블 저장 리스트\n",
        "\n",
        "    # 평가 모드에서는 그래디언트 계산 비활성화\n",
        "    with torch.no_grad():\n",
        "        for batch in data_loader:\n",
        "            # 배치에서 입력 데이터와 attention mask, 레이블을 가져와 장치(GPU/CPU)로 이동\n",
        "            input_ids = batch['input_ids'].to(device)\n",
        "            attention_mask = batch['attention_mask'].to(device)\n",
        "            labels = batch['labels'].to(device)\n",
        "\n",
        "            # 모델에 입력 데이터를 전달하여 로짓(logits) 출력\n",
        "            outputs = model(\n",
        "                input_ids=input_ids,\n",
        "                attention_mask=attention_mask\n",
        "            )\n",
        "\n",
        "            logits = outputs.logits  # 모델의 로짓값 가져오기\n",
        "            preds = torch.argmax(logits, dim=1).flatten()  # 로짓에서 가장 높은 확률을 가진 클래스 예측\n",
        "\n",
        "            # 예측값과 실제값을 CPU로 이동하여 리스트에 저장\n",
        "            predictions.extend(preds.cpu().numpy())\n",
        "            true_labels.extend(labels.cpu().numpy())\n",
        "\n",
        "    return predictions, true_labels  # 예측값과 실제값 반환\n"
      ],
      "metadata": {
        "id": "yDOolUbKrZ_L"
      },
      "execution_count": 68,
      "outputs": []
    },
    {
      "cell_type": "markdown",
      "source": [
        "**6.6 모델 학습**\n"
      ],
      "metadata": {
        "id": "liAuZFMaryup"
      }
    },
    {
      "cell_type": "code",
      "source": [
        "# 학습 및 평가 반복\n",
        "for epoch in range(EPOCHS):  # 설정한 에포크 수만큼 반복\n",
        "    print(f'Epoch {epoch + 1}/{EPOCHS}')  # 현재 에포크 출력\n",
        "    print('-' * 10)  # 구분선 출력\n",
        "\n",
        "    # 한 에포크 동안 훈련을 수행하고 훈련 손실을 계산\n",
        "    train_loss = train_epoch(model, train_loader, optimizer, device, scheduler)\n",
        "    print(f'Train loss: {train_loss}')  # 훈련 손실 출력\n",
        "\n",
        "    # 테스트 데이터셋에 대해 모델을 평가하고 예측값과 실제값 반환\n",
        "    preds, labels = eval_model(model, test_loader, device)\n",
        "\n",
        "    # 예측값과 실제값을 기반으로 분류 성능 평가\n",
        "    # classification_report: 정확도, 정밀도, 재현율 등의 지표를 계산\n",
        "    report = classification_report(labels, preds, target_names=le.classes_)\n",
        "    print(report)  # 성능 평가 결과 출력\n"
      ],
      "metadata": {
        "colab": {
          "base_uri": "https://localhost:8080/"
        },
        "id": "6_mQ80zKrvFg",
        "outputId": "6fac932e-f607-4f63-f8ee-b0d245228257"
      },
      "execution_count": 69,
      "outputs": [
        {
          "output_type": "stream",
          "name": "stdout",
          "text": [
            "Epoch 1/3\n",
            "----------\n",
            "Train loss: 2.4356604742281363\n"
          ]
        },
        {
          "output_type": "stream",
          "name": "stderr",
          "text": [
            "/usr/local/lib/python3.10/dist-packages/sklearn/metrics/_classification.py:1531: UndefinedMetricWarning: Precision is ill-defined and being set to 0.0 in labels with no predicted samples. Use `zero_division` parameter to control this behavior.\n",
            "  _warn_prf(average, modifier, f\"{metric.capitalize()} is\", len(result))\n",
            "/usr/local/lib/python3.10/dist-packages/sklearn/metrics/_classification.py:1531: UndefinedMetricWarning: Precision is ill-defined and being set to 0.0 in labels with no predicted samples. Use `zero_division` parameter to control this behavior.\n",
            "  _warn_prf(average, modifier, f\"{metric.capitalize()} is\", len(result))\n",
            "/usr/local/lib/python3.10/dist-packages/sklearn/metrics/_classification.py:1531: UndefinedMetricWarning: Precision is ill-defined and being set to 0.0 in labels with no predicted samples. Use `zero_division` parameter to control this behavior.\n",
            "  _warn_prf(average, modifier, f\"{metric.capitalize()} is\", len(result))\n"
          ]
        },
        {
          "output_type": "stream",
          "name": "stdout",
          "text": [
            "              precision    recall  f1-score   support\n",
            "\n",
            "        A61B       0.00      0.00      0.00         2\n",
            "        B60W       0.00      0.00      0.00         2\n",
            "        G05B       0.00      0.00      0.00         4\n",
            "        G06F       0.24      0.57      0.34        54\n",
            "        G06N       0.26      0.37      0.30        41\n",
            "        G06Q       0.00      0.00      0.00        15\n",
            "        G06T       0.00      0.00      0.00        10\n",
            "        G06V       0.00      0.00      0.00        11\n",
            "        G08G       0.00      0.00      0.00         2\n",
            "        G10L       0.00      0.00      0.00         5\n",
            "        G16H       0.00      0.00      0.00         4\n",
            "        H02J       0.00      0.00      0.00         4\n",
            "        H04B       0.00      0.00      0.00         2\n",
            "        H04L       0.00      0.00      0.00        24\n",
            "        H04N       0.00      0.00      0.00         5\n",
            "        H04R       0.00      0.00      0.00         2\n",
            "        H04W       0.00      0.00      0.00         5\n",
            "        H05B       0.00      0.00      0.00         2\n",
            "        Y02B       0.00      0.00      0.00         2\n",
            "        Y02T       0.00      0.00      0.00         2\n",
            "\n",
            "    accuracy                           0.23       198\n",
            "   macro avg       0.02      0.05      0.03       198\n",
            "weighted avg       0.12      0.23      0.15       198\n",
            "\n",
            "Epoch 2/3\n",
            "----------\n",
            "Train loss: 2.1812681706264767\n"
          ]
        },
        {
          "output_type": "stream",
          "name": "stderr",
          "text": [
            "/usr/local/lib/python3.10/dist-packages/sklearn/metrics/_classification.py:1531: UndefinedMetricWarning: Precision is ill-defined and being set to 0.0 in labels with no predicted samples. Use `zero_division` parameter to control this behavior.\n",
            "  _warn_prf(average, modifier, f\"{metric.capitalize()} is\", len(result))\n",
            "/usr/local/lib/python3.10/dist-packages/sklearn/metrics/_classification.py:1531: UndefinedMetricWarning: Precision is ill-defined and being set to 0.0 in labels with no predicted samples. Use `zero_division` parameter to control this behavior.\n",
            "  _warn_prf(average, modifier, f\"{metric.capitalize()} is\", len(result))\n",
            "/usr/local/lib/python3.10/dist-packages/sklearn/metrics/_classification.py:1531: UndefinedMetricWarning: Precision is ill-defined and being set to 0.0 in labels with no predicted samples. Use `zero_division` parameter to control this behavior.\n",
            "  _warn_prf(average, modifier, f\"{metric.capitalize()} is\", len(result))\n"
          ]
        },
        {
          "output_type": "stream",
          "name": "stdout",
          "text": [
            "              precision    recall  f1-score   support\n",
            "\n",
            "        A61B       0.00      0.00      0.00         2\n",
            "        B60W       0.00      0.00      0.00         2\n",
            "        G05B       0.00      0.00      0.00         4\n",
            "        G06F       0.37      0.61      0.46        54\n",
            "        G06N       0.31      0.29      0.30        41\n",
            "        G06Q       0.00      0.00      0.00        15\n",
            "        G06T       0.11      0.40      0.17        10\n",
            "        G06V       0.00      0.00      0.00        11\n",
            "        G08G       0.00      0.00      0.00         2\n",
            "        G10L       0.00      0.00      0.00         5\n",
            "        G16H       0.00      0.00      0.00         4\n",
            "        H02J       0.10      0.25      0.14         4\n",
            "        H04B       0.00      0.00      0.00         2\n",
            "        H04L       0.62      0.21      0.31        24\n",
            "        H04N       0.00      0.00      0.00         5\n",
            "        H04R       0.00      0.00      0.00         2\n",
            "        H04W       0.00      0.00      0.00         5\n",
            "        H05B       0.11      0.50      0.18         2\n",
            "        Y02B       0.00      0.00      0.00         2\n",
            "        Y02T       0.00      0.00      0.00         2\n",
            "\n",
            "    accuracy                           0.28       198\n",
            "   macro avg       0.08      0.11      0.08       198\n",
            "weighted avg       0.25      0.28      0.24       198\n",
            "\n",
            "Epoch 3/3\n",
            "----------\n",
            "Train loss: 1.9312534753722375\n",
            "              precision    recall  f1-score   support\n",
            "\n",
            "        A61B       0.00      0.00      0.00         2\n",
            "        B60W       0.00      0.00      0.00         2\n",
            "        G05B       0.00      0.00      0.00         4\n",
            "        G06F       0.34      0.56      0.42        54\n",
            "        G06N       0.21      0.29      0.24        41\n",
            "        G06Q       0.00      0.00      0.00        15\n",
            "        G06T       0.27      0.40      0.32        10\n",
            "        G06V       0.00      0.00      0.00        11\n",
            "        G08G       0.00      0.00      0.00         2\n",
            "        G10L       0.00      0.00      0.00         5\n",
            "        G16H       0.00      0.00      0.00         4\n",
            "        H02J       0.18      0.50      0.27         4\n",
            "        H04B       0.00      0.00      0.00         2\n",
            "        H04L       0.50      0.42      0.45        24\n",
            "        H04N       0.00      0.00      0.00         5\n",
            "        H04R       0.00      0.00      0.00         2\n",
            "        H04W       0.00      0.00      0.00         5\n",
            "        H05B       0.00      0.00      0.00         2\n",
            "        Y02B       0.00      0.00      0.00         2\n",
            "        Y02T       0.00      0.00      0.00         2\n",
            "\n",
            "    accuracy                           0.29       198\n",
            "   macro avg       0.07      0.11      0.09       198\n",
            "weighted avg       0.21      0.29      0.24       198\n",
            "\n"
          ]
        },
        {
          "output_type": "stream",
          "name": "stderr",
          "text": [
            "/usr/local/lib/python3.10/dist-packages/sklearn/metrics/_classification.py:1531: UndefinedMetricWarning: Precision is ill-defined and being set to 0.0 in labels with no predicted samples. Use `zero_division` parameter to control this behavior.\n",
            "  _warn_prf(average, modifier, f\"{metric.capitalize()} is\", len(result))\n",
            "/usr/local/lib/python3.10/dist-packages/sklearn/metrics/_classification.py:1531: UndefinedMetricWarning: Precision is ill-defined and being set to 0.0 in labels with no predicted samples. Use `zero_division` parameter to control this behavior.\n",
            "  _warn_prf(average, modifier, f\"{metric.capitalize()} is\", len(result))\n",
            "/usr/local/lib/python3.10/dist-packages/sklearn/metrics/_classification.py:1531: UndefinedMetricWarning: Precision is ill-defined and being set to 0.0 in labels with no predicted samples. Use `zero_division` parameter to control this behavior.\n",
            "  _warn_prf(average, modifier, f\"{metric.capitalize()} is\", len(result))\n"
          ]
        }
      ]
    },
    {
      "cell_type": "markdown",
      "source": [
        "##**7. 모델 평가 및 예측**"
      ],
      "metadata": {
        "id": "FuCNEprtsO6a"
      }
    },
    {
      "cell_type": "markdown",
      "source": [
        "**7.1 혼동 행렬 그리기**\n"
      ],
      "metadata": {
        "id": "0nzebOeTsOmK"
      }
    },
    {
      "cell_type": "code",
      "source": [
        "from sklearn.metrics import confusion_matrix, ConfusionMatrixDisplay\n",
        "import matplotlib.pyplot as plt\n",
        "\n",
        "# 혼동 행렬(confusion matrix) 계산\n",
        "# labels: 실제 레이블\n",
        "# preds: 모델이 예측한 레이블\n",
        "cm = confusion_matrix(labels, preds)  # 실제값과 예측값을 비교하여 혼동 행렬 생성\n",
        "\n",
        "# 혼동 행렬 시각화 객체 생성\n",
        "# display_labels: 각 클래스의 이름을 표시\n",
        "disp = ConfusionMatrixDisplay(confusion_matrix=cm, display_labels=le.classes_)\n",
        "\n",
        "# 혼동 행렬을 시각화하기 위한 플롯 설정\n",
        "plt.figure(figsize=(20, 20))  # 플롯 크기를 20x20으로 설정 (클래스가 많을 때 가독성 높임)\n",
        "disp.plot(cmap=plt.cm.Blues, xticks_rotation=90)  # 행렬을 파란색 컬러맵과 함께 플롯하고, x축 라벨을 90도 회전\n",
        "plt.title('Confusion Matrix')  # 플롯의 제목 설정\n",
        "plt.show()  # 플롯을 화면에 표시\n"
      ],
      "metadata": {
        "colab": {
          "base_uri": "https://localhost:8080/",
          "height": 518
        },
        "id": "zXLxjeyKr9U3",
        "outputId": "c4b78275-008f-41c9-f2ba-a199a49eea12"
      },
      "execution_count": 71,
      "outputs": [
        {
          "output_type": "display_data",
          "data": {
            "text/plain": [
              "<Figure size 2000x2000 with 0 Axes>"
            ]
          },
          "metadata": {}
        },
        {
          "output_type": "display_data",
          "data": {
            "text/plain": [
              "<Figure size 640x480 with 2 Axes>"
            ],
            "image/png": "[encoded data removed]"
          },
          "metadata": {}
        }
      ]
    },
    {
      "cell_type": "markdown",
      "source": [
        "True Label (y축): 실제 데이터의 레이블.\n",
        "\n",
        "Predicted Label (x축): 모델이 예측한 레이블.\n",
        "\n",
        "대각선 요소: 모델이 올바르게 예측한 값.\n",
        "\n",
        "비대각선 요소: 잘못된 예측을 나타냄. 예를 들어, G10L 15/22가 G10L 15/26으로 잘못 예측된 경우."
      ],
      "metadata": {
        "id": "W9YoPsijvhkC"
      }
    },
    {
      "cell_type": "markdown",
      "source": [
        "대각선 집중: 대부분의 값이 대각선에 있어, 모델이 많은 클래스를 올바르게 예측함.\n",
        "\n",
        "오분류: 대각선 외부 값은 잘못된 예측을 의미. 예를 들어, G10L 15/22가 G10L 15/26으로 6번 잘못 예측됨."
      ],
      "metadata": {
        "id": "YZYJzMZnwNT7"
      }
    },
    {
      "cell_type": "markdown",
      "source": [
        "G10L 15/26: 6번의 올바른 예측을 했으나, G10L 15/22와 혼동함.\n",
        "\n",
        "G06T 9/005 및 F16H2061/0081: 예측이 적고, 약간의 오분류 발생. 데이터 부족 또는 구분 어려움 가능성.\n",
        "\n",
        "소수의 클래스 혼동: A61B 5/7267 및 Y10S 706/919에서 약간의 오분류 발생. 모델 성능은 전반적으로 우수."
      ],
      "metadata": {
        "id": "M-GPXqtYw-RK"
      }
    },
    {
      "cell_type": "markdown",
      "source": [
        "**7.2 새로운 특허 문서 분류**\n"
      ],
      "metadata": {
        "id": "kmT-hpN9xY0I"
      }
    },
    {
      "cell_type": "code",
      "source": [
        "def predict_category(title, abstract, model, tokenizer, device, label_encoder):\n",
        "    model.eval()  # 모델을 평가 모드로 설정 (학습 관련 레이어 비활성화)\n",
        "\n",
        "    # 제목과 초록을 결합하여 입력 텍스트 생성\n",
        "    text = title + \" \" + abstract\n",
        "    # 텍스트를 토크나이저로 인코딩 (BERT 모델에 맞게 처리)\n",
        "    encoding = tokenizer.encode_plus(\n",
        "        text,\n",
        "        add_special_tokens=True,  # [CLS], [SEP] 등의 특수 토큰 추가\n",
        "        max_length=512,  # 최대 시퀀스 길이 설정\n",
        "        truncation=True,  # 길이를 초과하면 자름\n",
        "        padding='max_length',  # 최대 길이에 맞춰 패딩 추가\n",
        "        return_attention_mask=True,  # attention mask 반환\n",
        "        return_tensors='pt',  # PyTorch 텐서로 반환\n",
        "    )\n",
        "\n",
        "    # 인코딩된 데이터를 GPU/CPU로 이동\n",
        "    input_ids = encoding['input_ids'].to(device)\n",
        "    attention_mask = encoding['attention_mask'].to(device)\n",
        "\n",
        "    # 그래디언트 계산 없이 예측 수행\n",
        "    with torch.no_grad():\n",
        "        outputs = model(input_ids=input_ids, attention_mask=attention_mask)  # 모델에 입력 전달\n",
        "        logits = outputs.logits  # 모델의 예측 결과 (로짓 값)\n",
        "        preds = torch.argmax(logits, dim=1).flatten()  # 가장 높은 확률의 클래스 예측\n",
        "\n",
        "    # 예측된 클래스 인덱스를 실제 카테고리 레이블로 변환\n",
        "    category = label_encoder.inverse_transform(preds.cpu().numpy())\n",
        "    return category[0]  # 예측된 카테고리 반환\n",
        "\n",
        "# 예시 특허 문서\n",
        "new_title = \"Innovative Widget Design\"  # 새로운 특허 제목\n",
        "new_abstract = \"This patent describes a novel widget that improves efficiency...\"  # 새로운 특허 초록\n",
        "\n",
        "# 예측\n",
        "predicted_category = predict_category(new_title, new_abstract, model, tokenizer, device, le)\n",
        "print(f'Predicted Category: {predicted_category}')  # 예측된 카테고리 출력\n"
      ],
      "metadata": {
        "colab": {
          "base_uri": "https://localhost:8080/"
        },
        "id": "SeZoqUBVsfZC",
        "outputId": "d4234627-1d5e-40fa-8887-8f60c88a73f3"
      },
      "execution_count": 72,
      "outputs": [
        {
          "output_type": "stream",
          "name": "stdout",
          "text": [
            "Predicted Category: G06F\n"
          ]
        }
      ]
    },
    {
      "cell_type": "code",
      "source": [
        "from sklearn.metrics import classification_report\n",
        "\n",
        "# classification_report를 딕셔너리 형태로 생성\n",
        "report = classification_report(labels, preds, target_names=le.classes_, output_dict=True)\n",
        "\n",
        "# 딕셔너리를 데이터프레임으로 변환\n",
        "df_report = pd.DataFrame(report).transpose()\n",
        "\n",
        "# 상위 N개의 클래스만 사용 (여기서는 20개 클래스)\n",
        "df_report = df_report.iloc[:20, :3]  # 'accuracy', 'macro avg', 'weighted avg' 제외\n",
        "\n",
        "# 데이터 확인\n",
        "print(df_report.head())\n"
      ],
      "metadata": {
        "colab": {
          "base_uri": "https://localhost:8080/"
        },
        "id": "54qRcEMfzGrT",
        "outputId": "eb48ee09-7db1-4ff7-ef2b-78b46ca441ab"
      },
      "execution_count": 73,
      "outputs": [
        {
          "output_type": "stream",
          "name": "stdout",
          "text": [
            "      precision    recall  f1-score\n",
            "A61B   0.000000  0.000000  0.000000\n",
            "B60W   0.000000  0.000000  0.000000\n",
            "G05B   0.000000  0.000000  0.000000\n",
            "G06F   0.340909  0.555556  0.422535\n",
            "G06N   0.210526  0.292683  0.244898\n"
          ]
        },
        {
          "output_type": "stream",
          "name": "stderr",
          "text": [
            "/usr/local/lib/python3.10/dist-packages/sklearn/metrics/_classification.py:1531: UndefinedMetricWarning: Precision is ill-defined and being set to 0.0 in labels with no predicted samples. Use `zero_division` parameter to control this behavior.\n",
            "  _warn_prf(average, modifier, f\"{metric.capitalize()} is\", len(result))\n",
            "/usr/local/lib/python3.10/dist-packages/sklearn/metrics/_classification.py:1531: UndefinedMetricWarning: Precision is ill-defined and being set to 0.0 in labels with no predicted samples. Use `zero_division` parameter to control this behavior.\n",
            "  _warn_prf(average, modifier, f\"{metric.capitalize()} is\", len(result))\n",
            "/usr/local/lib/python3.10/dist-packages/sklearn/metrics/_classification.py:1531: UndefinedMetricWarning: Precision is ill-defined and being set to 0.0 in labels with no predicted samples. Use `zero_division` parameter to control this behavior.\n",
            "  _warn_prf(average, modifier, f\"{metric.capitalize()} is\", len(result))\n"
          ]
        }
      ]
    },
    {
      "cell_type": "code",
      "source": [
        "# 필요한 지표만 추출\n",
        "df_metrics = df_report[['precision', 'recall', 'f1-score']]\n",
        "\n",
        "# 데이터 확인\n",
        "print(df_metrics.head())\n"
      ],
      "metadata": {
        "colab": {
          "base_uri": "https://localhost:8080/"
        },
        "id": "-o3lDcaCz3iQ",
        "outputId": "9c92297a-6452-4baf-b1ea-42050a715de2"
      },
      "execution_count": 74,
      "outputs": [
        {
          "output_type": "stream",
          "name": "stdout",
          "text": [
            "      precision    recall  f1-score\n",
            "A61B   0.000000  0.000000  0.000000\n",
            "B60W   0.000000  0.000000  0.000000\n",
            "G05B   0.000000  0.000000  0.000000\n",
            "G06F   0.340909  0.555556  0.422535\n",
            "G06N   0.210526  0.292683  0.244898\n"
          ]
        }
      ]
    },
    {
      "cell_type": "code",
      "source": [
        "import matplotlib.pyplot as plt\n",
        "import seaborn as sns\n",
        "\n",
        "# 그래프 스타일 설정\n",
        "sns.set(style=\"whitegrid\")\n",
        "\n",
        "# 그래프 크기 설정\n",
        "plt.figure(figsize=(15, 8))\n",
        "\n",
        "# 막대 그래프 생성\n",
        "df_metrics.plot(kind='bar', figsize=(15, 8))\n",
        "\n",
        "# 그래프 제목 및 축 레이블 설정\n",
        "plt.title('Precision, Recall, F1-Score', fontsize=16)\n",
        "plt.xlabel('class', fontsize=14)\n",
        "plt.ylabel('score', fontsize=14)\n",
        "\n",
        "# x축 레이블 회전\n",
        "plt.xticks(rotation=45, ha='right')\n",
        "\n",
        "# y축 범위 설정\n",
        "plt.ylim(0, 1)\n",
        "\n",
        "# 범례 위치 설정\n",
        "plt.legend(title='index', loc='upper left', fontsize=12)\n",
        "\n",
        "# 레이아웃 조정\n",
        "plt.tight_layout()\n",
        "\n",
        "# 그래프 출력\n",
        "plt.show()\n"
      ],
      "metadata": {
        "colab": {
          "base_uri": "https://localhost:8080/",
          "height": 524
        },
        "id": "bB5xxQzLz7HN",
        "outputId": "bc94d74e-5ab7-48da-d08a-1cad35066e51"
      },
      "execution_count": 75,
      "outputs": [
        {
          "output_type": "display_data",
          "data": {
            "text/plain": [
              "<Figure size 1500x800 with 0 Axes>"
            ]
          },
          "metadata": {}
        },
        {
          "output_type": "display_data",
          "data": {
            "text/plain": [
              "<Figure size 1500x800 with 1 Axes>"
            ],
            "image/png": "[encoded data removed]"
          },
          "metadata": {}
        }
      ]
    },
    {
      "cell_type": "markdown",
      "source": [
        "# **1. 새로운 방식으로 학습**\n"
      ],
      "metadata": {
        "id": "zuIeffBSgTeI"
      }
    },
    {
      "cell_type": "code",
      "source": [
        "#display df\n",
        "df.head()"
      ],
      "metadata": {
        "colab": {
          "base_uri": "https://localhost:8080/",
          "height": 518
        },
        "id": "eRkQzDgDh5C_",
        "outputId": "aac648e4-22f1-461a-922b-bda28f01b8e3"
      },
      "execution_count": 91,
      "outputs": [
        {
          "output_type": "execute_result",
          "data": {
            "text/plain": [
              "    appln_id  earliest_filing_year person_ctry_code cpc_class_symbol  \\\n",
              "0  584648513                  2022               US    G06F  18/2193   \n",
              "4  584648513                  2022               US      G06N  20/00   \n",
              "5  585982552                  2022               US     B60W  60/001   \n",
              "6  580619052                  2022               CN     A42B   1/245   \n",
              "8  580619052                  2022               CN     H04R   1/028   \n",
              "\n",
              "   nace2_code                                        appln_title  \\\n",
              "0       26.20  Configuring machine learning model thresholds ...   \n",
              "4       26.20  Configuring machine learning model thresholds ...   \n",
              "5       26.51  Vehicle scenario mining for machine learning m...   \n",
              "6       26.30                  Audio intelligent wearable device   \n",
              "8       26.30                  Audio intelligent wearable device   \n",
              "\n",
              "                                      appln_abstract  cpc4  \n",
              "0  Certain aspects of the present disclosure prov...  G06F  \n",
              "4  Certain aspects of the present disclosure prov...  G06N  \n",
              "5  Provided are methods for vehicle scenario mini...  B60W  \n",
              "6  The present disclosure discloses an audio inte...  A42B  \n",
              "8  The present disclosure discloses an audio inte...  H04R  "
            ],
            "text/html": [
              "\n",
              "  <div id=\"df-6ec4253b-8454-4997-9acc-0da45eaf0ca8\" class=\"colab-df-container\">\n",
              "    <div>\n",
              "<style scoped>\n",
              "    .dataframe tbody tr th:only-of-type {\n",
              "        vertical-align: middle;\n",
              "    }\n",
              "\n",
              "    .dataframe tbody tr th {\n",
              "        vertical-align: top;\n",
              "    }\n",
              "\n",
              "    .dataframe thead th {\n",
              "        text-align: right;\n",
              "    }\n",
              "</style>\n",
              "<table border=\"1\" class=\"dataframe\">\n",
              "  <thead>\n",
              "    <tr style=\"text-align: right;\">\n",
              "      <th></th>\n",
              "      <th>appln_id</th>\n",
              "      <th>earliest_filing_year</th>\n",
              "      <th>person_ctry_code</th>\n",
              "      <th>cpc_class_symbol</th>\n",
              "      <th>nace2_code</th>\n",
              "      <th>appln_title</th>\n",
              "      <th>appln_abstract</th>\n",
              "      <th>cpc4</th>\n",
              "    </tr>\n",
              "  </thead>\n",
              "  <tbody>\n",
              "    <tr>\n",
              "      <th>0</th>\n",
              "      <td>584648513</td>\n",
              "      <td>2022</td>\n",
              "      <td>US</td>\n",
              "      <td>G06F  18/2193</td>\n",
              "      <td>26.20</td>\n",
              "      <td>Configuring machine learning model thresholds ...</td>\n",
              "      <td>Certain aspects of the present disclosure prov...</td>\n",
              "      <td>G06F</td>\n",
              "    </tr>\n",
              "    <tr>\n",
              "      <th>4</th>\n",
              "      <td>584648513</td>\n",
              "      <td>2022</td>\n",
              "      <td>US</td>\n",
              "      <td>G06N  20/00</td>\n",
              "      <td>26.20</td>\n",
              "      <td>Configuring machine learning model thresholds ...</td>\n",
              "      <td>Certain aspects of the present disclosure prov...</td>\n",
              "      <td>G06N</td>\n",
              "    </tr>\n",
              "    <tr>\n",
              "      <th>5</th>\n",
              "      <td>585982552</td>\n",
              "      <td>2022</td>\n",
              "      <td>US</td>\n",
              "      <td>B60W  60/001</td>\n",
              "      <td>26.51</td>\n",
              "      <td>Vehicle scenario mining for machine learning m...</td>\n",
              "      <td>Provided are methods for vehicle scenario mini...</td>\n",
              "      <td>B60W</td>\n",
              "    </tr>\n",
              "    <tr>\n",
              "      <th>6</th>\n",
              "      <td>580619052</td>\n",
              "      <td>2022</td>\n",
              "      <td>CN</td>\n",
              "      <td>A42B   1/245</td>\n",
              "      <td>26.30</td>\n",
              "      <td>Audio intelligent wearable device</td>\n",
              "      <td>The present disclosure discloses an audio inte...</td>\n",
              "      <td>A42B</td>\n",
              "    </tr>\n",
              "    <tr>\n",
              "      <th>8</th>\n",
              "      <td>580619052</td>\n",
              "      <td>2022</td>\n",
              "      <td>CN</td>\n",
              "      <td>H04R   1/028</td>\n",
              "      <td>26.30</td>\n",
              "      <td>Audio intelligent wearable device</td>\n",
              "      <td>The present disclosure discloses an audio inte...</td>\n",
              "      <td>H04R</td>\n",
              "    </tr>\n",
              "  </tbody>\n",
              "</table>\n",
              "</div>\n",
              "    <div class=\"colab-df-buttons\">\n",
              "\n",
              "  <div class=\"colab-df-container\">\n",
              "    <button class=\"colab-df-convert\" onclick=\"convertToInteractive('df-6ec4253b-8454-4997-9acc-0da45eaf0ca8')\"\n",
              "            title=\"Convert this dataframe to an interactive table.\"\n",
              "            style=\"display:none;\">\n",
              "\n",
              "  <svg xmlns=\"http://www.w3.org/2000/svg\" height=\"24px\" viewBox=\"0 -960 960 960\">\n",
              "    <path d=\"M120-120v-720h720v720H120Zm60-500h600v-160H180v160Zm220 220h160v-160H400v160Zm0 220h160v-160H400v160ZM180-400h160v-160H180v160Zm440 0h160v-160H620v160ZM180-180h160v-160H180v160Zm440 0h160v-160H620v160Z\"/>\n",
              "  </svg>\n",
              "    </button>\n",
              "\n",
              "  <style>\n",
              "    .colab-df-container {\n",
              "      display:flex;\n",
              "      gap: 12px;\n",
              "    }\n",
              "\n",
              "    .colab-df-convert {\n",
              "      background-color: #E8F0FE;\n",
              "      border: none;\n",
              "      border-radius: 50%;\n",
              "      cursor: pointer;\n",
              "      display: none;\n",
              "      fill: #1967D2;\n",
              "      height: 32px;\n",
              "      padding: 0 0 0 0;\n",
              "      width: 32px;\n",
              "    }\n",
              "\n",
              "    .colab-df-convert:hover {\n",
              "      background-color: #E2EBFA;\n",
              "      box-shadow: 0px 1px 2px rgba(60, 64, 67, 0.3), 0px 1px 3px 1px rgba(60, 64, 67, 0.15);\n",
              "      fill: #174EA6;\n",
              "    }\n",
              "\n",
              "    .colab-df-buttons div {\n",
              "      margin-bottom: 4px;\n",
              "    }\n",
              "\n",
              "    [theme=dark] .colab-df-convert {\n",
              "      background-color: #3B4455;\n",
              "      fill: #D2E3FC;\n",
              "    }\n",
              "\n",
              "    [theme=dark] .colab-df-convert:hover {\n",
              "      background-color: #434B5C;\n",
              "      box-shadow: 0px 1px 3px 1px rgba(0, 0, 0, 0.15);\n",
              "      filter: drop-shadow(0px 1px 2px rgba(0, 0, 0, 0.3));\n",
              "      fill: #FFFFFF;\n",
              "    }\n",
              "  </style>\n",
              "\n",
              "    <script>\n",
              "      const buttonEl =\n",
              "        document.querySelector('#df-6ec4253b-8454-4997-9acc-0da45eaf0ca8 button.colab-df-convert');\n",
              "      buttonEl.style.display =\n",
              "        google.colab.kernel.accessAllowed ? 'block' : 'none';\n",
              "\n",
              "      async function convertToInteractive(key) {\n",
              "        const element = document.querySelector('#df-6ec4253b-8454-4997-9acc-0da45eaf0ca8');\n",
              "        const dataTable =\n",
              "          await google.colab.kernel.invokeFunction('convertToInteractive',\n",
              "                                                    [key], {});\n",
              "        if (!dataTable) return;\n",
              "\n",
              "        const docLinkHtml = 'Like what you see? Visit the ' +\n",
              "          '<a target=\"_blank\" href=https://colab.research.google.com/notebooks/data_table.ipynb>data table notebook</a>'\n",
              "          + ' to learn more about interactive tables.';\n",
              "        element.innerHTML = '';\n",
              "        dataTable['output_type'] = 'display_data';\n",
              "        await google.colab.output.renderOutput(dataTable, element);\n",
              "        const docLink = document.createElement('div');\n",
              "        docLink.innerHTML = docLinkHtml;\n",
              "        element.appendChild(docLink);\n",
              "      }\n",
              "    </script>\n",
              "  </div>\n",
              "\n",
              "\n",
              "<div id=\"df-b9c6e978-1871-432a-8f02-b47e12b4b491\">\n",
              "  <button class=\"colab-df-quickchart\" onclick=\"quickchart('df-b9c6e978-1871-432a-8f02-b47e12b4b491')\"\n",
              "            title=\"Suggest charts\"\n",
              "            style=\"display:none;\">\n",
              "\n",
              "<svg xmlns=\"http://www.w3.org/2000/svg\" height=\"24px\"viewBox=\"0 0 24 24\"\n",
              "     width=\"24px\">\n",
              "    <g>\n",
              "        <path d=\"M19 3H5c-1.1 0-2 .9-2 2v14c0 1.1.9 2 2 2h14c1.1 0 2-.9 2-2V5c0-1.1-.9-2-2-2zM9 17H7v-7h2v7zm4 0h-2V7h2v10zm4 0h-2v-4h2v4z\"/>\n",
              "    </g>\n",
              "</svg>\n",
              "  </button>\n",
              "\n",
              "<style>\n",
              "  .colab-df-quickchart {\n",
              "      --bg-color: #E8F0FE;\n",
              "      --fill-color: #1967D2;\n",
              "      --hover-bg-color: #E2EBFA;\n",
              "      --hover-fill-color: #174EA6;\n",
              "      --disabled-fill-color: #AAA;\n",
              "      --disabled-bg-color: #DDD;\n",
              "  }\n",
              "\n",
              "  [theme=dark] .colab-df-quickchart {\n",
              "      --bg-color: #3B4455;\n",
              "      --fill-color: #D2E3FC;\n",
              "      --hover-bg-color: #434B5C;\n",
              "      --hover-fill-color: #FFFFFF;\n",
              "      --disabled-bg-color: #3B4455;\n",
              "      --disabled-fill-color: #666;\n",
              "  }\n",
              "\n",
              "  .colab-df-quickchart {\n",
              "    background-color: var(--bg-color);\n",
              "    border: none;\n",
              "    border-radius: 50%;\n",
              "    cursor: pointer;\n",
              "    display: none;\n",
              "    fill: var(--fill-color);\n",
              "    height: 32px;\n",
              "    padding: 0;\n",
              "    width: 32px;\n",
              "  }\n",
              "\n",
              "  .colab-df-quickchart:hover {\n",
              "    background-color: var(--hover-bg-color);\n",
              "    box-shadow: 0 1px 2px rgba(60, 64, 67, 0.3), 0 1px 3px 1px rgba(60, 64, 67, 0.15);\n",
              "    fill: var(--button-hover-fill-color);\n",
              "  }\n",
              "\n",
              "  .colab-df-quickchart-complete:disabled,\n",
              "  .colab-df-quickchart-complete:disabled:hover {\n",
              "    background-color: var(--disabled-bg-color);\n",
              "    fill: var(--disabled-fill-color);\n",
              "    box-shadow: none;\n",
              "  }\n",
              "\n",
              "  .colab-df-spinner {\n",
              "    border: 2px solid var(--fill-color);\n",
              "    border-color: transparent;\n",
              "    border-bottom-color: var(--fill-color);\n",
              "    animation:\n",
              "      spin 1s steps(1) infinite;\n",
              "  }\n",
              "\n",
              "  @keyframes spin {\n",
              "    0% {\n",
              "      border-color: transparent;\n",
              "      border-bottom-color: var(--fill-color);\n",
              "      border-left-color: var(--fill-color);\n",
              "    }\n",
              "    20% {\n",
              "      border-color: transparent;\n",
              "      border-left-color: var(--fill-color);\n",
              "      border-top-color: var(--fill-color);\n",
              "    }\n",
              "    30% {\n",
              "      border-color: transparent;\n",
              "      border-left-color: var(--fill-color);\n",
              "      border-top-color: var(--fill-color);\n",
              "      border-right-color: var(--fill-color);\n",
              "    }\n",
              "    40% {\n",
              "      border-color: transparent;\n",
              "      border-right-color: var(--fill-color);\n",
              "      border-top-color: var(--fill-color);\n",
              "    }\n",
              "    60% {\n",
              "      border-color: transparent;\n",
              "      border-right-color: var(--fill-color);\n",
              "    }\n",
              "    80% {\n",
              "      border-color: transparent;\n",
              "      border-right-color: var(--fill-color);\n",
              "      border-bottom-color: var(--fill-color);\n",
              "    }\n",
              "    90% {\n",
              "      border-color: transparent;\n",
              "      border-bottom-color: var(--fill-color);\n",
              "    }\n",
              "  }\n",
              "</style>\n",
              "\n",
              "  <script>\n",
              "    async function quickchart(key) {\n",
              "      const quickchartButtonEl =\n",
              "        document.querySelector('#' + key + ' button');\n",
              "      quickchartButtonEl.disabled = true;  // To prevent multiple clicks.\n",
              "      quickchartButtonEl.classList.add('colab-df-spinner');\n",
              "      try {\n",
              "        const charts = await google.colab.kernel.invokeFunction(\n",
              "            'suggestCharts', [key], {});\n",
              "      } catch (error) {\n",
              "        console.error('Error during call to suggestCharts:', error);\n",
              "      }\n",
              "      quickchartButtonEl.classList.remove('colab-df-spinner');\n",
              "      quickchartButtonEl.classList.add('colab-df-quickchart-complete');\n",
              "    }\n",
              "    (() => {\n",
              "      let quickchartButtonEl =\n",
              "        document.querySelector('#df-b9c6e978-1871-432a-8f02-b47e12b4b491 button');\n",
              "      quickchartButtonEl.style.display =\n",
              "        google.colab.kernel.accessAllowed ? 'block' : 'none';\n",
              "    })();\n",
              "  </script>\n",
              "</div>\n",
              "\n",
              "    </div>\n",
              "  </div>\n"
            ],
            "application/vnd.google.colaboratory.intrinsic+json": {
              "type": "dataframe",
              "variable_name": "df",
              "summary": "{\n  \"name\": \"df\",\n  \"rows\": 1311,\n  \"fields\": [\n    {\n      \"column\": \"appln_id\",\n      \"properties\": {\n        \"dtype\": \"number\",\n        \"std\": 5784365,\n        \"min\": 575161108,\n        \"max\": 606406409,\n        \"num_unique_values\": 617,\n        \"samples\": [\n          593028443,\n          597326860,\n          581702140\n        ],\n        \"semantic_type\": \"\",\n        \"description\": \"\"\n      }\n    },\n    {\n      \"column\": \"earliest_filing_year\",\n      \"properties\": {\n        \"dtype\": \"number\",\n        \"std\": 0,\n        \"min\": 2022,\n        \"max\": 2023,\n        \"num_unique_values\": 2,\n        \"samples\": [\n          2023,\n          2022\n        ],\n        \"semantic_type\": \"\",\n        \"description\": \"\"\n      }\n    },\n    {\n      \"column\": \"person_ctry_code\",\n      \"properties\": {\n        \"dtype\": \"category\",\n        \"num_unique_values\": 26,\n        \"samples\": [\n          \"DE\",\n          \"FI\"\n        ],\n        \"semantic_type\": \"\",\n        \"description\": \"\"\n      }\n    },\n    {\n      \"column\": \"cpc_class_symbol\",\n      \"properties\": {\n        \"dtype\": \"string\",\n        \"num_unique_values\": 792,\n        \"samples\": [\n          \"A63F  13/55\",\n          \"G10L  13/00\"\n        ],\n        \"semantic_type\": \"\",\n        \"description\": \"\"\n      }\n    },\n    {\n      \"column\": \"nace2_code\",\n      \"properties\": {\n        \"dtype\": \"number\",\n        \"std\": 8.296764880402637,\n        \"min\": 10.0,\n        \"max\": 62.0,\n        \"num_unique_values\": 39,\n        \"samples\": [\n          22.0,\n          23.0\n        ],\n        \"semantic_type\": \"\",\n        \"description\": \"\"\n      }\n    },\n    {\n      \"column\": \"appln_title\",\n      \"properties\": {\n        \"dtype\": \"category\",\n        \"num_unique_values\": 575,\n        \"samples\": [\n          \"Optimized header information to enable access control\",\n          \"Systems and methods for vehicle reversing detection using machine learning\"\n        ],\n        \"semantic_type\": \"\",\n        \"description\": \"\"\n      }\n    },\n    {\n      \"column\": \"appln_abstract\",\n      \"properties\": {\n        \"dtype\": \"category\",\n        \"num_unique_values\": 588,\n        \"samples\": [\n          \"Various illustrative aspects are directed to a data storage device comprising one or more disks, an actuator arm assembly comprising one or more disk heads and a voice coil motor (VCM), the VCM configured to operate in a PWM mode and a linear mode, and one or more processing devices configured to: seek the VCM towards a target track in the PWM mode; transition the VCM from the PWM mode to the linear mode, wherein the transitioning comprises switching an offset compensation value from a first offset compensation value to a second compensation offset value to compensate for a transition offset induced while transitioning the VCM from the PWM to the linear mode, wherein the first and the second offset compensation values correspond to the PWM and linear modes, respectively, and seek the VCM towards the target track in the linear mode for a linear mode time.\",\n          \"Devices, systems, and methods are provided for encapsulating machine learning in a clean room to generate a goal-based output. A method may include identifying, by a device operating within a clean room, an agreement between multiple parties to share data for use in machine learning to generate a goal-based output; retrieving the data; selecting the machine learning model based on a goal indicated by the agreement; generating, using the data as inputs to the selected machine learning model, a first set of probabilities indicative that a respective user may perform an action; generating, using the selected machine learning model and the first set of probabilities, a second set of probabilities indicative that a respective user may perform the action; generating the goal-based output based on the second set of probabilities; and sending the goal-based output from the clean room to a destination location.\"\n        ],\n        \"semantic_type\": \"\",\n        \"description\": \"\"\n      }\n    },\n    {\n      \"column\": \"cpc4\",\n      \"properties\": {\n        \"dtype\": \"category\",\n        \"num_unique_values\": 158,\n        \"samples\": [\n          \"H01H\",\n          \"G09B\"\n        ],\n        \"semantic_type\": \"\",\n        \"description\": \"\"\n      }\n    }\n  ]\n}"
            }
          },
          "metadata": {},
          "execution_count": 91
        }
      ]
    },
    {
      "cell_type": "code",
      "source": [
        "# 필요한 라이브러리 임포트 및 설치\n",
        "!pip install transformers\n",
        "!pip install torch\n",
        "!pip install pandas\n",
        "!pip install scikit-learn\n",
        "!pip install joblib\n",
        "!pip install seaborn\n",
        "\n",
        "import torch\n",
        "from transformers import BertTokenizer, BertForSequenceClassification, AdamW, get_linear_schedule_with_warmup\n",
        "from torch.utils.data import Dataset, DataLoader\n",
        "import pandas as pd\n",
        "from sklearn.model_selection import train_test_split\n",
        "from sklearn.preprocessing import LabelEncoder\n",
        "from sklearn.metrics import classification_report, accuracy_score, confusion_matrix, ConfusionMatrixDisplay\n",
        "import joblib\n",
        "import matplotlib.pyplot as plt\n",
        "import seaborn as sns\n",
        "\n",
        "# # 데이터 로드 및 전처리\n",
        "# data_url = 'https://raw.githubusercontent.com/deep1003/deep1003/master/patent_industry.csv'\n",
        "\n",
        "# # csv 파일을 읽을때 ; 분리\n",
        "# df = pd.read_csv(data_url, sep=';')\n",
        "\n",
        "\n",
        "# 필요한 컬럼 선택\n",
        "df = df[['appln_id', 'earliest_filing_year', 'person_ctry_code',\n",
        "         'cpc4', 'nace2_code', 'appln_title', 'appln_abstract']]\n",
        "\n",
        "# 결측치 처리: 제목과 초록은 빈 문자열로, CPC 분류 심볼이 없는 행은 제거\n",
        "df['appln_title'] = df['appln_title'].fillna('')\n",
        "df['appln_abstract'] = df['appln_abstract'].fillna('')\n",
        "df = df.dropna(subset=['cpc4'])\n",
        "\n",
        "# CPC 분류 심볼 상위 20개로 데이터 제한\n",
        "top_n = 20\n",
        "top_classes = df['cpc4'].value_counts().nlargest(top_n).index\n",
        "df = df[df['cpc4'].isin(top_classes)]\n",
        "\n",
        "# 레이블 인코딩: 문자열 레이블을 숫자로 변환\n",
        "le = LabelEncoder()\n",
        "df['cpc_class_encoded'] = le.fit_transform(df['cpc4'])\n",
        "\n",
        "# 인코더 저장: 나중에 예측 시 사용\n",
        "joblib.dump(le, 'label_encoder.joblib')\n",
        "\n",
        "# 데이터셋 클래스 정의\n",
        "class PatentDataset(Dataset):\n",
        "    def __init__(self, titles, abstracts, labels, tokenizer, max_length):\n",
        "        self.titles = titles\n",
        "        self.abstracts = abstracts\n",
        "        self.labels = labels\n",
        "        self.tokenizer = tokenizer\n",
        "        self.max_length = max_length\n",
        "\n",
        "    def __len__(self):\n",
        "        return len(self.titles)\n",
        "\n",
        "    def __getitem__(self, idx):\n",
        "        title = str(self.titles[idx])\n",
        "        abstract = str(self.abstracts[idx])\n",
        "        label = self.labels[idx]\n",
        "\n",
        "        # 제목과 초록을 결합하여 하나의 텍스트로 만듦\n",
        "        text = title + \" \" + abstract\n",
        "\n",
        "        # 텍스트를 BERT 입력 형식으로 인코딩\n",
        "        encoding = self.tokenizer.encode_plus(\n",
        "            text,\n",
        "            add_special_tokens=True,\n",
        "            max_length=self.max_length,\n",
        "            truncation=True,\n",
        "            padding='max_length',\n",
        "            return_attention_mask=True,\n",
        "            return_tensors='pt',\n",
        "        )\n",
        "\n",
        "        return {\n",
        "            'input_ids': encoding['input_ids'].flatten(),       # 입력 토큰 ID\n",
        "            'attention_mask': encoding['attention_mask'].flatten(),  # 어텐션 마스크\n",
        "            'labels': torch.tensor(label, dtype=torch.long)     # 레이블\n",
        "        }\n",
        "\n",
        "# 데이터 분할: 훈련 세트와 테스트 세트로 나눔 (80% 훈련, 20% 테스트)\n",
        "X = df[['appln_title', 'appln_abstract']]\n",
        "y = df['cpc_class_encoded']\n",
        "\n",
        "X_train, X_test, y_train, y_test = train_test_split(\n",
        "    X, y, test_size=0.2, random_state=42, stratify=y\n",
        ")\n",
        "\n",
        "print(f'Train size: {X_train.shape[0]}')\n",
        "print(f'Test size: {X_test.shape[0]}')\n",
        "\n",
        "# 토크나이저 초기화\n",
        "tokenizer = BertTokenizer.from_pretrained('bert-base-uncased')\n",
        "\n",
        "# 최대 시퀀스 길이 설정\n",
        "MAX_LENGTH = 256  # 필요에 따라 조정 가능\n",
        "\n",
        "# 데이터셋 생성\n",
        "train_dataset = PatentDataset(\n",
        "    titles=X_train['appln_title'].to_numpy(),\n",
        "    abstracts=X_train['appln_abstract'].to_numpy(),\n",
        "    labels=y_train.to_numpy(),\n",
        "    tokenizer=tokenizer,\n",
        "    max_length=MAX_LENGTH\n",
        ")\n",
        "\n",
        "test_dataset = PatentDataset(\n",
        "    titles=X_test['appln_title'].to_numpy(),\n",
        "    abstracts=X_test['appln_abstract'].to_numpy(),\n",
        "    labels=y_test.to_numpy(),\n",
        "    tokenizer=tokenizer,\n",
        "    max_length=MAX_LENGTH\n",
        ")\n",
        "\n",
        "# 배치 사이즈 설정\n",
        "BATCH_SIZE = 8  # GPU 메모리에 따라 조정\n",
        "\n",
        "# 데이터로더 생성\n",
        "train_loader = DataLoader(train_dataset, batch_size=BATCH_SIZE, shuffle=True)\n",
        "test_loader = DataLoader(test_dataset, batch_size=BATCH_SIZE)\n",
        "\n",
        "# 모델 초기화: BERT 기반 분류 모델\n",
        "num_labels = len(le.classes_)\n",
        "model = BertForSequenceClassification.from_pretrained(\n",
        "    'bert-base-uncased',\n",
        "    num_labels=num_labels,\n",
        "    output_attentions=False,\n",
        "    output_hidden_states=False\n",
        ")\n",
        "\n",
        "# 디바이스 설정: GPU 사용 가능 시 GPU 사용\n",
        "device = torch.device('cuda') if torch.cuda.is_available() else torch.device('cpu')\n",
        "model.to(device)\n",
        "\n",
        "print(f'Using device: {device}')\n",
        "\n",
        "# 옵티마이저 및 스케줄러 설정\n",
        "optimizer = AdamW(model.parameters(), lr=2e-5, correct_bias=False)\n",
        "EPOCHS = 3\n",
        "total_steps = len(train_loader) * EPOCHS\n",
        "scheduler = get_linear_schedule_with_warmup(\n",
        "    optimizer,\n",
        "    num_warmup_steps=0,\n",
        "    num_training_steps=total_steps\n",
        ")\n",
        "\n",
        "# 학습 함수 정의\n",
        "def train_epoch(model, data_loader, optimizer, device, scheduler):\n",
        "    model.train()  # 모델을 학습 모드로 설정\n",
        "    total_loss = 0\n",
        "\n",
        "    for batch in data_loader:\n",
        "        optimizer.zero_grad()  # 이전 그래디언트 초기화\n",
        "\n",
        "        input_ids = batch['input_ids'].to(device)\n",
        "        attention_mask = batch['attention_mask'].to(device)\n",
        "        labels = batch['labels'].to(device)\n",
        "\n",
        "        # 모델에 입력 데이터를 전달하고 출력과 손실 계산\n",
        "        outputs = model(\n",
        "            input_ids=input_ids,\n",
        "            attention_mask=attention_mask,\n",
        "            labels=labels\n",
        "        )\n",
        "\n",
        "        loss = outputs.loss\n",
        "        total_loss += loss.item()\n",
        "\n",
        "        loss.backward()  # 역전파\n",
        "        optimizer.step()  # 옵티마이저 업데이트\n",
        "        scheduler.step()  # 스케줄러 업데이트\n",
        "\n",
        "    avg_loss = total_loss / len(data_loader)  # 평균 손실 계산\n",
        "    return avg_loss\n",
        "\n",
        "# 평가 함수 정의\n",
        "def eval_model(model, data_loader, device):\n",
        "    model.eval()  # 모델을 평가 모드로 설정\n",
        "    predictions = []\n",
        "    true_labels = []\n",
        "\n",
        "    with torch.no_grad():  # 그래디언트 계산 비활성화\n",
        "        for batch in data_loader:\n",
        "            input_ids = batch['input_ids'].to(device)\n",
        "            attention_mask = batch['attention_mask'].to(device)\n",
        "            labels = batch['labels'].to(device)\n",
        "\n",
        "            # 모델에 입력 데이터를 전달하고 출력 받기\n",
        "            outputs = model(\n",
        "                input_ids=input_ids,\n",
        "                attention_mask=attention_mask\n",
        "            )\n",
        "\n",
        "            logits = outputs.logits\n",
        "            preds = torch.argmax(logits, dim=1).flatten()  # 예측 클래스 추출\n",
        "\n",
        "            predictions.extend(preds.cpu().numpy())  # 예측값 저장\n",
        "            true_labels.extend(labels.cpu().numpy())  # 실제 레이블 저장\n",
        "\n",
        "    return predictions, true_labels\n",
        "\n",
        "# 모델 학습 및 평가\n",
        "for epoch in range(EPOCHS):\n",
        "    print(f'Epoch {epoch + 1}/{EPOCHS}')\n",
        "    print('-' * 10)\n",
        "\n",
        "    # 학습 단계\n",
        "    train_loss = train_epoch(model, train_loader, optimizer, device, scheduler)\n",
        "    print(f'Train loss: {train_loss}')\n",
        "\n",
        "    # 평가 단계\n",
        "    preds, labels = eval_model(model, test_loader, device)\n",
        "    report = classification_report(labels, preds, target_names=le.classes_)\n",
        "    print(report)\n",
        "\n",
        "    # 정확도 계산\n",
        "    accuracy = accuracy_score(labels, preds)\n",
        "    print(f'Accuracy: {accuracy:.4f}')\n"
      ],
      "metadata": {
        "colab": {
          "base_uri": "https://localhost:8080/"
        },
        "id": "AAFbFFcYz9d8",
        "outputId": "43e91aaa-3cac-4f8f-d65e-71e7eb7382eb"
      },
      "execution_count": null,
      "outputs": [
        {
          "output_type": "stream",
          "name": "stdout",
          "text": [
            "Requirement already satisfied: transformers in /usr/local/lib/python3.10/dist-packages (4.44.2)\n",
            "Requirement already satisfied: filelock in /usr/local/lib/python3.10/dist-packages (from transformers) (3.16.1)\n",
            "Requirement already satisfied: huggingface-hub<1.0,>=0.23.2 in /usr/local/lib/python3.10/dist-packages (from transformers) (0.24.7)\n",
            "Requirement already satisfied: numpy>=1.17 in /usr/local/lib/python3.10/dist-packages (from transformers) (1.26.4)\n",
            "Requirement already satisfied: packaging>=20.0 in /usr/local/lib/python3.10/dist-packages (from transformers) (24.1)\n",
            "Requirement already satisfied: pyyaml>=5.1 in /usr/local/lib/python3.10/dist-packages (from transformers) (6.0.2)\n",
            "Requirement already satisfied: regex!=2019.12.17 in /usr/local/lib/python3.10/dist-packages (from transformers) (2024.9.11)\n",
            "Requirement already satisfied: requests in /usr/local/lib/python3.10/dist-packages (from transformers) (2.32.3)\n",
            "Requirement already satisfied: safetensors>=0.4.1 in /usr/local/lib/python3.10/dist-packages (from transformers) (0.4.5)\n",
            "Requirement already satisfied: tokenizers<0.20,>=0.19 in /usr/local/lib/python3.10/dist-packages (from transformers) (0.19.1)\n",
            "Requirement already satisfied: tqdm>=4.27 in /usr/local/lib/python3.10/dist-packages (from transformers) (4.66.5)\n",
            "Requirement already satisfied: fsspec>=2023.5.0 in /usr/local/lib/python3.10/dist-packages (from huggingface-hub<1.0,>=0.23.2->transformers) (2024.6.1)\n",
            "Requirement already satisfied: typing-extensions>=3.7.4.3 in /usr/local/lib/python3.10/dist-packages (from huggingface-hub<1.0,>=0.23.2->transformers) (4.12.2)\n",
            "Requirement already satisfied: charset-normalizer<4,>=2 in /usr/local/lib/python3.10/dist-packages (from requests->transformers) (3.3.2)\n",
            "Requirement already satisfied: idna<4,>=2.5 in /usr/local/lib/python3.10/dist-packages (from requests->transformers) (3.10)\n",
            "Requirement already satisfied: urllib3<3,>=1.21.1 in /usr/local/lib/python3.10/dist-packages (from requests->transformers) (2.2.3)\n",
            "Requirement already satisfied: certifi>=2017.4.17 in /usr/local/lib/python3.10/dist-packages (from requests->transformers) (2024.8.30)\n",
            "Requirement already satisfied: torch in /usr/local/lib/python3.10/dist-packages (2.4.1+cu121)\n",
            "Requirement already satisfied: filelock in /usr/local/lib/python3.10/dist-packages (from torch) (3.16.1)\n",
            "Requirement already satisfied: typing-extensions>=4.8.0 in /usr/local/lib/python3.10/dist-packages (from torch) (4.12.2)\n",
            "Requirement already satisfied: sympy in /usr/local/lib/python3.10/dist-packages (from torch) (1.13.3)\n",
            "Requirement already satisfied: networkx in /usr/local/lib/python3.10/dist-packages (from torch) (3.3)\n",
            "Requirement already satisfied: jinja2 in /usr/local/lib/python3.10/dist-packages (from torch) (3.1.4)\n",
            "Requirement already satisfied: fsspec in /usr/local/lib/python3.10/dist-packages (from torch) (2024.6.1)\n",
            "Requirement already satisfied: MarkupSafe>=2.0 in /usr/local/lib/python3.10/dist-packages (from jinja2->torch) (2.1.5)\n",
            "Requirement already satisfied: mpmath<1.4,>=1.1.0 in /usr/local/lib/python3.10/dist-packages (from sympy->torch) (1.3.0)\n",
            "Requirement already satisfied: pandas in /usr/local/lib/python3.10/dist-packages (2.2.2)\n",
            "Requirement already satisfied: numpy>=1.22.4 in /usr/local/lib/python3.10/dist-packages (from pandas) (1.26.4)\n",
            "Requirement already satisfied: python-dateutil>=2.8.2 in /usr/local/lib/python3.10/dist-packages (from pandas) (2.8.2)\n",
            "Requirement already satisfied: pytz>=2020.1 in /usr/local/lib/python3.10/dist-packages (from pandas) (2024.2)\n",
            "Requirement already satisfied: tzdata>=2022.7 in /usr/local/lib/python3.10/dist-packages (from pandas) (2024.2)\n",
            "Requirement already satisfied: six>=1.5 in /usr/local/lib/python3.10/dist-packages (from python-dateutil>=2.8.2->pandas) (1.16.0)\n",
            "Requirement already satisfied: scikit-learn in /usr/local/lib/python3.10/dist-packages (1.5.2)\n",
            "Requirement already satisfied: numpy>=1.19.5 in /usr/local/lib/python3.10/dist-packages (from scikit-learn) (1.26.4)\n",
            "Requirement already satisfied: scipy>=1.6.0 in /usr/local/lib/python3.10/dist-packages (from scikit-learn) (1.13.1)\n",
            "Requirement already satisfied: joblib>=1.2.0 in /usr/local/lib/python3.10/dist-packages (from scikit-learn) (1.4.2)\n",
            "Requirement already satisfied: threadpoolctl>=3.1.0 in /usr/local/lib/python3.10/dist-packages (from scikit-learn) (3.5.0)\n",
            "Requirement already satisfied: joblib in /usr/local/lib/python3.10/dist-packages (1.4.2)\n"
          ]
        }
      ]
    },
    {
      "cell_type": "code",
      "source": [
        "# classification_report를 딕셔너리 형태로 생성\n",
        "report_dict = classification_report(labels, preds, target_names=le.classes_, output_dict=True)\n",
        "\n",
        "# 딕셔너리를 데이터프레임으로 변환\n",
        "df_report = pd.DataFrame(report_dict).transpose()\n",
        "\n",
        "# 상위 20개 클래스의 precision, recall, f1-score 추출\n",
        "df_metrics = df_report.iloc[:20, :3]  # 'accuracy', 'macro avg', 'weighted avg' 제외\n",
        "\n",
        "# 그래프 스타일 설정\n",
        "sns.set(style=\"whitegrid\")\n",
        "\n",
        "# 그래프 크기 설정\n",
        "plt.figure(figsize=(15, 8))\n",
        "\n",
        "# 막대 그래프 생성\n",
        "df_metrics.plot(kind='bar', figsize=(15, 8))\n",
        "\n",
        "# 그래프 제목 및 축 레이블 설정\n",
        "plt.title('Precision, Recall, F1-Score', fontsize=16)\n",
        "plt.xlabel('class', fontsize=14)\n",
        "plt.ylabel('score', fontsize=14)\n",
        "\n",
        "# x축 레이블 회전\n",
        "plt.xticks(rotation=45, ha='right')\n",
        "\n",
        "# y축 범위 설정\n",
        "plt.ylim(0, 1)\n",
        "\n",
        "# 범례 위치 및 제목 설정\n",
        "plt.legend(title='지표', loc='lower right', fontsize=12)\n",
        "\n",
        "# 레이아웃 조정\n",
        "plt.tight_layout()\n",
        "\n",
        "# 그래프 출력\n",
        "plt.show()\n"
      ],
      "metadata": {
        "colab": {
          "base_uri": "https://localhost:8080/",
          "height": 1000
        },
        "id": "TTAqI2XI1xkz",
        "outputId": "46da6864-3933-45b4-f102-c7a08ec44e52"
      },
      "execution_count": 77,
      "outputs": [
        {
          "output_type": "stream",
          "name": "stderr",
          "text": [
            "/usr/local/lib/python3.10/dist-packages/sklearn/metrics/_classification.py:1531: UndefinedMetricWarning: Precision is ill-defined and being set to 0.0 in labels with no predicted samples. Use `zero_division` parameter to control this behavior.\n",
            "  _warn_prf(average, modifier, f\"{metric.capitalize()} is\", len(result))\n",
            "/usr/local/lib/python3.10/dist-packages/sklearn/metrics/_classification.py:1531: UndefinedMetricWarning: Precision is ill-defined and being set to 0.0 in labels with no predicted samples. Use `zero_division` parameter to control this behavior.\n",
            "  _warn_prf(average, modifier, f\"{metric.capitalize()} is\", len(result))\n",
            "/usr/local/lib/python3.10/dist-packages/sklearn/metrics/_classification.py:1531: UndefinedMetricWarning: Precision is ill-defined and being set to 0.0 in labels with no predicted samples. Use `zero_division` parameter to control this behavior.\n",
            "  _warn_prf(average, modifier, f\"{metric.capitalize()} is\", len(result))\n",
            "<ipython-input-77-e0afd08c8800>:34: UserWarning: Glyph 53364 (\\N{HANGUL SYLLABLE KEUL}) missing from current font.\n",
            "  plt.tight_layout()\n",
            "<ipython-input-77-e0afd08c8800>:34: UserWarning: Glyph 47000 (\\N{HANGUL SYLLABLE RAE}) missing from current font.\n",
            "  plt.tight_layout()\n",
            "<ipython-input-77-e0afd08c8800>:34: UserWarning: Glyph 49828 (\\N{HANGUL SYLLABLE SEU}) missing from current font.\n",
            "  plt.tight_layout()\n",
            "<ipython-input-77-e0afd08c8800>:34: UserWarning: Glyph 51216 (\\N{HANGUL SYLLABLE JEOM}) missing from current font.\n",
            "  plt.tight_layout()\n",
            "<ipython-input-77-e0afd08c8800>:34: UserWarning: Glyph 49688 (\\N{HANGUL SYLLABLE SU}) missing from current font.\n",
            "  plt.tight_layout()\n",
            "<ipython-input-77-e0afd08c8800>:34: UserWarning: Glyph 48324 (\\N{HANGUL SYLLABLE BYEOL}) missing from current font.\n",
            "  plt.tight_layout()\n",
            "<ipython-input-77-e0afd08c8800>:34: UserWarning: Glyph 51648 (\\N{HANGUL SYLLABLE JI}) missing from current font.\n",
            "  plt.tight_layout()\n",
            "<ipython-input-77-e0afd08c8800>:34: UserWarning: Glyph 54364 (\\N{HANGUL SYLLABLE PYO}) missing from current font.\n",
            "  plt.tight_layout()\n"
          ]
        },
        {
          "output_type": "display_data",
          "data": {
            "text/plain": [
              "<Figure size 1500x800 with 0 Axes>"
            ]
          },
          "metadata": {}
        },
        {
          "output_type": "stream",
          "name": "stderr",
          "text": [
            "/usr/local/lib/python3.10/dist-packages/IPython/core/pylabtools.py:151: UserWarning: Glyph 53364 (\\N{HANGUL SYLLABLE KEUL}) missing from current font.\n",
            "  fig.canvas.print_figure(bytes_io, **kw)\n",
            "/usr/local/lib/python3.10/dist-packages/IPython/core/pylabtools.py:151: UserWarning: Glyph 47000 (\\N{HANGUL SYLLABLE RAE}) missing from current font.\n",
            "  fig.canvas.print_figure(bytes_io, **kw)\n",
            "/usr/local/lib/python3.10/dist-packages/IPython/core/pylabtools.py:151: UserWarning: Glyph 49828 (\\N{HANGUL SYLLABLE SEU}) missing from current font.\n",
            "  fig.canvas.print_figure(bytes_io, **kw)\n",
            "/usr/local/lib/python3.10/dist-packages/IPython/core/pylabtools.py:151: UserWarning: Glyph 51216 (\\N{HANGUL SYLLABLE JEOM}) missing from current font.\n",
            "  fig.canvas.print_figure(bytes_io, **kw)\n",
            "/usr/local/lib/python3.10/dist-packages/IPython/core/pylabtools.py:151: UserWarning: Glyph 49688 (\\N{HANGUL SYLLABLE SU}) missing from current font.\n",
            "  fig.canvas.print_figure(bytes_io, **kw)\n",
            "/usr/local/lib/python3.10/dist-packages/IPython/core/pylabtools.py:151: UserWarning: Glyph 48324 (\\N{HANGUL SYLLABLE BYEOL}) missing from current font.\n",
            "  fig.canvas.print_figure(bytes_io, **kw)\n",
            "/usr/local/lib/python3.10/dist-packages/IPython/core/pylabtools.py:151: UserWarning: Glyph 51648 (\\N{HANGUL SYLLABLE JI}) missing from current font.\n",
            "  fig.canvas.print_figure(bytes_io, **kw)\n",
            "/usr/local/lib/python3.10/dist-packages/IPython/core/pylabtools.py:151: UserWarning: Glyph 54364 (\\N{HANGUL SYLLABLE PYO}) missing from current font.\n",
            "  fig.canvas.print_figure(bytes_io, **kw)\n"
          ]
        },
        {
          "output_type": "display_data",
          "data": {
            "text/plain": [
              "<Figure size 1500x800 with 1 Axes>"
            ],
            "image/png": "[encoded data removed]"
          },
          "metadata": {}
        }
      ]
    },
    {
      "cell_type": "code",
      "source": [
        "# 데이터프레임 재구성\n",
        "df_metrics = df_metrics.reset_index().melt(id_vars='index', value_vars=['precision', 'recall', 'f1-score'])\n",
        "df_metrics.rename(columns={'index': '클래스', 'variable': '지표', 'value': '점수'}, inplace=True)\n",
        "\n",
        "# Seaborn의 catplot 사용\n",
        "sns.catplot(x='클래스', y='점수', hue='지표', data=df_metrics, kind='bar', height=8, aspect=2)\n",
        "\n",
        "# 그래프 제목 설정\n",
        "plt.title('클래스별 Precision, Recall, F1-Score', fontsize=16)\n",
        "\n",
        "# 레이블 설정\n",
        "plt.xlabel('클래스', fontsize=14)\n",
        "plt.ylabel('점수', fontsize=14)\n",
        "\n",
        "# x축 레이블 회전\n",
        "plt.xticks(rotation=45, ha='right')\n",
        "\n",
        "# y축 범위 설정\n",
        "plt.ylim(0, 1)\n",
        "\n",
        "# 그래프 출력\n",
        "plt.show()\n"
      ],
      "metadata": {
        "colab": {
          "base_uri": "https://localhost:8080/",
          "height": 1000
        },
        "id": "xa-YMMbQ2Cmx",
        "outputId": "19fe1fea-e0cc-4997-ddd4-f0b41fd4bf11"
      },
      "execution_count": null,
      "outputs": [
        {
          "output_type": "stream",
          "name": "stderr",
          "text": [
            "/usr/local/lib/python3.10/dist-packages/seaborn/_base.py:949: FutureWarning: When grouping with a length-1 list-like, you will need to pass a length-1 tuple to get_group in a future version of pandas. Pass `(name,)` instead of `name` to silence this warning.\n",
            "  data_subset = grouped_data.get_group(pd_key)\n",
            "/usr/local/lib/python3.10/dist-packages/seaborn/_base.py:949: FutureWarning: When grouping with a length-1 list-like, you will need to pass a length-1 tuple to get_group in a future version of pandas. Pass `(name,)` instead of `name` to silence this warning.\n",
            "  data_subset = grouped_data.get_group(pd_key)\n",
            "/usr/local/lib/python3.10/dist-packages/seaborn/_base.py:949: FutureWarning: When grouping with a length-1 list-like, you will need to pass a length-1 tuple to get_group in a future version of pandas. Pass `(name,)` instead of `name` to silence this warning.\n",
            "  data_subset = grouped_data.get_group(pd_key)\n",
            "/usr/local/lib/python3.10/dist-packages/seaborn/axisgrid.py:123: UserWarning: Glyph 53364 (\\N{HANGUL SYLLABLE KEUL}) missing from current font.\n",
            "  self._figure.tight_layout(*args, **kwargs)\n",
            "/usr/local/lib/python3.10/dist-packages/seaborn/axisgrid.py:123: UserWarning: Glyph 47000 (\\N{HANGUL SYLLABLE RAE}) missing from current font.\n",
            "  self._figure.tight_layout(*args, **kwargs)\n",
            "/usr/local/lib/python3.10/dist-packages/seaborn/axisgrid.py:123: UserWarning: Glyph 49828 (\\N{HANGUL SYLLABLE SEU}) missing from current font.\n",
            "  self._figure.tight_layout(*args, **kwargs)\n",
            "/usr/local/lib/python3.10/dist-packages/seaborn/axisgrid.py:123: UserWarning: Glyph 51216 (\\N{HANGUL SYLLABLE JEOM}) missing from current font.\n",
            "  self._figure.tight_layout(*args, **kwargs)\n",
            "/usr/local/lib/python3.10/dist-packages/seaborn/axisgrid.py:123: UserWarning: Glyph 49688 (\\N{HANGUL SYLLABLE SU}) missing from current font.\n",
            "  self._figure.tight_layout(*args, **kwargs)\n",
            "/usr/local/lib/python3.10/dist-packages/seaborn/axisgrid.py:123: UserWarning: Glyph 51648 (\\N{HANGUL SYLLABLE JI}) missing from current font.\n",
            "  self._figure.tight_layout(*args, **kwargs)\n",
            "/usr/local/lib/python3.10/dist-packages/seaborn/axisgrid.py:123: UserWarning: Glyph 54364 (\\N{HANGUL SYLLABLE PYO}) missing from current font.\n",
            "  self._figure.tight_layout(*args, **kwargs)\n",
            "/usr/local/lib/python3.10/dist-packages/seaborn/utils.py:61: UserWarning: Glyph 53364 (\\N{HANGUL SYLLABLE KEUL}) missing from current font.\n",
            "  fig.canvas.draw()\n",
            "/usr/local/lib/python3.10/dist-packages/seaborn/utils.py:61: UserWarning: Glyph 47000 (\\N{HANGUL SYLLABLE RAE}) missing from current font.\n",
            "  fig.canvas.draw()\n",
            "/usr/local/lib/python3.10/dist-packages/seaborn/utils.py:61: UserWarning: Glyph 49828 (\\N{HANGUL SYLLABLE SEU}) missing from current font.\n",
            "  fig.canvas.draw()\n",
            "/usr/local/lib/python3.10/dist-packages/seaborn/utils.py:61: UserWarning: Glyph 51216 (\\N{HANGUL SYLLABLE JEOM}) missing from current font.\n",
            "  fig.canvas.draw()\n",
            "/usr/local/lib/python3.10/dist-packages/seaborn/utils.py:61: UserWarning: Glyph 49688 (\\N{HANGUL SYLLABLE SU}) missing from current font.\n",
            "  fig.canvas.draw()\n",
            "/usr/local/lib/python3.10/dist-packages/seaborn/utils.py:61: UserWarning: Glyph 51648 (\\N{HANGUL SYLLABLE JI}) missing from current font.\n",
            "  fig.canvas.draw()\n",
            "/usr/local/lib/python3.10/dist-packages/seaborn/utils.py:61: UserWarning: Glyph 54364 (\\N{HANGUL SYLLABLE PYO}) missing from current font.\n",
            "  fig.canvas.draw()\n",
            "/usr/local/lib/python3.10/dist-packages/IPython/core/pylabtools.py:151: UserWarning: Glyph 53364 (\\N{HANGUL SYLLABLE KEUL}) missing from current font.\n",
            "  fig.canvas.print_figure(bytes_io, **kw)\n",
            "/usr/local/lib/python3.10/dist-packages/IPython/core/pylabtools.py:151: UserWarning: Glyph 47000 (\\N{HANGUL SYLLABLE RAE}) missing from current font.\n",
            "  fig.canvas.print_figure(bytes_io, **kw)\n",
            "/usr/local/lib/python3.10/dist-packages/IPython/core/pylabtools.py:151: UserWarning: Glyph 49828 (\\N{HANGUL SYLLABLE SEU}) missing from current font.\n",
            "  fig.canvas.print_figure(bytes_io, **kw)\n",
            "/usr/local/lib/python3.10/dist-packages/IPython/core/pylabtools.py:151: UserWarning: Glyph 51216 (\\N{HANGUL SYLLABLE JEOM}) missing from current font.\n",
            "  fig.canvas.print_figure(bytes_io, **kw)\n",
            "/usr/local/lib/python3.10/dist-packages/IPython/core/pylabtools.py:151: UserWarning: Glyph 49688 (\\N{HANGUL SYLLABLE SU}) missing from current font.\n",
            "  fig.canvas.print_figure(bytes_io, **kw)\n",
            "/usr/local/lib/python3.10/dist-packages/IPython/core/pylabtools.py:151: UserWarning: Glyph 48324 (\\N{HANGUL SYLLABLE BYEOL}) missing from current font.\n",
            "  fig.canvas.print_figure(bytes_io, **kw)\n",
            "/usr/local/lib/python3.10/dist-packages/IPython/core/pylabtools.py:151: UserWarning: Glyph 51648 (\\N{HANGUL SYLLABLE JI}) missing from current font.\n",
            "  fig.canvas.print_figure(bytes_io, **kw)\n",
            "/usr/local/lib/python3.10/dist-packages/IPython/core/pylabtools.py:151: UserWarning: Glyph 54364 (\\N{HANGUL SYLLABLE PYO}) missing from current font.\n",
            "  fig.canvas.print_figure(bytes_io, **kw)\n"
          ]
        },
        {
          "output_type": "display_data",
          "data": {
            "text/plain": [
              "<Figure size 1724.25x800 with 1 Axes>"
            ],
            "image/png": "[encoded data removed]"
          },
          "metadata": {}
        }
      ]
    },
    {
      "cell_type": "code",
      "source": [
        "# 새로운 특허 문서 분류 함수 정의\n",
        "def predict_category(title, abstract, model, tokenizer, device, label_encoder):\n",
        "    model.eval()  # 모델을 평가 모드로 설정\n",
        "\n",
        "    # 제목과 초록을 결합\n",
        "    text = title + \" \" + abstract\n",
        "    encoding = tokenizer.encode_plus(\n",
        "        text,\n",
        "        add_special_tokens=True,\n",
        "        max_length=512,\n",
        "        truncation=True,\n",
        "        padding='max_length',\n",
        "        return_attention_mask=True,\n",
        "        return_tensors='pt',\n",
        "    )\n",
        "\n",
        "    input_ids = encoding['input_ids'].to(device)\n",
        "    attention_mask = encoding['attention_mask'].to(device)\n",
        "\n",
        "    with torch.no_grad():\n",
        "        outputs = model(input_ids=input_ids, attention_mask=attention_mask)\n",
        "        logits = outputs.logits\n",
        "        preds = torch.argmax(logits, dim=1).flatten()  # 예측 클래스 추출\n",
        "\n",
        "    category = label_encoder.inverse_transform(preds.cpu().numpy())  # 숫자 레이블을 문자열로 변환\n",
        "    return category[0]\n",
        "\n",
        "# 예시 특허 문서\n",
        "new_title = \"Innovative Widget Design\"\n",
        "new_abstract = \"This patent describes a novel widget that improves efficiency...\"\n",
        "\n",
        "# 예측\n",
        "predicted_category = predict_category(new_title, new_abstract, model, tokenizer, device, le)\n",
        "print(f'Predicted Category: {predicted_category}')\n"
      ],
      "metadata": {
        "colab": {
          "base_uri": "https://localhost:8080/"
        },
        "id": "EuMfy7Zf2HXc",
        "outputId": "ead4b953-ef13-43d0-a467-3a7e6ebe2344"
      },
      "execution_count": null,
      "outputs": [
        {
          "output_type": "stream",
          "name": "stdout",
          "text": [
            "Predicted Category: G10L  15/26\n"
          ]
        }
      ]
    },
    {
      "cell_type": "code",
      "source": [
        "from sklearn.metrics import confusion_matrix\n",
        "\n",
        "# 혼동 행렬 계산\n",
        "cm = confusion_matrix(labels, preds)\n"
      ],
      "metadata": {
        "id": "hb1CCGe_2K48"
      },
      "execution_count": null,
      "outputs": []
    },
    {
      "cell_type": "code",
      "source": [
        "import pandas as pd\n",
        "\n",
        "# 혼동 행렬을 데이터프레임으로 변환\n",
        "cm_df = pd.DataFrame(cm, index=le.classes_, columns=le.classes_)\n",
        "\n",
        "# 데이터프레임 확인\n",
        "print(cm_df)\n"
      ],
      "metadata": {
        "colab": {
          "base_uri": "https://localhost:8080/"
        },
        "id": "z2oSSysm2ZmD",
        "outputId": "cb0c9f4d-58e3-4472-b99b-ca48d3bfd7ae"
      },
      "execution_count": null,
      "outputs": [
        {
          "output_type": "stream",
          "name": "stdout",
          "text": [
            "                A61B   5/7267  A63F  13/67  B25J   9/161  B25J   9/1615  \\\n",
            "A61B   5/7267               2            0             0              0   \n",
            "A63F  13/67                 0            0             0              0   \n",
            "B25J   9/161                0            0             2              0   \n",
            "B25J   9/1615               0            0             1              0   \n",
            "F16H2061/0081               0            0             0              0   \n",
            "G05B  13/027                0            0             0              0   \n",
            "G05D   1/0077               0            0             0              0   \n",
            "G06N   3/049                1            0             0              0   \n",
            "G06T   9/00                 0            0             0              0   \n",
            "G06T   9/001                0            0             0              0   \n",
            "G06T   9/005                0            0             0              0   \n",
            "G06T   9/007                0            0             0              0   \n",
            "G06T   9/008                0            0             0              0   \n",
            "G10L  15/22                 0            0             0              0   \n",
            "G10L  15/26                 0            0             0              0   \n",
            "G10L  17/00                 0            0             0              0   \n",
            "H01M   8/04992              0            0             0              0   \n",
            "Y10S 706/90                 0            0             0              0   \n",
            "Y10S 706/919                0            0             0              0   \n",
            "Y10S 706/924                1            0             0              0   \n",
            "\n",
            "                F16H2061/0081  G05B  13/027  G05D   1/0077  G06N   3/049  \\\n",
            "A61B   5/7267               0             0              0             0   \n",
            "A63F  13/67                 0             0              0             0   \n",
            "B25J   9/161                0             0              0             0   \n",
            "B25J   9/1615               1             0              0             0   \n",
            "F16H2061/0081               4             0              0             0   \n",
            "G05B  13/027                0             1              0             0   \n",
            "G05D   1/0077               0             0              2             0   \n",
            "G06N   3/049                1             0              0             0   \n",
            "G06T   9/00                 0             0              0             0   \n",
            "G06T   9/001                0             0              0             0   \n",
            "G06T   9/005                0             0              0             0   \n",
            "G06T   9/007                0             0              0             0   \n",
            "G06T   9/008                0             0              0             0   \n",
            "G10L  15/22                 0             0              0             0   \n",
            "G10L  15/26                 0             0              0             0   \n",
            "G10L  17/00                 0             0              0             0   \n",
            "H01M   8/04992              0             0              0             0   \n",
            "Y10S 706/90                 2             0              0             0   \n",
            "Y10S 706/919                0             0              0             0   \n",
            "Y10S 706/924                0             0              1             0   \n",
            "\n",
            "                G06T   9/00  G06T   9/001  G06T   9/005  G06T   9/007  \\\n",
            "A61B   5/7267             0             0             0             0   \n",
            "A63F  13/67               0             0             2             0   \n",
            "B25J   9/161              0             0             0             0   \n",
            "B25J   9/1615             0             0             0             0   \n",
            "F16H2061/0081             0             0             0             0   \n",
            "G05B  13/027              0             0             1             0   \n",
            "G05D   1/0077             0             0             0             0   \n",
            "G06N   3/049              0             0             0             0   \n",
            "G06T   9/00               0             0             3             0   \n",
            "G06T   9/001              0             0             2             0   \n",
            "G06T   9/005              0             0             5             0   \n",
            "G06T   9/007              0             0             3             0   \n",
            "G06T   9/008              0             0             3             0   \n",
            "G10L  15/22               0             0             0             0   \n",
            "G10L  15/26               0             0             0             0   \n",
            "G10L  17/00               0             0             0             0   \n",
            "H01M   8/04992            0             0             0             0   \n",
            "Y10S 706/90               0             0             0             0   \n",
            "Y10S 706/919              0             0             0             0   \n",
            "Y10S 706/924              0             0             0             0   \n",
            "\n",
            "                G06T   9/008  G10L  15/22  G10L  15/26  G10L  17/00  \\\n",
            "A61B   5/7267              0            0            2            0   \n",
            "A63F  13/67                0            0            0            0   \n",
            "B25J   9/161               0            0            0            0   \n",
            "B25J   9/1615              0            0            0            0   \n",
            "F16H2061/0081              0            0            0            0   \n",
            "G05B  13/027               0            0            0            0   \n",
            "G05D   1/0077              0            0            0            0   \n",
            "G06N   3/049               0            0            0            0   \n",
            "G06T   9/00                0            0            0            0   \n",
            "G06T   9/001               0            0            0            0   \n",
            "G06T   9/005               0            0            0            0   \n",
            "G06T   9/007               0            0            0            0   \n",
            "G06T   9/008               0            0            0            0   \n",
            "G10L  15/22                0            0            2            0   \n",
            "G10L  15/26                0            0            6            0   \n",
            "G10L  17/00                0            0            0            2   \n",
            "H01M   8/04992             0            0            0            0   \n",
            "Y10S 706/90                0            0            0            0   \n",
            "Y10S 706/919               0            0            2            0   \n",
            "Y10S 706/924               0            0            0            0   \n",
            "\n",
            "                H01M   8/04992  Y10S 706/90  Y10S 706/919  Y10S 706/924  \n",
            "A61B   5/7267                0            0             0             0  \n",
            "A63F  13/67                  0            0             0             0  \n",
            "B25J   9/161                 0            0             0             0  \n",
            "B25J   9/1615                0            0             0             0  \n",
            "F16H2061/0081                0            0             0             0  \n",
            "G05B  13/027                 0            0             0             0  \n",
            "G05D   1/0077                0            0             0             0  \n",
            "G06N   3/049                 0            0             0             0  \n",
            "G06T   9/00                  0            0             0             0  \n",
            "G06T   9/001                 0            0             0             0  \n",
            "G06T   9/005                 0            0             0             0  \n",
            "G06T   9/007                 0            0             0             0  \n",
            "G06T   9/008                 0            0             0             0  \n",
            "G10L  15/22                  0            0             0             0  \n",
            "G10L  15/26                  0            0             0             0  \n",
            "G10L  17/00                  0            0             0             0  \n",
            "H01M   8/04992               2            0             0             0  \n",
            "Y10S 706/90                  0            0             0             0  \n",
            "Y10S 706/919                 0            0             0             0  \n",
            "Y10S 706/924                 0            0             0             0  \n"
          ]
        }
      ]
    },
    {
      "cell_type": "code",
      "source": [
        "import seaborn as sns\n",
        "import matplotlib.pyplot as plt\n",
        "\n",
        "# 그래프 스타일 설정\n",
        "sns.set(style=\"whitegrid\")\n",
        "\n",
        "# 그래프 크기 설정 (클래스 수에 따라 조정 가능)\n",
        "plt.figure(figsize=(20, 16))\n",
        "\n",
        "# 히트맵 생성\n",
        "sns.heatmap(cm_df, annot=True, fmt='d', cmap='Blues')\n",
        "\n",
        "# 그래프 제목 및 축 레이블 설정\n",
        "plt.title('Confusion Matrix', fontsize=20)\n",
        "plt.xlabel('Predicted', fontsize=16)\n",
        "plt.ylabel('Real', fontsize=16)\n",
        "\n",
        "# x축 레이블 회전 (가독성 향상)\n",
        "plt.xticks(rotation=45, ha='right', fontsize=12)\n",
        "plt.yticks(rotation=0, fontsize=12)\n",
        "\n",
        "# 레이아웃 조정\n",
        "plt.tight_layout()\n",
        "\n",
        "# 그래프 출력\n",
        "plt.show()\n"
      ],
      "metadata": {
        "colab": {
          "base_uri": "https://localhost:8080/",
          "height": 827
        },
        "id": "IUcPqKHQ2b6Z",
        "outputId": "f3aa08c9-28a2-43f3-bdab-ab48712a0f32"
      },
      "execution_count": null,
      "outputs": [
        {
          "output_type": "display_data",
          "data": {
            "text/plain": [
              "<Figure size 2000x1600 with 2 Axes>"
            ],
            "image/png": "[encoded data removed]"
          },
          "metadata": {}
        }
      ]
    },
    {
      "cell_type": "code",
      "source": [],
      "metadata": {
        "id": "ZolZwSjp2hML"
      },
      "execution_count": null,
      "outputs": []
    }
  ]
}