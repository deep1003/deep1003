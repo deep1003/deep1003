{
  "nbformat": 4,
  "nbformat_minor": 0,
  "metadata": {
    "colab": {
      "provenance": [],
      "machine_shape": "hm",
      "gpuType": "T4",
      "authorship_tag": "ABX9TyMN6Op2DpUUAxdAxYI7k8A0",
      "include_colab_link": true
    },
    "kernelspec": {
      "name": "python3",
      "display_name": "Python 3"
    },
    "language_info": {
      "name": "python"
    },
    "accelerator": "GPU",
    "widgets": {
      "application/vnd.jupyter.widget-state+json": {
        "e225167554e8458395460a1ae7d1f503": {
          "model_module": "@jupyter-widgets/controls",
          "model_name": "HBoxModel",
          "model_module_version": "1.5.0",
          "state": {
            "_dom_classes": [],
            "_model_module": "@jupyter-widgets/controls",
            "_model_module_version": "1.5.0",
            "_model_name": "HBoxModel",
            "_view_count": null,
            "_view_module": "@jupyter-widgets/controls",
            "_view_module_version": "1.5.0",
            "_view_name": "HBoxView",
            "box_style": "",
            "children": [
              "IPY_MODEL_0185583ef10142e1b88bf89b36bf2a16",
              "IPY_MODEL_8561d5283ed741c5873fe4c89b21d6a4",
              "IPY_MODEL_495898b129394d8b82e9cf84790cfc7c"
            ],
            "layout": "IPY_MODEL_f1d61a659e944ee7a91dd5adc71733c7"
          }
        },
        "0185583ef10142e1b88bf89b36bf2a16": {
          "model_module": "@jupyter-widgets/controls",
          "model_name": "HTMLModel",
          "model_module_version": "1.5.0",
          "state": {
            "_dom_classes": [],
            "_model_module": "@jupyter-widgets/controls",
            "_model_module_version": "1.5.0",
            "_model_name": "HTMLModel",
            "_view_count": null,
            "_view_module": "@jupyter-widgets/controls",
            "_view_module_version": "1.5.0",
            "_view_name": "HTMLView",
            "description": "",
            "description_tooltip": null,
            "layout": "IPY_MODEL_ebdab112879e49f098b56f45cf11c7c4",
            "placeholder": "​",
            "style": "IPY_MODEL_0c5adc046f0f412e8f7785aa04eb999b",
            "value": "tokenizer_config.json: 100%"
          }
        },
        "8561d5283ed741c5873fe4c89b21d6a4": {
          "model_module": "@jupyter-widgets/controls",
          "model_name": "FloatProgressModel",
          "model_module_version": "1.5.0",
          "state": {
            "_dom_classes": [],
            "_model_module": "@jupyter-widgets/controls",
            "_model_module_version": "1.5.0",
            "_model_name": "FloatProgressModel",
            "_view_count": null,
            "_view_module": "@jupyter-widgets/controls",
            "_view_module_version": "1.5.0",
            "_view_name": "ProgressView",
            "bar_style": "success",
            "description": "",
            "description_tooltip": null,
            "layout": "IPY_MODEL_eeca991082d343c3aa6070175ffcda7e",
            "max": 48,
            "min": 0,
            "orientation": "horizontal",
            "style": "IPY_MODEL_9ee92e5ecbac4e8195f2f4e7454a6f4d",
            "value": 48
          }
        },
        "495898b129394d8b82e9cf84790cfc7c": {
          "model_module": "@jupyter-widgets/controls",
          "model_name": "HTMLModel",
          "model_module_version": "1.5.0",
          "state": {
            "_dom_classes": [],
            "_model_module": "@jupyter-widgets/controls",
            "_model_module_version": "1.5.0",
            "_model_name": "HTMLModel",
            "_view_count": null,
            "_view_module": "@jupyter-widgets/controls",
            "_view_module_version": "1.5.0",
            "_view_name": "HTMLView",
            "description": "",
            "description_tooltip": null,
            "layout": "IPY_MODEL_7e5270b2191f4ff9ab87ae632c4ec3c3",
            "placeholder": "​",
            "style": "IPY_MODEL_d70d4b2d989640c5a2aa238e8b9ea543",
            "value": " 48.0/48.0 [00:00&lt;00:00, 4.05kB/s]"
          }
        },
        "f1d61a659e944ee7a91dd5adc71733c7": {
          "model_module": "@jupyter-widgets/base",
          "model_name": "LayoutModel",
          "model_module_version": "1.2.0",
          "state": {
            "_model_module": "@jupyter-widgets/base",
            "_model_module_version": "1.2.0",
            "_model_name": "LayoutModel",
            "_view_count": null,
            "_view_module": "@jupyter-widgets/base",
            "_view_module_version": "1.2.0",
            "_view_name": "LayoutView",
            "align_content": null,
            "align_items": null,
            "align_self": null,
            "border": null,
            "bottom": null,
            "display": null,
            "flex": null,
            "flex_flow": null,
            "grid_area": null,
            "grid_auto_columns": null,
            "grid_auto_flow": null,
            "grid_auto_rows": null,
            "grid_column": null,
            "grid_gap": null,
            "grid_row": null,
            "grid_template_areas": null,
            "grid_template_columns": null,
            "grid_template_rows": null,
            "height": null,
            "justify_content": null,
            "justify_items": null,
            "left": null,
            "margin": null,
            "max_height": null,
            "max_width": null,
            "min_height": null,
            "min_width": null,
            "object_fit": null,
            "object_position": null,
            "order": null,
            "overflow": null,
            "overflow_x": null,
            "overflow_y": null,
            "padding": null,
            "right": null,
            "top": null,
            "visibility": null,
            "width": null
          }
        },
        "ebdab112879e49f098b56f45cf11c7c4": {
          "model_module": "@jupyter-widgets/base",
          "model_name": "LayoutModel",
          "model_module_version": "1.2.0",
          "state": {
            "_model_module": "@jupyter-widgets/base",
            "_model_module_version": "1.2.0",
            "_model_name": "LayoutModel",
            "_view_count": null,
            "_view_module": "@jupyter-widgets/base",
            "_view_module_version": "1.2.0",
            "_view_name": "LayoutView",
            "align_content": null,
            "align_items": null,
            "align_self": null,
            "border": null,
            "bottom": null,
            "display": null,
            "flex": null,
            "flex_flow": null,
            "grid_area": null,
            "grid_auto_columns": null,
            "grid_auto_flow": null,
            "grid_auto_rows": null,
            "grid_column": null,
            "grid_gap": null,
            "grid_row": null,
            "grid_template_areas": null,
            "grid_template_columns": null,
            "grid_template_rows": null,
            "height": null,
            "justify_content": null,
            "justify_items": null,
            "left": null,
            "margin": null,
            "max_height": null,
            "max_width": null,
            "min_height": null,
            "min_width": null,
            "object_fit": null,
            "object_position": null,
            "order": null,
            "overflow": null,
            "overflow_x": null,
            "overflow_y": null,
            "padding": null,
            "right": null,
            "top": null,
            "visibility": null,
            "width": null
          }
        },
        "0c5adc046f0f412e8f7785aa04eb999b": {
          "model_module": "@jupyter-widgets/controls",
          "model_name": "DescriptionStyleModel",
          "model_module_version": "1.5.0",
          "state": {
            "_model_module": "@jupyter-widgets/controls",
            "_model_module_version": "1.5.0",
            "_model_name": "DescriptionStyleModel",
            "_view_count": null,
            "_view_module": "@jupyter-widgets/base",
            "_view_module_version": "1.2.0",
            "_view_name": "StyleView",
            "description_width": ""
          }
        },
        "eeca991082d343c3aa6070175ffcda7e": {
          "model_module": "@jupyter-widgets/base",
          "model_name": "LayoutModel",
          "model_module_version": "1.2.0",
          "state": {
            "_model_module": "@jupyter-widgets/base",
            "_model_module_version": "1.2.0",
            "_model_name": "LayoutModel",
            "_view_count": null,
            "_view_module": "@jupyter-widgets/base",
            "_view_module_version": "1.2.0",
            "_view_name": "LayoutView",
            "align_content": null,
            "align_items": null,
            "align_self": null,
            "border": null,
            "bottom": null,
            "display": null,
            "flex": null,
            "flex_flow": null,
            "grid_area": null,
            "grid_auto_columns": null,
            "grid_auto_flow": null,
            "grid_auto_rows": null,
            "grid_column": null,
            "grid_gap": null,
            "grid_row": null,
            "grid_template_areas": null,
            "grid_template_columns": null,
            "grid_template_rows": null,
            "height": null,
            "justify_content": null,
            "justify_items": null,
            "left": null,
            "margin": null,
            "max_height": null,
            "max_width": null,
            "min_height": null,
            "min_width": null,
            "object_fit": null,
            "object_position": null,
            "order": null,
            "overflow": null,
            "overflow_x": null,
            "overflow_y": null,
            "padding": null,
            "right": null,
            "top": null,
            "visibility": null,
            "width": null
          }
        },
        "9ee92e5ecbac4e8195f2f4e7454a6f4d": {
          "model_module": "@jupyter-widgets/controls",
          "model_name": "ProgressStyleModel",
          "model_module_version": "1.5.0",
          "state": {
            "_model_module": "@jupyter-widgets/controls",
            "_model_module_version": "1.5.0",
            "_model_name": "ProgressStyleModel",
            "_view_count": null,
            "_view_module": "@jupyter-widgets/base",
            "_view_module_version": "1.2.0",
            "_view_name": "StyleView",
            "bar_color": null,
            "description_width": ""
          }
        },
        "7e5270b2191f4ff9ab87ae632c4ec3c3": {
          "model_module": "@jupyter-widgets/base",
          "model_name": "LayoutModel",
          "model_module_version": "1.2.0",
          "state": {
            "_model_module": "@jupyter-widgets/base",
            "_model_module_version": "1.2.0",
            "_model_name": "LayoutModel",
            "_view_count": null,
            "_view_module": "@jupyter-widgets/base",
            "_view_module_version": "1.2.0",
            "_view_name": "LayoutView",
            "align_content": null,
            "align_items": null,
            "align_self": null,
            "border": null,
            "bottom": null,
            "display": null,
            "flex": null,
            "flex_flow": null,
            "grid_area": null,
            "grid_auto_columns": null,
            "grid_auto_flow": null,
            "grid_auto_rows": null,
            "grid_column": null,
            "grid_gap": null,
            "grid_row": null,
            "grid_template_areas": null,
            "grid_template_columns": null,
            "grid_template_rows": null,
            "height": null,
            "justify_content": null,
            "justify_items": null,
            "left": null,
            "margin": null,
            "max_height": null,
            "max_width": null,
            "min_height": null,
            "min_width": null,
            "object_fit": null,
            "object_position": null,
            "order": null,
            "overflow": null,
            "overflow_x": null,
            "overflow_y": null,
            "padding": null,
            "right": null,
            "top": null,
            "visibility": null,
            "width": null
          }
        },
        "d70d4b2d989640c5a2aa238e8b9ea543": {
          "model_module": "@jupyter-widgets/controls",
          "model_name": "DescriptionStyleModel",
          "model_module_version": "1.5.0",
          "state": {
            "_model_module": "@jupyter-widgets/controls",
            "_model_module_version": "1.5.0",
            "_model_name": "DescriptionStyleModel",
            "_view_count": null,
            "_view_module": "@jupyter-widgets/base",
            "_view_module_version": "1.2.0",
            "_view_name": "StyleView",
            "description_width": ""
          }
        },
        "fb6d423a74a24165a98fcbacf219e5c6": {
          "model_module": "@jupyter-widgets/controls",
          "model_name": "HBoxModel",
          "model_module_version": "1.5.0",
          "state": {
            "_dom_classes": [],
            "_model_module": "@jupyter-widgets/controls",
            "_model_module_version": "1.5.0",
            "_model_name": "HBoxModel",
            "_view_count": null,
            "_view_module": "@jupyter-widgets/controls",
            "_view_module_version": "1.5.0",
            "_view_name": "HBoxView",
            "box_style": "",
            "children": [
              "IPY_MODEL_bfbc86fceb0b4f739565432f8cc89d0b",
              "IPY_MODEL_1aa0fe76a7914bfd9c333d3c78479272",
              "IPY_MODEL_f547756eea5347b3965186352937f24e"
            ],
            "layout": "IPY_MODEL_0a5d6e1606844dd0a9e758870fcae3ff"
          }
        },
        "bfbc86fceb0b4f739565432f8cc89d0b": {
          "model_module": "@jupyter-widgets/controls",
          "model_name": "HTMLModel",
          "model_module_version": "1.5.0",
          "state": {
            "_dom_classes": [],
            "_model_module": "@jupyter-widgets/controls",
            "_model_module_version": "1.5.0",
            "_model_name": "HTMLModel",
            "_view_count": null,
            "_view_module": "@jupyter-widgets/controls",
            "_view_module_version": "1.5.0",
            "_view_name": "HTMLView",
            "description": "",
            "description_tooltip": null,
            "layout": "IPY_MODEL_19528183d49f4c43a8287335d4b5a0e5",
            "placeholder": "​",
            "style": "IPY_MODEL_2ea1586535bb4f6795e89f5f6199e810",
            "value": "vocab.txt: 100%"
          }
        },
        "1aa0fe76a7914bfd9c333d3c78479272": {
          "model_module": "@jupyter-widgets/controls",
          "model_name": "FloatProgressModel",
          "model_module_version": "1.5.0",
          "state": {
            "_dom_classes": [],
            "_model_module": "@jupyter-widgets/controls",
            "_model_module_version": "1.5.0",
            "_model_name": "FloatProgressModel",
            "_view_count": null,
            "_view_module": "@jupyter-widgets/controls",
            "_view_module_version": "1.5.0",
            "_view_name": "ProgressView",
            "bar_style": "success",
            "description": "",
            "description_tooltip": null,
            "layout": "IPY_MODEL_6cb1c9105780419e8c7ca8129ebdbaa0",
            "max": 231508,
            "min": 0,
            "orientation": "horizontal",
            "style": "IPY_MODEL_dfe285f7ac314fdf9c71318fb6aac44f",
            "value": 231508
          }
        },
        "f547756eea5347b3965186352937f24e": {
          "model_module": "@jupyter-widgets/controls",
          "model_name": "HTMLModel",
          "model_module_version": "1.5.0",
          "state": {
            "_dom_classes": [],
            "_model_module": "@jupyter-widgets/controls",
            "_model_module_version": "1.5.0",
            "_model_name": "HTMLModel",
            "_view_count": null,
            "_view_module": "@jupyter-widgets/controls",
            "_view_module_version": "1.5.0",
            "_view_name": "HTMLView",
            "description": "",
            "description_tooltip": null,
            "layout": "IPY_MODEL_d11be3e71cdb447d8aa813222b8d897e",
            "placeholder": "​",
            "style": "IPY_MODEL_0657d98446ca4871b60be84d96356f3b",
            "value": " 232k/232k [00:00&lt;00:00, 666kB/s]"
          }
        },
        "0a5d6e1606844dd0a9e758870fcae3ff": {
          "model_module": "@jupyter-widgets/base",
          "model_name": "LayoutModel",
          "model_module_version": "1.2.0",
          "state": {
            "_model_module": "@jupyter-widgets/base",
            "_model_module_version": "1.2.0",
            "_model_name": "LayoutModel",
            "_view_count": null,
            "_view_module": "@jupyter-widgets/base",
            "_view_module_version": "1.2.0",
            "_view_name": "LayoutView",
            "align_content": null,
            "align_items": null,
            "align_self": null,
            "border": null,
            "bottom": null,
            "display": null,
            "flex": null,
            "flex_flow": null,
            "grid_area": null,
            "grid_auto_columns": null,
            "grid_auto_flow": null,
            "grid_auto_rows": null,
            "grid_column": null,
            "grid_gap": null,
            "grid_row": null,
            "grid_template_areas": null,
            "grid_template_columns": null,
            "grid_template_rows": null,
            "height": null,
            "justify_content": null,
            "justify_items": null,
            "left": null,
            "margin": null,
            "max_height": null,
            "max_width": null,
            "min_height": null,
            "min_width": null,
            "object_fit": null,
            "object_position": null,
            "order": null,
            "overflow": null,
            "overflow_x": null,
            "overflow_y": null,
            "padding": null,
            "right": null,
            "top": null,
            "visibility": null,
            "width": null
          }
        },
        "19528183d49f4c43a8287335d4b5a0e5": {
          "model_module": "@jupyter-widgets/base",
          "model_name": "LayoutModel",
          "model_module_version": "1.2.0",
          "state": {
            "_model_module": "@jupyter-widgets/base",
            "_model_module_version": "1.2.0",
            "_model_name": "LayoutModel",
            "_view_count": null,
            "_view_module": "@jupyter-widgets/base",
            "_view_module_version": "1.2.0",
            "_view_name": "LayoutView",
            "align_content": null,
            "align_items": null,
            "align_self": null,
            "border": null,
            "bottom": null,
            "display": null,
            "flex": null,
            "flex_flow": null,
            "grid_area": null,
            "grid_auto_columns": null,
            "grid_auto_flow": null,
            "grid_auto_rows": null,
            "grid_column": null,
            "grid_gap": null,
            "grid_row": null,
            "grid_template_areas": null,
            "grid_template_columns": null,
            "grid_template_rows": null,
            "height": null,
            "justify_content": null,
            "justify_items": null,
            "left": null,
            "margin": null,
            "max_height": null,
            "max_width": null,
            "min_height": null,
            "min_width": null,
            "object_fit": null,
            "object_position": null,
            "order": null,
            "overflow": null,
            "overflow_x": null,
            "overflow_y": null,
            "padding": null,
            "right": null,
            "top": null,
            "visibility": null,
            "width": null
          }
        },
        "2ea1586535bb4f6795e89f5f6199e810": {
          "model_module": "@jupyter-widgets/controls",
          "model_name": "DescriptionStyleModel",
          "model_module_version": "1.5.0",
          "state": {
            "_model_module": "@jupyter-widgets/controls",
            "_model_module_version": "1.5.0",
            "_model_name": "DescriptionStyleModel",
            "_view_count": null,
            "_view_module": "@jupyter-widgets/base",
            "_view_module_version": "1.2.0",
            "_view_name": "StyleView",
            "description_width": ""
          }
        },
        "6cb1c9105780419e8c7ca8129ebdbaa0": {
          "model_module": "@jupyter-widgets/base",
          "model_name": "LayoutModel",
          "model_module_version": "1.2.0",
          "state": {
            "_model_module": "@jupyter-widgets/base",
            "_model_module_version": "1.2.0",
            "_model_name": "LayoutModel",
            "_view_count": null,
            "_view_module": "@jupyter-widgets/base",
            "_view_module_version": "1.2.0",
            "_view_name": "LayoutView",
            "align_content": null,
            "align_items": null,
            "align_self": null,
            "border": null,
            "bottom": null,
            "display": null,
            "flex": null,
            "flex_flow": null,
            "grid_area": null,
            "grid_auto_columns": null,
            "grid_auto_flow": null,
            "grid_auto_rows": null,
            "grid_column": null,
            "grid_gap": null,
            "grid_row": null,
            "grid_template_areas": null,
            "grid_template_columns": null,
            "grid_template_rows": null,
            "height": null,
            "justify_content": null,
            "justify_items": null,
            "left": null,
            "margin": null,
            "max_height": null,
            "max_width": null,
            "min_height": null,
            "min_width": null,
            "object_fit": null,
            "object_position": null,
            "order": null,
            "overflow": null,
            "overflow_x": null,
            "overflow_y": null,
            "padding": null,
            "right": null,
            "top": null,
            "visibility": null,
            "width": null
          }
        },
        "dfe285f7ac314fdf9c71318fb6aac44f": {
          "model_module": "@jupyter-widgets/controls",
          "model_name": "ProgressStyleModel",
          "model_module_version": "1.5.0",
          "state": {
            "_model_module": "@jupyter-widgets/controls",
            "_model_module_version": "1.5.0",
            "_model_name": "ProgressStyleModel",
            "_view_count": null,
            "_view_module": "@jupyter-widgets/base",
            "_view_module_version": "1.2.0",
            "_view_name": "StyleView",
            "bar_color": null,
            "description_width": ""
          }
        },
        "d11be3e71cdb447d8aa813222b8d897e": {
          "model_module": "@jupyter-widgets/base",
          "model_name": "LayoutModel",
          "model_module_version": "1.2.0",
          "state": {
            "_model_module": "@jupyter-widgets/base",
            "_model_module_version": "1.2.0",
            "_model_name": "LayoutModel",
            "_view_count": null,
            "_view_module": "@jupyter-widgets/base",
            "_view_module_version": "1.2.0",
            "_view_name": "LayoutView",
            "align_content": null,
            "align_items": null,
            "align_self": null,
            "border": null,
            "bottom": null,
            "display": null,
            "flex": null,
            "flex_flow": null,
            "grid_area": null,
            "grid_auto_columns": null,
            "grid_auto_flow": null,
            "grid_auto_rows": null,
            "grid_column": null,
            "grid_gap": null,
            "grid_row": null,
            "grid_template_areas": null,
            "grid_template_columns": null,
            "grid_template_rows": null,
            "height": null,
            "justify_content": null,
            "justify_items": null,
            "left": null,
            "margin": null,
            "max_height": null,
            "max_width": null,
            "min_height": null,
            "min_width": null,
            "object_fit": null,
            "object_position": null,
            "order": null,
            "overflow": null,
            "overflow_x": null,
            "overflow_y": null,
            "padding": null,
            "right": null,
            "top": null,
            "visibility": null,
            "width": null
          }
        },
        "0657d98446ca4871b60be84d96356f3b": {
          "model_module": "@jupyter-widgets/controls",
          "model_name": "DescriptionStyleModel",
          "model_module_version": "1.5.0",
          "state": {
            "_model_module": "@jupyter-widgets/controls",
            "_model_module_version": "1.5.0",
            "_model_name": "DescriptionStyleModel",
            "_view_count": null,
            "_view_module": "@jupyter-widgets/base",
            "_view_module_version": "1.2.0",
            "_view_name": "StyleView",
            "description_width": ""
          }
        },
        "51536d3228ef4f1584dedd39b57e3b81": {
          "model_module": "@jupyter-widgets/controls",
          "model_name": "HBoxModel",
          "model_module_version": "1.5.0",
          "state": {
            "_dom_classes": [],
            "_model_module": "@jupyter-widgets/controls",
            "_model_module_version": "1.5.0",
            "_model_name": "HBoxModel",
            "_view_count": null,
            "_view_module": "@jupyter-widgets/controls",
            "_view_module_version": "1.5.0",
            "_view_name": "HBoxView",
            "box_style": "",
            "children": [
              "IPY_MODEL_4d269b4ee32a4bf1978e93582b29ff37",
              "IPY_MODEL_7d10f92e55db42038cf87bc655748110",
              "IPY_MODEL_877836d786ca46dc86b5349fd5a4663a"
            ],
            "layout": "IPY_MODEL_c22bc7889e054259851c21afdb396997"
          }
        },
        "4d269b4ee32a4bf1978e93582b29ff37": {
          "model_module": "@jupyter-widgets/controls",
          "model_name": "HTMLModel",
          "model_module_version": "1.5.0",
          "state": {
            "_dom_classes": [],
            "_model_module": "@jupyter-widgets/controls",
            "_model_module_version": "1.5.0",
            "_model_name": "HTMLModel",
            "_view_count": null,
            "_view_module": "@jupyter-widgets/controls",
            "_view_module_version": "1.5.0",
            "_view_name": "HTMLView",
            "description": "",
            "description_tooltip": null,
            "layout": "IPY_MODEL_8be961e53e6349359d1a8694f023ba8d",
            "placeholder": "​",
            "style": "IPY_MODEL_6a349119233a4b4d8d6e16120bf43902",
            "value": "tokenizer.json: 100%"
          }
        },
        "7d10f92e55db42038cf87bc655748110": {
          "model_module": "@jupyter-widgets/controls",
          "model_name": "FloatProgressModel",
          "model_module_version": "1.5.0",
          "state": {
            "_dom_classes": [],
            "_model_module": "@jupyter-widgets/controls",
            "_model_module_version": "1.5.0",
            "_model_name": "FloatProgressModel",
            "_view_count": null,
            "_view_module": "@jupyter-widgets/controls",
            "_view_module_version": "1.5.0",
            "_view_name": "ProgressView",
            "bar_style": "success",
            "description": "",
            "description_tooltip": null,
            "layout": "IPY_MODEL_87c960ae995c4eac8643496324d93c3f",
            "max": 466062,
            "min": 0,
            "orientation": "horizontal",
            "style": "IPY_MODEL_9d51fdf443dc4390989edd3e2d5da550",
            "value": 466062
          }
        },
        "877836d786ca46dc86b5349fd5a4663a": {
          "model_module": "@jupyter-widgets/controls",
          "model_name": "HTMLModel",
          "model_module_version": "1.5.0",
          "state": {
            "_dom_classes": [],
            "_model_module": "@jupyter-widgets/controls",
            "_model_module_version": "1.5.0",
            "_model_name": "HTMLModel",
            "_view_count": null,
            "_view_module": "@jupyter-widgets/controls",
            "_view_module_version": "1.5.0",
            "_view_name": "HTMLView",
            "description": "",
            "description_tooltip": null,
            "layout": "IPY_MODEL_c2b0d0bdca81418bbe3c5293ddc40f80",
            "placeholder": "​",
            "style": "IPY_MODEL_e369b9e945314e1c8d8da78f4f10ff72",
            "value": " 466k/466k [00:00&lt;00:00, 903kB/s]"
          }
        },
        "c22bc7889e054259851c21afdb396997": {
          "model_module": "@jupyter-widgets/base",
          "model_name": "LayoutModel",
          "model_module_version": "1.2.0",
          "state": {
            "_model_module": "@jupyter-widgets/base",
            "_model_module_version": "1.2.0",
            "_model_name": "LayoutModel",
            "_view_count": null,
            "_view_module": "@jupyter-widgets/base",
            "_view_module_version": "1.2.0",
            "_view_name": "LayoutView",
            "align_content": null,
            "align_items": null,
            "align_self": null,
            "border": null,
            "bottom": null,
            "display": null,
            "flex": null,
            "flex_flow": null,
            "grid_area": null,
            "grid_auto_columns": null,
            "grid_auto_flow": null,
            "grid_auto_rows": null,
            "grid_column": null,
            "grid_gap": null,
            "grid_row": null,
            "grid_template_areas": null,
            "grid_template_columns": null,
            "grid_template_rows": null,
            "height": null,
            "justify_content": null,
            "justify_items": null,
            "left": null,
            "margin": null,
            "max_height": null,
            "max_width": null,
            "min_height": null,
            "min_width": null,
            "object_fit": null,
            "object_position": null,
            "order": null,
            "overflow": null,
            "overflow_x": null,
            "overflow_y": null,
            "padding": null,
            "right": null,
            "top": null,
            "visibility": null,
            "width": null
          }
        },
        "8be961e53e6349359d1a8694f023ba8d": {
          "model_module": "@jupyter-widgets/base",
          "model_name": "LayoutModel",
          "model_module_version": "1.2.0",
          "state": {
            "_model_module": "@jupyter-widgets/base",
            "_model_module_version": "1.2.0",
            "_model_name": "LayoutModel",
            "_view_count": null,
            "_view_module": "@jupyter-widgets/base",
            "_view_module_version": "1.2.0",
            "_view_name": "LayoutView",
            "align_content": null,
            "align_items": null,
            "align_self": null,
            "border": null,
            "bottom": null,
            "display": null,
            "flex": null,
            "flex_flow": null,
            "grid_area": null,
            "grid_auto_columns": null,
            "grid_auto_flow": null,
            "grid_auto_rows": null,
            "grid_column": null,
            "grid_gap": null,
            "grid_row": null,
            "grid_template_areas": null,
            "grid_template_columns": null,
            "grid_template_rows": null,
            "height": null,
            "justify_content": null,
            "justify_items": null,
            "left": null,
            "margin": null,
            "max_height": null,
            "max_width": null,
            "min_height": null,
            "min_width": null,
            "object_fit": null,
            "object_position": null,
            "order": null,
            "overflow": null,
            "overflow_x": null,
            "overflow_y": null,
            "padding": null,
            "right": null,
            "top": null,
            "visibility": null,
            "width": null
          }
        },
        "6a349119233a4b4d8d6e16120bf43902": {
          "model_module": "@jupyter-widgets/controls",
          "model_name": "DescriptionStyleModel",
          "model_module_version": "1.5.0",
          "state": {
            "_model_module": "@jupyter-widgets/controls",
            "_model_module_version": "1.5.0",
            "_model_name": "DescriptionStyleModel",
            "_view_count": null,
            "_view_module": "@jupyter-widgets/base",
            "_view_module_version": "1.2.0",
            "_view_name": "StyleView",
            "description_width": ""
          }
        },
        "87c960ae995c4eac8643496324d93c3f": {
          "model_module": "@jupyter-widgets/base",
          "model_name": "LayoutModel",
          "model_module_version": "1.2.0",
          "state": {
            "_model_module": "@jupyter-widgets/base",
            "_model_module_version": "1.2.0",
            "_model_name": "LayoutModel",
            "_view_count": null,
            "_view_module": "@jupyter-widgets/base",
            "_view_module_version": "1.2.0",
            "_view_name": "LayoutView",
            "align_content": null,
            "align_items": null,
            "align_self": null,
            "border": null,
            "bottom": null,
            "display": null,
            "flex": null,
            "flex_flow": null,
            "grid_area": null,
            "grid_auto_columns": null,
            "grid_auto_flow": null,
            "grid_auto_rows": null,
            "grid_column": null,
            "grid_gap": null,
            "grid_row": null,
            "grid_template_areas": null,
            "grid_template_columns": null,
            "grid_template_rows": null,
            "height": null,
            "justify_content": null,
            "justify_items": null,
            "left": null,
            "margin": null,
            "max_height": null,
            "max_width": null,
            "min_height": null,
            "min_width": null,
            "object_fit": null,
            "object_position": null,
            "order": null,
            "overflow": null,
            "overflow_x": null,
            "overflow_y": null,
            "padding": null,
            "right": null,
            "top": null,
            "visibility": null,
            "width": null
          }
        },
        "9d51fdf443dc4390989edd3e2d5da550": {
          "model_module": "@jupyter-widgets/controls",
          "model_name": "ProgressStyleModel",
          "model_module_version": "1.5.0",
          "state": {
            "_model_module": "@jupyter-widgets/controls",
            "_model_module_version": "1.5.0",
            "_model_name": "ProgressStyleModel",
            "_view_count": null,
            "_view_module": "@jupyter-widgets/base",
            "_view_module_version": "1.2.0",
            "_view_name": "StyleView",
            "bar_color": null,
            "description_width": ""
          }
        },
        "c2b0d0bdca81418bbe3c5293ddc40f80": {
          "model_module": "@jupyter-widgets/base",
          "model_name": "LayoutModel",
          "model_module_version": "1.2.0",
          "state": {
            "_model_module": "@jupyter-widgets/base",
            "_model_module_version": "1.2.0",
            "_model_name": "LayoutModel",
            "_view_count": null,
            "_view_module": "@jupyter-widgets/base",
            "_view_module_version": "1.2.0",
            "_view_name": "LayoutView",
            "align_content": null,
            "align_items": null,
            "align_self": null,
            "border": null,
            "bottom": null,
            "display": null,
            "flex": null,
            "flex_flow": null,
            "grid_area": null,
            "grid_auto_columns": null,
            "grid_auto_flow": null,
            "grid_auto_rows": null,
            "grid_column": null,
            "grid_gap": null,
            "grid_row": null,
            "grid_template_areas": null,
            "grid_template_columns": null,
            "grid_template_rows": null,
            "height": null,
            "justify_content": null,
            "justify_items": null,
            "left": null,
            "margin": null,
            "max_height": null,
            "max_width": null,
            "min_height": null,
            "min_width": null,
            "object_fit": null,
            "object_position": null,
            "order": null,
            "overflow": null,
            "overflow_x": null,
            "overflow_y": null,
            "padding": null,
            "right": null,
            "top": null,
            "visibility": null,
            "width": null
          }
        },
        "e369b9e945314e1c8d8da78f4f10ff72": {
          "model_module": "@jupyter-widgets/controls",
          "model_name": "DescriptionStyleModel",
          "model_module_version": "1.5.0",
          "state": {
            "_model_module": "@jupyter-widgets/controls",
            "_model_module_version": "1.5.0",
            "_model_name": "DescriptionStyleModel",
            "_view_count": null,
            "_view_module": "@jupyter-widgets/base",
            "_view_module_version": "1.2.0",
            "_view_name": "StyleView",
            "description_width": ""
          }
        },
        "2ae4adeab3024ee2a4a1ec04a63c8155": {
          "model_module": "@jupyter-widgets/controls",
          "model_name": "HBoxModel",
          "model_module_version": "1.5.0",
          "state": {
            "_dom_classes": [],
            "_model_module": "@jupyter-widgets/controls",
            "_model_module_version": "1.5.0",
            "_model_name": "HBoxModel",
            "_view_count": null,
            "_view_module": "@jupyter-widgets/controls",
            "_view_module_version": "1.5.0",
            "_view_name": "HBoxView",
            "box_style": "",
            "children": [
              "IPY_MODEL_7c7b743aa091471fadcb205b763a8343",
              "IPY_MODEL_4734029e4fcc4f4d9ef53743396150c2",
              "IPY_MODEL_d3852808917848659061b953d271326b"
            ],
            "layout": "IPY_MODEL_89ba818cce064133b0b593978632f154"
          }
        },
        "7c7b743aa091471fadcb205b763a8343": {
          "model_module": "@jupyter-widgets/controls",
          "model_name": "HTMLModel",
          "model_module_version": "1.5.0",
          "state": {
            "_dom_classes": [],
            "_model_module": "@jupyter-widgets/controls",
            "_model_module_version": "1.5.0",
            "_model_name": "HTMLModel",
            "_view_count": null,
            "_view_module": "@jupyter-widgets/controls",
            "_view_module_version": "1.5.0",
            "_view_name": "HTMLView",
            "description": "",
            "description_tooltip": null,
            "layout": "IPY_MODEL_3f19f01c072a45aa873a475f46fd06f2",
            "placeholder": "​",
            "style": "IPY_MODEL_39cb8eedf03147c98457ae67516c54fe",
            "value": "config.json: 100%"
          }
        },
        "4734029e4fcc4f4d9ef53743396150c2": {
          "model_module": "@jupyter-widgets/controls",
          "model_name": "FloatProgressModel",
          "model_module_version": "1.5.0",
          "state": {
            "_dom_classes": [],
            "_model_module": "@jupyter-widgets/controls",
            "_model_module_version": "1.5.0",
            "_model_name": "FloatProgressModel",
            "_view_count": null,
            "_view_module": "@jupyter-widgets/controls",
            "_view_module_version": "1.5.0",
            "_view_name": "ProgressView",
            "bar_style": "success",
            "description": "",
            "description_tooltip": null,
            "layout": "IPY_MODEL_60d3bc1a884c42229f27aa4f242f47da",
            "max": 570,
            "min": 0,
            "orientation": "horizontal",
            "style": "IPY_MODEL_7c1db4e2e09b4115b9a02a9c729b1e76",
            "value": 570
          }
        },
        "d3852808917848659061b953d271326b": {
          "model_module": "@jupyter-widgets/controls",
          "model_name": "HTMLModel",
          "model_module_version": "1.5.0",
          "state": {
            "_dom_classes": [],
            "_model_module": "@jupyter-widgets/controls",
            "_model_module_version": "1.5.0",
            "_model_name": "HTMLModel",
            "_view_count": null,
            "_view_module": "@jupyter-widgets/controls",
            "_view_module_version": "1.5.0",
            "_view_name": "HTMLView",
            "description": "",
            "description_tooltip": null,
            "layout": "IPY_MODEL_35c81ca60e2946f79f74a325c73186bb",
            "placeholder": "​",
            "style": "IPY_MODEL_84c13a2782d64e99877b4c30eefbe277",
            "value": " 570/570 [00:00&lt;00:00, 49.8kB/s]"
          }
        },
        "89ba818cce064133b0b593978632f154": {
          "model_module": "@jupyter-widgets/base",
          "model_name": "LayoutModel",
          "model_module_version": "1.2.0",
          "state": {
            "_model_module": "@jupyter-widgets/base",
            "_model_module_version": "1.2.0",
            "_model_name": "LayoutModel",
            "_view_count": null,
            "_view_module": "@jupyter-widgets/base",
            "_view_module_version": "1.2.0",
            "_view_name": "LayoutView",
            "align_content": null,
            "align_items": null,
            "align_self": null,
            "border": null,
            "bottom": null,
            "display": null,
            "flex": null,
            "flex_flow": null,
            "grid_area": null,
            "grid_auto_columns": null,
            "grid_auto_flow": null,
            "grid_auto_rows": null,
            "grid_column": null,
            "grid_gap": null,
            "grid_row": null,
            "grid_template_areas": null,
            "grid_template_columns": null,
            "grid_template_rows": null,
            "height": null,
            "justify_content": null,
            "justify_items": null,
            "left": null,
            "margin": null,
            "max_height": null,
            "max_width": null,
            "min_height": null,
            "min_width": null,
            "object_fit": null,
            "object_position": null,
            "order": null,
            "overflow": null,
            "overflow_x": null,
            "overflow_y": null,
            "padding": null,
            "right": null,
            "top": null,
            "visibility": null,
            "width": null
          }
        },
        "3f19f01c072a45aa873a475f46fd06f2": {
          "model_module": "@jupyter-widgets/base",
          "model_name": "LayoutModel",
          "model_module_version": "1.2.0",
          "state": {
            "_model_module": "@jupyter-widgets/base",
            "_model_module_version": "1.2.0",
            "_model_name": "LayoutModel",
            "_view_count": null,
            "_view_module": "@jupyter-widgets/base",
            "_view_module_version": "1.2.0",
            "_view_name": "LayoutView",
            "align_content": null,
            "align_items": null,
            "align_self": null,
            "border": null,
            "bottom": null,
            "display": null,
            "flex": null,
            "flex_flow": null,
            "grid_area": null,
            "grid_auto_columns": null,
            "grid_auto_flow": null,
            "grid_auto_rows": null,
            "grid_column": null,
            "grid_gap": null,
            "grid_row": null,
            "grid_template_areas": null,
            "grid_template_columns": null,
            "grid_template_rows": null,
            "height": null,
            "justify_content": null,
            "justify_items": null,
            "left": null,
            "margin": null,
            "max_height": null,
            "max_width": null,
            "min_height": null,
            "min_width": null,
            "object_fit": null,
            "object_position": null,
            "order": null,
            "overflow": null,
            "overflow_x": null,
            "overflow_y": null,
            "padding": null,
            "right": null,
            "top": null,
            "visibility": null,
            "width": null
          }
        },
        "39cb8eedf03147c98457ae67516c54fe": {
          "model_module": "@jupyter-widgets/controls",
          "model_name": "DescriptionStyleModel",
          "model_module_version": "1.5.0",
          "state": {
            "_model_module": "@jupyter-widgets/controls",
            "_model_module_version": "1.5.0",
            "_model_name": "DescriptionStyleModel",
            "_view_count": null,
            "_view_module": "@jupyter-widgets/base",
            "_view_module_version": "1.2.0",
            "_view_name": "StyleView",
            "description_width": ""
          }
        },
        "60d3bc1a884c42229f27aa4f242f47da": {
          "model_module": "@jupyter-widgets/base",
          "model_name": "LayoutModel",
          "model_module_version": "1.2.0",
          "state": {
            "_model_module": "@jupyter-widgets/base",
            "_model_module_version": "1.2.0",
            "_model_name": "LayoutModel",
            "_view_count": null,
            "_view_module": "@jupyter-widgets/base",
            "_view_module_version": "1.2.0",
            "_view_name": "LayoutView",
            "align_content": null,
            "align_items": null,
            "align_self": null,
            "border": null,
            "bottom": null,
            "display": null,
            "flex": null,
            "flex_flow": null,
            "grid_area": null,
            "grid_auto_columns": null,
            "grid_auto_flow": null,
            "grid_auto_rows": null,
            "grid_column": null,
            "grid_gap": null,
            "grid_row": null,
            "grid_template_areas": null,
            "grid_template_columns": null,
            "grid_template_rows": null,
            "height": null,
            "justify_content": null,
            "justify_items": null,
            "left": null,
            "margin": null,
            "max_height": null,
            "max_width": null,
            "min_height": null,
            "min_width": null,
            "object_fit": null,
            "object_position": null,
            "order": null,
            "overflow": null,
            "overflow_x": null,
            "overflow_y": null,
            "padding": null,
            "right": null,
            "top": null,
            "visibility": null,
            "width": null
          }
        },
        "7c1db4e2e09b4115b9a02a9c729b1e76": {
          "model_module": "@jupyter-widgets/controls",
          "model_name": "ProgressStyleModel",
          "model_module_version": "1.5.0",
          "state": {
            "_model_module": "@jupyter-widgets/controls",
            "_model_module_version": "1.5.0",
            "_model_name": "ProgressStyleModel",
            "_view_count": null,
            "_view_module": "@jupyter-widgets/base",
            "_view_module_version": "1.2.0",
            "_view_name": "StyleView",
            "bar_color": null,
            "description_width": ""
          }
        },
        "35c81ca60e2946f79f74a325c73186bb": {
          "model_module": "@jupyter-widgets/base",
          "model_name": "LayoutModel",
          "model_module_version": "1.2.0",
          "state": {
            "_model_module": "@jupyter-widgets/base",
            "_model_module_version": "1.2.0",
            "_model_name": "LayoutModel",
            "_view_count": null,
            "_view_module": "@jupyter-widgets/base",
            "_view_module_version": "1.2.0",
            "_view_name": "LayoutView",
            "align_content": null,
            "align_items": null,
            "align_self": null,
            "border": null,
            "bottom": null,
            "display": null,
            "flex": null,
            "flex_flow": null,
            "grid_area": null,
            "grid_auto_columns": null,
            "grid_auto_flow": null,
            "grid_auto_rows": null,
            "grid_column": null,
            "grid_gap": null,
            "grid_row": null,
            "grid_template_areas": null,
            "grid_template_columns": null,
            "grid_template_rows": null,
            "height": null,
            "justify_content": null,
            "justify_items": null,
            "left": null,
            "margin": null,
            "max_height": null,
            "max_width": null,
            "min_height": null,
            "min_width": null,
            "object_fit": null,
            "object_position": null,
            "order": null,
            "overflow": null,
            "overflow_x": null,
            "overflow_y": null,
            "padding": null,
            "right": null,
            "top": null,
            "visibility": null,
            "width": null
          }
        },
        "84c13a2782d64e99877b4c30eefbe277": {
          "model_module": "@jupyter-widgets/controls",
          "model_name": "DescriptionStyleModel",
          "model_module_version": "1.5.0",
          "state": {
            "_model_module": "@jupyter-widgets/controls",
            "_model_module_version": "1.5.0",
            "_model_name": "DescriptionStyleModel",
            "_view_count": null,
            "_view_module": "@jupyter-widgets/base",
            "_view_module_version": "1.2.0",
            "_view_name": "StyleView",
            "description_width": ""
          }
        },
        "ba6a0c8f7b7043c385f49a8e7565d90b": {
          "model_module": "@jupyter-widgets/controls",
          "model_name": "HBoxModel",
          "model_module_version": "1.5.0",
          "state": {
            "_dom_classes": [],
            "_model_module": "@jupyter-widgets/controls",
            "_model_module_version": "1.5.0",
            "_model_name": "HBoxModel",
            "_view_count": null,
            "_view_module": "@jupyter-widgets/controls",
            "_view_module_version": "1.5.0",
            "_view_name": "HBoxView",
            "box_style": "",
            "children": [
              "IPY_MODEL_c8c4bdffdc734e30bdcd25555fe75c04",
              "IPY_MODEL_bf00671929ac43d6a349fa38a85bc821",
              "IPY_MODEL_e4a11516f8064f0a8551d9a584da59fc"
            ],
            "layout": "IPY_MODEL_7d1e13df734f4e7a9a62d00ab0e354f9"
          }
        },
        "c8c4bdffdc734e30bdcd25555fe75c04": {
          "model_module": "@jupyter-widgets/controls",
          "model_name": "HTMLModel",
          "model_module_version": "1.5.0",
          "state": {
            "_dom_classes": [],
            "_model_module": "@jupyter-widgets/controls",
            "_model_module_version": "1.5.0",
            "_model_name": "HTMLModel",
            "_view_count": null,
            "_view_module": "@jupyter-widgets/controls",
            "_view_module_version": "1.5.0",
            "_view_name": "HTMLView",
            "description": "",
            "description_tooltip": null,
            "layout": "IPY_MODEL_1cfe30f8cf004a03a0760a65c4639d48",
            "placeholder": "​",
            "style": "IPY_MODEL_33478021a3c946e5929ed30935e16ccd",
            "value": "model.safetensors: 100%"
          }
        },
        "bf00671929ac43d6a349fa38a85bc821": {
          "model_module": "@jupyter-widgets/controls",
          "model_name": "FloatProgressModel",
          "model_module_version": "1.5.0",
          "state": {
            "_dom_classes": [],
            "_model_module": "@jupyter-widgets/controls",
            "_model_module_version": "1.5.0",
            "_model_name": "FloatProgressModel",
            "_view_count": null,
            "_view_module": "@jupyter-widgets/controls",
            "_view_module_version": "1.5.0",
            "_view_name": "ProgressView",
            "bar_style": "success",
            "description": "",
            "description_tooltip": null,
            "layout": "IPY_MODEL_51df182aa046474a8f765ee57d36a840",
            "max": 440449768,
            "min": 0,
            "orientation": "horizontal",
            "style": "IPY_MODEL_d2e7e9edd68a482f9cbf5efa59d9eda8",
            "value": 440449768
          }
        },
        "e4a11516f8064f0a8551d9a584da59fc": {
          "model_module": "@jupyter-widgets/controls",
          "model_name": "HTMLModel",
          "model_module_version": "1.5.0",
          "state": {
            "_dom_classes": [],
            "_model_module": "@jupyter-widgets/controls",
            "_model_module_version": "1.5.0",
            "_model_name": "HTMLModel",
            "_view_count": null,
            "_view_module": "@jupyter-widgets/controls",
            "_view_module_version": "1.5.0",
            "_view_name": "HTMLView",
            "description": "",
            "description_tooltip": null,
            "layout": "IPY_MODEL_6e6f0df4356d41a2ade5fd3d90655ee8",
            "placeholder": "​",
            "style": "IPY_MODEL_5078d77aca0742848a32950c245c4eb1",
            "value": " 440M/440M [00:01&lt;00:00, 369MB/s]"
          }
        },
        "7d1e13df734f4e7a9a62d00ab0e354f9": {
          "model_module": "@jupyter-widgets/base",
          "model_name": "LayoutModel",
          "model_module_version": "1.2.0",
          "state": {
            "_model_module": "@jupyter-widgets/base",
            "_model_module_version": "1.2.0",
            "_model_name": "LayoutModel",
            "_view_count": null,
            "_view_module": "@jupyter-widgets/base",
            "_view_module_version": "1.2.0",
            "_view_name": "LayoutView",
            "align_content": null,
            "align_items": null,
            "align_self": null,
            "border": null,
            "bottom": null,
            "display": null,
            "flex": null,
            "flex_flow": null,
            "grid_area": null,
            "grid_auto_columns": null,
            "grid_auto_flow": null,
            "grid_auto_rows": null,
            "grid_column": null,
            "grid_gap": null,
            "grid_row": null,
            "grid_template_areas": null,
            "grid_template_columns": null,
            "grid_template_rows": null,
            "height": null,
            "justify_content": null,
            "justify_items": null,
            "left": null,
            "margin": null,
            "max_height": null,
            "max_width": null,
            "min_height": null,
            "min_width": null,
            "object_fit": null,
            "object_position": null,
            "order": null,
            "overflow": null,
            "overflow_x": null,
            "overflow_y": null,
            "padding": null,
            "right": null,
            "top": null,
            "visibility": null,
            "width": null
          }
        },
        "1cfe30f8cf004a03a0760a65c4639d48": {
          "model_module": "@jupyter-widgets/base",
          "model_name": "LayoutModel",
          "model_module_version": "1.2.0",
          "state": {
            "_model_module": "@jupyter-widgets/base",
            "_model_module_version": "1.2.0",
            "_model_name": "LayoutModel",
            "_view_count": null,
            "_view_module": "@jupyter-widgets/base",
            "_view_module_version": "1.2.0",
            "_view_name": "LayoutView",
            "align_content": null,
            "align_items": null,
            "align_self": null,
            "border": null,
            "bottom": null,
            "display": null,
            "flex": null,
            "flex_flow": null,
            "grid_area": null,
            "grid_auto_columns": null,
            "grid_auto_flow": null,
            "grid_auto_rows": null,
            "grid_column": null,
            "grid_gap": null,
            "grid_row": null,
            "grid_template_areas": null,
            "grid_template_columns": null,
            "grid_template_rows": null,
            "height": null,
            "justify_content": null,
            "justify_items": null,
            "left": null,
            "margin": null,
            "max_height": null,
            "max_width": null,
            "min_height": null,
            "min_width": null,
            "object_fit": null,
            "object_position": null,
            "order": null,
            "overflow": null,
            "overflow_x": null,
            "overflow_y": null,
            "padding": null,
            "right": null,
            "top": null,
            "visibility": null,
            "width": null
          }
        },
        "33478021a3c946e5929ed30935e16ccd": {
          "model_module": "@jupyter-widgets/controls",
          "model_name": "DescriptionStyleModel",
          "model_module_version": "1.5.0",
          "state": {
            "_model_module": "@jupyter-widgets/controls",
            "_model_module_version": "1.5.0",
            "_model_name": "DescriptionStyleModel",
            "_view_count": null,
            "_view_module": "@jupyter-widgets/base",
            "_view_module_version": "1.2.0",
            "_view_name": "StyleView",
            "description_width": ""
          }
        },
        "51df182aa046474a8f765ee57d36a840": {
          "model_module": "@jupyter-widgets/base",
          "model_name": "LayoutModel",
          "model_module_version": "1.2.0",
          "state": {
            "_model_module": "@jupyter-widgets/base",
            "_model_module_version": "1.2.0",
            "_model_name": "LayoutModel",
            "_view_count": null,
            "_view_module": "@jupyter-widgets/base",
            "_view_module_version": "1.2.0",
            "_view_name": "LayoutView",
            "align_content": null,
            "align_items": null,
            "align_self": null,
            "border": null,
            "bottom": null,
            "display": null,
            "flex": null,
            "flex_flow": null,
            "grid_area": null,
            "grid_auto_columns": null,
            "grid_auto_flow": null,
            "grid_auto_rows": null,
            "grid_column": null,
            "grid_gap": null,
            "grid_row": null,
            "grid_template_areas": null,
            "grid_template_columns": null,
            "grid_template_rows": null,
            "height": null,
            "justify_content": null,
            "justify_items": null,
            "left": null,
            "margin": null,
            "max_height": null,
            "max_width": null,
            "min_height": null,
            "min_width": null,
            "object_fit": null,
            "object_position": null,
            "order": null,
            "overflow": null,
            "overflow_x": null,
            "overflow_y": null,
            "padding": null,
            "right": null,
            "top": null,
            "visibility": null,
            "width": null
          }
        },
        "d2e7e9edd68a482f9cbf5efa59d9eda8": {
          "model_module": "@jupyter-widgets/controls",
          "model_name": "ProgressStyleModel",
          "model_module_version": "1.5.0",
          "state": {
            "_model_module": "@jupyter-widgets/controls",
            "_model_module_version": "1.5.0",
            "_model_name": "ProgressStyleModel",
            "_view_count": null,
            "_view_module": "@jupyter-widgets/base",
            "_view_module_version": "1.2.0",
            "_view_name": "StyleView",
            "bar_color": null,
            "description_width": ""
          }
        },
        "6e6f0df4356d41a2ade5fd3d90655ee8": {
          "model_module": "@jupyter-widgets/base",
          "model_name": "LayoutModel",
          "model_module_version": "1.2.0",
          "state": {
            "_model_module": "@jupyter-widgets/base",
            "_model_module_version": "1.2.0",
            "_model_name": "LayoutModel",
            "_view_count": null,
            "_view_module": "@jupyter-widgets/base",
            "_view_module_version": "1.2.0",
            "_view_name": "LayoutView",
            "align_content": null,
            "align_items": null,
            "align_self": null,
            "border": null,
            "bottom": null,
            "display": null,
            "flex": null,
            "flex_flow": null,
            "grid_area": null,
            "grid_auto_columns": null,
            "grid_auto_flow": null,
            "grid_auto_rows": null,
            "grid_column": null,
            "grid_gap": null,
            "grid_row": null,
            "grid_template_areas": null,
            "grid_template_columns": null,
            "grid_template_rows": null,
            "height": null,
            "justify_content": null,
            "justify_items": null,
            "left": null,
            "margin": null,
            "max_height": null,
            "max_width": null,
            "min_height": null,
            "min_width": null,
            "object_fit": null,
            "object_position": null,
            "order": null,
            "overflow": null,
            "overflow_x": null,
            "overflow_y": null,
            "padding": null,
            "right": null,
            "top": null,
            "visibility": null,
            "width": null
          }
        },
        "5078d77aca0742848a32950c245c4eb1": {
          "model_module": "@jupyter-widgets/controls",
          "model_name": "DescriptionStyleModel",
          "model_module_version": "1.5.0",
          "state": {
            "_model_module": "@jupyter-widgets/controls",
            "_model_module_version": "1.5.0",
            "_model_name": "DescriptionStyleModel",
            "_view_count": null,
            "_view_module": "@jupyter-widgets/base",
            "_view_module_version": "1.2.0",
            "_view_name": "StyleView",
            "description_width": ""
          }
        }
      }
    }
  },
  "cells": [
    {
      "cell_type": "markdown",
      "metadata": {
        "id": "view-in-github",
        "colab_type": "text"
      },
      "source": [
        "<a href=\"https://colab.research.google.com/github/deep1003/deep1003/blob/master/1_Patent_BERT241009.ipynb\" target=\"_parent\"><img src=\"https://colab.research.google.com/assets/colab-badge.svg\" alt=\"Open In Colab\"/></a>"
      ]
    },
    {
      "cell_type": "code",
      "execution_count": 1,
      "metadata": {
        "id": "BXvXks5q_jvG",
        "colab": {
          "base_uri": "https://localhost:8080/"
        },
        "outputId": "321f122d-39e2-4ff2-82f3-ef082bfe5ce6"
      },
      "outputs": [
        {
          "output_type": "stream",
          "name": "stdout",
          "text": [
            "Collecting pycountry\n",
            "  Downloading pycountry-24.6.1-py3-none-any.whl.metadata (12 kB)\n",
            "Downloading pycountry-24.6.1-py3-none-any.whl (6.3 MB)\n",
            "\u001b[2K   \u001b[90m━━━━━━━━━━━━━━━━━━━━━━━━━━━━━━━━━━━━━━━━\u001b[0m \u001b[32m6.3/6.3 MB\u001b[0m \u001b[31m43.3 MB/s\u001b[0m eta \u001b[36m0:00:00\u001b[0m\n",
            "\u001b[?25hInstalling collected packages: pycountry\n",
            "Successfully installed pycountry-24.6.1\n"
          ]
        }
      ],
      "source": [
        "# !pip install --target=$my_path pycountry\n",
        "!pip install pycountry\n",
        "import pycountry"
      ]
    },
    {
      "cell_type": "code",
      "source": [
        "# @article{patent_bert,\n",
        "#   author = \"Jieh-Sheng Lee and Jieh Hsiang\",\n",
        "#   title = \"{PatentBERT: Patent classification with fine-tuning a pre-trained BERT model}\",\n",
        "#   journal = \"World Patent Information\",\n",
        "#   volume = \"61\",\n",
        "#   number = \"101965\",\n",
        "#   year = \"2020\",\n",
        "# }"
      ],
      "metadata": {
        "id": "EBPUD9ydT4fq"
      },
      "execution_count": 2,
      "outputs": []
    },
    {
      "cell_type": "code",
      "source": [
        "# 필요한 라이브러리 설치\n",
        "!pip install transformers\n",
        "!pip install torch\n",
        "!pip install pandas\n",
        "!pip install scikit-learn\n",
        "!pip install joblib\n"
      ],
      "metadata": {
        "colab": {
          "base_uri": "https://localhost:8080/"
        },
        "id": "mKtSCtomT6Sy",
        "outputId": "8e9e99df-6737-4391-b556-ca7cd67d4237"
      },
      "execution_count": 3,
      "outputs": [
        {
          "output_type": "stream",
          "name": "stdout",
          "text": [
            "Requirement already satisfied: transformers in /usr/local/lib/python3.10/dist-packages (4.44.2)\n",
            "Requirement already satisfied: filelock in /usr/local/lib/python3.10/dist-packages (from transformers) (3.16.1)\n",
            "Requirement already satisfied: huggingface-hub<1.0,>=0.23.2 in /usr/local/lib/python3.10/dist-packages (from transformers) (0.24.7)\n",
            "Requirement already satisfied: numpy>=1.17 in /usr/local/lib/python3.10/dist-packages (from transformers) (1.26.4)\n",
            "Requirement already satisfied: packaging>=20.0 in /usr/local/lib/python3.10/dist-packages (from transformers) (24.1)\n",
            "Requirement already satisfied: pyyaml>=5.1 in /usr/local/lib/python3.10/dist-packages (from transformers) (6.0.2)\n",
            "Requirement already satisfied: regex!=2019.12.17 in /usr/local/lib/python3.10/dist-packages (from transformers) (2024.9.11)\n",
            "Requirement already satisfied: requests in /usr/local/lib/python3.10/dist-packages (from transformers) (2.32.3)\n",
            "Requirement already satisfied: safetensors>=0.4.1 in /usr/local/lib/python3.10/dist-packages (from transformers) (0.4.5)\n",
            "Requirement already satisfied: tokenizers<0.20,>=0.19 in /usr/local/lib/python3.10/dist-packages (from transformers) (0.19.1)\n",
            "Requirement already satisfied: tqdm>=4.27 in /usr/local/lib/python3.10/dist-packages (from transformers) (4.66.5)\n",
            "Requirement already satisfied: fsspec>=2023.5.0 in /usr/local/lib/python3.10/dist-packages (from huggingface-hub<1.0,>=0.23.2->transformers) (2024.6.1)\n",
            "Requirement already satisfied: typing-extensions>=3.7.4.3 in /usr/local/lib/python3.10/dist-packages (from huggingface-hub<1.0,>=0.23.2->transformers) (4.12.2)\n",
            "Requirement already satisfied: charset-normalizer<4,>=2 in /usr/local/lib/python3.10/dist-packages (from requests->transformers) (3.3.2)\n",
            "Requirement already satisfied: idna<4,>=2.5 in /usr/local/lib/python3.10/dist-packages (from requests->transformers) (3.10)\n",
            "Requirement already satisfied: urllib3<3,>=1.21.1 in /usr/local/lib/python3.10/dist-packages (from requests->transformers) (2.2.3)\n",
            "Requirement already satisfied: certifi>=2017.4.17 in /usr/local/lib/python3.10/dist-packages (from requests->transformers) (2024.8.30)\n",
            "Requirement already satisfied: torch in /usr/local/lib/python3.10/dist-packages (2.4.1+cu121)\n",
            "Requirement already satisfied: filelock in /usr/local/lib/python3.10/dist-packages (from torch) (3.16.1)\n",
            "Requirement already satisfied: typing-extensions>=4.8.0 in /usr/local/lib/python3.10/dist-packages (from torch) (4.12.2)\n",
            "Requirement already satisfied: sympy in /usr/local/lib/python3.10/dist-packages (from torch) (1.13.3)\n",
            "Requirement already satisfied: networkx in /usr/local/lib/python3.10/dist-packages (from torch) (3.3)\n",
            "Requirement already satisfied: jinja2 in /usr/local/lib/python3.10/dist-packages (from torch) (3.1.4)\n",
            "Requirement already satisfied: fsspec in /usr/local/lib/python3.10/dist-packages (from torch) (2024.6.1)\n",
            "Requirement already satisfied: MarkupSafe>=2.0 in /usr/local/lib/python3.10/dist-packages (from jinja2->torch) (2.1.5)\n",
            "Requirement already satisfied: mpmath<1.4,>=1.1.0 in /usr/local/lib/python3.10/dist-packages (from sympy->torch) (1.3.0)\n",
            "Requirement already satisfied: pandas in /usr/local/lib/python3.10/dist-packages (2.2.2)\n",
            "Requirement already satisfied: numpy>=1.22.4 in /usr/local/lib/python3.10/dist-packages (from pandas) (1.26.4)\n",
            "Requirement already satisfied: python-dateutil>=2.8.2 in /usr/local/lib/python3.10/dist-packages (from pandas) (2.8.2)\n",
            "Requirement already satisfied: pytz>=2020.1 in /usr/local/lib/python3.10/dist-packages (from pandas) (2024.2)\n",
            "Requirement already satisfied: tzdata>=2022.7 in /usr/local/lib/python3.10/dist-packages (from pandas) (2024.2)\n",
            "Requirement already satisfied: six>=1.5 in /usr/local/lib/python3.10/dist-packages (from python-dateutil>=2.8.2->pandas) (1.16.0)\n",
            "Requirement already satisfied: scikit-learn in /usr/local/lib/python3.10/dist-packages (1.5.2)\n",
            "Requirement already satisfied: numpy>=1.19.5 in /usr/local/lib/python3.10/dist-packages (from scikit-learn) (1.26.4)\n",
            "Requirement already satisfied: scipy>=1.6.0 in /usr/local/lib/python3.10/dist-packages (from scikit-learn) (1.13.1)\n",
            "Requirement already satisfied: joblib>=1.2.0 in /usr/local/lib/python3.10/dist-packages (from scikit-learn) (1.4.2)\n",
            "Requirement already satisfied: threadpoolctl>=3.1.0 in /usr/local/lib/python3.10/dist-packages (from scikit-learn) (3.5.0)\n",
            "Requirement already satisfied: joblib in /usr/local/lib/python3.10/dist-packages (1.4.2)\n"
          ]
        }
      ]
    },
    {
      "cell_type": "code",
      "source": [
        "#import libraries\n",
        "import pandas as pd\n",
        "import numpy as np\n",
        "import matplotlib.pyplot as plt\n",
        "import seaborn as sns\n",
        "import joblib"
      ],
      "metadata": {
        "id": "CQJ4wS_9kUWt"
      },
      "execution_count": 4,
      "outputs": []
    },
    {
      "cell_type": "code",
      "source": [
        "#mount Google Drive\n",
        "from google.colab import drive\n",
        "drive.mount('/content/drive')"
      ],
      "metadata": {
        "colab": {
          "base_uri": "https://localhost:8080/"
        },
        "id": "PSo28H_Rc3pI",
        "outputId": "eea6073e-0bdf-4264-f3e4-c68c3a93d5d4"
      },
      "execution_count": 5,
      "outputs": [
        {
          "output_type": "stream",
          "name": "stdout",
          "text": [
            "Mounted at /content/drive\n"
          ]
        }
      ]
    },
    {
      "cell_type": "code",
      "source": [
        "# CSV 파일 읽기\n",
        "df1 = pd.read_csv('/content/drive/MyDrive/Colab Notebooks/resulttable (7).csv', delimiter=';')\n",
        "\n",
        "# 데이터 확인\n",
        "print(df1.head())\n",
        "print(df1.columns)\n",
        "df1"
      ],
      "metadata": {
        "colab": {
          "base_uri": "https://localhost:8080/",
          "height": 1000
        },
        "id": "AUV0VxEKdAS_",
        "outputId": "34f4c80a-5687-4ea2-c5f0-20681decd7f0"
      },
      "execution_count": 6,
      "outputs": [
        {
          "output_type": "stream",
          "name": "stdout",
          "text": [
            "    appln_id  earliest_filing_year person_ctry_code cpc_class_symbol  \\\n",
            "0  584648513                  2022               US    G06F  18/2193   \n",
            "1  584648513                  2022               US    G06F  18/2323   \n",
            "2  584648513                  2022               US     G06F  21/552   \n",
            "3  584648513                  2022               US     G06F  21/554   \n",
            "4  584648513                  2022               US      G06N  20/00   \n",
            "\n",
            "   nace2_code                                        appln_title  \\\n",
            "0        26.2  Configuring machine learning model thresholds ...   \n",
            "1        26.2  Configuring machine learning model thresholds ...   \n",
            "2        26.2  Configuring machine learning model thresholds ...   \n",
            "3        26.2  Configuring machine learning model thresholds ...   \n",
            "4        26.2  Configuring machine learning model thresholds ...   \n",
            "\n",
            "                                      appln_abstract  \n",
            "0  Certain aspects of the present disclosure prov...  \n",
            "1  Certain aspects of the present disclosure prov...  \n",
            "2  Certain aspects of the present disclosure prov...  \n",
            "3  Certain aspects of the present disclosure prov...  \n",
            "4  Certain aspects of the present disclosure prov...  \n",
            "Index(['appln_id', 'earliest_filing_year', 'person_ctry_code',\n",
            "       'cpc_class_symbol', 'nace2_code', 'appln_title', 'appln_abstract'],\n",
            "      dtype='object')\n"
          ]
        },
        {
          "output_type": "execute_result",
          "data": {
            "text/plain": [
              "       appln_id  earliest_filing_year person_ctry_code cpc_class_symbol  \\\n",
              "0     584648513                  2022               US    G06F  18/2193   \n",
              "1     584648513                  2022               US    G06F  18/2323   \n",
              "2     584648513                  2022               US     G06F  21/552   \n",
              "3     584648513                  2022               US     G06F  21/554   \n",
              "4     584648513                  2022               US      G06N  20/00   \n",
              "...         ...                   ...              ...              ...   \n",
              "6747  606045343                  2023               US      G06T   9/00   \n",
              "6748  606045343                  2023               US   G06T2207/20076   \n",
              "6749  606045540                  2023               CN    G06F   3/0202   \n",
              "6750  606045540                  2023               CN     H01H  13/705   \n",
              "6751  606045540                  2023               CN    H05K   5/0018   \n",
              "\n",
              "      nace2_code                                        appln_title  \\\n",
              "0           26.2  Configuring machine learning model thresholds ...   \n",
              "1           26.2  Configuring machine learning model thresholds ...   \n",
              "2           26.2  Configuring machine learning model thresholds ...   \n",
              "3           26.2  Configuring machine learning model thresholds ...   \n",
              "4           26.2  Configuring machine learning model thresholds ...   \n",
              "...          ...                                                ...   \n",
              "6747        26.2  Augmented diffusion inversion using latent tra...   \n",
              "6748        26.2  Augmented diffusion inversion using latent tra...   \n",
              "6749        26.2  Keypad structure and visual programmable intel...   \n",
              "6750        26.2  Keypad structure and visual programmable intel...   \n",
              "6751        26.2  Keypad structure and visual programmable intel...   \n",
              "\n",
              "                                         appln_abstract  \n",
              "0     Certain aspects of the present disclosure prov...  \n",
              "1     Certain aspects of the present disclosure prov...  \n",
              "2     Certain aspects of the present disclosure prov...  \n",
              "3     Certain aspects of the present disclosure prov...  \n",
              "4     Certain aspects of the present disclosure prov...  \n",
              "...                                                 ...  \n",
              "6747  Augmented Denoising Diffusion Implicit Models ...  \n",
              "6748  Augmented Denoising Diffusion Implicit Models ...  \n",
              "6749  The present disclosure discloses a keypad stru...  \n",
              "6750  The present disclosure discloses a keypad stru...  \n",
              "6751  The present disclosure discloses a keypad stru...  \n",
              "\n",
              "[6752 rows x 7 columns]"
            ],
            "text/html": [
              "\n",
              "  <div id=\"df-a06dfe4d-a455-43bd-8203-007090497c78\" class=\"colab-df-container\">\n",
              "    <div>\n",
              "<style scoped>\n",
              "    .dataframe tbody tr th:only-of-type {\n",
              "        vertical-align: middle;\n",
              "    }\n",
              "\n",
              "    .dataframe tbody tr th {\n",
              "        vertical-align: top;\n",
              "    }\n",
              "\n",
              "    .dataframe thead th {\n",
              "        text-align: right;\n",
              "    }\n",
              "</style>\n",
              "<table border=\"1\" class=\"dataframe\">\n",
              "  <thead>\n",
              "    <tr style=\"text-align: right;\">\n",
              "      <th></th>\n",
              "      <th>appln_id</th>\n",
              "      <th>earliest_filing_year</th>\n",
              "      <th>person_ctry_code</th>\n",
              "      <th>cpc_class_symbol</th>\n",
              "      <th>nace2_code</th>\n",
              "      <th>appln_title</th>\n",
              "      <th>appln_abstract</th>\n",
              "    </tr>\n",
              "  </thead>\n",
              "  <tbody>\n",
              "    <tr>\n",
              "      <th>0</th>\n",
              "      <td>584648513</td>\n",
              "      <td>2022</td>\n",
              "      <td>US</td>\n",
              "      <td>G06F  18/2193</td>\n",
              "      <td>26.2</td>\n",
              "      <td>Configuring machine learning model thresholds ...</td>\n",
              "      <td>Certain aspects of the present disclosure prov...</td>\n",
              "    </tr>\n",
              "    <tr>\n",
              "      <th>1</th>\n",
              "      <td>584648513</td>\n",
              "      <td>2022</td>\n",
              "      <td>US</td>\n",
              "      <td>G06F  18/2323</td>\n",
              "      <td>26.2</td>\n",
              "      <td>Configuring machine learning model thresholds ...</td>\n",
              "      <td>Certain aspects of the present disclosure prov...</td>\n",
              "    </tr>\n",
              "    <tr>\n",
              "      <th>2</th>\n",
              "      <td>584648513</td>\n",
              "      <td>2022</td>\n",
              "      <td>US</td>\n",
              "      <td>G06F  21/552</td>\n",
              "      <td>26.2</td>\n",
              "      <td>Configuring machine learning model thresholds ...</td>\n",
              "      <td>Certain aspects of the present disclosure prov...</td>\n",
              "    </tr>\n",
              "    <tr>\n",
              "      <th>3</th>\n",
              "      <td>584648513</td>\n",
              "      <td>2022</td>\n",
              "      <td>US</td>\n",
              "      <td>G06F  21/554</td>\n",
              "      <td>26.2</td>\n",
              "      <td>Configuring machine learning model thresholds ...</td>\n",
              "      <td>Certain aspects of the present disclosure prov...</td>\n",
              "    </tr>\n",
              "    <tr>\n",
              "      <th>4</th>\n",
              "      <td>584648513</td>\n",
              "      <td>2022</td>\n",
              "      <td>US</td>\n",
              "      <td>G06N  20/00</td>\n",
              "      <td>26.2</td>\n",
              "      <td>Configuring machine learning model thresholds ...</td>\n",
              "      <td>Certain aspects of the present disclosure prov...</td>\n",
              "    </tr>\n",
              "    <tr>\n",
              "      <th>...</th>\n",
              "      <td>...</td>\n",
              "      <td>...</td>\n",
              "      <td>...</td>\n",
              "      <td>...</td>\n",
              "      <td>...</td>\n",
              "      <td>...</td>\n",
              "      <td>...</td>\n",
              "    </tr>\n",
              "    <tr>\n",
              "      <th>6747</th>\n",
              "      <td>606045343</td>\n",
              "      <td>2023</td>\n",
              "      <td>US</td>\n",
              "      <td>G06T   9/00</td>\n",
              "      <td>26.2</td>\n",
              "      <td>Augmented diffusion inversion using latent tra...</td>\n",
              "      <td>Augmented Denoising Diffusion Implicit Models ...</td>\n",
              "    </tr>\n",
              "    <tr>\n",
              "      <th>6748</th>\n",
              "      <td>606045343</td>\n",
              "      <td>2023</td>\n",
              "      <td>US</td>\n",
              "      <td>G06T2207/20076</td>\n",
              "      <td>26.2</td>\n",
              "      <td>Augmented diffusion inversion using latent tra...</td>\n",
              "      <td>Augmented Denoising Diffusion Implicit Models ...</td>\n",
              "    </tr>\n",
              "    <tr>\n",
              "      <th>6749</th>\n",
              "      <td>606045540</td>\n",
              "      <td>2023</td>\n",
              "      <td>CN</td>\n",
              "      <td>G06F   3/0202</td>\n",
              "      <td>26.2</td>\n",
              "      <td>Keypad structure and visual programmable intel...</td>\n",
              "      <td>The present disclosure discloses a keypad stru...</td>\n",
              "    </tr>\n",
              "    <tr>\n",
              "      <th>6750</th>\n",
              "      <td>606045540</td>\n",
              "      <td>2023</td>\n",
              "      <td>CN</td>\n",
              "      <td>H01H  13/705</td>\n",
              "      <td>26.2</td>\n",
              "      <td>Keypad structure and visual programmable intel...</td>\n",
              "      <td>The present disclosure discloses a keypad stru...</td>\n",
              "    </tr>\n",
              "    <tr>\n",
              "      <th>6751</th>\n",
              "      <td>606045540</td>\n",
              "      <td>2023</td>\n",
              "      <td>CN</td>\n",
              "      <td>H05K   5/0018</td>\n",
              "      <td>26.2</td>\n",
              "      <td>Keypad structure and visual programmable intel...</td>\n",
              "      <td>The present disclosure discloses a keypad stru...</td>\n",
              "    </tr>\n",
              "  </tbody>\n",
              "</table>\n",
              "<p>6752 rows × 7 columns</p>\n",
              "</div>\n",
              "    <div class=\"colab-df-buttons\">\n",
              "\n",
              "  <div class=\"colab-df-container\">\n",
              "    <button class=\"colab-df-convert\" onclick=\"convertToInteractive('df-a06dfe4d-a455-43bd-8203-007090497c78')\"\n",
              "            title=\"Convert this dataframe to an interactive table.\"\n",
              "            style=\"display:none;\">\n",
              "\n",
              "  <svg xmlns=\"http://www.w3.org/2000/svg\" height=\"24px\" viewBox=\"0 -960 960 960\">\n",
              "    <path d=\"M120-120v-720h720v720H120Zm60-500h600v-160H180v160Zm220 220h160v-160H400v160Zm0 220h160v-160H400v160ZM180-400h160v-160H180v160Zm440 0h160v-160H620v160ZM180-180h160v-160H180v160Zm440 0h160v-160H620v160Z\"/>\n",
              "  </svg>\n",
              "    </button>\n",
              "\n",
              "  <style>\n",
              "    .colab-df-container {\n",
              "      display:flex;\n",
              "      gap: 12px;\n",
              "    }\n",
              "\n",
              "    .colab-df-convert {\n",
              "      background-color: #E8F0FE;\n",
              "      border: none;\n",
              "      border-radius: 50%;\n",
              "      cursor: pointer;\n",
              "      display: none;\n",
              "      fill: #1967D2;\n",
              "      height: 32px;\n",
              "      padding: 0 0 0 0;\n",
              "      width: 32px;\n",
              "    }\n",
              "\n",
              "    .colab-df-convert:hover {\n",
              "      background-color: #E2EBFA;\n",
              "      box-shadow: 0px 1px 2px rgba(60, 64, 67, 0.3), 0px 1px 3px 1px rgba(60, 64, 67, 0.15);\n",
              "      fill: #174EA6;\n",
              "    }\n",
              "\n",
              "    .colab-df-buttons div {\n",
              "      margin-bottom: 4px;\n",
              "    }\n",
              "\n",
              "    [theme=dark] .colab-df-convert {\n",
              "      background-color: #3B4455;\n",
              "      fill: #D2E3FC;\n",
              "    }\n",
              "\n",
              "    [theme=dark] .colab-df-convert:hover {\n",
              "      background-color: #434B5C;\n",
              "      box-shadow: 0px 1px 3px 1px rgba(0, 0, 0, 0.15);\n",
              "      filter: drop-shadow(0px 1px 2px rgba(0, 0, 0, 0.3));\n",
              "      fill: #FFFFFF;\n",
              "    }\n",
              "  </style>\n",
              "\n",
              "    <script>\n",
              "      const buttonEl =\n",
              "        document.querySelector('#df-a06dfe4d-a455-43bd-8203-007090497c78 button.colab-df-convert');\n",
              "      buttonEl.style.display =\n",
              "        google.colab.kernel.accessAllowed ? 'block' : 'none';\n",
              "\n",
              "      async function convertToInteractive(key) {\n",
              "        const element = document.querySelector('#df-a06dfe4d-a455-43bd-8203-007090497c78');\n",
              "        const dataTable =\n",
              "          await google.colab.kernel.invokeFunction('convertToInteractive',\n",
              "                                                    [key], {});\n",
              "        if (!dataTable) return;\n",
              "\n",
              "        const docLinkHtml = 'Like what you see? Visit the ' +\n",
              "          '<a target=\"_blank\" href=https://colab.research.google.com/notebooks/data_table.ipynb>data table notebook</a>'\n",
              "          + ' to learn more about interactive tables.';\n",
              "        element.innerHTML = '';\n",
              "        dataTable['output_type'] = 'display_data';\n",
              "        await google.colab.output.renderOutput(dataTable, element);\n",
              "        const docLink = document.createElement('div');\n",
              "        docLink.innerHTML = docLinkHtml;\n",
              "        element.appendChild(docLink);\n",
              "      }\n",
              "    </script>\n",
              "  </div>\n",
              "\n",
              "\n",
              "<div id=\"df-8ee331e5-5265-496a-851a-d1b14af893c6\">\n",
              "  <button class=\"colab-df-quickchart\" onclick=\"quickchart('df-8ee331e5-5265-496a-851a-d1b14af893c6')\"\n",
              "            title=\"Suggest charts\"\n",
              "            style=\"display:none;\">\n",
              "\n",
              "<svg xmlns=\"http://www.w3.org/2000/svg\" height=\"24px\"viewBox=\"0 0 24 24\"\n",
              "     width=\"24px\">\n",
              "    <g>\n",
              "        <path d=\"M19 3H5c-1.1 0-2 .9-2 2v14c0 1.1.9 2 2 2h14c1.1 0 2-.9 2-2V5c0-1.1-.9-2-2-2zM9 17H7v-7h2v7zm4 0h-2V7h2v10zm4 0h-2v-4h2v4z\"/>\n",
              "    </g>\n",
              "</svg>\n",
              "  </button>\n",
              "\n",
              "<style>\n",
              "  .colab-df-quickchart {\n",
              "      --bg-color: #E8F0FE;\n",
              "      --fill-color: #1967D2;\n",
              "      --hover-bg-color: #E2EBFA;\n",
              "      --hover-fill-color: #174EA6;\n",
              "      --disabled-fill-color: #AAA;\n",
              "      --disabled-bg-color: #DDD;\n",
              "  }\n",
              "\n",
              "  [theme=dark] .colab-df-quickchart {\n",
              "      --bg-color: #3B4455;\n",
              "      --fill-color: #D2E3FC;\n",
              "      --hover-bg-color: #434B5C;\n",
              "      --hover-fill-color: #FFFFFF;\n",
              "      --disabled-bg-color: #3B4455;\n",
              "      --disabled-fill-color: #666;\n",
              "  }\n",
              "\n",
              "  .colab-df-quickchart {\n",
              "    background-color: var(--bg-color);\n",
              "    border: none;\n",
              "    border-radius: 50%;\n",
              "    cursor: pointer;\n",
              "    display: none;\n",
              "    fill: var(--fill-color);\n",
              "    height: 32px;\n",
              "    padding: 0;\n",
              "    width: 32px;\n",
              "  }\n",
              "\n",
              "  .colab-df-quickchart:hover {\n",
              "    background-color: var(--hover-bg-color);\n",
              "    box-shadow: 0 1px 2px rgba(60, 64, 67, 0.3), 0 1px 3px 1px rgba(60, 64, 67, 0.15);\n",
              "    fill: var(--button-hover-fill-color);\n",
              "  }\n",
              "\n",
              "  .colab-df-quickchart-complete:disabled,\n",
              "  .colab-df-quickchart-complete:disabled:hover {\n",
              "    background-color: var(--disabled-bg-color);\n",
              "    fill: var(--disabled-fill-color);\n",
              "    box-shadow: none;\n",
              "  }\n",
              "\n",
              "  .colab-df-spinner {\n",
              "    border: 2px solid var(--fill-color);\n",
              "    border-color: transparent;\n",
              "    border-bottom-color: var(--fill-color);\n",
              "    animation:\n",
              "      spin 1s steps(1) infinite;\n",
              "  }\n",
              "\n",
              "  @keyframes spin {\n",
              "    0% {\n",
              "      border-color: transparent;\n",
              "      border-bottom-color: var(--fill-color);\n",
              "      border-left-color: var(--fill-color);\n",
              "    }\n",
              "    20% {\n",
              "      border-color: transparent;\n",
              "      border-left-color: var(--fill-color);\n",
              "      border-top-color: var(--fill-color);\n",
              "    }\n",
              "    30% {\n",
              "      border-color: transparent;\n",
              "      border-left-color: var(--fill-color);\n",
              "      border-top-color: var(--fill-color);\n",
              "      border-right-color: var(--fill-color);\n",
              "    }\n",
              "    40% {\n",
              "      border-color: transparent;\n",
              "      border-right-color: var(--fill-color);\n",
              "      border-top-color: var(--fill-color);\n",
              "    }\n",
              "    60% {\n",
              "      border-color: transparent;\n",
              "      border-right-color: var(--fill-color);\n",
              "    }\n",
              "    80% {\n",
              "      border-color: transparent;\n",
              "      border-right-color: var(--fill-color);\n",
              "      border-bottom-color: var(--fill-color);\n",
              "    }\n",
              "    90% {\n",
              "      border-color: transparent;\n",
              "      border-bottom-color: var(--fill-color);\n",
              "    }\n",
              "  }\n",
              "</style>\n",
              "\n",
              "  <script>\n",
              "    async function quickchart(key) {\n",
              "      const quickchartButtonEl =\n",
              "        document.querySelector('#' + key + ' button');\n",
              "      quickchartButtonEl.disabled = true;  // To prevent multiple clicks.\n",
              "      quickchartButtonEl.classList.add('colab-df-spinner');\n",
              "      try {\n",
              "        const charts = await google.colab.kernel.invokeFunction(\n",
              "            'suggestCharts', [key], {});\n",
              "      } catch (error) {\n",
              "        console.error('Error during call to suggestCharts:', error);\n",
              "      }\n",
              "      quickchartButtonEl.classList.remove('colab-df-spinner');\n",
              "      quickchartButtonEl.classList.add('colab-df-quickchart-complete');\n",
              "    }\n",
              "    (() => {\n",
              "      let quickchartButtonEl =\n",
              "        document.querySelector('#df-8ee331e5-5265-496a-851a-d1b14af893c6 button');\n",
              "      quickchartButtonEl.style.display =\n",
              "        google.colab.kernel.accessAllowed ? 'block' : 'none';\n",
              "    })();\n",
              "  </script>\n",
              "</div>\n",
              "\n",
              "  <div id=\"id_1fbcf895-7267-4949-b6bb-c27632af128d\">\n",
              "    <style>\n",
              "      .colab-df-generate {\n",
              "        background-color: #E8F0FE;\n",
              "        border: none;\n",
              "        border-radius: 50%;\n",
              "        cursor: pointer;\n",
              "        display: none;\n",
              "        fill: #1967D2;\n",
              "        height: 32px;\n",
              "        padding: 0 0 0 0;\n",
              "        width: 32px;\n",
              "      }\n",
              "\n",
              "      .colab-df-generate:hover {\n",
              "        background-color: #E2EBFA;\n",
              "        box-shadow: 0px 1px 2px rgba(60, 64, 67, 0.3), 0px 1px 3px 1px rgba(60, 64, 67, 0.15);\n",
              "        fill: #174EA6;\n",
              "      }\n",
              "\n",
              "      [theme=dark] .colab-df-generate {\n",
              "        background-color: #3B4455;\n",
              "        fill: #D2E3FC;\n",
              "      }\n",
              "\n",
              "      [theme=dark] .colab-df-generate:hover {\n",
              "        background-color: #434B5C;\n",
              "        box-shadow: 0px 1px 3px 1px rgba(0, 0, 0, 0.15);\n",
              "        filter: drop-shadow(0px 1px 2px rgba(0, 0, 0, 0.3));\n",
              "        fill: #FFFFFF;\n",
              "      }\n",
              "    </style>\n",
              "    <button class=\"colab-df-generate\" onclick=\"generateWithVariable('df1')\"\n",
              "            title=\"Generate code using this dataframe.\"\n",
              "            style=\"display:none;\">\n",
              "\n",
              "  <svg xmlns=\"http://www.w3.org/2000/svg\" height=\"24px\"viewBox=\"0 0 24 24\"\n",
              "       width=\"24px\">\n",
              "    <path d=\"M7,19H8.4L18.45,9,17,7.55,7,17.6ZM5,21V16.75L18.45,3.32a2,2,0,0,1,2.83,0l1.4,1.43a1.91,1.91,0,0,1,.58,1.4,1.91,1.91,0,0,1-.58,1.4L9.25,21ZM18.45,9,17,7.55Zm-12,3A5.31,5.31,0,0,0,4.9,8.1,5.31,5.31,0,0,0,1,6.5,5.31,5.31,0,0,0,4.9,4.9,5.31,5.31,0,0,0,6.5,1,5.31,5.31,0,0,0,8.1,4.9,5.31,5.31,0,0,0,12,6.5,5.46,5.46,0,0,0,6.5,12Z\"/>\n",
              "  </svg>\n",
              "    </button>\n",
              "    <script>\n",
              "      (() => {\n",
              "      const buttonEl =\n",
              "        document.querySelector('#id_1fbcf895-7267-4949-b6bb-c27632af128d button.colab-df-generate');\n",
              "      buttonEl.style.display =\n",
              "        google.colab.kernel.accessAllowed ? 'block' : 'none';\n",
              "\n",
              "      buttonEl.onclick = () => {\n",
              "        google.colab.notebook.generateWithVariable('df1');\n",
              "      }\n",
              "      })();\n",
              "    </script>\n",
              "  </div>\n",
              "\n",
              "    </div>\n",
              "  </div>\n"
            ],
            "application/vnd.google.colaboratory.intrinsic+json": {
              "type": "dataframe",
              "variable_name": "df1",
              "summary": "{\n  \"name\": \"df1\",\n  \"rows\": 6752,\n  \"fields\": [\n    {\n      \"column\": \"appln_id\",\n      \"properties\": {\n        \"dtype\": \"number\",\n        \"std\": 5795606,\n        \"min\": 575161108,\n        \"max\": 606406409,\n        \"num_unique_values\": 617,\n        \"samples\": [\n          593028443,\n          597326860,\n          581702140\n        ],\n        \"semantic_type\": \"\",\n        \"description\": \"\"\n      }\n    },\n    {\n      \"column\": \"earliest_filing_year\",\n      \"properties\": {\n        \"dtype\": \"number\",\n        \"std\": 0,\n        \"min\": 2022,\n        \"max\": 2023,\n        \"num_unique_values\": 2,\n        \"samples\": [\n          2023,\n          2022\n        ],\n        \"semantic_type\": \"\",\n        \"description\": \"\"\n      }\n    },\n    {\n      \"column\": \"person_ctry_code\",\n      \"properties\": {\n        \"dtype\": \"category\",\n        \"num_unique_values\": 26,\n        \"samples\": [\n          \"DE\",\n          \"FI\"\n        ],\n        \"semantic_type\": \"\",\n        \"description\": \"\"\n      }\n    },\n    {\n      \"column\": \"cpc_class_symbol\",\n      \"properties\": {\n        \"dtype\": \"category\",\n        \"num_unique_values\": 2464,\n        \"samples\": [\n          \"H02J2300/24\",\n          \"G06F  16/24526\"\n        ],\n        \"semantic_type\": \"\",\n        \"description\": \"\"\n      }\n    },\n    {\n      \"column\": \"nace2_code\",\n      \"properties\": {\n        \"dtype\": \"number\",\n        \"std\": 7.5787440647639555,\n        \"min\": 10.0,\n        \"max\": 62.0,\n        \"num_unique_values\": 47,\n        \"samples\": [\n          26.7,\n          23.0\n        ],\n        \"semantic_type\": \"\",\n        \"description\": \"\"\n      }\n    },\n    {\n      \"column\": \"appln_title\",\n      \"properties\": {\n        \"dtype\": \"category\",\n        \"num_unique_values\": 575,\n        \"samples\": [\n          \"Optimized header information to enable access control\",\n          \"Systems and methods for vehicle reversing detection using machine learning\"\n        ],\n        \"semantic_type\": \"\",\n        \"description\": \"\"\n      }\n    },\n    {\n      \"column\": \"appln_abstract\",\n      \"properties\": {\n        \"dtype\": \"category\",\n        \"num_unique_values\": 588,\n        \"samples\": [\n          \"Various illustrative aspects are directed to a data storage device comprising one or more disks, an actuator arm assembly comprising one or more disk heads and a voice coil motor (VCM), the VCM configured to operate in a PWM mode and a linear mode, and one or more processing devices configured to: seek the VCM towards a target track in the PWM mode; transition the VCM from the PWM mode to the linear mode, wherein the transitioning comprises switching an offset compensation value from a first offset compensation value to a second compensation offset value to compensate for a transition offset induced while transitioning the VCM from the PWM to the linear mode, wherein the first and the second offset compensation values correspond to the PWM and linear modes, respectively, and seek the VCM towards the target track in the linear mode for a linear mode time.\",\n          \"Devices, systems, and methods are provided for encapsulating machine learning in a clean room to generate a goal-based output. A method may include identifying, by a device operating within a clean room, an agreement between multiple parties to share data for use in machine learning to generate a goal-based output; retrieving the data; selecting the machine learning model based on a goal indicated by the agreement; generating, using the data as inputs to the selected machine learning model, a first set of probabilities indicative that a respective user may perform an action; generating, using the selected machine learning model and the first set of probabilities, a second set of probabilities indicative that a respective user may perform the action; generating the goal-based output based on the second set of probabilities; and sending the goal-based output from the clean room to a destination location.\"\n        ],\n        \"semantic_type\": \"\",\n        \"description\": \"\"\n      }\n    }\n  ]\n}"
            }
          },
          "metadata": {},
          "execution_count": 6
        }
      ]
    },
    {
      "cell_type": "code",
      "source": [
        "# # GitHub raw URL\n",
        "# data_url = 'https://raw.githubusercontent.com/deep1003/deep1003/master/patent_industry.csv'\n",
        "\n",
        "# # 데이터 로드\n",
        "# df1 = pd.read_csv(data_url, delimiter=';')  # Try ',' or ';'\n",
        "\n",
        "# 데이터 확인\n",
        "print(df1.head())\n",
        "print(df1.columns)"
      ],
      "metadata": {
        "colab": {
          "base_uri": "https://localhost:8080/"
        },
        "id": "KbbwGK8jUENK",
        "outputId": "79c589b8-5cea-4731-9ade-68e0ca2ddc14"
      },
      "execution_count": 7,
      "outputs": [
        {
          "output_type": "stream",
          "name": "stdout",
          "text": [
            "    appln_id  earliest_filing_year person_ctry_code cpc_class_symbol  \\\n",
            "0  584648513                  2022               US    G06F  18/2193   \n",
            "1  584648513                  2022               US    G06F  18/2323   \n",
            "2  584648513                  2022               US     G06F  21/552   \n",
            "3  584648513                  2022               US     G06F  21/554   \n",
            "4  584648513                  2022               US      G06N  20/00   \n",
            "\n",
            "   nace2_code                                        appln_title  \\\n",
            "0        26.2  Configuring machine learning model thresholds ...   \n",
            "1        26.2  Configuring machine learning model thresholds ...   \n",
            "2        26.2  Configuring machine learning model thresholds ...   \n",
            "3        26.2  Configuring machine learning model thresholds ...   \n",
            "4        26.2  Configuring machine learning model thresholds ...   \n",
            "\n",
            "                                      appln_abstract  \n",
            "0  Certain aspects of the present disclosure prov...  \n",
            "1  Certain aspects of the present disclosure prov...  \n",
            "2  Certain aspects of the present disclosure prov...  \n",
            "3  Certain aspects of the present disclosure prov...  \n",
            "4  Certain aspects of the present disclosure prov...  \n",
            "Index(['appln_id', 'earliest_filing_year', 'person_ctry_code',\n",
            "       'cpc_class_symbol', 'nace2_code', 'appln_title', 'appln_abstract'],\n",
            "      dtype='object')\n"
          ]
        }
      ]
    },
    {
      "cell_type": "code",
      "source": [
        "df1.shape"
      ],
      "metadata": {
        "colab": {
          "base_uri": "https://localhost:8080/"
        },
        "id": "9i2Ln5F9mWlt",
        "outputId": "02627dd5-44f4-4b9f-8a73-456172abdb77"
      },
      "execution_count": 8,
      "outputs": [
        {
          "output_type": "execute_result",
          "data": {
            "text/plain": [
              "(6752, 7)"
            ]
          },
          "metadata": {},
          "execution_count": 8
        }
      ]
    },
    {
      "cell_type": "code",
      "source": [
        "# 'cpc_class_symbol' 컬럼의 첫 4글자를 잘라서 'cpc4' 컬럼 생성\n",
        "df1['cpc4'] = df1['cpc_class_symbol'].str[:4].str.strip()\n",
        "\n",
        "# 결과 확인\n",
        "print(df1)"
      ],
      "metadata": {
        "colab": {
          "base_uri": "https://localhost:8080/"
        },
        "id": "eBgiYzaNVihS",
        "outputId": "feaaa664-caad-4051-e3cb-e1717a12a466"
      },
      "execution_count": 9,
      "outputs": [
        {
          "output_type": "stream",
          "name": "stdout",
          "text": [
            "       appln_id  earliest_filing_year person_ctry_code cpc_class_symbol  \\\n",
            "0     584648513                  2022               US    G06F  18/2193   \n",
            "1     584648513                  2022               US    G06F  18/2323   \n",
            "2     584648513                  2022               US     G06F  21/552   \n",
            "3     584648513                  2022               US     G06F  21/554   \n",
            "4     584648513                  2022               US      G06N  20/00   \n",
            "...         ...                   ...              ...              ...   \n",
            "6747  606045343                  2023               US      G06T   9/00   \n",
            "6748  606045343                  2023               US   G06T2207/20076   \n",
            "6749  606045540                  2023               CN    G06F   3/0202   \n",
            "6750  606045540                  2023               CN     H01H  13/705   \n",
            "6751  606045540                  2023               CN    H05K   5/0018   \n",
            "\n",
            "      nace2_code                                        appln_title  \\\n",
            "0           26.2  Configuring machine learning model thresholds ...   \n",
            "1           26.2  Configuring machine learning model thresholds ...   \n",
            "2           26.2  Configuring machine learning model thresholds ...   \n",
            "3           26.2  Configuring machine learning model thresholds ...   \n",
            "4           26.2  Configuring machine learning model thresholds ...   \n",
            "...          ...                                                ...   \n",
            "6747        26.2  Augmented diffusion inversion using latent tra...   \n",
            "6748        26.2  Augmented diffusion inversion using latent tra...   \n",
            "6749        26.2  Keypad structure and visual programmable intel...   \n",
            "6750        26.2  Keypad structure and visual programmable intel...   \n",
            "6751        26.2  Keypad structure and visual programmable intel...   \n",
            "\n",
            "                                         appln_abstract  cpc4  \n",
            "0     Certain aspects of the present disclosure prov...  G06F  \n",
            "1     Certain aspects of the present disclosure prov...  G06F  \n",
            "2     Certain aspects of the present disclosure prov...  G06F  \n",
            "3     Certain aspects of the present disclosure prov...  G06F  \n",
            "4     Certain aspects of the present disclosure prov...  G06N  \n",
            "...                                                 ...   ...  \n",
            "6747  Augmented Denoising Diffusion Implicit Models ...  G06T  \n",
            "6748  Augmented Denoising Diffusion Implicit Models ...  G06T  \n",
            "6749  The present disclosure discloses a keypad stru...  G06F  \n",
            "6750  The present disclosure discloses a keypad stru...  H01H  \n",
            "6751  The present disclosure discloses a keypad stru...  H05K  \n",
            "\n",
            "[6752 rows x 8 columns]\n"
          ]
        }
      ]
    },
    {
      "cell_type": "code",
      "source": [
        "df1.shape"
      ],
      "metadata": {
        "colab": {
          "base_uri": "https://localhost:8080/"
        },
        "id": "8mHYTXbDVeuy",
        "outputId": "7ea16154-edf7-4034-ee95-55a9ffb456f8"
      },
      "execution_count": 10,
      "outputs": [
        {
          "output_type": "execute_result",
          "data": {
            "text/plain": [
              "(6752, 8)"
            ]
          },
          "metadata": {},
          "execution_count": 10
        }
      ]
    },
    {
      "cell_type": "markdown",
      "source": [
        "**중복 제거**"
      ],
      "metadata": {
        "id": "ytVD8tnFXava"
      }
    },
    {
      "cell_type": "code",
      "source": [
        "# 중복 제거 기준 컬럼 리스트\n",
        "duplicate_subset = ['appln_id', 'earliest_filing_year', 'person_ctry_code', 'cpc4']\n",
        "\n",
        "# 중복 제거: 첫 번째 발생을 유지하고 나머지는 제거\n",
        "df = df1.drop_duplicates(subset=duplicate_subset, keep='first')\n",
        "\n",
        "# 결과 확인\n",
        "print(\"\\n중복이 제거된 데이터프레임:\")\n",
        "print(df)\n"
      ],
      "metadata": {
        "colab": {
          "base_uri": "https://localhost:8080/"
        },
        "id": "Q0KebhraWsXU",
        "outputId": "c25efb64-48a7-489a-c251-53d53f53901f"
      },
      "execution_count": 11,
      "outputs": [
        {
          "output_type": "stream",
          "name": "stdout",
          "text": [
            "\n",
            "중복이 제거된 데이터프레임:\n",
            "       appln_id  earliest_filing_year person_ctry_code cpc_class_symbol  \\\n",
            "0     584648513                  2022               US    G06F  18/2193   \n",
            "4     584648513                  2022               US      G06N  20/00   \n",
            "5     585982552                  2022               US     B60W  60/001   \n",
            "6     580619052                  2022               CN     A42B   1/245   \n",
            "8     580619052                  2022               CN     H04R   1/028   \n",
            "...         ...                   ...              ...              ...   \n",
            "6699  600721244                  2022               US     G06F   8/311   \n",
            "6716  601629719                  2023               US      H02J   3/32   \n",
            "6721  602560994                  2023               US     H04R  25/507   \n",
            "6745  605586723                  2022               US     G06F  16/906   \n",
            "6746  606045343                  2023               US      G06T   5/70   \n",
            "\n",
            "      nace2_code                                        appln_title  \\\n",
            "0          26.20  Configuring machine learning model thresholds ...   \n",
            "4          26.20  Configuring machine learning model thresholds ...   \n",
            "5          26.51  Vehicle scenario mining for machine learning m...   \n",
            "6          26.30                  Audio intelligent wearable device   \n",
            "8          26.30                  Audio intelligent wearable device   \n",
            "...          ...                                                ...   \n",
            "6699       26.20  Intelligent interceptor for SaaS cloud migrati...   \n",
            "6716       27.12  Systems and methods for optimized loading of b...   \n",
            "6721       26.30  Neural-network based denoising of audio signal...   \n",
            "6745       26.20  Generating synthetic data based on time series...   \n",
            "6746       26.20  Augmented diffusion inversion using latent tra...   \n",
            "\n",
            "                                         appln_abstract  cpc4  \n",
            "0     Certain aspects of the present disclosure prov...  G06F  \n",
            "4     Certain aspects of the present disclosure prov...  G06N  \n",
            "5     Provided are methods for vehicle scenario mini...  B60W  \n",
            "6     The present disclosure discloses an audio inte...  A42B  \n",
            "8     The present disclosure discloses an audio inte...  H04R  \n",
            "...                                                 ...   ...  \n",
            "6699  Aspects of the subject disclosure may include,...  G06F  \n",
            "6716  The present disclosure provides systems and me...  H02J  \n",
            "6721  A hearing aid includes a non-programmable user...  H04R  \n",
            "6745  Aspects described herein may relate to methods...  G06F  \n",
            "6746  Augmented Denoising Diffusion Implicit Models ...  G06T  \n",
            "\n",
            "[1311 rows x 8 columns]\n"
          ]
        }
      ]
    },
    {
      "cell_type": "code",
      "source": [
        "sns.countplot(x='earliest_filing_year', data=df)"
      ],
      "metadata": {
        "colab": {
          "base_uri": "https://localhost:8080/",
          "height": 469
        },
        "id": "i7TKYkvEXj_I",
        "outputId": "4876cb7c-a512-491c-ba41-c9584ae85bdd"
      },
      "execution_count": 12,
      "outputs": [
        {
          "output_type": "execute_result",
          "data": {
            "text/plain": [
              "<Axes: xlabel='earliest_filing_year', ylabel='count'>"
            ]
          },
          "metadata": {},
          "execution_count": 12
        },
        {
          "output_type": "display_data",
          "data": {
            "text/plain": [
              "<Figure size 640x480 with 1 Axes>"
            ],
            "image/png": "[encoded data removed]"
          },
          "metadata": {}
        }
      ]
    },
    {
      "cell_type": "code",
      "source": [
        "#sns coutplot for country\n",
        "sns.countplot(x='person_ctry_code', data=df)"
      ],
      "metadata": {
        "colab": {
          "base_uri": "https://localhost:8080/",
          "height": 469
        },
        "id": "AT1g7IP8kZml",
        "outputId": "fefea00e-c3c6-4e82-f656-c49a5cad3112"
      },
      "execution_count": 13,
      "outputs": [
        {
          "output_type": "execute_result",
          "data": {
            "text/plain": [
              "<Axes: xlabel='person_ctry_code', ylabel='count'>"
            ]
          },
          "metadata": {},
          "execution_count": 13
        },
        {
          "output_type": "display_data",
          "data": {
            "text/plain": [
              "<Figure size 640x480 with 1 Axes>"
            ],
            "image/png": "[encoded data removed]"
          },
          "metadata": {}
        }
      ]
    },
    {
      "cell_type": "code",
      "source": [
        "#sns countplog for cpc_class_symbol\n",
        "sns.countplot(x='cpc_class_symbol', data=df)"
      ],
      "metadata": {
        "colab": {
          "base_uri": "https://localhost:8080/",
          "height": 469
        },
        "id": "8-q09CAPkp-K",
        "outputId": "89804f9f-da55-4ab0-a078-507c276b8931"
      },
      "execution_count": 14,
      "outputs": [
        {
          "output_type": "execute_result",
          "data": {
            "text/plain": [
              "<Axes: xlabel='cpc_class_symbol', ylabel='count'>"
            ]
          },
          "metadata": {},
          "execution_count": 14
        },
        {
          "output_type": "display_data",
          "data": {
            "text/plain": [
              "<Figure size 640x480 with 1 Axes>"
            ],
            "image/png": "[encoded data removed]"
          },
          "metadata": {}
        }
      ]
    },
    {
      "cell_type": "code",
      "source": [
        "#sns countplog for cpc4\n",
        "sns.countplot(x='cpc4', data=df)"
      ],
      "metadata": {
        "colab": {
          "base_uri": "https://localhost:8080/",
          "height": 468
        },
        "id": "0Rv3JT3qYEmZ",
        "outputId": "0fe74439-3b76-4feb-e3d7-d10d2c8bd9ef"
      },
      "execution_count": 15,
      "outputs": [
        {
          "output_type": "execute_result",
          "data": {
            "text/plain": [
              "<Axes: xlabel='cpc4', ylabel='count'>"
            ]
          },
          "metadata": {},
          "execution_count": 15
        },
        {
          "output_type": "display_data",
          "data": {
            "text/plain": [
              "<Figure size 640x480 with 1 Axes>"
            ],
            "image/png": "[encoded data removed]"
          },
          "metadata": {}
        }
      ]
    },
    {
      "cell_type": "code",
      "source": [
        "#sns countplot for nace2_code\n",
        "sns.countplot(x='nace2_code', data=df)"
      ],
      "metadata": {
        "colab": {
          "base_uri": "https://localhost:8080/",
          "height": 469
        },
        "id": "XpQW--G_lOXe",
        "outputId": "384d3d49-7169-4153-9137-67826b4852f2"
      },
      "execution_count": 16,
      "outputs": [
        {
          "output_type": "execute_result",
          "data": {
            "text/plain": [
              "<Axes: xlabel='nace2_code', ylabel='count'>"
            ]
          },
          "metadata": {},
          "execution_count": 16
        },
        {
          "output_type": "display_data",
          "data": {
            "text/plain": [
              "<Figure size 640x480 with 1 Axes>"
            ],
            "image/png": "[encoded data removed]"
          },
          "metadata": {}
        }
      ]
    },
    {
      "cell_type": "code",
      "source": [
        "# 필요한 컬럼 선택\n",
        "df = df[['appln_id', 'earliest_filing_year', 'person_ctry_code',\n",
        "         'cpc_class_symbol', 'cpc4', 'nace2_code', 'appln_title', 'appln_abstract']]\n",
        "\n",
        "# 결측치 확인\n",
        "print(df.isnull().sum())\n"
      ],
      "metadata": {
        "colab": {
          "base_uri": "https://localhost:8080/"
        },
        "id": "tw2guz8rllCU",
        "outputId": "3a22b0f3-089b-49ac-b9a5-f0d45fe2516b"
      },
      "execution_count": 17,
      "outputs": [
        {
          "output_type": "stream",
          "name": "stdout",
          "text": [
            "appln_id                0\n",
            "earliest_filing_year    0\n",
            "person_ctry_code        0\n",
            "cpc_class_symbol        0\n",
            "cpc4                    0\n",
            "nace2_code              0\n",
            "appln_title             0\n",
            "appln_abstract          0\n",
            "dtype: int64\n"
          ]
        }
      ]
    },
    {
      "cell_type": "code",
      "source": [
        "# 결측치 처리: title과 abstract는 빈 문자열로, cpc4은 제거\n",
        "df['appln_title'] = df['appln_title'].fillna('')\n",
        "df['appln_abstract'] = df['appln_abstract'].fillna('')\n",
        "df = df.dropna(subset=['cpc4'])\n"
      ],
      "metadata": {
        "id": "C0reYWValuez"
      },
      "execution_count": 18,
      "outputs": []
    },
    {
      "cell_type": "code",
      "source": [
        "df.shape"
      ],
      "metadata": {
        "colab": {
          "base_uri": "https://localhost:8080/"
        },
        "id": "IfWOM4C6mlFj",
        "outputId": "cb136014-2b62-4be8-b3fb-890afbad438e"
      },
      "execution_count": 19,
      "outputs": [
        {
          "output_type": "execute_result",
          "data": {
            "text/plain": [
              "(1311, 8)"
            ]
          },
          "metadata": {},
          "execution_count": 19
        }
      ]
    },
    {
      "cell_type": "code",
      "source": [
        "# cpc_class_symbol의 클래스 수 확인\n",
        "print(df['cpc4'].nunique())\n"
      ],
      "metadata": {
        "colab": {
          "base_uri": "https://localhost:8080/"
        },
        "id": "tPsdpGJAlz4L",
        "outputId": "fefd2eb7-ef59-4047-deed-1b18dd93c3e4"
      },
      "execution_count": 20,
      "outputs": [
        {
          "output_type": "stream",
          "name": "stdout",
          "text": [
            "158\n"
          ]
        }
      ]
    },
    {
      "cell_type": "code",
      "source": [
        "# cpc_class_symbol의 클래스 수가 많을 경우, 상위 N개 클래스로 제한하는 것이 모델 학습에 유리할 수 있음\n",
        "# 상위 N개의 클래스만 선택 (예: 653개 중에서 상위 20개만 선택)\n",
        "top_n = 20\n",
        "top_classes = df['cpc4'].value_counts().nlargest(top_n).index\n",
        "df = df[df['cpc4'].isin(top_classes)]\n"
      ],
      "metadata": {
        "id": "W-P8SXMWl601"
      },
      "execution_count": 21,
      "outputs": []
    },
    {
      "cell_type": "code",
      "source": [
        "df.shape"
      ],
      "metadata": {
        "colab": {
          "base_uri": "https://localhost:8080/"
        },
        "id": "9QO03PVgmILi",
        "outputId": "50cd8d89-2f30-4a54-d8d6-5b125b6fbf12"
      },
      "execution_count": 22,
      "outputs": [
        {
          "output_type": "execute_result",
          "data": {
            "text/plain": [
              "(989, 8)"
            ]
          },
          "metadata": {},
          "execution_count": 22
        }
      ]
    },
    {
      "cell_type": "code",
      "source": [
        "# 레이블 인코딩을 위한 라이브러리 불러오기\n",
        "from sklearn.preprocessing import LabelEncoder\n",
        "import joblib\n",
        "\n",
        "# 레이블 인코딩 객체 생성\n",
        "le = LabelEncoder()\n",
        "\n",
        "# 'cpc4' 열을 레이블 인코딩하여 'cpc_class_encoded' 열에 저장\n",
        "df['cpc_class_encoded'] = le.fit_transform(df['cpc4'])\n",
        "\n",
        "# 인코더 객체를 'label_encoder.joblib' 파일로 저장\n",
        "joblib.dump(le, 'label_encoder.joblib')\n",
        "\n",
        "# 'appln_title', 'appln_abstract', 'cpc4', 'cpc_class_encoded' 열을 출력하여 결과 확인\n",
        "print(df[['appln_title', 'appln_abstract', 'cpc4', 'cpc_class_encoded']].head())\n"
      ],
      "metadata": {
        "colab": {
          "base_uri": "https://localhost:8080/"
        },
        "id": "GzwqiZFklZBq",
        "outputId": "4cf9dd6f-aab1-4612-bf51-ca24e5d7f5f7"
      },
      "execution_count": 23,
      "outputs": [
        {
          "output_type": "stream",
          "name": "stdout",
          "text": [
            "                                          appln_title  \\\n",
            "0   Configuring machine learning model thresholds ...   \n",
            "4   Configuring machine learning model thresholds ...   \n",
            "5   Vehicle scenario mining for machine learning m...   \n",
            "8                   Audio intelligent wearable device   \n",
            "10  Vehicle scenario mining for machine learning m...   \n",
            "\n",
            "                                       appln_abstract  cpc4  cpc_class_encoded  \n",
            "0   Certain aspects of the present disclosure prov...  G06F                  3  \n",
            "4   Certain aspects of the present disclosure prov...  G06N                  4  \n",
            "5   Provided are methods for vehicle scenario mini...  B60W                  1  \n",
            "8   The present disclosure discloses an audio inte...  H04R                 16  \n",
            "10  Provided are methods for vehicle scenario mini...  G05B                  2  \n"
          ]
        }
      ]
    },
    {
      "cell_type": "code",
      "source": [
        "df.shape"
      ],
      "metadata": {
        "colab": {
          "base_uri": "https://localhost:8080/"
        },
        "id": "r2AwFVVhnOUl",
        "outputId": "1c65bca4-72b0-4c46-f42f-2922b4583d8e"
      },
      "execution_count": 24,
      "outputs": [
        {
          "output_type": "execute_result",
          "data": {
            "text/plain": [
              "(989, 9)"
            ]
          },
          "metadata": {},
          "execution_count": 24
        }
      ]
    },
    {
      "cell_type": "code",
      "source": [
        "# 데이터프레임 변수들의 데이터 유형 확인\n",
        "print(df.dtypes)\n"
      ],
      "metadata": {
        "colab": {
          "base_uri": "https://localhost:8080/"
        },
        "id": "f8161TTOej8o",
        "outputId": "91fb9e2d-3504-42af-c51e-a2256ff54700"
      },
      "execution_count": 25,
      "outputs": [
        {
          "output_type": "stream",
          "name": "stdout",
          "text": [
            "appln_id                  int64\n",
            "earliest_filing_year      int64\n",
            "person_ctry_code         object\n",
            "cpc_class_symbol         object\n",
            "cpc4                     object\n",
            "nace2_code              float64\n",
            "appln_title              object\n",
            "appln_abstract           object\n",
            "cpc_class_encoded         int64\n",
            "dtype: object\n"
          ]
        }
      ]
    },
    {
      "cell_type": "markdown",
      "source": [
        "##**5. 데이터셋 클래스 정의**\n"
      ],
      "metadata": {
        "id": "gNQdCMChn40K"
      }
    },
    {
      "cell_type": "markdown",
      "source": [
        "**PatentBERT는 BERT 모델을 기반으로 하므로, appln_title과 appln_abstract를 결합하여 입력으로 사용. claims가 없으므로 생략**\n"
      ],
      "metadata": {
        "id": "wF4TOkO3n_ch"
      }
    },
    {
      "cell_type": "code",
      "source": [
        "import torch\n",
        "from transformers import BertTokenizer\n",
        "\n",
        "from torch.utils.data import Dataset, DataLoader\n",
        "\n",
        "# 특허 데이터셋 정의\n",
        "class PatentDataset(Dataset):\n",
        "    # 데이터셋 초기화 함수\n",
        "    def __init__(self, titles, abstracts, labels, tokenizer, max_length):\n",
        "        self.titles = titles  # 특허 제목 리스트\n",
        "        self.abstracts = abstracts  # 특허 초록 리스트\n",
        "        self.labels = labels  # 레이블 리스트\n",
        "        self.tokenizer = tokenizer  # 토크나이저 (BERT 등)\n",
        "        self.max_length = max_length  # 최대 토큰 길이 설정\n",
        "\n",
        "    # 데이터셋 크기 반환\n",
        "    def __len__(self):\n",
        "        return len(self.titles)\n",
        "\n",
        "    # 특정 인덱스에 해당하는 데이터 반환\n",
        "    def __getitem__(self, idx):\n",
        "        title = str(self.titles[idx])  # 특허 제목을 문자열로 변환\n",
        "        abstract = str(self.abstracts[idx])  # 특허 초록을 문자열로 변환\n",
        "        label = self.labels[idx]  # 해당 데이터의 레이블\n",
        "\n",
        "        # 제목과 초록을 하나의 텍스트로 결합\n",
        "        text = title + \" \" + abstract\n",
        "\n",
        "        # 토크나이저로 텍스트를 인코딩\n",
        "        encoding = self.tokenizer.encode_plus(\n",
        "            text,  # 입력 텍스트\n",
        "            add_special_tokens=True,  # 특수 토큰 추가 ([CLS], [SEP] 등)\n",
        "            max_length=self.max_length,  # 최대 길이 설정\n",
        "            truncation=True,  # 초과된 길이는 자르기\n",
        "            padding='max_length',  # 최대 길이에 맞춰 패딩\n",
        "            return_attention_mask=True,  # attention mask 반환\n",
        "            return_tensors='pt',  # PyTorch 텐서로 반환\n",
        "        )\n",
        "\n",
        "        # 인코딩된 데이터와 레이블 반환\n",
        "        return {\n",
        "            'input_ids': encoding['input_ids'].flatten(),  # 입력 IDs\n",
        "            'attention_mask': encoding['attention_mask'].flatten(),  # attention mask\n",
        "            'labels': torch.tensor(label, dtype=torch.long)  # 레이블 (정수형)\n",
        "        }\n"
      ],
      "metadata": {
        "id": "ravdiNO-nopC"
      },
      "execution_count": 26,
      "outputs": []
    },
    {
      "cell_type": "markdown",
      "source": [
        "##**6. 모델 초기화 및 학습**\n"
      ],
      "metadata": {
        "id": "BBWHV8c4pKWC"
      }
    },
    {
      "cell_type": "markdown",
      "source": [
        "**6.1 데이터 분할**\n"
      ],
      "metadata": {
        "id": "2lKgf2P6pO9j"
      }
    },
    {
      "cell_type": "code",
      "source": [
        "from sklearn.model_selection import train_test_split\n",
        "\n",
        "# 특징(feature) 변수와 타겟(target) 변수 정의\n",
        "# X: 특허 제목과 초록을 포함하는 입력 데이터 (feature)\n",
        "# y: CPC 분류를 나타내는 인코딩된 값 (target)\n",
        "X = df[['appln_title', 'appln_abstract']]  # 특허 제목과 초록을 feature 변수로 선택\n",
        "y = df['cpc_class_encoded']  # CPC 분류 코드 인코딩을 target 변수로 설정\n",
        "\n",
        "# 훈련 세트와 테스트 세트로 데이터를 분할\n",
        "# test_size=0.2: 테스트 세트는 전체 데이터의 20%로 설정\n",
        "# random_state=42: 무작위 분할의 일관성을 위해 시드 값 고정\n",
        "# stratify=y: 타겟 변수를 기준으로 훈련/테스트 세트에 균등한 비율로 분포시키기 위함 (층화 추출)\n",
        "X_train, X_test, y_train, y_test = train_test_split(\n",
        "    X, y, test_size=0.2, random_state=42, stratify=y\n",
        ")\n",
        "\n",
        "# 훈련 데이터와 테스트 데이터의 크기 출력\n",
        "print(f'Train size: {X_train.shape[0]}')  # 훈련 세트의 샘플 수 출력\n",
        "print(f'Test size: {X_test.shape[0]}')  # 테스트 세트의 샘플 수 출력\n"
      ],
      "metadata": {
        "colab": {
          "base_uri": "https://localhost:8080/"
        },
        "id": "cH_mSDEroMvG",
        "outputId": "b6bdb298-2c13-4674-e56b-e248932b3a6a"
      },
      "execution_count": 27,
      "outputs": [
        {
          "output_type": "stream",
          "name": "stdout",
          "text": [
            "Train size: 791\n",
            "Test size: 198\n"
          ]
        }
      ]
    },
    {
      "cell_type": "markdown",
      "source": [
        "**6.2 토크나이저 및 데이터로드 설정**\n"
      ],
      "metadata": {
        "id": "yTmPRPRwqXhW"
      }
    },
    {
      "cell_type": "code",
      "source": [
        "# BERT 토크나이저 초기화\n",
        "# 'bert-base-uncased' 사전 학습된 모델의 토크나이저를 불러옴\n",
        "tokenizer = BertTokenizer.from_pretrained('bert-base-uncased')\n",
        "\n",
        "# 최대 시퀀스 길이 설정\n",
        "MAX_LENGTH = 512  # 모델이 처리할 수 있는 최대 토큰 길이 (GPU 메모리에 따라 조정 필요)\n",
        "\n",
        "# 훈련 데이터셋 생성\n",
        "train_dataset = PatentDataset(\n",
        "    titles=X_train['appln_title'].to_numpy(),  # 훈련 세트의 제목을 NumPy 배열로 변환\n",
        "    abstracts=X_train['appln_abstract'].to_numpy(),  # 훈련 세트의 초록을 NumPy 배열로 변환\n",
        "    labels=y_train.to_numpy(),  # 훈련 세트의 레이블을 NumPy 배열로 변환\n",
        "    tokenizer=tokenizer,  # BERT 토크나이저 사용\n",
        "    max_length=MAX_LENGTH  # 최대 시퀀스 길이 설정\n",
        ")\n",
        "\n",
        "# 테스트 데이터셋 생성\n",
        "test_dataset = PatentDataset(\n",
        "    titles=X_test['appln_title'].to_numpy(),  # 테스트 세트의 제목을 NumPy 배열로 변환\n",
        "    abstracts=X_test['appln_abstract'].to_numpy(),  # 테스트 세트의 초록을 NumPy 배열로 변환\n",
        "    labels=y_test.to_numpy(),  # 테스트 세트의 레이블을 NumPy 배열로 변환\n",
        "    tokenizer=tokenizer,  # BERT 토크나이저 사용\n",
        "    max_length=MAX_LENGTH  # 최대 시퀀스 길이 설정\n",
        ")\n",
        "\n",
        "# 배치 사이즈 설정\n",
        "BATCH_SIZE = 8  # 각 배치에서 처리할 샘플 수 (GPU 메모리 한도에 맞춰 조정 가능)\n",
        "\n",
        "# 훈련 데이터로더 생성\n",
        "# 배치 사이즈만큼 데이터를 묶어서 모델에 전달하며, 훈련 데이터는 매번 셔플링함\n",
        "train_loader = DataLoader(train_dataset, batch_size=BATCH_SIZE, shuffle=True)\n",
        "\n",
        "# 테스트 데이터로더 생성\n",
        "# 테스트 데이터는 셔플링하지 않고 그대로 배치 사이즈만큼 묶어서 모델에 전달\n",
        "test_loader = DataLoader(test_dataset, batch_size=BATCH_SIZE)\n"
      ],
      "metadata": {
        "colab": {
          "base_uri": "https://localhost:8080/",
          "height": 314,
          "referenced_widgets": [
            "e225167554e8458395460a1ae7d1f503",
            "0185583ef10142e1b88bf89b36bf2a16",
            "8561d5283ed741c5873fe4c89b21d6a4",
            "495898b129394d8b82e9cf84790cfc7c",
            "f1d61a659e944ee7a91dd5adc71733c7",
            "ebdab112879e49f098b56f45cf11c7c4",
            "0c5adc046f0f412e8f7785aa04eb999b",
            "eeca991082d343c3aa6070175ffcda7e",
            "9ee92e5ecbac4e8195f2f4e7454a6f4d",
            "7e5270b2191f4ff9ab87ae632c4ec3c3",
            "d70d4b2d989640c5a2aa238e8b9ea543",
            "fb6d423a74a24165a98fcbacf219e5c6",
            "bfbc86fceb0b4f739565432f8cc89d0b",
            "1aa0fe76a7914bfd9c333d3c78479272",
            "f547756eea5347b3965186352937f24e",
            "0a5d6e1606844dd0a9e758870fcae3ff",
            "19528183d49f4c43a8287335d4b5a0e5",
            "2ea1586535bb4f6795e89f5f6199e810",
            "6cb1c9105780419e8c7ca8129ebdbaa0",
            "dfe285f7ac314fdf9c71318fb6aac44f",
            "d11be3e71cdb447d8aa813222b8d897e",
            "0657d98446ca4871b60be84d96356f3b",
            "51536d3228ef4f1584dedd39b57e3b81",
            "4d269b4ee32a4bf1978e93582b29ff37",
            "7d10f92e55db42038cf87bc655748110",
            "877836d786ca46dc86b5349fd5a4663a",
            "c22bc7889e054259851c21afdb396997",
            "8be961e53e6349359d1a8694f023ba8d",
            "6a349119233a4b4d8d6e16120bf43902",
            "87c960ae995c4eac8643496324d93c3f",
            "9d51fdf443dc4390989edd3e2d5da550",
            "c2b0d0bdca81418bbe3c5293ddc40f80",
            "e369b9e945314e1c8d8da78f4f10ff72",
            "2ae4adeab3024ee2a4a1ec04a63c8155",
            "7c7b743aa091471fadcb205b763a8343",
            "4734029e4fcc4f4d9ef53743396150c2",
            "d3852808917848659061b953d271326b",
            "89ba818cce064133b0b593978632f154",
            "3f19f01c072a45aa873a475f46fd06f2",
            "39cb8eedf03147c98457ae67516c54fe",
            "60d3bc1a884c42229f27aa4f242f47da",
            "7c1db4e2e09b4115b9a02a9c729b1e76",
            "35c81ca60e2946f79f74a325c73186bb",
            "84c13a2782d64e99877b4c30eefbe277"
          ]
        },
        "id": "bPMPTVNfqEL-",
        "outputId": "4cce87da-4986-48fe-e5a9-26971e471e94"
      },
      "execution_count": 28,
      "outputs": [
        {
          "output_type": "stream",
          "name": "stderr",
          "text": [
            "/usr/local/lib/python3.10/dist-packages/huggingface_hub/utils/_token.py:89: UserWarning: \n",
            "The secret `HF_TOKEN` does not exist in your Colab secrets.\n",
            "To authenticate with the Hugging Face Hub, create a token in your settings tab (https://huggingface.co/settings/tokens), set it as secret in your Google Colab and restart your session.\n",
            "You will be able to reuse this secret in all of your notebooks.\n",
            "Please note that authentication is recommended but still optional to access public models or datasets.\n",
            "  warnings.warn(\n"
          ]
        },
        {
          "output_type": "display_data",
          "data": {
            "text/plain": [
              "tokenizer_config.json:   0%|          | 0.00/48.0 [00:00<?, ?B/s]"
            ],
            "application/vnd.jupyter.widget-view+json": {
              "version_major": 2,
              "version_minor": 0,
              "model_id": "e225167554e8458395460a1ae7d1f503"
            }
          },
          "metadata": {}
        },
        {
          "output_type": "display_data",
          "data": {
            "text/plain": [
              "vocab.txt:   0%|          | 0.00/232k [00:00<?, ?B/s]"
            ],
            "application/vnd.jupyter.widget-view+json": {
              "version_major": 2,
              "version_minor": 0,
              "model_id": "fb6d423a74a24165a98fcbacf219e5c6"
            }
          },
          "metadata": {}
        },
        {
          "output_type": "display_data",
          "data": {
            "text/plain": [
              "tokenizer.json:   0%|          | 0.00/466k [00:00<?, ?B/s]"
            ],
            "application/vnd.jupyter.widget-view+json": {
              "version_major": 2,
              "version_minor": 0,
              "model_id": "51536d3228ef4f1584dedd39b57e3b81"
            }
          },
          "metadata": {}
        },
        {
          "output_type": "display_data",
          "data": {
            "text/plain": [
              "config.json:   0%|          | 0.00/570 [00:00<?, ?B/s]"
            ],
            "application/vnd.jupyter.widget-view+json": {
              "version_major": 2,
              "version_minor": 0,
              "model_id": "2ae4adeab3024ee2a4a1ec04a63c8155"
            }
          },
          "metadata": {}
        },
        {
          "output_type": "stream",
          "name": "stderr",
          "text": [
            "/usr/local/lib/python3.10/dist-packages/transformers/tokenization_utils_base.py:1601: FutureWarning: `clean_up_tokenization_spaces` was not set. It will be set to `True` by default. This behavior will be depracted in transformers v4.45, and will be then set to `False` by default. For more details check this issue: https://github.com/huggingface/transformers/issues/31884\n",
            "  warnings.warn(\n"
          ]
        }
      ]
    },
    {
      "cell_type": "markdown",
      "source": [
        "**6.3 모델 초기화**\n"
      ],
      "metadata": {
        "id": "RGZRw0OAq2PS"
      }
    },
    {
      "cell_type": "code",
      "source": [
        "from transformers import BertForSequenceClassification, AdamW, get_linear_schedule_with_warmup\n",
        "\n",
        "# 클래스 수 설정 (레이블 인코더로 인코딩된 클래스 수)\n",
        "num_labels = len(le.classes_)  # 레이블 인코더에서 인코딩된 고유 클래스 수를 가져옴\n",
        "\n",
        "# BERT 모델 초기화 (시퀀스 분류용)\n",
        "# 'bert-base-uncased' 사전 학습된 모델을 불러와서 시퀀스 분류 작업에 맞게 설정\n",
        "# num_labels: 분류할 클래스 수\n",
        "# output_attentions=False: 어텐션 가중치를 출력하지 않음\n",
        "# output_hidden_states=False: 히든 스테이트를 출력하지 않음\n",
        "model = BertForSequenceClassification.from_pretrained(\n",
        "    'bert-base-uncased',\n",
        "    num_labels=num_labels,\n",
        "    output_attentions=False,\n",
        "    output_hidden_states=False\n",
        ")\n",
        "\n",
        "# GPU 사용 설정\n",
        "# torch.cuda.is_available(): GPU가 사용 가능한지 확인\n",
        "# 사용 가능하면 'cuda' 장치를, 그렇지 않으면 'cpu' 장치를 사용\n",
        "device = torch.device('cuda') if torch.cuda.is_available() else torch.device('cpu')\n",
        "\n",
        "# 모델을 선택된 장치로 이동 (GPU 또는 CPU)\n",
        "model.to(device)\n",
        "\n",
        "# 현재 사용 중인 장치 출력 (GPU 또는 CPU)\n",
        "print(f'Using device: {device}')\n"
      ],
      "metadata": {
        "colab": {
          "base_uri": "https://localhost:8080/",
          "height": 125,
          "referenced_widgets": [
            "ba6a0c8f7b7043c385f49a8e7565d90b",
            "c8c4bdffdc734e30bdcd25555fe75c04",
            "bf00671929ac43d6a349fa38a85bc821",
            "e4a11516f8064f0a8551d9a584da59fc",
            "7d1e13df734f4e7a9a62d00ab0e354f9",
            "1cfe30f8cf004a03a0760a65c4639d48",
            "33478021a3c946e5929ed30935e16ccd",
            "51df182aa046474a8f765ee57d36a840",
            "d2e7e9edd68a482f9cbf5efa59d9eda8",
            "6e6f0df4356d41a2ade5fd3d90655ee8",
            "5078d77aca0742848a32950c245c4eb1"
          ]
        },
        "id": "cuGRSLgKqyRZ",
        "outputId": "e571f330-5dd2-4c8d-c328-d602a6dc1936"
      },
      "execution_count": 29,
      "outputs": [
        {
          "output_type": "display_data",
          "data": {
            "text/plain": [
              "model.safetensors:   0%|          | 0.00/440M [00:00<?, ?B/s]"
            ],
            "application/vnd.jupyter.widget-view+json": {
              "version_major": 2,
              "version_minor": 0,
              "model_id": "ba6a0c8f7b7043c385f49a8e7565d90b"
            }
          },
          "metadata": {}
        },
        {
          "output_type": "stream",
          "name": "stderr",
          "text": [
            "Some weights of BertForSequenceClassification were not initialized from the model checkpoint at bert-base-uncased and are newly initialized: ['classifier.bias', 'classifier.weight']\n",
            "You should probably TRAIN this model on a down-stream task to be able to use it for predictions and inference.\n"
          ]
        },
        {
          "output_type": "stream",
          "name": "stdout",
          "text": [
            "Using device: cuda\n"
          ]
        }
      ]
    },
    {
      "cell_type": "markdown",
      "source": [
        "**6.4 옵티마이저 및 스케줄러 설정**\n"
      ],
      "metadata": {
        "id": "MTbMm-uArMII"
      }
    },
    {
      "cell_type": "code",
      "source": [
        "# 옵티마이저 설정 (AdamW 사용)\n",
        "# model.parameters(): 모델의 학습 가능한 파라미터들을 옵티마이저에 전달\n",
        "# lr=2e-5: 학습률(Learning rate)을 2e-5로 설정 (BERT 모델에 적합한 작은 학습률)\n",
        "# correct_bias=False: Adam 옵티마이저의 편향 수정 여부 (일반적으로 False로 설정)\n",
        "optimizer = AdamW(model.parameters(), lr=2e-5, correct_bias=False)\n",
        "\n",
        "# 학습할 에포크(Epoch) 수 설정\n",
        "# EPOCHS: 모델이 전체 훈련 데이터를 학습하는 횟수 (3번 반복)\n",
        "EPOCHS = 3\n",
        "\n",
        "# 전체 학습 스텝 수 계산\n",
        "# len(train_loader): 훈련 데이터의 배치 수\n",
        "# total_steps: 훈련 세트에서 각 에포크 당 스텝 수 * 에포크 수\n",
        "total_steps = len(train_loader) * EPOCHS\n",
        "\n",
        "# 학습률 스케줄러 설정 (선형 스케줄링 사용)\n",
        "# get_linear_schedule_with_warmup: 학습 초기에는 학습률을 천천히 증가시키고 이후 선형적으로 감소\n",
        "# optimizer: 학습할 옵티마이저\n",
        "# num_warmup_steps=0: 워밍업 단계(학습률을 천천히 증가시키는 단계)의 스텝 수 (0이면 워밍업 없이 바로 학습 시작)\n",
        "# num_training_steps: 전체 학습 스텝 수 (total_steps 값)\n",
        "scheduler = get_linear_schedule_with_warmup(\n",
        "    optimizer,\n",
        "    num_warmup_steps=0,\n",
        "    num_training_steps=total_steps\n",
        ")\n"
      ],
      "metadata": {
        "colab": {
          "base_uri": "https://localhost:8080/"
        },
        "id": "QuQCEkE9rG1K",
        "outputId": "b587eaee-17bb-409e-ec64-047df0857410"
      },
      "execution_count": 30,
      "outputs": [
        {
          "output_type": "stream",
          "name": "stderr",
          "text": [
            "/usr/local/lib/python3.10/dist-packages/transformers/optimization.py:591: FutureWarning: This implementation of AdamW is deprecated and will be removed in a future version. Use the PyTorch implementation torch.optim.AdamW instead, or set `no_deprecation_warning=True` to disable this warning\n",
            "  warnings.warn(\n"
          ]
        }
      ]
    },
    {
      "cell_type": "markdown",
      "source": [
        "**6.5 학습 및 평가 함수 정의**\n"
      ],
      "metadata": {
        "id": "mLW_setercyr"
      }
    },
    {
      "cell_type": "code",
      "source": [
        "from sklearn.metrics import classification_report\n",
        "\n",
        "# 에포크 동안 모델 학습 함수\n",
        "def train_epoch(model, data_loader, optimizer, device, scheduler):\n",
        "    model.train()  # 모델을 학습 모드로 설정 (dropout과 batchnorm이 활성화됨)\n",
        "    total_loss = 0  # 전체 손실값 초기화\n",
        "\n",
        "    # 데이터로더에서 배치를 하나씩 가져와 학습\n",
        "    for batch in data_loader:\n",
        "        optimizer.zero_grad()  # 옵티마이저의 그래디언트 초기화\n",
        "\n",
        "        # 배치에서 입력 데이터와 attention mask, 레이블을 가져와서 장치(GPU/CPU)로 이동\n",
        "        input_ids = batch['input_ids'].to(device)\n",
        "        attention_mask = batch['attention_mask'].to(device)\n",
        "        labels = batch['labels'].to(device)\n",
        "\n",
        "        # 모델에 입력 데이터를 전달하여 출력값 및 손실 계산\n",
        "        outputs = model(\n",
        "            input_ids=input_ids,\n",
        "            attention_mask=attention_mask,\n",
        "            labels=labels\n",
        "        )\n",
        "\n",
        "        loss = outputs.loss  # 모델의 손실값 가져오기\n",
        "        total_loss += loss.item()  # 배치 손실을 누적\n",
        "\n",
        "        loss.backward()  # 손실값을 기준으로 역전파 수행\n",
        "        optimizer.step()  # 옵티마이저가 파라미터 업데이트\n",
        "        scheduler.step()  # 스케줄러로 학습률 조정\n",
        "\n",
        "    avg_loss = total_loss / len(data_loader)  # 평균 손실 계산\n",
        "    return avg_loss  # 에포크 동안의 평균 손실값 반환\n",
        "\n",
        "# 모델 평가 함수\n",
        "def eval_model(model, data_loader, device):\n",
        "    model.eval()  # 모델을 평가 모드로 설정 (dropout과 batchnorm 비활성화)\n",
        "    predictions = []  # 예측값 저장 리스트\n",
        "    true_labels = []  # 실제 레이블 저장 리스트\n",
        "\n",
        "    # 평가 모드에서는 그래디언트 계산 비활성화\n",
        "    with torch.no_grad():\n",
        "        for batch in data_loader:\n",
        "            # 배치에서 입력 데이터와 attention mask, 레이블을 가져와 장치(GPU/CPU)로 이동\n",
        "            input_ids = batch['input_ids'].to(device)\n",
        "            attention_mask = batch['attention_mask'].to(device)\n",
        "            labels = batch['labels'].to(device)\n",
        "\n",
        "            # 모델에 입력 데이터를 전달하여 로짓(logits) 출력\n",
        "            outputs = model(\n",
        "                input_ids=input_ids,\n",
        "                attention_mask=attention_mask\n",
        "            )\n",
        "\n",
        "            logits = outputs.logits  # 모델의 로짓값 가져오기\n",
        "            preds = torch.argmax(logits, dim=1).flatten()  # 로짓에서 가장 높은 확률을 가진 클래스 예측\n",
        "\n",
        "            # 예측값과 실제값을 CPU로 이동하여 리스트에 저장\n",
        "            predictions.extend(preds.cpu().numpy())\n",
        "            true_labels.extend(labels.cpu().numpy())\n",
        "\n",
        "    return predictions, true_labels  # 예측값과 실제값 반환\n"
      ],
      "metadata": {
        "id": "yDOolUbKrZ_L"
      },
      "execution_count": 31,
      "outputs": []
    },
    {
      "cell_type": "markdown",
      "source": [
        "**6.6 모델 학습**\n"
      ],
      "metadata": {
        "id": "liAuZFMaryup"
      }
    },
    {
      "cell_type": "code",
      "source": [
        "# 학습 및 평가 반복\n",
        "for epoch in range(EPOCHS):  # 설정한 에포크 수만큼 반복\n",
        "    print(f'Epoch {epoch + 1}/{EPOCHS}')  # 현재 에포크 출력\n",
        "    print('-' * 10)  # 구분선 출력\n",
        "\n",
        "    # 한 에포크 동안 훈련을 수행하고 훈련 손실을 계산\n",
        "    train_loss = train_epoch(model, train_loader, optimizer, device, scheduler)\n",
        "    print(f'Train loss: {train_loss}')  # 훈련 손실 출력\n",
        "\n",
        "    # 테스트 데이터셋에 대해 모델을 평가하고 예측값과 실제값 반환\n",
        "    preds, labels = eval_model(model, test_loader, device)\n",
        "\n",
        "    # 예측값과 실제값을 기반으로 분류 성능 평가\n",
        "    # classification_report: 정확도, 정밀도, 재현율 등의 지표를 계산\n",
        "    report = classification_report(labels, preds, target_names=le.classes_)\n",
        "    print(report)  # 성능 평가 결과 출력\n"
      ],
      "metadata": {
        "colab": {
          "base_uri": "https://localhost:8080/"
        },
        "id": "6_mQ80zKrvFg",
        "outputId": "017a37e4-b7dc-491b-d562-192f8fc7a95e"
      },
      "execution_count": 32,
      "outputs": [
        {
          "output_type": "stream",
          "name": "stdout",
          "text": [
            "Epoch 1/3\n",
            "----------\n",
            "Train loss: 2.4253535379063\n"
          ]
        },
        {
          "output_type": "stream",
          "name": "stderr",
          "text": [
            "/usr/local/lib/python3.10/dist-packages/sklearn/metrics/_classification.py:1531: UndefinedMetricWarning: Precision is ill-defined and being set to 0.0 in labels with no predicted samples. Use `zero_division` parameter to control this behavior.\n",
            "  _warn_prf(average, modifier, f\"{metric.capitalize()} is\", len(result))\n",
            "/usr/local/lib/python3.10/dist-packages/sklearn/metrics/_classification.py:1531: UndefinedMetricWarning: Precision is ill-defined and being set to 0.0 in labels with no predicted samples. Use `zero_division` parameter to control this behavior.\n",
            "  _warn_prf(average, modifier, f\"{metric.capitalize()} is\", len(result))\n",
            "/usr/local/lib/python3.10/dist-packages/sklearn/metrics/_classification.py:1531: UndefinedMetricWarning: Precision is ill-defined and being set to 0.0 in labels with no predicted samples. Use `zero_division` parameter to control this behavior.\n",
            "  _warn_prf(average, modifier, f\"{metric.capitalize()} is\", len(result))\n"
          ]
        },
        {
          "output_type": "stream",
          "name": "stdout",
          "text": [
            "              precision    recall  f1-score   support\n",
            "\n",
            "        A61B       0.00      0.00      0.00         2\n",
            "        B60W       0.00      0.00      0.00         2\n",
            "        G05B       0.00      0.00      0.00         4\n",
            "        G06F       0.00      0.00      0.00        54\n",
            "        G06N       0.21      1.00      0.34        41\n",
            "        G06Q       0.00      0.00      0.00        15\n",
            "        G06T       0.00      0.00      0.00        10\n",
            "        G06V       0.00      0.00      0.00        11\n",
            "        G08G       0.00      0.00      0.00         2\n",
            "        G10L       0.00      0.00      0.00         5\n",
            "        G16H       0.00      0.00      0.00         4\n",
            "        H02J       0.00      0.00      0.00         4\n",
            "        H03M       0.00      0.00      0.00         2\n",
            "        H04B       0.00      0.00      0.00         2\n",
            "        H04L       0.00      0.00      0.00        24\n",
            "        H04N       0.00      0.00      0.00         5\n",
            "        H04R       0.00      0.00      0.00         2\n",
            "        H04W       0.00      0.00      0.00         5\n",
            "        H05B       0.00      0.00      0.00         2\n",
            "        Y02T       0.00      0.00      0.00         2\n",
            "\n",
            "    accuracy                           0.21       198\n",
            "   macro avg       0.01      0.05      0.02       198\n",
            "weighted avg       0.04      0.21      0.07       198\n",
            "\n",
            "Epoch 2/3\n",
            "----------\n",
            "Train loss: 2.2230508158905335\n"
          ]
        },
        {
          "output_type": "stream",
          "name": "stderr",
          "text": [
            "/usr/local/lib/python3.10/dist-packages/sklearn/metrics/_classification.py:1531: UndefinedMetricWarning: Precision is ill-defined and being set to 0.0 in labels with no predicted samples. Use `zero_division` parameter to control this behavior.\n",
            "  _warn_prf(average, modifier, f\"{metric.capitalize()} is\", len(result))\n",
            "/usr/local/lib/python3.10/dist-packages/sklearn/metrics/_classification.py:1531: UndefinedMetricWarning: Precision is ill-defined and being set to 0.0 in labels with no predicted samples. Use `zero_division` parameter to control this behavior.\n",
            "  _warn_prf(average, modifier, f\"{metric.capitalize()} is\", len(result))\n",
            "/usr/local/lib/python3.10/dist-packages/sklearn/metrics/_classification.py:1531: UndefinedMetricWarning: Precision is ill-defined and being set to 0.0 in labels with no predicted samples. Use `zero_division` parameter to control this behavior.\n",
            "  _warn_prf(average, modifier, f\"{metric.capitalize()} is\", len(result))\n"
          ]
        },
        {
          "output_type": "stream",
          "name": "stdout",
          "text": [
            "              precision    recall  f1-score   support\n",
            "\n",
            "        A61B       0.00      0.00      0.00         2\n",
            "        B60W       0.00      0.00      0.00         2\n",
            "        G05B       0.00      0.00      0.00         4\n",
            "        G06F       0.29      0.93      0.44        54\n",
            "        G06N       0.08      0.05      0.06        41\n",
            "        G06Q       0.00      0.00      0.00        15\n",
            "        G06T       0.00      0.00      0.00        10\n",
            "        G06V       0.00      0.00      0.00        11\n",
            "        G08G       0.00      0.00      0.00         2\n",
            "        G10L       0.00      0.00      0.00         5\n",
            "        G16H       0.00      0.00      0.00         4\n",
            "        H02J       0.00      0.00      0.00         4\n",
            "        H03M       0.00      0.00      0.00         2\n",
            "        H04B       0.00      0.00      0.00         2\n",
            "        H04L       0.00      0.00      0.00        24\n",
            "        H04N       0.00      0.00      0.00         5\n",
            "        H04R       0.00      0.00      0.00         2\n",
            "        H04W       0.00      0.00      0.00         5\n",
            "        H05B       0.00      0.00      0.00         2\n",
            "        Y02T       0.00      0.00      0.00         2\n",
            "\n",
            "    accuracy                           0.26       198\n",
            "   macro avg       0.02      0.05      0.03       198\n",
            "weighted avg       0.10      0.26      0.13       198\n",
            "\n",
            "Epoch 3/3\n",
            "----------\n",
            "Train loss: 2.0048086739549733\n",
            "              precision    recall  f1-score   support\n",
            "\n",
            "        A61B       0.00      0.00      0.00         2\n",
            "        B60W       0.00      0.00      0.00         2\n",
            "        G05B       0.00      0.00      0.00         4\n",
            "        G06F       0.38      0.65      0.48        54\n",
            "        G06N       0.24      0.27      0.25        41\n",
            "        G06Q       0.00      0.00      0.00        15\n",
            "        G06T       0.20      0.40      0.27        10\n",
            "        G06V       0.00      0.00      0.00        11\n",
            "        G08G       0.00      0.00      0.00         2\n",
            "        G10L       0.00      0.00      0.00         5\n",
            "        G16H       0.00      0.00      0.00         4\n",
            "        H02J       0.22      0.50      0.31         4\n",
            "        H03M       0.00      0.00      0.00         2\n",
            "        H04B       0.00      0.00      0.00         2\n",
            "        H04L       0.62      0.67      0.64        24\n",
            "        H04N       0.00      0.00      0.00         5\n",
            "        H04R       0.00      0.00      0.00         2\n",
            "        H04W       0.00      0.00      0.00         5\n",
            "        H05B       0.00      0.00      0.00         2\n",
            "        Y02T       0.00      0.00      0.00         2\n",
            "\n",
            "    accuracy                           0.34       198\n",
            "   macro avg       0.08      0.12      0.10       198\n",
            "weighted avg       0.24      0.34      0.28       198\n",
            "\n"
          ]
        },
        {
          "output_type": "stream",
          "name": "stderr",
          "text": [
            "/usr/local/lib/python3.10/dist-packages/sklearn/metrics/_classification.py:1531: UndefinedMetricWarning: Precision is ill-defined and being set to 0.0 in labels with no predicted samples. Use `zero_division` parameter to control this behavior.\n",
            "  _warn_prf(average, modifier, f\"{metric.capitalize()} is\", len(result))\n",
            "/usr/local/lib/python3.10/dist-packages/sklearn/metrics/_classification.py:1531: UndefinedMetricWarning: Precision is ill-defined and being set to 0.0 in labels with no predicted samples. Use `zero_division` parameter to control this behavior.\n",
            "  _warn_prf(average, modifier, f\"{metric.capitalize()} is\", len(result))\n",
            "/usr/local/lib/python3.10/dist-packages/sklearn/metrics/_classification.py:1531: UndefinedMetricWarning: Precision is ill-defined and being set to 0.0 in labels with no predicted samples. Use `zero_division` parameter to control this behavior.\n",
            "  _warn_prf(average, modifier, f\"{metric.capitalize()} is\", len(result))\n"
          ]
        }
      ]
    },
    {
      "cell_type": "markdown",
      "source": [
        "##**7. 모델 평가 및 예측**"
      ],
      "metadata": {
        "id": "FuCNEprtsO6a"
      }
    },
    {
      "cell_type": "markdown",
      "source": [
        "**7.1 혼동 행렬 그리기**\n"
      ],
      "metadata": {
        "id": "0nzebOeTsOmK"
      }
    },
    {
      "cell_type": "code",
      "source": [
        "from sklearn.metrics import confusion_matrix, ConfusionMatrixDisplay\n",
        "import matplotlib.pyplot as plt\n",
        "\n",
        "# 혼동 행렬(confusion matrix) 계산\n",
        "# labels: 실제 레이블\n",
        "# preds: 모델이 예측한 레이블\n",
        "cm = confusion_matrix(labels, preds)  # 실제값과 예측값을 비교하여 혼동 행렬 생성\n",
        "\n",
        "# 혼동 행렬 시각화 객체 생성\n",
        "# display_labels: 각 클래스의 이름을 표시\n",
        "disp = ConfusionMatrixDisplay(confusion_matrix=cm, display_labels=le.classes_)\n",
        "\n",
        "# 혼동 행렬을 시각화하기 위한 플롯 설정\n",
        "plt.figure(figsize=(20, 20))  # 플롯 크기를 20x20으로 설정 (클래스가 많을 때 가독성 높임)\n",
        "disp.plot(cmap=plt.cm.Blues, xticks_rotation=90)  # 행렬을 파란색 컬러맵과 함께 플롯하고, x축 라벨을 90도 회전\n",
        "plt.title('Confusion Matrix')  # 플롯의 제목 설정\n",
        "plt.show()  # 플롯을 화면에 표시\n"
      ],
      "metadata": {
        "colab": {
          "base_uri": "https://localhost:8080/",
          "height": 518
        },
        "id": "zXLxjeyKr9U3",
        "outputId": "2bca9417-a646-4cc1-e1e3-7addf1683697"
      },
      "execution_count": 33,
      "outputs": [
        {
          "output_type": "display_data",
          "data": {
            "text/plain": [
              "<Figure size 2000x2000 with 0 Axes>"
            ]
          },
          "metadata": {}
        },
        {
          "output_type": "display_data",
          "data": {
            "text/plain": [
              "<Figure size 640x480 with 2 Axes>"
            ],
            "image/png": "[encoded data removed]"
          },
          "metadata": {}
        }
      ]
    },
    {
      "cell_type": "markdown",
      "source": [
        "True Label (y축): 실제 데이터의 레이블.\n",
        "\n",
        "Predicted Label (x축): 모델이 예측한 레이블.\n",
        "\n",
        "대각선 요소: 모델이 올바르게 예측한 값.\n",
        "\n",
        "비대각선 요소: 잘못된 예측을 나타냄. 예를 들어, G10L 15/22가 G10L 15/26으로 잘못 예측된 경우."
      ],
      "metadata": {
        "id": "W9YoPsijvhkC"
      }
    },
    {
      "cell_type": "markdown",
      "source": [
        "대각선 집중: 대부분의 값이 대각선에 있어, 모델이 많은 클래스를 올바르게 예측함.\n",
        "\n",
        "오분류: 대각선 외부 값은 잘못된 예측을 의미. 예를 들어, G10L 15/22가 G10L 15/26으로 6번 잘못 예측됨."
      ],
      "metadata": {
        "id": "YZYJzMZnwNT7"
      }
    },
    {
      "cell_type": "markdown",
      "source": [
        "G10L 15/26: 6번의 올바른 예측을 했으나, G10L 15/22와 혼동함.\n",
        "\n",
        "G06T 9/005 및 F16H2061/0081: 예측이 적고, 약간의 오분류 발생. 데이터 부족 또는 구분 어려움 가능성.\n",
        "\n",
        "소수의 클래스 혼동: A61B 5/7267 및 Y10S 706/919에서 약간의 오분류 발생. 모델 성능은 전반적으로 우수."
      ],
      "metadata": {
        "id": "M-GPXqtYw-RK"
      }
    },
    {
      "cell_type": "markdown",
      "source": [
        "**7.2 새로운 특허 문서 분류**\n"
      ],
      "metadata": {
        "id": "kmT-hpN9xY0I"
      }
    },
    {
      "cell_type": "code",
      "source": [
        "def predict_category(title, abstract, model, tokenizer, device, label_encoder):\n",
        "    model.eval()  # 모델을 평가 모드로 설정 (학습 관련 레이어 비활성화)\n",
        "\n",
        "    # 제목과 초록을 결합하여 입력 텍스트 생성\n",
        "    text = title + \" \" + abstract\n",
        "    # 텍스트를 토크나이저로 인코딩 (BERT 모델에 맞게 처리)\n",
        "    encoding = tokenizer.encode_plus(\n",
        "        text,\n",
        "        add_special_tokens=True,  # [CLS], [SEP] 등의 특수 토큰 추가\n",
        "        max_length=512,  # 최대 시퀀스 길이 설정\n",
        "        truncation=True,  # 길이를 초과하면 자름\n",
        "        padding='max_length',  # 최대 길이에 맞춰 패딩 추가\n",
        "        return_attention_mask=True,  # attention mask 반환\n",
        "        return_tensors='pt',  # PyTorch 텐서로 반환\n",
        "    )\n",
        "\n",
        "    # 인코딩된 데이터를 GPU/CPU로 이동\n",
        "    input_ids = encoding['input_ids'].to(device)\n",
        "    attention_mask = encoding['attention_mask'].to(device)\n",
        "\n",
        "    # 그래디언트 계산 없이 예측 수행\n",
        "    with torch.no_grad():\n",
        "        outputs = model(input_ids=input_ids, attention_mask=attention_mask)  # 모델에 입력 전달\n",
        "        logits = outputs.logits  # 모델의 예측 결과 (로짓 값)\n",
        "        preds = torch.argmax(logits, dim=1).flatten()  # 가장 높은 확률의 클래스 예측\n",
        "\n",
        "    # 예측된 클래스 인덱스를 실제 카테고리 레이블로 변환\n",
        "    category = label_encoder.inverse_transform(preds.cpu().numpy())\n",
        "    return category[0]  # 예측된 카테고리 반환\n",
        "\n",
        "# 예시 특허 문서\n",
        "new_title = \"Innovative Widget Design\"  # 새로운 특허 제목\n",
        "new_abstract = \"This patent describes a novel widget that improves efficiency...\"  # 새로운 특허 초록\n",
        "\n",
        "# 예측\n",
        "predicted_category = predict_category(new_title, new_abstract, model, tokenizer, device, le)\n",
        "print(f'Predicted Category: {predicted_category}')  # 예측된 카테고리 출력\n"
      ],
      "metadata": {
        "colab": {
          "base_uri": "https://localhost:8080/"
        },
        "id": "SeZoqUBVsfZC",
        "outputId": "7210e43e-ed01-4f62-eaed-d389a00177a7"
      },
      "execution_count": 34,
      "outputs": [
        {
          "output_type": "stream",
          "name": "stdout",
          "text": [
            "Predicted Category: G06F\n"
          ]
        }
      ]
    },
    {
      "cell_type": "code",
      "source": [
        "from sklearn.metrics import classification_report\n",
        "\n",
        "# classification_report를 딕셔너리 형태로 생성\n",
        "report = classification_report(labels, preds, target_names=le.classes_, output_dict=True)\n",
        "\n",
        "# 딕셔너리를 데이터프레임으로 변환\n",
        "df_report = pd.DataFrame(report).transpose()\n",
        "\n",
        "# 상위 N개의 클래스만 사용 (여기서는 20개 클래스)\n",
        "df_report = df_report.iloc[:20, :3]  # 'accuracy', 'macro avg', 'weighted avg' 제외\n",
        "\n",
        "# 데이터 확인\n",
        "print(df_report.head())\n"
      ],
      "metadata": {
        "colab": {
          "base_uri": "https://localhost:8080/"
        },
        "id": "54qRcEMfzGrT",
        "outputId": "5c9bfe4d-71ca-4ac5-8fd0-241dd1d5238d"
      },
      "execution_count": 35,
      "outputs": [
        {
          "output_type": "stream",
          "name": "stdout",
          "text": [
            "      precision    recall  f1-score\n",
            "A61B   0.000000  0.000000  0.000000\n",
            "B60W   0.000000  0.000000  0.000000\n",
            "G05B   0.000000  0.000000  0.000000\n",
            "G06F   0.380435  0.648148  0.479452\n",
            "G06N   0.239130  0.268293  0.252874\n"
          ]
        },
        {
          "output_type": "stream",
          "name": "stderr",
          "text": [
            "/usr/local/lib/python3.10/dist-packages/sklearn/metrics/_classification.py:1531: UndefinedMetricWarning: Precision is ill-defined and being set to 0.0 in labels with no predicted samples. Use `zero_division` parameter to control this behavior.\n",
            "  _warn_prf(average, modifier, f\"{metric.capitalize()} is\", len(result))\n",
            "/usr/local/lib/python3.10/dist-packages/sklearn/metrics/_classification.py:1531: UndefinedMetricWarning: Precision is ill-defined and being set to 0.0 in labels with no predicted samples. Use `zero_division` parameter to control this behavior.\n",
            "  _warn_prf(average, modifier, f\"{metric.capitalize()} is\", len(result))\n",
            "/usr/local/lib/python3.10/dist-packages/sklearn/metrics/_classification.py:1531: UndefinedMetricWarning: Precision is ill-defined and being set to 0.0 in labels with no predicted samples. Use `zero_division` parameter to control this behavior.\n",
            "  _warn_prf(average, modifier, f\"{metric.capitalize()} is\", len(result))\n"
          ]
        }
      ]
    },
    {
      "cell_type": "code",
      "source": [
        "# 필요한 지표만 추출\n",
        "df_metrics = df_report[['precision', 'recall', 'f1-score']]\n",
        "\n",
        "# 데이터 확인\n",
        "print(df_metrics.head())\n"
      ],
      "metadata": {
        "colab": {
          "base_uri": "https://localhost:8080/"
        },
        "id": "-o3lDcaCz3iQ",
        "outputId": "8cae0bf2-e7fd-49e3-f4b5-926d9dccf491"
      },
      "execution_count": 36,
      "outputs": [
        {
          "output_type": "stream",
          "name": "stdout",
          "text": [
            "      precision    recall  f1-score\n",
            "A61B   0.000000  0.000000  0.000000\n",
            "B60W   0.000000  0.000000  0.000000\n",
            "G05B   0.000000  0.000000  0.000000\n",
            "G06F   0.380435  0.648148  0.479452\n",
            "G06N   0.239130  0.268293  0.252874\n"
          ]
        }
      ]
    },
    {
      "cell_type": "code",
      "source": [
        "import matplotlib.pyplot as plt\n",
        "import seaborn as sns\n",
        "\n",
        "# 그래프 스타일 설정\n",
        "sns.set(style=\"whitegrid\")\n",
        "\n",
        "# 그래프 크기 설정\n",
        "plt.figure(figsize=(15, 8))\n",
        "\n",
        "# 막대 그래프 생성\n",
        "df_metrics.plot(kind='bar', figsize=(15, 8))\n",
        "\n",
        "# 그래프 제목 및 축 레이블 설정\n",
        "plt.title('Precision, Recall, F1-Score', fontsize=16)\n",
        "plt.xlabel('class', fontsize=14)\n",
        "plt.ylabel('score', fontsize=14)\n",
        "\n",
        "# x축 레이블 회전\n",
        "plt.xticks(rotation=45, ha='right')\n",
        "\n",
        "# y축 범위 설정\n",
        "plt.ylim(0, 1)\n",
        "\n",
        "# 범례 위치 설정\n",
        "plt.legend(title='index', loc='upper left', fontsize=12)\n",
        "\n",
        "# 레이아웃 조정\n",
        "plt.tight_layout()\n",
        "\n",
        "# 그래프 출력\n",
        "plt.show()\n"
      ],
      "metadata": {
        "colab": {
          "base_uri": "https://localhost:8080/",
          "height": 455
        },
        "id": "bB5xxQzLz7HN",
        "outputId": "1afadc0d-7abf-4ffc-ebf8-f51660f3f9fd"
      },
      "execution_count": 37,
      "outputs": [
        {
          "output_type": "display_data",
          "data": {
            "text/plain": [
              "<Figure size 1500x800 with 0 Axes>"
            ]
          },
          "metadata": {}
        },
        {
          "output_type": "display_data",
          "data": {
            "text/plain": [
              "<Figure size 1500x800 with 1 Axes>"
            ],
            "image/png": "[encoded data removed]"
          },
          "metadata": {}
        }
      ]
    },
    {
      "cell_type": "markdown",
      "source": [
        "# **1. 새로운 방식으로 학습**\n"
      ],
      "metadata": {
        "id": "zuIeffBSgTeI"
      }
    },
    {
      "cell_type": "code",
      "source": [
        "#display df\n",
        "df.head()"
      ],
      "metadata": {
        "colab": {
          "base_uri": "https://localhost:8080/",
          "height": 625
        },
        "id": "eRkQzDgDh5C_",
        "outputId": "6c7934fc-1de9-45c4-e1f6-26a4da66e13f"
      },
      "execution_count": 38,
      "outputs": [
        {
          "output_type": "execute_result",
          "data": {
            "text/plain": [
              "     appln_id  earliest_filing_year person_ctry_code cpc_class_symbol  cpc4  \\\n",
              "0   584648513                  2022               US    G06F  18/2193  G06F   \n",
              "4   584648513                  2022               US      G06N  20/00  G06N   \n",
              "5   585982552                  2022               US     B60W  60/001  B60W   \n",
              "8   580619052                  2022               CN     H04R   1/028  H04R   \n",
              "10  585982552                  2022               US    G05B  13/0265  G05B   \n",
              "\n",
              "    nace2_code                                        appln_title  \\\n",
              "0        26.20  Configuring machine learning model thresholds ...   \n",
              "4        26.20  Configuring machine learning model thresholds ...   \n",
              "5        26.51  Vehicle scenario mining for machine learning m...   \n",
              "8        26.30                  Audio intelligent wearable device   \n",
              "10       26.51  Vehicle scenario mining for machine learning m...   \n",
              "\n",
              "                                       appln_abstract  cpc_class_encoded  \n",
              "0   Certain aspects of the present disclosure prov...                  3  \n",
              "4   Certain aspects of the present disclosure prov...                  4  \n",
              "5   Provided are methods for vehicle scenario mini...                  1  \n",
              "8   The present disclosure discloses an audio inte...                 16  \n",
              "10  Provided are methods for vehicle scenario mini...                  2  "
            ],
            "text/html": [
              "\n",
              "  <div id=\"df-a5d9ea4d-3345-481b-8a85-e4ac45158b80\" class=\"colab-df-container\">\n",
              "    <div>\n",
              "<style scoped>\n",
              "    .dataframe tbody tr th:only-of-type {\n",
              "        vertical-align: middle;\n",
              "    }\n",
              "\n",
              "    .dataframe tbody tr th {\n",
              "        vertical-align: top;\n",
              "    }\n",
              "\n",
              "    .dataframe thead th {\n",
              "        text-align: right;\n",
              "    }\n",
              "</style>\n",
              "<table border=\"1\" class=\"dataframe\">\n",
              "  <thead>\n",
              "    <tr style=\"text-align: right;\">\n",
              "      <th></th>\n",
              "      <th>appln_id</th>\n",
              "      <th>earliest_filing_year</th>\n",
              "      <th>person_ctry_code</th>\n",
              "      <th>cpc_class_symbol</th>\n",
              "      <th>cpc4</th>\n",
              "      <th>nace2_code</th>\n",
              "      <th>appln_title</th>\n",
              "      <th>appln_abstract</th>\n",
              "      <th>cpc_class_encoded</th>\n",
              "    </tr>\n",
              "  </thead>\n",
              "  <tbody>\n",
              "    <tr>\n",
              "      <th>0</th>\n",
              "      <td>584648513</td>\n",
              "      <td>2022</td>\n",
              "      <td>US</td>\n",
              "      <td>G06F  18/2193</td>\n",
              "      <td>G06F</td>\n",
              "      <td>26.20</td>\n",
              "      <td>Configuring machine learning model thresholds ...</td>\n",
              "      <td>Certain aspects of the present disclosure prov...</td>\n",
              "      <td>3</td>\n",
              "    </tr>\n",
              "    <tr>\n",
              "      <th>4</th>\n",
              "      <td>584648513</td>\n",
              "      <td>2022</td>\n",
              "      <td>US</td>\n",
              "      <td>G06N  20/00</td>\n",
              "      <td>G06N</td>\n",
              "      <td>26.20</td>\n",
              "      <td>Configuring machine learning model thresholds ...</td>\n",
              "      <td>Certain aspects of the present disclosure prov...</td>\n",
              "      <td>4</td>\n",
              "    </tr>\n",
              "    <tr>\n",
              "      <th>5</th>\n",
              "      <td>585982552</td>\n",
              "      <td>2022</td>\n",
              "      <td>US</td>\n",
              "      <td>B60W  60/001</td>\n",
              "      <td>B60W</td>\n",
              "      <td>26.51</td>\n",
              "      <td>Vehicle scenario mining for machine learning m...</td>\n",
              "      <td>Provided are methods for vehicle scenario mini...</td>\n",
              "      <td>1</td>\n",
              "    </tr>\n",
              "    <tr>\n",
              "      <th>8</th>\n",
              "      <td>580619052</td>\n",
              "      <td>2022</td>\n",
              "      <td>CN</td>\n",
              "      <td>H04R   1/028</td>\n",
              "      <td>H04R</td>\n",
              "      <td>26.30</td>\n",
              "      <td>Audio intelligent wearable device</td>\n",
              "      <td>The present disclosure discloses an audio inte...</td>\n",
              "      <td>16</td>\n",
              "    </tr>\n",
              "    <tr>\n",
              "      <th>10</th>\n",
              "      <td>585982552</td>\n",
              "      <td>2022</td>\n",
              "      <td>US</td>\n",
              "      <td>G05B  13/0265</td>\n",
              "      <td>G05B</td>\n",
              "      <td>26.51</td>\n",
              "      <td>Vehicle scenario mining for machine learning m...</td>\n",
              "      <td>Provided are methods for vehicle scenario mini...</td>\n",
              "      <td>2</td>\n",
              "    </tr>\n",
              "  </tbody>\n",
              "</table>\n",
              "</div>\n",
              "    <div class=\"colab-df-buttons\">\n",
              "\n",
              "  <div class=\"colab-df-container\">\n",
              "    <button class=\"colab-df-convert\" onclick=\"convertToInteractive('df-a5d9ea4d-3345-481b-8a85-e4ac45158b80')\"\n",
              "            title=\"Convert this dataframe to an interactive table.\"\n",
              "            style=\"display:none;\">\n",
              "\n",
              "  <svg xmlns=\"http://www.w3.org/2000/svg\" height=\"24px\" viewBox=\"0 -960 960 960\">\n",
              "    <path d=\"M120-120v-720h720v720H120Zm60-500h600v-160H180v160Zm220 220h160v-160H400v160Zm0 220h160v-160H400v160ZM180-400h160v-160H180v160Zm440 0h160v-160H620v160ZM180-180h160v-160H180v160Zm440 0h160v-160H620v160Z\"/>\n",
              "  </svg>\n",
              "    </button>\n",
              "\n",
              "  <style>\n",
              "    .colab-df-container {\n",
              "      display:flex;\n",
              "      gap: 12px;\n",
              "    }\n",
              "\n",
              "    .colab-df-convert {\n",
              "      background-color: #E8F0FE;\n",
              "      border: none;\n",
              "      border-radius: 50%;\n",
              "      cursor: pointer;\n",
              "      display: none;\n",
              "      fill: #1967D2;\n",
              "      height: 32px;\n",
              "      padding: 0 0 0 0;\n",
              "      width: 32px;\n",
              "    }\n",
              "\n",
              "    .colab-df-convert:hover {\n",
              "      background-color: #E2EBFA;\n",
              "      box-shadow: 0px 1px 2px rgba(60, 64, 67, 0.3), 0px 1px 3px 1px rgba(60, 64, 67, 0.15);\n",
              "      fill: #174EA6;\n",
              "    }\n",
              "\n",
              "    .colab-df-buttons div {\n",
              "      margin-bottom: 4px;\n",
              "    }\n",
              "\n",
              "    [theme=dark] .colab-df-convert {\n",
              "      background-color: #3B4455;\n",
              "      fill: #D2E3FC;\n",
              "    }\n",
              "\n",
              "    [theme=dark] .colab-df-convert:hover {\n",
              "      background-color: #434B5C;\n",
              "      box-shadow: 0px 1px 3px 1px rgba(0, 0, 0, 0.15);\n",
              "      filter: drop-shadow(0px 1px 2px rgba(0, 0, 0, 0.3));\n",
              "      fill: #FFFFFF;\n",
              "    }\n",
              "  </style>\n",
              "\n",
              "    <script>\n",
              "      const buttonEl =\n",
              "        document.querySelector('#df-a5d9ea4d-3345-481b-8a85-e4ac45158b80 button.colab-df-convert');\n",
              "      buttonEl.style.display =\n",
              "        google.colab.kernel.accessAllowed ? 'block' : 'none';\n",
              "\n",
              "      async function convertToInteractive(key) {\n",
              "        const element = document.querySelector('#df-a5d9ea4d-3345-481b-8a85-e4ac45158b80');\n",
              "        const dataTable =\n",
              "          await google.colab.kernel.invokeFunction('convertToInteractive',\n",
              "                                                    [key], {});\n",
              "        if (!dataTable) return;\n",
              "\n",
              "        const docLinkHtml = 'Like what you see? Visit the ' +\n",
              "          '<a target=\"_blank\" href=https://colab.research.google.com/notebooks/data_table.ipynb>data table notebook</a>'\n",
              "          + ' to learn more about interactive tables.';\n",
              "        element.innerHTML = '';\n",
              "        dataTable['output_type'] = 'display_data';\n",
              "        await google.colab.output.renderOutput(dataTable, element);\n",
              "        const docLink = document.createElement('div');\n",
              "        docLink.innerHTML = docLinkHtml;\n",
              "        element.appendChild(docLink);\n",
              "      }\n",
              "    </script>\n",
              "  </div>\n",
              "\n",
              "\n",
              "<div id=\"df-dffd309d-0f47-41cf-acff-af2676a94bbb\">\n",
              "  <button class=\"colab-df-quickchart\" onclick=\"quickchart('df-dffd309d-0f47-41cf-acff-af2676a94bbb')\"\n",
              "            title=\"Suggest charts\"\n",
              "            style=\"display:none;\">\n",
              "\n",
              "<svg xmlns=\"http://www.w3.org/2000/svg\" height=\"24px\"viewBox=\"0 0 24 24\"\n",
              "     width=\"24px\">\n",
              "    <g>\n",
              "        <path d=\"M19 3H5c-1.1 0-2 .9-2 2v14c0 1.1.9 2 2 2h14c1.1 0 2-.9 2-2V5c0-1.1-.9-2-2-2zM9 17H7v-7h2v7zm4 0h-2V7h2v10zm4 0h-2v-4h2v4z\"/>\n",
              "    </g>\n",
              "</svg>\n",
              "  </button>\n",
              "\n",
              "<style>\n",
              "  .colab-df-quickchart {\n",
              "      --bg-color: #E8F0FE;\n",
              "      --fill-color: #1967D2;\n",
              "      --hover-bg-color: #E2EBFA;\n",
              "      --hover-fill-color: #174EA6;\n",
              "      --disabled-fill-color: #AAA;\n",
              "      --disabled-bg-color: #DDD;\n",
              "  }\n",
              "\n",
              "  [theme=dark] .colab-df-quickchart {\n",
              "      --bg-color: #3B4455;\n",
              "      --fill-color: #D2E3FC;\n",
              "      --hover-bg-color: #434B5C;\n",
              "      --hover-fill-color: #FFFFFF;\n",
              "      --disabled-bg-color: #3B4455;\n",
              "      --disabled-fill-color: #666;\n",
              "  }\n",
              "\n",
              "  .colab-df-quickchart {\n",
              "    background-color: var(--bg-color);\n",
              "    border: none;\n",
              "    border-radius: 50%;\n",
              "    cursor: pointer;\n",
              "    display: none;\n",
              "    fill: var(--fill-color);\n",
              "    height: 32px;\n",
              "    padding: 0;\n",
              "    width: 32px;\n",
              "  }\n",
              "\n",
              "  .colab-df-quickchart:hover {\n",
              "    background-color: var(--hover-bg-color);\n",
              "    box-shadow: 0 1px 2px rgba(60, 64, 67, 0.3), 0 1px 3px 1px rgba(60, 64, 67, 0.15);\n",
              "    fill: var(--button-hover-fill-color);\n",
              "  }\n",
              "\n",
              "  .colab-df-quickchart-complete:disabled,\n",
              "  .colab-df-quickchart-complete:disabled:hover {\n",
              "    background-color: var(--disabled-bg-color);\n",
              "    fill: var(--disabled-fill-color);\n",
              "    box-shadow: none;\n",
              "  }\n",
              "\n",
              "  .colab-df-spinner {\n",
              "    border: 2px solid var(--fill-color);\n",
              "    border-color: transparent;\n",
              "    border-bottom-color: var(--fill-color);\n",
              "    animation:\n",
              "      spin 1s steps(1) infinite;\n",
              "  }\n",
              "\n",
              "  @keyframes spin {\n",
              "    0% {\n",
              "      border-color: transparent;\n",
              "      border-bottom-color: var(--fill-color);\n",
              "      border-left-color: var(--fill-color);\n",
              "    }\n",
              "    20% {\n",
              "      border-color: transparent;\n",
              "      border-left-color: var(--fill-color);\n",
              "      border-top-color: var(--fill-color);\n",
              "    }\n",
              "    30% {\n",
              "      border-color: transparent;\n",
              "      border-left-color: var(--fill-color);\n",
              "      border-top-color: var(--fill-color);\n",
              "      border-right-color: var(--fill-color);\n",
              "    }\n",
              "    40% {\n",
              "      border-color: transparent;\n",
              "      border-right-color: var(--fill-color);\n",
              "      border-top-color: var(--fill-color);\n",
              "    }\n",
              "    60% {\n",
              "      border-color: transparent;\n",
              "      border-right-color: var(--fill-color);\n",
              "    }\n",
              "    80% {\n",
              "      border-color: transparent;\n",
              "      border-right-color: var(--fill-color);\n",
              "      border-bottom-color: var(--fill-color);\n",
              "    }\n",
              "    90% {\n",
              "      border-color: transparent;\n",
              "      border-bottom-color: var(--fill-color);\n",
              "    }\n",
              "  }\n",
              "</style>\n",
              "\n",
              "  <script>\n",
              "    async function quickchart(key) {\n",
              "      const quickchartButtonEl =\n",
              "        document.querySelector('#' + key + ' button');\n",
              "      quickchartButtonEl.disabled = true;  // To prevent multiple clicks.\n",
              "      quickchartButtonEl.classList.add('colab-df-spinner');\n",
              "      try {\n",
              "        const charts = await google.colab.kernel.invokeFunction(\n",
              "            'suggestCharts', [key], {});\n",
              "      } catch (error) {\n",
              "        console.error('Error during call to suggestCharts:', error);\n",
              "      }\n",
              "      quickchartButtonEl.classList.remove('colab-df-spinner');\n",
              "      quickchartButtonEl.classList.add('colab-df-quickchart-complete');\n",
              "    }\n",
              "    (() => {\n",
              "      let quickchartButtonEl =\n",
              "        document.querySelector('#df-dffd309d-0f47-41cf-acff-af2676a94bbb button');\n",
              "      quickchartButtonEl.style.display =\n",
              "        google.colab.kernel.accessAllowed ? 'block' : 'none';\n",
              "    })();\n",
              "  </script>\n",
              "</div>\n",
              "\n",
              "    </div>\n",
              "  </div>\n"
            ],
            "application/vnd.google.colaboratory.intrinsic+json": {
              "type": "dataframe",
              "variable_name": "df",
              "summary": "{\n  \"name\": \"df\",\n  \"rows\": 989,\n  \"fields\": [\n    {\n      \"column\": \"appln_id\",\n      \"properties\": {\n        \"dtype\": \"number\",\n        \"std\": 5761095,\n        \"min\": 575161108,\n        \"max\": 606406409,\n        \"num_unique_values\": 550,\n        \"samples\": [\n          603328931,\n          586660360,\n          604946605\n        ],\n        \"semantic_type\": \"\",\n        \"description\": \"\"\n      }\n    },\n    {\n      \"column\": \"earliest_filing_year\",\n      \"properties\": {\n        \"dtype\": \"number\",\n        \"std\": 0,\n        \"min\": 2022,\n        \"max\": 2023,\n        \"num_unique_values\": 2,\n        \"samples\": [\n          2023,\n          2022\n        ],\n        \"semantic_type\": \"\",\n        \"description\": \"\"\n      }\n    },\n    {\n      \"column\": \"person_ctry_code\",\n      \"properties\": {\n        \"dtype\": \"category\",\n        \"num_unique_values\": 24,\n        \"samples\": [\n          \"KR\",\n          \"FI\"\n        ],\n        \"semantic_type\": \"\",\n        \"description\": \"\"\n      }\n    },\n    {\n      \"column\": \"cpc_class_symbol\",\n      \"properties\": {\n        \"dtype\": \"string\",\n        \"num_unique_values\": 517,\n        \"samples\": [\n          \"G06N   3/09\",\n          \"G10L  13/02\"\n        ],\n        \"semantic_type\": \"\",\n        \"description\": \"\"\n      }\n    },\n    {\n      \"column\": \"cpc4\",\n      \"properties\": {\n        \"dtype\": \"category\",\n        \"num_unique_values\": 20,\n        \"samples\": [\n          \"G06F\",\n          \"G10L\"\n        ],\n        \"semantic_type\": \"\",\n        \"description\": \"\"\n      }\n    },\n    {\n      \"column\": \"nace2_code\",\n      \"properties\": {\n        \"dtype\": \"number\",\n        \"std\": 9.011616375691986,\n        \"min\": 22.0,\n        \"max\": 62.0,\n        \"num_unique_values\": 27,\n        \"samples\": [\n          27.5,\n          30.0\n        ],\n        \"semantic_type\": \"\",\n        \"description\": \"\"\n      }\n    },\n    {\n      \"column\": \"appln_title\",\n      \"properties\": {\n        \"dtype\": \"string\",\n        \"num_unique_values\": 510,\n        \"samples\": [\n          \"MACHINE LEARNING TECHNIQUES FOR PERFORMING PREDICTIVE ANOMALY DETECTION\",\n          \"System and method for operational intelligence based on network traffic\"\n        ],\n        \"semantic_type\": \"\",\n        \"description\": \"\"\n      }\n    },\n    {\n      \"column\": \"appln_abstract\",\n      \"properties\": {\n        \"dtype\": \"string\",\n        \"num_unique_values\": 523,\n        \"samples\": [\n          \"Aspects described herein may relate to methods, systems, and apparatuses for generating synthetic data based on time series predictions and plural machine learning models. Generating the synthetic data may include receiving one or more data records that include transaction data of a user, categorizing and/or segmenting the one or more data records, determining a first predicted time step based on the categorizing and/or segmenting, and performing an iterative process that determines further predicted time steps. The first predicted time step may be determined using one model of a plurality of machine learning models. The iterative process may determine the further predicted time steps using the plural machine learning models. Based on iterations of the iterative process, potential time series may be determined. The synthetic time series may be determined from the potential time series. The synthetic time series may be used by additional processes, such as additional machine-learning processes.\",\n          \"Techniques are provided for journal replay optimization. A distributed storage architecture can implement a journal within memory for logging write operations into log records. Latency of executing the write operations is improved because the write operations can be responded back to clients as complete once logged within the journal without having to store the data to higher latency disk storage. If there is a failure, then a replay process is performed to replay the write operations logged within the journal in order to bring a file system up-to-date. The time to complete the replay of the write operations is significantly reduced by caching metadata (e.g., indirect blocks, checksums, buftree identifiers, file block numbers, and consistency point counts) directly into log records. Replay can quickly access this metadata for replaying the write operations because the metadata does not need to be retrieved from the higher latency disk storage into memory.\"\n        ],\n        \"semantic_type\": \"\",\n        \"description\": \"\"\n      }\n    },\n    {\n      \"column\": \"cpc_class_encoded\",\n      \"properties\": {\n        \"dtype\": \"number\",\n        \"std\": 4,\n        \"min\": 0,\n        \"max\": 19,\n        \"num_unique_values\": 20,\n        \"samples\": [\n          3,\n          9\n        ],\n        \"semantic_type\": \"\",\n        \"description\": \"\"\n      }\n    }\n  ]\n}"
            }
          },
          "metadata": {},
          "execution_count": 38
        }
      ]
    },
    {
      "cell_type": "code",
      "source": [
        "# 필요한 라이브러리 임포트 및 설치\n",
        "!pip install transformers\n",
        "!pip install torch\n",
        "!pip install pandas\n",
        "!pip install scikit-learn\n",
        "!pip install joblib\n",
        "!pip install seaborn\n",
        "\n",
        "import torch\n",
        "from transformers import BertTokenizer, BertForSequenceClassification, AdamW, get_linear_schedule_with_warmup\n",
        "from torch.utils.data import Dataset, DataLoader\n",
        "import pandas as pd\n",
        "from sklearn.model_selection import train_test_split\n",
        "from sklearn.preprocessing import LabelEncoder\n",
        "from sklearn.metrics import classification_report, accuracy_score, confusion_matrix, ConfusionMatrixDisplay\n",
        "import joblib\n",
        "import matplotlib.pyplot as plt\n",
        "import seaborn as sns\n",
        "\n",
        "# # 데이터 로드 및 전처리\n",
        "# data_url = 'https://raw.githubusercontent.com/deep1003/deep1003/master/patent_industry.csv'\n",
        "\n",
        "# # csv 파일을 읽을때 ; 분리\n",
        "# df = pd.read_csv(data_url, sep=';')\n",
        "\n",
        "\n",
        "# 필요한 컬럼 선택\n",
        "df = df[['appln_id', 'earliest_filing_year', 'person_ctry_code',\n",
        "         'cpc4', 'nace2_code', 'appln_title', 'appln_abstract']]\n",
        "\n",
        "# 결측치 처리: 제목과 초록은 빈 문자열로, CPC 분류 심볼이 없는 행은 제거\n",
        "df['appln_title'] = df['appln_title'].fillna('')\n",
        "df['appln_abstract'] = df['appln_abstract'].fillna('')\n",
        "df = df.dropna(subset=['cpc4'])\n",
        "\n",
        "# CPC 분류 심볼 상위 20개로 데이터 제한\n",
        "top_n = 20\n",
        "top_classes = df['cpc4'].value_counts().nlargest(top_n).index\n",
        "df = df[df['cpc4'].isin(top_classes)]\n",
        "\n",
        "# 레이블 인코딩: 문자열 레이블을 숫자로 변환\n",
        "le = LabelEncoder()\n",
        "df['cpc_class_encoded'] = le.fit_transform(df['cpc4'])\n",
        "\n",
        "# 인코더 저장: 나중에 예측 시 사용\n",
        "joblib.dump(le, 'label_encoder.joblib')\n",
        "\n",
        "# 데이터셋 클래스 정의\n",
        "class PatentDataset(Dataset):\n",
        "    def __init__(self, titles, abstracts, labels, tokenizer, max_length):\n",
        "        self.titles = titles\n",
        "        self.abstracts = abstracts\n",
        "        self.labels = labels\n",
        "        self.tokenizer = tokenizer\n",
        "        self.max_length = max_length\n",
        "\n",
        "    def __len__(self):\n",
        "        return len(self.titles)\n",
        "\n",
        "    def __getitem__(self, idx):\n",
        "        title = str(self.titles[idx])\n",
        "        abstract = str(self.abstracts[idx])\n",
        "        label = self.labels[idx]\n",
        "\n",
        "        # 제목과 초록을 결합하여 하나의 텍스트로 만듦\n",
        "        text = title + \" \" + abstract\n",
        "\n",
        "        # 텍스트를 BERT 입력 형식으로 인코딩\n",
        "        encoding = self.tokenizer.encode_plus(\n",
        "            text,\n",
        "            add_special_tokens=True,\n",
        "            max_length=self.max_length,\n",
        "            truncation=True,\n",
        "            padding='max_length',\n",
        "            return_attention_mask=True,\n",
        "            return_tensors='pt',\n",
        "        )\n",
        "\n",
        "        return {\n",
        "            'input_ids': encoding['input_ids'].flatten(),       # 입력 토큰 ID\n",
        "            'attention_mask': encoding['attention_mask'].flatten(),  # 어텐션 마스크\n",
        "            'labels': torch.tensor(label, dtype=torch.long)     # 레이블\n",
        "        }\n",
        "\n",
        "# 데이터 분할: 훈련 세트와 테스트 세트로 나눔 (80% 훈련, 20% 테스트)\n",
        "X = df[['appln_title', 'appln_abstract']]\n",
        "y = df['cpc_class_encoded']\n",
        "\n",
        "X_train, X_test, y_train, y_test = train_test_split(\n",
        "    X, y, test_size=0.2, random_state=42, stratify=y\n",
        ")\n",
        "\n",
        "print(f'Train size: {X_train.shape[0]}')\n",
        "print(f'Test size: {X_test.shape[0]}')\n",
        "\n",
        "# 토크나이저 초기화\n",
        "tokenizer = BertTokenizer.from_pretrained('bert-base-uncased')\n",
        "\n",
        "# 최대 시퀀스 길이 설정\n",
        "MAX_LENGTH = 256  # 필요에 따라 조정 가능\n",
        "\n",
        "# 데이터셋 생성\n",
        "train_dataset = PatentDataset(\n",
        "    titles=X_train['appln_title'].to_numpy(),\n",
        "    abstracts=X_train['appln_abstract'].to_numpy(),\n",
        "    labels=y_train.to_numpy(),\n",
        "    tokenizer=tokenizer,\n",
        "    max_length=MAX_LENGTH\n",
        ")\n",
        "\n",
        "test_dataset = PatentDataset(\n",
        "    titles=X_test['appln_title'].to_numpy(),\n",
        "    abstracts=X_test['appln_abstract'].to_numpy(),\n",
        "    labels=y_test.to_numpy(),\n",
        "    tokenizer=tokenizer,\n",
        "    max_length=MAX_LENGTH\n",
        ")\n",
        "\n",
        "# 배치 사이즈 설정\n",
        "BATCH_SIZE = 8  # GPU 메모리에 따라 조정\n",
        "\n",
        "# 데이터로더 생성\n",
        "train_loader = DataLoader(train_dataset, batch_size=BATCH_SIZE, shuffle=True)\n",
        "test_loader = DataLoader(test_dataset, batch_size=BATCH_SIZE)\n",
        "\n",
        "# 모델 초기화: BERT 기반 분류 모델\n",
        "num_labels = len(le.classes_)\n",
        "model = BertForSequenceClassification.from_pretrained(\n",
        "    'bert-base-uncased',\n",
        "    num_labels=num_labels,\n",
        "    output_attentions=False,\n",
        "    output_hidden_states=False\n",
        ")\n",
        "\n",
        "# 디바이스 설정: GPU 사용 가능 시 GPU 사용\n",
        "device = torch.device('cuda') if torch.cuda.is_available() else torch.device('cpu')\n",
        "model.to(device)\n",
        "\n",
        "print(f'Using device: {device}')\n",
        "\n",
        "# 옵티마이저 및 스케줄러 설정\n",
        "optimizer = AdamW(model.parameters(), lr=2e-5, correct_bias=False)\n",
        "EPOCHS = 3\n",
        "total_steps = len(train_loader) * EPOCHS\n",
        "scheduler = get_linear_schedule_with_warmup(\n",
        "    optimizer,\n",
        "    num_warmup_steps=0,\n",
        "    num_training_steps=total_steps\n",
        ")\n",
        "\n",
        "# 학습 함수 정의\n",
        "def train_epoch(model, data_loader, optimizer, device, scheduler):\n",
        "    model.train()  # 모델을 학습 모드로 설정\n",
        "    total_loss = 0\n",
        "\n",
        "    for batch in data_loader:\n",
        "        optimizer.zero_grad()  # 이전 그래디언트 초기화\n",
        "\n",
        "        input_ids = batch['input_ids'].to(device)\n",
        "        attention_mask = batch['attention_mask'].to(device)\n",
        "        labels = batch['labels'].to(device)\n",
        "\n",
        "        # 모델에 입력 데이터를 전달하고 출력과 손실 계산\n",
        "        outputs = model(\n",
        "            input_ids=input_ids,\n",
        "            attention_mask=attention_mask,\n",
        "            labels=labels\n",
        "        )\n",
        "\n",
        "        loss = outputs.loss\n",
        "        total_loss += loss.item()\n",
        "\n",
        "        loss.backward()  # 역전파\n",
        "        optimizer.step()  # 옵티마이저 업데이트\n",
        "        scheduler.step()  # 스케줄러 업데이트\n",
        "\n",
        "    avg_loss = total_loss / len(data_loader)  # 평균 손실 계산\n",
        "    return avg_loss\n",
        "\n",
        "# 평가 함수 정의\n",
        "def eval_model(model, data_loader, device):\n",
        "    model.eval()  # 모델을 평가 모드로 설정\n",
        "    predictions = []\n",
        "    true_labels = []\n",
        "\n",
        "    with torch.no_grad():  # 그래디언트 계산 비활성화\n",
        "        for batch in data_loader:\n",
        "            input_ids = batch['input_ids'].to(device)\n",
        "            attention_mask = batch['attention_mask'].to(device)\n",
        "            labels = batch['labels'].to(device)\n",
        "\n",
        "            # 모델에 입력 데이터를 전달하고 출력 받기\n",
        "            outputs = model(\n",
        "                input_ids=input_ids,\n",
        "                attention_mask=attention_mask\n",
        "            )\n",
        "\n",
        "            logits = outputs.logits\n",
        "            preds = torch.argmax(logits, dim=1).flatten()  # 예측 클래스 추출\n",
        "\n",
        "            predictions.extend(preds.cpu().numpy())  # 예측값 저장\n",
        "            true_labels.extend(labels.cpu().numpy())  # 실제 레이블 저장\n",
        "\n",
        "    return predictions, true_labels\n",
        "\n",
        "# 모델 학습 및 평가\n",
        "for epoch in range(EPOCHS):\n",
        "    print(f'Epoch {epoch + 1}/{EPOCHS}')\n",
        "    print('-' * 10)\n",
        "\n",
        "    # 학습 단계\n",
        "    train_loss = train_epoch(model, train_loader, optimizer, device, scheduler)\n",
        "    print(f'Train loss: {train_loss}')\n",
        "\n",
        "    # 평가 단계\n",
        "    preds, labels = eval_model(model, test_loader, device)\n",
        "    report = classification_report(labels, preds, target_names=le.classes_)\n",
        "    print(report)\n",
        "\n",
        "    # 정확도 계산\n",
        "    accuracy = accuracy_score(labels, preds)\n",
        "    print(f'Accuracy: {accuracy:.4f}')\n"
      ],
      "metadata": {
        "colab": {
          "base_uri": "https://localhost:8080/"
        },
        "id": "AAFbFFcYz9d8",
        "outputId": "3a3d86c8-faf7-4e28-9c20-f2342ffd1816"
      },
      "execution_count": 39,
      "outputs": [
        {
          "output_type": "stream",
          "name": "stdout",
          "text": [
            "Requirement already satisfied: transformers in /usr/local/lib/python3.10/dist-packages (4.44.2)\n",
            "Requirement already satisfied: filelock in /usr/local/lib/python3.10/dist-packages (from transformers) (3.16.1)\n",
            "Requirement already satisfied: huggingface-hub<1.0,>=0.23.2 in /usr/local/lib/python3.10/dist-packages (from transformers) (0.24.7)\n",
            "Requirement already satisfied: numpy>=1.17 in /usr/local/lib/python3.10/dist-packages (from transformers) (1.26.4)\n",
            "Requirement already satisfied: packaging>=20.0 in /usr/local/lib/python3.10/dist-packages (from transformers) (24.1)\n",
            "Requirement already satisfied: pyyaml>=5.1 in /usr/local/lib/python3.10/dist-packages (from transformers) (6.0.2)\n",
            "Requirement already satisfied: regex!=2019.12.17 in /usr/local/lib/python3.10/dist-packages (from transformers) (2024.9.11)\n",
            "Requirement already satisfied: requests in /usr/local/lib/python3.10/dist-packages (from transformers) (2.32.3)\n",
            "Requirement already satisfied: safetensors>=0.4.1 in /usr/local/lib/python3.10/dist-packages (from transformers) (0.4.5)\n",
            "Requirement already satisfied: tokenizers<0.20,>=0.19 in /usr/local/lib/python3.10/dist-packages (from transformers) (0.19.1)\n",
            "Requirement already satisfied: tqdm>=4.27 in /usr/local/lib/python3.10/dist-packages (from transformers) (4.66.5)\n",
            "Requirement already satisfied: fsspec>=2023.5.0 in /usr/local/lib/python3.10/dist-packages (from huggingface-hub<1.0,>=0.23.2->transformers) (2024.6.1)\n",
            "Requirement already satisfied: typing-extensions>=3.7.4.3 in /usr/local/lib/python3.10/dist-packages (from huggingface-hub<1.0,>=0.23.2->transformers) (4.12.2)\n",
            "Requirement already satisfied: charset-normalizer<4,>=2 in /usr/local/lib/python3.10/dist-packages (from requests->transformers) (3.3.2)\n",
            "Requirement already satisfied: idna<4,>=2.5 in /usr/local/lib/python3.10/dist-packages (from requests->transformers) (3.10)\n",
            "Requirement already satisfied: urllib3<3,>=1.21.1 in /usr/local/lib/python3.10/dist-packages (from requests->transformers) (2.2.3)\n",
            "Requirement already satisfied: certifi>=2017.4.17 in /usr/local/lib/python3.10/dist-packages (from requests->transformers) (2024.8.30)\n",
            "Requirement already satisfied: torch in /usr/local/lib/python3.10/dist-packages (2.4.1+cu121)\n",
            "Requirement already satisfied: filelock in /usr/local/lib/python3.10/dist-packages (from torch) (3.16.1)\n",
            "Requirement already satisfied: typing-extensions>=4.8.0 in /usr/local/lib/python3.10/dist-packages (from torch) (4.12.2)\n",
            "Requirement already satisfied: sympy in /usr/local/lib/python3.10/dist-packages (from torch) (1.13.3)\n",
            "Requirement already satisfied: networkx in /usr/local/lib/python3.10/dist-packages (from torch) (3.3)\n",
            "Requirement already satisfied: jinja2 in /usr/local/lib/python3.10/dist-packages (from torch) (3.1.4)\n",
            "Requirement already satisfied: fsspec in /usr/local/lib/python3.10/dist-packages (from torch) (2024.6.1)\n",
            "Requirement already satisfied: MarkupSafe>=2.0 in /usr/local/lib/python3.10/dist-packages (from jinja2->torch) (2.1.5)\n",
            "Requirement already satisfied: mpmath<1.4,>=1.1.0 in /usr/local/lib/python3.10/dist-packages (from sympy->torch) (1.3.0)\n",
            "Requirement already satisfied: pandas in /usr/local/lib/python3.10/dist-packages (2.2.2)\n",
            "Requirement already satisfied: numpy>=1.22.4 in /usr/local/lib/python3.10/dist-packages (from pandas) (1.26.4)\n",
            "Requirement already satisfied: python-dateutil>=2.8.2 in /usr/local/lib/python3.10/dist-packages (from pandas) (2.8.2)\n",
            "Requirement already satisfied: pytz>=2020.1 in /usr/local/lib/python3.10/dist-packages (from pandas) (2024.2)\n",
            "Requirement already satisfied: tzdata>=2022.7 in /usr/local/lib/python3.10/dist-packages (from pandas) (2024.2)\n",
            "Requirement already satisfied: six>=1.5 in /usr/local/lib/python3.10/dist-packages (from python-dateutil>=2.8.2->pandas) (1.16.0)\n",
            "Requirement already satisfied: scikit-learn in /usr/local/lib/python3.10/dist-packages (1.5.2)\n",
            "Requirement already satisfied: numpy>=1.19.5 in /usr/local/lib/python3.10/dist-packages (from scikit-learn) (1.26.4)\n",
            "Requirement already satisfied: scipy>=1.6.0 in /usr/local/lib/python3.10/dist-packages (from scikit-learn) (1.13.1)\n",
            "Requirement already satisfied: joblib>=1.2.0 in /usr/local/lib/python3.10/dist-packages (from scikit-learn) (1.4.2)\n",
            "Requirement already satisfied: threadpoolctl>=3.1.0 in /usr/local/lib/python3.10/dist-packages (from scikit-learn) (3.5.0)\n",
            "Requirement already satisfied: joblib in /usr/local/lib/python3.10/dist-packages (1.4.2)\n",
            "Requirement already satisfied: seaborn in /usr/local/lib/python3.10/dist-packages (0.13.1)\n",
            "Requirement already satisfied: numpy!=1.24.0,>=1.20 in /usr/local/lib/python3.10/dist-packages (from seaborn) (1.26.4)\n",
            "Requirement already satisfied: pandas>=1.2 in /usr/local/lib/python3.10/dist-packages (from seaborn) (2.2.2)\n",
            "Requirement already satisfied: matplotlib!=3.6.1,>=3.4 in /usr/local/lib/python3.10/dist-packages (from seaborn) (3.7.1)\n",
            "Requirement already satisfied: contourpy>=1.0.1 in /usr/local/lib/python3.10/dist-packages (from matplotlib!=3.6.1,>=3.4->seaborn) (1.3.0)\n",
            "Requirement already satisfied: cycler>=0.10 in /usr/local/lib/python3.10/dist-packages (from matplotlib!=3.6.1,>=3.4->seaborn) (0.12.1)\n",
            "Requirement already satisfied: fonttools>=4.22.0 in /usr/local/lib/python3.10/dist-packages (from matplotlib!=3.6.1,>=3.4->seaborn) (4.54.1)\n",
            "Requirement already satisfied: kiwisolver>=1.0.1 in /usr/local/lib/python3.10/dist-packages (from matplotlib!=3.6.1,>=3.4->seaborn) (1.4.7)\n",
            "Requirement already satisfied: packaging>=20.0 in /usr/local/lib/python3.10/dist-packages (from matplotlib!=3.6.1,>=3.4->seaborn) (24.1)\n",
            "Requirement already satisfied: pillow>=6.2.0 in /usr/local/lib/python3.10/dist-packages (from matplotlib!=3.6.1,>=3.4->seaborn) (10.4.0)\n",
            "Requirement already satisfied: pyparsing>=2.3.1 in /usr/local/lib/python3.10/dist-packages (from matplotlib!=3.6.1,>=3.4->seaborn) (3.1.4)\n",
            "Requirement already satisfied: python-dateutil>=2.7 in /usr/local/lib/python3.10/dist-packages (from matplotlib!=3.6.1,>=3.4->seaborn) (2.8.2)\n",
            "Requirement already satisfied: pytz>=2020.1 in /usr/local/lib/python3.10/dist-packages (from pandas>=1.2->seaborn) (2024.2)\n",
            "Requirement already satisfied: tzdata>=2022.7 in /usr/local/lib/python3.10/dist-packages (from pandas>=1.2->seaborn) (2024.2)\n",
            "Requirement already satisfied: six>=1.5 in /usr/local/lib/python3.10/dist-packages (from python-dateutil>=2.7->matplotlib!=3.6.1,>=3.4->seaborn) (1.16.0)\n"
          ]
        },
        {
          "output_type": "stream",
          "name": "stderr",
          "text": [
            "<ipython-input-39-20a0301d6765>:32: SettingWithCopyWarning: \n",
            "A value is trying to be set on a copy of a slice from a DataFrame.\n",
            "Try using .loc[row_indexer,col_indexer] = value instead\n",
            "\n",
            "See the caveats in the documentation: https://pandas.pydata.org/pandas-docs/stable/user_guide/indexing.html#returning-a-view-versus-a-copy\n",
            "  df['appln_title'] = df['appln_title'].fillna('')\n",
            "<ipython-input-39-20a0301d6765>:33: SettingWithCopyWarning: \n",
            "A value is trying to be set on a copy of a slice from a DataFrame.\n",
            "Try using .loc[row_indexer,col_indexer] = value instead\n",
            "\n",
            "See the caveats in the documentation: https://pandas.pydata.org/pandas-docs/stable/user_guide/indexing.html#returning-a-view-versus-a-copy\n",
            "  df['appln_abstract'] = df['appln_abstract'].fillna('')\n"
          ]
        },
        {
          "output_type": "stream",
          "name": "stdout",
          "text": [
            "Train size: 791\n",
            "Test size: 198\n"
          ]
        },
        {
          "output_type": "stream",
          "name": "stderr",
          "text": [
            "/usr/local/lib/python3.10/dist-packages/transformers/tokenization_utils_base.py:1601: FutureWarning: `clean_up_tokenization_spaces` was not set. It will be set to `True` by default. This behavior will be depracted in transformers v4.45, and will be then set to `False` by default. For more details check this issue: https://github.com/huggingface/transformers/issues/31884\n",
            "  warnings.warn(\n",
            "Some weights of BertForSequenceClassification were not initialized from the model checkpoint at bert-base-uncased and are newly initialized: ['classifier.bias', 'classifier.weight']\n",
            "You should probably TRAIN this model on a down-stream task to be able to use it for predictions and inference.\n",
            "/usr/local/lib/python3.10/dist-packages/transformers/optimization.py:591: FutureWarning: This implementation of AdamW is deprecated and will be removed in a future version. Use the PyTorch implementation torch.optim.AdamW instead, or set `no_deprecation_warning=True` to disable this warning\n",
            "  warnings.warn(\n"
          ]
        },
        {
          "output_type": "stream",
          "name": "stdout",
          "text": [
            "Using device: cuda\n",
            "Epoch 1/3\n",
            "----------\n",
            "Train loss: 2.4207371605767145\n"
          ]
        },
        {
          "output_type": "stream",
          "name": "stderr",
          "text": [
            "/usr/local/lib/python3.10/dist-packages/sklearn/metrics/_classification.py:1531: UndefinedMetricWarning: Precision is ill-defined and being set to 0.0 in labels with no predicted samples. Use `zero_division` parameter to control this behavior.\n",
            "  _warn_prf(average, modifier, f\"{metric.capitalize()} is\", len(result))\n",
            "/usr/local/lib/python3.10/dist-packages/sklearn/metrics/_classification.py:1531: UndefinedMetricWarning: Precision is ill-defined and being set to 0.0 in labels with no predicted samples. Use `zero_division` parameter to control this behavior.\n",
            "  _warn_prf(average, modifier, f\"{metric.capitalize()} is\", len(result))\n",
            "/usr/local/lib/python3.10/dist-packages/sklearn/metrics/_classification.py:1531: UndefinedMetricWarning: Precision is ill-defined and being set to 0.0 in labels with no predicted samples. Use `zero_division` parameter to control this behavior.\n",
            "  _warn_prf(average, modifier, f\"{metric.capitalize()} is\", len(result))\n"
          ]
        },
        {
          "output_type": "stream",
          "name": "stdout",
          "text": [
            "              precision    recall  f1-score   support\n",
            "\n",
            "        A61B       0.00      0.00      0.00         2\n",
            "        B60W       0.00      0.00      0.00         2\n",
            "        G05B       0.00      0.00      0.00         4\n",
            "        G06F       0.27      1.00      0.43        54\n",
            "        G06N       0.00      0.00      0.00        41\n",
            "        G06Q       0.00      0.00      0.00        15\n",
            "        G06T       0.00      0.00      0.00        10\n",
            "        G06V       0.00      0.00      0.00        11\n",
            "        G08G       0.00      0.00      0.00         2\n",
            "        G10L       0.00      0.00      0.00         5\n",
            "        G16H       0.00      0.00      0.00         4\n",
            "        H02J       0.00      0.00      0.00         4\n",
            "        H03M       0.00      0.00      0.00         2\n",
            "        H04B       0.00      0.00      0.00         2\n",
            "        H04L       0.00      0.00      0.00        24\n",
            "        H04N       0.00      0.00      0.00         5\n",
            "        H04R       0.00      0.00      0.00         2\n",
            "        H04W       0.00      0.00      0.00         5\n",
            "        H05B       0.00      0.00      0.00         2\n",
            "        Y02T       0.00      0.00      0.00         2\n",
            "\n",
            "    accuracy                           0.27       198\n",
            "   macro avg       0.01      0.05      0.02       198\n",
            "weighted avg       0.07      0.27      0.12       198\n",
            "\n",
            "Accuracy: 0.2727\n",
            "Epoch 2/3\n",
            "----------\n",
            "Train loss: 2.3569184312916764\n"
          ]
        },
        {
          "output_type": "stream",
          "name": "stderr",
          "text": [
            "/usr/local/lib/python3.10/dist-packages/sklearn/metrics/_classification.py:1531: UndefinedMetricWarning: Precision is ill-defined and being set to 0.0 in labels with no predicted samples. Use `zero_division` parameter to control this behavior.\n",
            "  _warn_prf(average, modifier, f\"{metric.capitalize()} is\", len(result))\n",
            "/usr/local/lib/python3.10/dist-packages/sklearn/metrics/_classification.py:1531: UndefinedMetricWarning: Precision is ill-defined and being set to 0.0 in labels with no predicted samples. Use `zero_division` parameter to control this behavior.\n",
            "  _warn_prf(average, modifier, f\"{metric.capitalize()} is\", len(result))\n",
            "/usr/local/lib/python3.10/dist-packages/sklearn/metrics/_classification.py:1531: UndefinedMetricWarning: Precision is ill-defined and being set to 0.0 in labels with no predicted samples. Use `zero_division` parameter to control this behavior.\n",
            "  _warn_prf(average, modifier, f\"{metric.capitalize()} is\", len(result))\n"
          ]
        },
        {
          "output_type": "stream",
          "name": "stdout",
          "text": [
            "              precision    recall  f1-score   support\n",
            "\n",
            "        A61B       0.00      0.00      0.00         2\n",
            "        B60W       0.00      0.00      0.00         2\n",
            "        G05B       0.00      0.00      0.00         4\n",
            "        G06F       0.27      1.00      0.43        54\n",
            "        G06N       0.00      0.00      0.00        41\n",
            "        G06Q       0.00      0.00      0.00        15\n",
            "        G06T       0.00      0.00      0.00        10\n",
            "        G06V       0.00      0.00      0.00        11\n",
            "        G08G       0.00      0.00      0.00         2\n",
            "        G10L       0.00      0.00      0.00         5\n",
            "        G16H       0.00      0.00      0.00         4\n",
            "        H02J       0.00      0.00      0.00         4\n",
            "        H03M       0.00      0.00      0.00         2\n",
            "        H04B       0.00      0.00      0.00         2\n",
            "        H04L       0.00      0.00      0.00        24\n",
            "        H04N       0.00      0.00      0.00         5\n",
            "        H04R       0.00      0.00      0.00         2\n",
            "        H04W       0.00      0.00      0.00         5\n",
            "        H05B       0.00      0.00      0.00         2\n",
            "        Y02T       0.00      0.00      0.00         2\n",
            "\n",
            "    accuracy                           0.27       198\n",
            "   macro avg       0.01      0.05      0.02       198\n",
            "weighted avg       0.07      0.27      0.12       198\n",
            "\n",
            "Accuracy: 0.2727\n",
            "Epoch 3/3\n",
            "----------\n",
            "Train loss: 2.2939331724186136\n",
            "              precision    recall  f1-score   support\n",
            "\n",
            "        A61B       0.00      0.00      0.00         2\n",
            "        B60W       0.00      0.00      0.00         2\n",
            "        G05B       0.00      0.00      0.00         4\n",
            "        G06F       0.30      0.81      0.44        54\n",
            "        G06N       0.18      0.22      0.20        41\n",
            "        G06Q       0.00      0.00      0.00        15\n",
            "        G06T       0.00      0.00      0.00        10\n",
            "        G06V       0.00      0.00      0.00        11\n",
            "        G08G       0.00      0.00      0.00         2\n",
            "        G10L       0.00      0.00      0.00         5\n",
            "        G16H       0.00      0.00      0.00         4\n",
            "        H02J       0.00      0.00      0.00         4\n",
            "        H03M       0.00      0.00      0.00         2\n",
            "        H04B       0.00      0.00      0.00         2\n",
            "        H04L       0.00      0.00      0.00        24\n",
            "        H04N       0.00      0.00      0.00         5\n",
            "        H04R       0.00      0.00      0.00         2\n",
            "        H04W       0.00      0.00      0.00         5\n",
            "        H05B       0.00      0.00      0.00         2\n",
            "        Y02T       0.00      0.00      0.00         2\n",
            "\n",
            "    accuracy                           0.27       198\n",
            "   macro avg       0.02      0.05      0.03       198\n",
            "weighted avg       0.12      0.27      0.16       198\n",
            "\n",
            "Accuracy: 0.2677\n"
          ]
        },
        {
          "output_type": "stream",
          "name": "stderr",
          "text": [
            "/usr/local/lib/python3.10/dist-packages/sklearn/metrics/_classification.py:1531: UndefinedMetricWarning: Precision is ill-defined and being set to 0.0 in labels with no predicted samples. Use `zero_division` parameter to control this behavior.\n",
            "  _warn_prf(average, modifier, f\"{metric.capitalize()} is\", len(result))\n",
            "/usr/local/lib/python3.10/dist-packages/sklearn/metrics/_classification.py:1531: UndefinedMetricWarning: Precision is ill-defined and being set to 0.0 in labels with no predicted samples. Use `zero_division` parameter to control this behavior.\n",
            "  _warn_prf(average, modifier, f\"{metric.capitalize()} is\", len(result))\n",
            "/usr/local/lib/python3.10/dist-packages/sklearn/metrics/_classification.py:1531: UndefinedMetricWarning: Precision is ill-defined and being set to 0.0 in labels with no predicted samples. Use `zero_division` parameter to control this behavior.\n",
            "  _warn_prf(average, modifier, f\"{metric.capitalize()} is\", len(result))\n"
          ]
        }
      ]
    },
    {
      "cell_type": "code",
      "source": [
        "# classification_report를 딕셔너리 형태로 생성\n",
        "report_dict = classification_report(labels, preds, target_names=le.classes_, output_dict=True)\n",
        "\n",
        "# 딕셔너리를 데이터프레임으로 변환\n",
        "df_report = pd.DataFrame(report_dict).transpose()\n",
        "\n",
        "# 상위 20개 클래스의 precision, recall, f1-score 추출\n",
        "df_metrics = df_report.iloc[:20, :3]  # 'accuracy', 'macro avg', 'weighted avg' 제외\n",
        "\n",
        "# 그래프 스타일 설정\n",
        "sns.set(style=\"whitegrid\")\n",
        "\n",
        "# 그래프 크기 설정\n",
        "plt.figure(figsize=(15, 8))\n",
        "\n",
        "# 막대 그래프 생성\n",
        "df_metrics.plot(kind='bar', figsize=(15, 8))\n",
        "\n",
        "# 그래프 제목 및 축 레이블 설정\n",
        "plt.title('Precision, Recall, F1-Score', fontsize=16)\n",
        "plt.xlabel('class', fontsize=14)\n",
        "plt.ylabel('score', fontsize=14)\n",
        "\n",
        "# x축 레이블 회전\n",
        "plt.xticks(rotation=45, ha='right')\n",
        "\n",
        "# y축 범위 설정\n",
        "plt.ylim(0, 1)\n",
        "\n",
        "# 범례 위치 및 제목 설정\n",
        "plt.legend(title='지표', loc='lower right', fontsize=12)\n",
        "\n",
        "# 레이아웃 조정\n",
        "plt.tight_layout()\n",
        "\n",
        "# 그래프 출력\n",
        "plt.show()\n"
      ],
      "metadata": {
        "colab": {
          "base_uri": "https://localhost:8080/",
          "height": 736
        },
        "id": "TTAqI2XI1xkz",
        "outputId": "366cc1d8-b105-41d9-eb6d-19ef28119427"
      },
      "execution_count": 40,
      "outputs": [
        {
          "output_type": "stream",
          "name": "stderr",
          "text": [
            "/usr/local/lib/python3.10/dist-packages/sklearn/metrics/_classification.py:1531: UndefinedMetricWarning: Precision is ill-defined and being set to 0.0 in labels with no predicted samples. Use `zero_division` parameter to control this behavior.\n",
            "  _warn_prf(average, modifier, f\"{metric.capitalize()} is\", len(result))\n",
            "/usr/local/lib/python3.10/dist-packages/sklearn/metrics/_classification.py:1531: UndefinedMetricWarning: Precision is ill-defined and being set to 0.0 in labels with no predicted samples. Use `zero_division` parameter to control this behavior.\n",
            "  _warn_prf(average, modifier, f\"{metric.capitalize()} is\", len(result))\n",
            "/usr/local/lib/python3.10/dist-packages/sklearn/metrics/_classification.py:1531: UndefinedMetricWarning: Precision is ill-defined and being set to 0.0 in labels with no predicted samples. Use `zero_division` parameter to control this behavior.\n",
            "  _warn_prf(average, modifier, f\"{metric.capitalize()} is\", len(result))\n",
            "<ipython-input-40-62d59b69f2e8>:34: UserWarning: Glyph 51648 (\\N{HANGUL SYLLABLE JI}) missing from current font.\n",
            "  plt.tight_layout()\n",
            "<ipython-input-40-62d59b69f2e8>:34: UserWarning: Glyph 54364 (\\N{HANGUL SYLLABLE PYO}) missing from current font.\n",
            "  plt.tight_layout()\n"
          ]
        },
        {
          "output_type": "display_data",
          "data": {
            "text/plain": [
              "<Figure size 1500x800 with 0 Axes>"
            ]
          },
          "metadata": {}
        },
        {
          "output_type": "stream",
          "name": "stderr",
          "text": [
            "/usr/local/lib/python3.10/dist-packages/IPython/core/pylabtools.py:151: UserWarning: Glyph 51648 (\\N{HANGUL SYLLABLE JI}) missing from current font.\n",
            "  fig.canvas.print_figure(bytes_io, **kw)\n",
            "/usr/local/lib/python3.10/dist-packages/IPython/core/pylabtools.py:151: UserWarning: Glyph 54364 (\\N{HANGUL SYLLABLE PYO}) missing from current font.\n",
            "  fig.canvas.print_figure(bytes_io, **kw)\n"
          ]
        },
        {
          "output_type": "display_data",
          "data": {
            "text/plain": [
              "<Figure size 1500x800 with 1 Axes>"
            ],
            "image/png": "[encoded data removed]"
          },
          "metadata": {}
        }
      ]
    },
    {
      "cell_type": "code",
      "source": [
        "# 데이터프레임 재구성\n",
        "df_metrics = df_metrics.reset_index().melt(id_vars='index', value_vars=['precision', 'recall', 'f1-score'])\n",
        "df_metrics.rename(columns={'index': '클래스', 'variable': '지표', 'value': '점수'}, inplace=True)\n",
        "\n",
        "# Seaborn의 catplot 사용\n",
        "sns.catplot(x='클래스', y='점수', hue='지표', data=df_metrics, kind='bar', height=8, aspect=2)\n",
        "\n",
        "# 그래프 제목 설정\n",
        "plt.title('클래스별 Precision, Recall, F1-Score', fontsize=16)\n",
        "\n",
        "# 레이블 설정\n",
        "plt.xlabel('클래스', fontsize=14)\n",
        "plt.ylabel('점수', fontsize=14)\n",
        "\n",
        "# x축 레이블 회전\n",
        "plt.xticks(rotation=45, ha='right')\n",
        "\n",
        "# y축 범위 설정\n",
        "plt.ylim(0, 1)\n",
        "\n",
        "# 그래프 출력\n",
        "plt.show()\n"
      ],
      "metadata": {
        "colab": {
          "base_uri": "https://localhost:8080/",
          "height": 1000
        },
        "id": "xa-YMMbQ2Cmx",
        "outputId": "7a1dcbcf-841f-46a8-ad22-5aa120ed8539"
      },
      "execution_count": 41,
      "outputs": [
        {
          "output_type": "stream",
          "name": "stderr",
          "text": [
            "/usr/local/lib/python3.10/dist-packages/seaborn/_base.py:949: FutureWarning: When grouping with a length-1 list-like, you will need to pass a length-1 tuple to get_group in a future version of pandas. Pass `(name,)` instead of `name` to silence this warning.\n",
            "  data_subset = grouped_data.get_group(pd_key)\n",
            "/usr/local/lib/python3.10/dist-packages/seaborn/_base.py:949: FutureWarning: When grouping with a length-1 list-like, you will need to pass a length-1 tuple to get_group in a future version of pandas. Pass `(name,)` instead of `name` to silence this warning.\n",
            "  data_subset = grouped_data.get_group(pd_key)\n",
            "/usr/local/lib/python3.10/dist-packages/seaborn/_base.py:949: FutureWarning: When grouping with a length-1 list-like, you will need to pass a length-1 tuple to get_group in a future version of pandas. Pass `(name,)` instead of `name` to silence this warning.\n",
            "  data_subset = grouped_data.get_group(pd_key)\n",
            "/usr/local/lib/python3.10/dist-packages/seaborn/axisgrid.py:123: UserWarning: Glyph 53364 (\\N{HANGUL SYLLABLE KEUL}) missing from current font.\n",
            "  self._figure.tight_layout(*args, **kwargs)\n",
            "/usr/local/lib/python3.10/dist-packages/seaborn/axisgrid.py:123: UserWarning: Glyph 47000 (\\N{HANGUL SYLLABLE RAE}) missing from current font.\n",
            "  self._figure.tight_layout(*args, **kwargs)\n",
            "/usr/local/lib/python3.10/dist-packages/seaborn/axisgrid.py:123: UserWarning: Glyph 49828 (\\N{HANGUL SYLLABLE SEU}) missing from current font.\n",
            "  self._figure.tight_layout(*args, **kwargs)\n",
            "/usr/local/lib/python3.10/dist-packages/seaborn/axisgrid.py:123: UserWarning: Glyph 51216 (\\N{HANGUL SYLLABLE JEOM}) missing from current font.\n",
            "  self._figure.tight_layout(*args, **kwargs)\n",
            "/usr/local/lib/python3.10/dist-packages/seaborn/axisgrid.py:123: UserWarning: Glyph 49688 (\\N{HANGUL SYLLABLE SU}) missing from current font.\n",
            "  self._figure.tight_layout(*args, **kwargs)\n",
            "/usr/local/lib/python3.10/dist-packages/seaborn/axisgrid.py:123: UserWarning: Glyph 51648 (\\N{HANGUL SYLLABLE JI}) missing from current font.\n",
            "  self._figure.tight_layout(*args, **kwargs)\n",
            "/usr/local/lib/python3.10/dist-packages/seaborn/axisgrid.py:123: UserWarning: Glyph 54364 (\\N{HANGUL SYLLABLE PYO}) missing from current font.\n",
            "  self._figure.tight_layout(*args, **kwargs)\n",
            "/usr/local/lib/python3.10/dist-packages/seaborn/utils.py:61: UserWarning: Glyph 53364 (\\N{HANGUL SYLLABLE KEUL}) missing from current font.\n",
            "  fig.canvas.draw()\n",
            "/usr/local/lib/python3.10/dist-packages/seaborn/utils.py:61: UserWarning: Glyph 47000 (\\N{HANGUL SYLLABLE RAE}) missing from current font.\n",
            "  fig.canvas.draw()\n",
            "/usr/local/lib/python3.10/dist-packages/seaborn/utils.py:61: UserWarning: Glyph 49828 (\\N{HANGUL SYLLABLE SEU}) missing from current font.\n",
            "  fig.canvas.draw()\n",
            "/usr/local/lib/python3.10/dist-packages/seaborn/utils.py:61: UserWarning: Glyph 51216 (\\N{HANGUL SYLLABLE JEOM}) missing from current font.\n",
            "  fig.canvas.draw()\n",
            "/usr/local/lib/python3.10/dist-packages/seaborn/utils.py:61: UserWarning: Glyph 49688 (\\N{HANGUL SYLLABLE SU}) missing from current font.\n",
            "  fig.canvas.draw()\n",
            "/usr/local/lib/python3.10/dist-packages/seaborn/utils.py:61: UserWarning: Glyph 51648 (\\N{HANGUL SYLLABLE JI}) missing from current font.\n",
            "  fig.canvas.draw()\n",
            "/usr/local/lib/python3.10/dist-packages/seaborn/utils.py:61: UserWarning: Glyph 54364 (\\N{HANGUL SYLLABLE PYO}) missing from current font.\n",
            "  fig.canvas.draw()\n",
            "/usr/local/lib/python3.10/dist-packages/IPython/core/pylabtools.py:151: UserWarning: Glyph 53364 (\\N{HANGUL SYLLABLE KEUL}) missing from current font.\n",
            "  fig.canvas.print_figure(bytes_io, **kw)\n",
            "/usr/local/lib/python3.10/dist-packages/IPython/core/pylabtools.py:151: UserWarning: Glyph 47000 (\\N{HANGUL SYLLABLE RAE}) missing from current font.\n",
            "  fig.canvas.print_figure(bytes_io, **kw)\n",
            "/usr/local/lib/python3.10/dist-packages/IPython/core/pylabtools.py:151: UserWarning: Glyph 49828 (\\N{HANGUL SYLLABLE SEU}) missing from current font.\n",
            "  fig.canvas.print_figure(bytes_io, **kw)\n",
            "/usr/local/lib/python3.10/dist-packages/IPython/core/pylabtools.py:151: UserWarning: Glyph 51216 (\\N{HANGUL SYLLABLE JEOM}) missing from current font.\n",
            "  fig.canvas.print_figure(bytes_io, **kw)\n",
            "/usr/local/lib/python3.10/dist-packages/IPython/core/pylabtools.py:151: UserWarning: Glyph 49688 (\\N{HANGUL SYLLABLE SU}) missing from current font.\n",
            "  fig.canvas.print_figure(bytes_io, **kw)\n",
            "/usr/local/lib/python3.10/dist-packages/IPython/core/pylabtools.py:151: UserWarning: Glyph 48324 (\\N{HANGUL SYLLABLE BYEOL}) missing from current font.\n",
            "  fig.canvas.print_figure(bytes_io, **kw)\n",
            "/usr/local/lib/python3.10/dist-packages/IPython/core/pylabtools.py:151: UserWarning: Glyph 51648 (\\N{HANGUL SYLLABLE JI}) missing from current font.\n",
            "  fig.canvas.print_figure(bytes_io, **kw)\n",
            "/usr/local/lib/python3.10/dist-packages/IPython/core/pylabtools.py:151: UserWarning: Glyph 54364 (\\N{HANGUL SYLLABLE PYO}) missing from current font.\n",
            "  fig.canvas.print_figure(bytes_io, **kw)\n"
          ]
        },
        {
          "output_type": "display_data",
          "data": {
            "text/plain": [
              "<Figure size 1724.25x800 with 1 Axes>"
            ],
            "image/png": "[encoded data removed]"
          },
          "metadata": {}
        }
      ]
    },
    {
      "cell_type": "code",
      "source": [
        "# 새로운 특허 문서 분류 함수 정의\n",
        "def predict_category(title, abstract, model, tokenizer, device, label_encoder):\n",
        "    model.eval()  # 모델을 평가 모드로 설정\n",
        "\n",
        "    # 제목과 초록을 결합\n",
        "    text = title + \" \" + abstract\n",
        "    encoding = tokenizer.encode_plus(\n",
        "        text,\n",
        "        add_special_tokens=True,\n",
        "        max_length=512,\n",
        "        truncation=True,\n",
        "        padding='max_length',\n",
        "        return_attention_mask=True,\n",
        "        return_tensors='pt',\n",
        "    )\n",
        "\n",
        "    input_ids = encoding['input_ids'].to(device)\n",
        "    attention_mask = encoding['attention_mask'].to(device)\n",
        "\n",
        "    with torch.no_grad():\n",
        "        outputs = model(input_ids=input_ids, attention_mask=attention_mask)\n",
        "        logits = outputs.logits\n",
        "        preds = torch.argmax(logits, dim=1).flatten()  # 예측 클래스 추출\n",
        "\n",
        "    category = label_encoder.inverse_transform(preds.cpu().numpy())  # 숫자 레이블을 문자열로 변환\n",
        "    return category[0]\n",
        "\n",
        "# 예시 특허 문서\n",
        "new_title = \"Innovative Widget Design\"\n",
        "new_abstract = \"This patent describes a novel widget that improves efficiency...\"\n",
        "\n",
        "# 예측\n",
        "predicted_category = predict_category(new_title, new_abstract, model, tokenizer, device, le)\n",
        "print(f'Predicted Category: {predicted_category}')\n"
      ],
      "metadata": {
        "colab": {
          "base_uri": "https://localhost:8080/"
        },
        "id": "EuMfy7Zf2HXc",
        "outputId": "4a5a368e-1ca7-489a-962c-eea998f0879a"
      },
      "execution_count": 42,
      "outputs": [
        {
          "output_type": "stream",
          "name": "stdout",
          "text": [
            "Predicted Category: G06F\n"
          ]
        }
      ]
    },
    {
      "cell_type": "code",
      "source": [
        "from sklearn.metrics import confusion_matrix\n",
        "\n",
        "# 혼동 행렬 계산\n",
        "cm = confusion_matrix(labels, preds)\n"
      ],
      "metadata": {
        "id": "hb1CCGe_2K48"
      },
      "execution_count": 43,
      "outputs": []
    },
    {
      "cell_type": "code",
      "source": [
        "import pandas as pd\n",
        "\n",
        "# 혼동 행렬을 데이터프레임으로 변환\n",
        "cm_df = pd.DataFrame(cm, index=le.classes_, columns=le.classes_)\n",
        "\n",
        "# 데이터프레임 확인\n",
        "print(cm_df)\n"
      ],
      "metadata": {
        "colab": {
          "base_uri": "https://localhost:8080/"
        },
        "id": "z2oSSysm2ZmD",
        "outputId": "d6936609-2ed1-4664-885c-6e9806148d19"
      },
      "execution_count": 44,
      "outputs": [
        {
          "output_type": "stream",
          "name": "stdout",
          "text": [
            "      A61B  B60W  G05B  G06F  G06N  G06Q  G06T  G06V  G08G  G10L  G16H  H02J  \\\n",
            "A61B     0     0     0     1     1     0     0     0     0     0     0     0   \n",
            "B60W     0     0     0     1     1     0     0     0     0     0     0     0   \n",
            "G05B     0     0     0     3     1     0     0     0     0     0     0     0   \n",
            "G06F     0     0     0    44    10     0     0     0     0     0     0     0   \n",
            "G06N     0     0     0    32     9     0     0     0     0     0     0     0   \n",
            "G06Q     0     0     0    14     1     0     0     0     0     0     0     0   \n",
            "G06T     0     0     0     5     5     0     0     0     0     0     0     0   \n",
            "G06V     0     0     0     7     4     0     0     0     0     0     0     0   \n",
            "G08G     0     0     0     1     1     0     0     0     0     0     0     0   \n",
            "G10L     0     0     0     3     2     0     0     0     0     0     0     0   \n",
            "G16H     0     0     0     3     1     0     0     0     0     0     0     0   \n",
            "H02J     0     0     0     2     2     0     0     0     0     0     0     0   \n",
            "H03M     0     0     0     2     0     0     0     0     0     0     0     0   \n",
            "H04B     0     0     0     0     2     0     0     0     0     0     0     0   \n",
            "H04L     0     0     0    21     3     0     0     0     0     0     0     0   \n",
            "H04N     0     0     0     5     0     0     0     0     0     0     0     0   \n",
            "H04R     0     0     0     1     1     0     0     0     0     0     0     0   \n",
            "H04W     0     0     0     0     5     0     0     0     0     0     0     0   \n",
            "H05B     0     0     0     2     0     0     0     0     0     0     0     0   \n",
            "Y02T     0     0     0     0     2     0     0     0     0     0     0     0   \n",
            "\n",
            "      H03M  H04B  H04L  H04N  H04R  H04W  H05B  Y02T  \n",
            "A61B     0     0     0     0     0     0     0     0  \n",
            "B60W     0     0     0     0     0     0     0     0  \n",
            "G05B     0     0     0     0     0     0     0     0  \n",
            "G06F     0     0     0     0     0     0     0     0  \n",
            "G06N     0     0     0     0     0     0     0     0  \n",
            "G06Q     0     0     0     0     0     0     0     0  \n",
            "G06T     0     0     0     0     0     0     0     0  \n",
            "G06V     0     0     0     0     0     0     0     0  \n",
            "G08G     0     0     0     0     0     0     0     0  \n",
            "G10L     0     0     0     0     0     0     0     0  \n",
            "G16H     0     0     0     0     0     0     0     0  \n",
            "H02J     0     0     0     0     0     0     0     0  \n",
            "H03M     0     0     0     0     0     0     0     0  \n",
            "H04B     0     0     0     0     0     0     0     0  \n",
            "H04L     0     0     0     0     0     0     0     0  \n",
            "H04N     0     0     0     0     0     0     0     0  \n",
            "H04R     0     0     0     0     0     0     0     0  \n",
            "H04W     0     0     0     0     0     0     0     0  \n",
            "H05B     0     0     0     0     0     0     0     0  \n",
            "Y02T     0     0     0     0     0     0     0     0  \n"
          ]
        }
      ]
    },
    {
      "cell_type": "code",
      "source": [
        "import seaborn as sns\n",
        "import matplotlib.pyplot as plt\n",
        "\n",
        "# 그래프 스타일 설정\n",
        "sns.set(style=\"whitegrid\")\n",
        "\n",
        "# 그래프 크기 설정 (클래스 수에 따라 조정 가능)\n",
        "plt.figure(figsize=(20, 16))\n",
        "\n",
        "# 히트맵 생성\n",
        "sns.heatmap(cm_df, annot=True, fmt='d', cmap='Blues')\n",
        "\n",
        "# 그래프 제목 및 축 레이블 설정\n",
        "plt.title('Confusion Matrix', fontsize=20)\n",
        "plt.xlabel('Predicted', fontsize=16)\n",
        "plt.ylabel('Real', fontsize=16)\n",
        "\n",
        "# x축 레이블 회전 (가독성 향상)\n",
        "plt.xticks(rotation=45, ha='right', fontsize=12)\n",
        "plt.yticks(rotation=0, fontsize=12)\n",
        "\n",
        "# 레이아웃 조정\n",
        "plt.tight_layout()\n",
        "\n",
        "# 그래프 출력\n",
        "plt.show()\n"
      ],
      "metadata": {
        "colab": {
          "base_uri": "https://localhost:8080/",
          "height": 713
        },
        "id": "IUcPqKHQ2b6Z",
        "outputId": "bd8bd368-ca35-412d-b1bf-ad9e420c6c65"
      },
      "execution_count": 45,
      "outputs": [
        {
          "output_type": "display_data",
          "data": {
            "text/plain": [
              "<Figure size 2000x1600 with 2 Axes>"
            ],
            "image/png": "[encoded data removed]"
          },
          "metadata": {}
        }
      ]
    },
    {
      "cell_type": "code",
      "source": [],
      "metadata": {
        "id": "ZolZwSjp2hML"
      },
      "execution_count": null,
      "outputs": []
    }
  ]
}