{
  "nbformat": 4,
  "nbformat_minor": 0,
  "metadata": {
    "colab": {
      "provenance": [],
      "include_colab_link": true
    },
    "kernelspec": {
      "name": "python3",
      "display_name": "Python 3"
    },
    "language_info": {
      "name": "python"
    }
  },
  "cells": [
    {
      "cell_type": "markdown",
      "metadata": {
        "id": "view-in-github",
        "colab_type": "text"
      },
      "source": [
        "<a href=\"https://colab.research.google.com/github/deep1003/deep1003/blob/master/01_2%20%ED%86%B5%EA%B3%84%20%EA%B8%B0%EC%B4%88.ipynb\" target=\"_parent\"><img src=\"https://colab.research.google.com/assets/colab-badge.svg\" alt=\"Open In Colab\"/></a>"
      ]
    },
    {
      "cell_type": "code",
      "execution_count": null,
      "metadata": {
        "id": "4COCqKYpqqHp"
      },
      "outputs": [],
      "source": [
        "#1. 평균 구하기"
      ]
    },
    {
      "cell_type": "code",
      "source": [
        "# 1.1. 평균을 라이브러리 없이 파이썬 내장함수로 구하기\n",
        "nums = [1,2,3,4,5,6] # num이라는 이름으로 리스트에 값을 저장한다.\n",
        "print(sum(nums)/len(nums)) # sum함수로 합계를, len함수로 데이터의 개수를 구한다."
      ],
      "metadata": {
        "colab": {
          "base_uri": "https://localhost:8080/"
        },
        "id": "CXn8l2SDq9rm",
        "outputId": "51af254d-ea1d-4ddc-ec81-777e9b74984f"
      },
      "execution_count": null,
      "outputs": [
        {
          "output_type": "stream",
          "name": "stdout",
          "text": [
            "3.5\n"
          ]
        }
      ]
    },
    {
      "cell_type": "code",
      "source": [
        "# 1.2. 평균을 라이브러리를 사용하여 구하기\n",
        "import numpy as np # numpy 라이브러리를 임포트한다.\n",
        "a = np.array([1,2,3,4,5,6]) #  array()함수로 리스트를 array 객체로 저장한다.\n",
        "print(a.mean())# 객체의 mean() 함수를 사용해 평균을 계산한다."
      ],
      "metadata": {
        "colab": {
          "base_uri": "https://localhost:8080/"
        },
        "id": "q-DMTDBNrfKM",
        "outputId": "0575f094-e302-46fc-a5cb-4ae194fcb3ed"
      },
      "execution_count": null,
      "outputs": [
        {
          "output_type": "stream",
          "name": "stdout",
          "text": [
            "3.5\n"
          ]
        }
      ]
    },
    {
      "cell_type": "code",
      "source": [
        "a.sum()"
      ],
      "metadata": {
        "colab": {
          "base_uri": "https://localhost:8080/"
        },
        "id": "Ejt82Nt7sZ1x",
        "outputId": "c502d5c0-ce7d-4b3a-e27e-c7b83b3e393d"
      },
      "execution_count": null,
      "outputs": [
        {
          "output_type": "execute_result",
          "data": {
            "text/plain": [
              "21"
            ]
          },
          "metadata": {},
          "execution_count": 10
        }
      ]
    },
    {
      "cell_type": "code",
      "source": [
        "# 기댓값을 계산하려면 사건과 사건이 일어날 확률을 가진 리스트가 각각 필요하다.\n",
        "# 리스트를 반복하는 동안 두 리스트에서 사건과 확률을 하나씩 꺼내 곱하고 더하면 된다.\n"
      ],
      "metadata": {
        "id": "sGomV6zSsccs"
      },
      "execution_count": null,
      "outputs": []
    },
    {
      "cell_type": "code",
      "source": [
        "# 사건과 확률을 case와 prob에 저장한다.\n",
        "case = [1,2,3,4,5,6]\n",
        "prob = [1/6,1/6,1/6,1/6,1/6,1/6]\n",
        "\n",
        "# 사건과 확률 리스트를 zip 함수로 묶어 for 루프로 반복한다.\n",
        "# 반복하는동안 두 리스트에서 값을 받아 변수 c와 p에 저자아고 곱한 결과를 ex변수에 저장한다.\n",
        "ex = 0.0\n",
        "for c, p in zip(case, prob):\n",
        "  ex = ex + c*p\n",
        "print(ex) # 결과를 출력한다.\n"
      ],
      "metadata": {
        "colab": {
          "base_uri": "https://localhost:8080/"
        },
        "id": "Y9hAJPigxKDr",
        "outputId": "7a06917c-eb17-47cb-e700-d94f746d0b47"
      },
      "execution_count": null,
      "outputs": [
        {
          "output_type": "stream",
          "name": "stdout",
          "text": [
            "3.5\n"
          ]
        }
      ]
    },
    {
      "cell_type": "code",
      "source": [
        "# 다른 방법으로, 위 반복문은 다음과 같은 인라인 for 루프로 대체할 수 있다.\n",
        "ex = sum(c*p for c,p in zip(case, prob))\n",
        "print(ex)"
      ],
      "metadata": {
        "colab": {
          "base_uri": "https://localhost:8080/"
        },
        "id": "8rEsg25pyLYs",
        "outputId": "9447b856-da59-453f-c028-8cc89b6f9fb9"
      },
      "execution_count": null,
      "outputs": [
        {
          "output_type": "stream",
          "name": "stdout",
          "text": [
            "3.5\n"
          ]
        }
      ]
    },
    {
      "cell_type": "code",
      "source": [
        "# ZIP함수 예시\n",
        "# zip()함수는 여러개의 리스트를 묶어 하나의 리스트 처럼 사용하게 만들어주는 함수다. case와 prob 리스트 두 개를 하나로 묶어 반복하면서 c와 p를 곱해 더하면 기댓값을 얻게 된다.\n",
        "# 리스트 a와 b를 묶어 하나의 목록으로 만들고 출력하는 예다.\n",
        "\n",
        "a = [1,2,3] # 리스트 a에 1,2,3을 저장한다\n",
        "b = [4,5,6] # 리스트 b에 4,5,6을 저장한다\n",
        "\n",
        "for ab in zip(a,b): # 두개의 리스트를 하나로 묶어 루프를 돌린다.\n",
        "  print(ab)         # (1,4), (2,5), (3,6)을 출력한다.\n",
        "\n",
        "\n"
      ],
      "metadata": {
        "colab": {
          "base_uri": "https://localhost:8080/"
        },
        "id": "auLCTBcc0F9F",
        "outputId": "d4640c8e-0437-4a26-85ca-fec9d1cf854f"
      },
      "execution_count": null,
      "outputs": [
        {
          "output_type": "stream",
          "name": "stdout",
          "text": [
            "(1, 4)\n",
            "(2, 5)\n",
            "(3, 6)\n"
          ]
        }
      ]
    },
    {
      "cell_type": "code",
      "source": [
        "#2. 분산과 표준편차 구하기\n",
        "# 금융에서 분산과 표준편차는 리스크를 가리키는 척도로써 표현되기도 한다.\n",
        "# 일반적으로, 분산과 표준편차는 데이터의 흩어진 정도를 가리킨다."
      ],
      "metadata": {
        "id": "kjl1efsOcOxz"
      },
      "execution_count": null,
      "outputs": []
    },
    {
      "cell_type": "code",
      "source": [
        "# 분산을 계산할 리스트 num를 준비한다.\n",
        "nums = [1,2,3,4,5]\n",
        "\n",
        "# 리스트의 평균을 계산한다.\n",
        "avg = sum(nums)/len(nums)\n",
        "\n",
        "# 리스트를 반복해 편차 제곱합을 계산한다.\n",
        "sumsquare = 0.0\n",
        "\n",
        "# nums 리스트를 반복하면서 n에 저장하고\n",
        "for n in nums:\n",
        "  sumsquare = sumsquare + (n - avg)**2 # 여기서 평균(avg)을 뺀 결과를 제곱(**2)해 합계를 구한다.\n",
        "var = sumsquare / (len(nums)-1)\n",
        "print(var)"
      ],
      "metadata": {
        "colab": {
          "base_uri": "https://localhost:8080/"
        },
        "id": "gjeecNrzcjK8",
        "outputId": "359b5c90-e6fe-472c-df43-acbd141e5945"
      },
      "execution_count": null,
      "outputs": [
        {
          "output_type": "stream",
          "name": "stdout",
          "text": [
            "2.5\n"
          ]
        }
      ]
    },
    {
      "cell_type": "code",
      "source": [
        "# 위의 for 루프는 다음과 같이 바꿀 수 있다.\n",
        "sumsuare = sum((n-avg)**2 for n in nums)\n",
        "\n",
        "# 편차 제곱합을 데이터 개수로 나누고 결과를 출력한다.\n",
        "var = sumsquare / (len(nums) - 1)\n",
        "print(var)"
      ],
      "metadata": {
        "colab": {
          "base_uri": "https://localhost:8080/"
        },
        "id": "Cw-Ry-OOc15W",
        "outputId": "841d9ac5-fb12-43c7-c7bb-15c18bb38845"
      },
      "execution_count": null,
      "outputs": [
        {
          "output_type": "stream",
          "name": "stdout",
          "text": [
            "2.5\n"
          ]
        }
      ]
    },
    {
      "cell_type": "code",
      "source": [
        "# 표준편차를 구하려면 sqrt()함수가 필요하므로 math 모듈을 임포트한다.\n",
        "import math\n",
        "stdev = math.sqrt(var)\n",
        "print(stdev)"
      ],
      "metadata": {
        "colab": {
          "base_uri": "https://localhost:8080/"
        },
        "id": "Q6dfFIQIdt-7",
        "outputId": "07c2d112-2f16-4784-b678-30e0e9317d33"
      },
      "execution_count": null,
      "outputs": [
        {
          "output_type": "stream",
          "name": "stdout",
          "text": [
            "1.5811388300841898\n"
          ]
        }
      ]
    },
    {
      "cell_type": "code",
      "source": [
        "##"
      ],
      "metadata": {
        "id": "eBnJ2AwjfkWC"
      },
      "execution_count": null,
      "outputs": []
    },
    {
      "cell_type": "code",
      "source": [
        "##"
      ],
      "metadata": {
        "id": "9NSRXQSYfviK"
      },
      "execution_count": null,
      "outputs": []
    },
    {
      "cell_type": "code",
      "source": [
        "#3. 정규분포에서 표준편차와 평균\n",
        "# 정규분포는 표준편차, 평균과 밀접한 관계를 가진 확률분포이자, 그 둘을 파라미터로 가지는 성질을 가진다.\n",
        "# CLT에 따르면 데이터수가 많아질수록 분포들을 정규분포에 수렴하게 된다.\n",
        "# 또한 관례적으로 대부분의 케이스에 잘 매칭이 되는 확률분포이기도 하다."
      ],
      "metadata": {
        "id": "5AdGtngefwfa"
      },
      "execution_count": null,
      "outputs": []
    },
    {
      "cell_type": "code",
      "source": [
        "# 정규분포를 시각화 시키기 위해 우리는 Matplotlib이라는 라이브러리를 사용한다.\n",
        "# 여기서, Matplotlib는 파이썬에서 자료를 차트나 플롯으로 시각화하는 패키지이다.\n",
        "# 라인 플롯, 바 차트, 파이 차트, 히스토그램, 박스플롯, 스캐터 플롯 등을 포함하는 다양한 차트와 플롯 스타일을 제공한다.\n",
        "\n",
        "# 다음은 matplotlib를 이용해 -10~10 사이에 평균이 0, 표준편차가 2인 정규분포를 그린 예시이다.\n",
        "\n",
        "# numpy, matplotlib, scipy 라이브러리를 임포트한다.\n",
        "import numpy as np\n",
        "import matplotlib.pyplot as plt\n",
        "from scipy.stats import norm\n",
        "\n",
        "# x 축은 -10 ~ 10 사이에서 0.001간격으로 정한다.\n",
        "x_axis = np.arange(-10, 10, 0.001)\n",
        "\n",
        "# 평균 = 0, 표준편차 = 2.0인 정규분포를 만든다\n",
        "plt.plot(x_axis, norm.pdf(x_axis,0,2))\n",
        "\n",
        "# 정규분포를 화면에 출력한다.\n",
        "plt.show()"
      ],
      "metadata": {
        "colab": {
          "base_uri": "https://localhost:8080/",
          "height": 265
        },
        "id": "DJOJw8LDgv2Q",
        "outputId": "69a87f17-0229-4287-d391-6dc81181e029"
      },
      "execution_count": null,
      "outputs": [
        {
          "output_type": "display_data",
          "data": {
            "text/plain": [
              "<Figure size 432x288 with 1 Axes>"
            ],
            "image/png": "[encoded data removed]"
          },
          "metadata": {
            "needs_background": "light"
          }
        }
      ]
    },
    {
      "cell_type": "code",
      "source": [
        "#4. 공분산과 상관계수\n",
        "# 두 변수의 상관관계를 나타내는 척도로 공분산과 상관계수가 있다.\n",
        "# 공분산에서 중요한것은 그것의 부호인데, 공분산이 (+)이면 양의 상관관계, (-)이면 음의 상관관계라고 부른다.\n",
        "# 공분산의 경우 변수 간의 방향성을 알려주지만, 상관관계의 정도를 구체적으로 표현하지는 못한다.\n",
        "# 따라서, 비교를 용이하게 하기 위해 -1 ~ +1 사이의 범위로 표준화한 상관계수를 종종 활용한다.\n"
      ],
      "metadata": {
        "id": "aQ0qtbYMiR5M"
      },
      "execution_count": null,
      "outputs": []
    },
    {
      "cell_type": "code",
      "source": [
        "#from scipy.special import voigt_profile\n",
        "# 상관계수 계산을 프로그래밍해보자\n",
        "\n",
        "# 우선 상관계수를 계산하기위해 필요한 함수들이 있는 라이브러리를 콜한다.\n",
        "import math\n",
        "\n",
        "# 평균을 계산하는 함수를 만든다.\n",
        "def mean(x):\n",
        "  return sum(x) / len(x)\n",
        "\n",
        "# 엑셀의 sumproduct()함수와 비슷한, 두 리스트 곱의 합계를 구하는 함수를 만든다.\n",
        "def sum_of_product(xs, ys):\n",
        "  return sum(x*y for x,y in zip(xs, ys))\n",
        "\n",
        "# 제곱합을 계산하는 함수를 만든다.\n",
        "def sum_of_squares(v):\n",
        "  return sum_of_product(v,v)\n",
        "\n",
        "# 편차를 계산하는 함수를 만든다.\n",
        "def deviation(xs):\n",
        "  x_mean = mean(xs)\n",
        "  return [x - x_mean for x in xs]\n",
        "\n",
        "# 분산을 계산하는 함수를 만든다.\n",
        "def variance(x):\n",
        "  n = len(x)\n",
        "  deviations = deviation(x)\n",
        "  return sum_of_squares(deviations) / (n-1)\n",
        "\n",
        "# 공분산을 계산하는 함수를 만든다.\n",
        "def covariance(x,y):\n",
        "  n = len(x)\n",
        "  return sum_of_product(deviation(x), deviation(y))/ (n-1)\n",
        "\n",
        "#  표준편차를 계산하는 함수를 만든다.\n",
        "def standard_deviation(x):\n",
        "  return math.sqrt(variance(x)) # math 모듈의 제곱근 함수 sqrt()를 사용\n",
        "\n",
        "# 상관계수를 계산하는 함수\n",
        "def correlation(xs, ys):\n",
        "  stdev_x = standard_deviation(xs)\n",
        "  stdev_y = standard_deviation(ys)\n",
        "  if stdev_x > 0 and stdev_y > 0:\n",
        "    return covariance(xs, ys) / (stdev_x * stdev_y)\n",
        "  else:\n",
        "    return 0 # 편차가 존재하지 않는다면 상관관계는 0"
      ],
      "metadata": {
        "id": "DGoFWt1CnbCB"
      },
      "execution_count": null,
      "outputs": []
    },
    {
      "cell_type": "code",
      "source": [
        "# x와 y 리스트와 correlation()함수를  사용해 상관관계를 계산한다.\n",
        "x = [41, 43, 38, 37]\n",
        "y = [61, 63, 56, 55]\n",
        "print(correlation(x,y))"
      ],
      "metadata": {
        "colab": {
          "base_uri": "https://localhost:8080/"
        },
        "id": "yh3TdMChqVtQ",
        "outputId": "dce91f8f-b98d-41e2-9f30-2d25a5747ac0"
      },
      "execution_count": null,
      "outputs": [
        {
          "output_type": "stream",
          "name": "stdout",
          "text": [
            "0.9950765901904326\n"
          ]
        }
      ]
    },
    {
      "cell_type": "code",
      "source": [
        "x = [35, 45, 35, 34]\n",
        "y = [65, 54, 64, 67]\n",
        "print(correlation(x,y))"
      ],
      "metadata": {
        "colab": {
          "base_uri": "https://localhost:8080/"
        },
        "id": "wuiPr3dPrOPw",
        "outputId": "806f880e-06c3-49c5-d7b5-06a69de96f72"
      },
      "execution_count": null,
      "outputs": [
        {
          "output_type": "stream",
          "name": "stdout",
          "text": [
            "-0.9910397700847882\n"
          ]
        }
      ]
    },
    {
      "cell_type": "code",
      "source": [
        "x = [35, 45, 35, 34]\n",
        "y = [65, 66, 64, 68]\n",
        "print(correlation(x,y))"
      ],
      "metadata": {
        "colab": {
          "base_uri": "https://localhost:8080/"
        },
        "id": "iErowQBjrevU",
        "outputId": "94d235e2-f64e-4681-88c8-efe9301604b2"
      },
      "execution_count": null,
      "outputs": [
        {
          "output_type": "stream",
          "name": "stdout",
          "text": [
            "0.009405128133399419\n"
          ]
        }
      ]
    },
    {
      "cell_type": "code",
      "source": [],
      "metadata": {
        "id": "1FWTsKCpro6E"
      },
      "execution_count": null,
      "outputs": []
    }
  ]
}
