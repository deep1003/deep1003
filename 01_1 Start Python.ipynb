{
  "nbformat": 4,
  "nbformat_minor": 0,
  "metadata": {
    "colab": {
      "provenance": [],
      "include_colab_link": true
    },
    "kernelspec": {
      "name": "python3",
      "display_name": "Python 3"
    },
    "language_info": {
      "name": "python"
    }
  },
  "cells": [
    {
      "cell_type": "markdown",
      "metadata": {
        "id": "view-in-github",
        "colab_type": "text"
      },
      "source": [
        "<a href=\"https://colab.research.google.com/github/deep1003/deep1003/blob/master/01_1%20%ED%8C%8C%EC%9D%B4%EC%8D%AC%20%EC%8B%9C%EC%9E%91%ED%95%98%EA%B8%B0.ipynb\" target=\"_parent\"><img src=\"https://colab.research.google.com/assets/colab-badge.svg\" alt=\"Open In Colab\"/></a>"
      ]
    },
    {
      "cell_type": "code",
      "execution_count": null,
      "metadata": {
        "id": "RKjVwIIRvp6s"
      },
      "outputs": [],
      "source": [
        "# ctrl +Enter 혹은 Shift + Enter 누르면 현재 셀 내용을 실행한다.\n",
        "# 여기서, Shift + Enter 키는 실행 후 새로운 셀을 하단에 추가하고,\n",
        "# ctrl + Enter 키는 실행만 한 후 프롬프트를 현재 셀에 그대로 둔다\n",
        "# Colab에서는 GoogleDrive의 \"Colab Notebooks\"라는 폴더에 자동으로 저장된다."
      ]
    },
    {
      "cell_type": "code",
      "source": [
        "# Google Colab은 파이썬 사용에 필요한 Numpy, Pandas 등과 같은 주요 인기 라이브러리를 따로 설치할 필요 없이 기본으로 제공하지만,\n",
        "# 모든 라이브러리를 제공하지는 않으므로 필요한 라이브러리는 pip 또는 pip3 명령어를 사용해 직접 설치하여야한다.\n",
        "# 하지만 pip를 이용해 설치하더라도 다음날 설치 이전상태로 돌아가 있을 수 있으므로 이런 경우 다시 설치해야한다.\n",
        "#\n",
        "# Example\n",
        "# 다음은 증권 데이터를 제공하는 Quadl 라이브러리를 설치하는 것에 대한 예시이다.\n",
        "!pip3 install quandl"
      ],
      "metadata": {
        "colab": {
          "base_uri": "https://localhost:8080/"
        },
        "id": "jX26nIvyxuqH",
        "outputId": "29f1204f-cd4c-4005-d59f-a58921c00af9"
      },
      "execution_count": null,
      "outputs": [
        {
          "output_type": "stream",
          "name": "stdout",
          "text": [
            "Collecting quandl\n",
            "  Downloading Quandl-3.7.0-py2.py3-none-any.whl.metadata (1.3 kB)\n",
            "Requirement already satisfied: pandas>=0.14 in /usr/local/lib/python3.10/dist-packages (from quandl) (2.1.4)\n",
            "Requirement already satisfied: numpy>=1.8 in /usr/local/lib/python3.10/dist-packages (from quandl) (1.26.4)\n",
            "Requirement already satisfied: requests>=2.7.0 in /usr/local/lib/python3.10/dist-packages (from quandl) (2.32.3)\n",
            "Collecting inflection>=0.3.1 (from quandl)\n",
            "  Downloading inflection-0.5.1-py2.py3-none-any.whl.metadata (1.7 kB)\n",
            "Requirement already satisfied: python-dateutil in /usr/local/lib/python3.10/dist-packages (from quandl) (2.8.2)\n",
            "Requirement already satisfied: six in /usr/local/lib/python3.10/dist-packages (from quandl) (1.16.0)\n",
            "Requirement already satisfied: more-itertools in /usr/local/lib/python3.10/dist-packages (from quandl) (10.5.0)\n",
            "Requirement already satisfied: pytz>=2020.1 in /usr/local/lib/python3.10/dist-packages (from pandas>=0.14->quandl) (2024.2)\n",
            "Requirement already satisfied: tzdata>=2022.1 in /usr/local/lib/python3.10/dist-packages (from pandas>=0.14->quandl) (2024.1)\n",
            "Requirement already satisfied: charset-normalizer<4,>=2 in /usr/local/lib/python3.10/dist-packages (from requests>=2.7.0->quandl) (3.3.2)\n",
            "Requirement already satisfied: idna<4,>=2.5 in /usr/local/lib/python3.10/dist-packages (from requests>=2.7.0->quandl) (3.10)\n",
            "Requirement already satisfied: urllib3<3,>=1.21.1 in /usr/local/lib/python3.10/dist-packages (from requests>=2.7.0->quandl) (2.2.3)\n",
            "Requirement already satisfied: certifi>=2017.4.17 in /usr/local/lib/python3.10/dist-packages (from requests>=2.7.0->quandl) (2024.8.30)\n",
            "Downloading Quandl-3.7.0-py2.py3-none-any.whl (26 kB)\n",
            "Downloading inflection-0.5.1-py2.py3-none-any.whl (9.5 kB)\n",
            "Installing collected packages: inflection, quandl\n",
            "Successfully installed inflection-0.5.1 quandl-3.7.0\n"
          ]
        }
      ]
    },
    {
      "cell_type": "code",
      "source": [
        "# 01_1_1 파이썬 핵심사항 1: 변수\n",
        "\n",
        "# 변수는 숫자나 문자열과 같은 값을 저장하는 요소이다. 프로그램이 시작될 떄 변수가 만들어지고 값이 입력되면 메모리가 할당된다.\n",
        "# 그리고 프로그램이 종료되면 할당된 메모리가 시스템에 반환된다.\n",
        "\n",
        "# 파이썬에서는 변수의 값을 입력할 떄 \"=\"을 사용한다.\n",
        "# 변수의 이름은 알파벳 혹은 언더스코어(_) 문자로 시작한다.\n",
        "# 변수 이름에 1a처럼 숫자가 나오면 안된다는것을 명심하자!"
      ],
      "metadata": {
        "id": "IAnm7q_AyoP7"
      },
      "execution_count": null,
      "outputs": []
    },
    {
      "cell_type": "code",
      "source": [
        "# 01_1_1_1 숫자형 변수\n",
        "# 숫자는 실수, 정수를 사용하며 변수에 숫자만 지정하면 된다.\n",
        "# 예를 들어 a, b라는 변수에 각각 실숫값 2020.24 또는 2020울 입력한다면 다음과 같다\n",
        "a = 2020.24 # 변수 a는 실숫값 2020.24.를 가리킨다\n",
        "b = 2020 # 변수 b는 정숫값 2020을 가리킨다.\n",
        "print(a,b)"
      ],
      "metadata": {
        "colab": {
          "base_uri": "https://localhost:8080/"
        },
        "id": "9Wb0dJgJ2b40",
        "outputId": "b4c16370-a5dc-4fb2-e518-12a2f5ce5b5d"
      },
      "execution_count": null,
      "outputs": [
        {
          "output_type": "stream",
          "name": "stdout",
          "text": [
            "2020.24 2020\n"
          ]
        }
      ]
    },
    {
      "cell_type": "code",
      "source": [
        "a"
      ],
      "metadata": {
        "colab": {
          "base_uri": "https://localhost:8080/"
        },
        "id": "vLDNi78G2Z6l",
        "outputId": "031ece74-3888-443a-8a0d-156b656ba63e"
      },
      "execution_count": null,
      "outputs": [
        {
          "output_type": "execute_result",
          "data": {
            "text/plain": [
              "2020.24"
            ]
          },
          "metadata": {},
          "execution_count": 6
        }
      ]
    },
    {
      "cell_type": "code",
      "source": [
        "e = 2020\n",
        "e"
      ],
      "metadata": {
        "colab": {
          "base_uri": "https://localhost:8080/"
        },
        "id": "PMuAy7jH3owk",
        "outputId": "f0c53e16-d5f4-4103-869d-3311a773a970"
      },
      "execution_count": null,
      "outputs": [
        {
          "output_type": "execute_result",
          "data": {
            "text/plain": [
              "2020"
            ]
          },
          "metadata": {},
          "execution_count": 27
        }
      ]
    },
    {
      "cell_type": "code",
      "source": [
        "# 01_1_1_2 문자열 변수\n",
        "# 문자열은 작은따옴표('...') 또는 큰따옴표(\"....\")를 이용해 만든다.\n",
        "# e라는 변수에 숫자 2020을 입력한 후 다시 e 변수에 문자열을 입력한다면. 이미 입력된 숫자 2020 대신 새로 입력된 데이터를 가리키게 된다.\n",
        "\n",
        "a = 'Portfolio' # 변수 A는 문자열 Portfolio를 가리킨다\n",
        "b = \"Portfolio\" # 변수 b는 문자열 Portfolio를 가리킨다\n",
        "c = '\"Portfolio\"' # 변수 csms 큰 따옴표가 포함된 문자열 \"Portfolio\"를 가리킨다\n",
        "d = \"'Portfolio'\" # 변수 d는 작은따옴표가 포함된 문자열  'Portfolio'를 가리킨다\n",
        "e = '2020'"
      ],
      "metadata": {
        "id": "JsaUMy923rQb"
      },
      "execution_count": null,
      "outputs": []
    },
    {
      "cell_type": "markdown",
      "source": [],
      "metadata": {
        "id": "LOeX65HV4hES"
      }
    },
    {
      "cell_type": "code",
      "source": [
        "e\n",
        "# 여기서 따옴표 사이는 문자열이다. 2020은 숫자이지만 '2020'은 문자열이다.\n",
        "# 숫자를 입력할 경우 평소처럼 사용하고, 문자열인 경우 작은따옴표 또는 큰따옴표안에 문자열을 넣는다"
      ],
      "metadata": {
        "colab": {
          "base_uri": "https://localhost:8080/"
        },
        "id": "rhibxpio4j7D",
        "outputId": "91ad7c1c-d328-423b-93f8-ae191bc34b93"
      },
      "execution_count": null,
      "outputs": [
        {
          "output_type": "execute_result",
          "data": {
            "text/plain": [
              "2020"
            ]
          },
          "metadata": {},
          "execution_count": 30
        }
      ]
    },
    {
      "cell_type": "code",
      "source": [
        "a"
      ],
      "metadata": {
        "colab": {
          "base_uri": "https://localhost:8080/",
          "height": 35
        },
        "id": "Tx5sQWTo4rE7",
        "outputId": "369050b3-da56-4e51-f482-c10d522fee5b"
      },
      "execution_count": null,
      "outputs": [
        {
          "output_type": "execute_result",
          "data": {
            "text/plain": [
              "'Portfolio'"
            ],
            "application/vnd.google.colaboratory.intrinsic+json": {
              "type": "string"
            }
          },
          "metadata": {},
          "execution_count": 25
        }
      ]
    },
    {
      "cell_type": "code",
      "source": [
        "# 01_1_2 데이터 객체\n",
        "# 데이터 객체는 하나 이상 값을 다룰때 편리를 위해 주로 사용하며, 종류로는 list,tuple,dictionary가 있다.\n"
      ],
      "metadata": {
        "id": "mlI_DQuP42KR"
      },
      "execution_count": null,
      "outputs": []
    },
    {
      "cell_type": "code",
      "source": [
        "# 01_1_2_1 리스트\n",
        "# 리스트는 여러종류의 데이터를 저장하는데 사용하는 데이터 구조이다.\n",
        "# 수정, 삭제 추가 등과 같은 데이터 변경작업에 용이하며 []로 만들어주고 목록 내 원소는 콤마(,)로 구분한다.\n",
        "\n",
        "# 비어있는 리스트 a를 만든다\n",
        "a = []\n",
        "\n",
        "# 1,2,3,4,5다섯 개 항목이 있는 리스트 b를 만든다\n",
        "b = [1,2,3,4,5]\n",
        "\n",
        "# 두개의 리스트를 연결된 합쳐진 리스트로 만든다\n",
        "c = [1,2,3] + [6,5,4]\n",
        "\n",
        "# 리스트 [1,2,3]이 두번 반복된 리스트를 만든다. 이때 *는 곱하기가 아니다\n",
        "d = [1,2,3]*2"
      ],
      "metadata": {
        "id": "_PN1TA9C53HZ"
      },
      "execution_count": null,
      "outputs": []
    },
    {
      "cell_type": "code",
      "source": [
        "c"
      ],
      "metadata": {
        "colab": {
          "base_uri": "https://localhost:8080/"
        },
        "id": "FClP7Ep06ko6",
        "outputId": "124286eb-079a-40d7-bb71-4aa25631cbce"
      },
      "execution_count": null,
      "outputs": [
        {
          "output_type": "execute_result",
          "data": {
            "text/plain": [
              "[1, 2, 3, 6, 5, 4]"
            ]
          },
          "metadata": {},
          "execution_count": 3
        }
      ]
    },
    {
      "cell_type": "code",
      "source": [
        "d"
      ],
      "metadata": {
        "colab": {
          "base_uri": "https://localhost:8080/"
        },
        "id": "KEdmcGLc6le4",
        "outputId": "f6bdf77a-54ba-4df7-9461-c0b7f6f088bb"
      },
      "execution_count": null,
      "outputs": [
        {
          "output_type": "execute_result",
          "data": {
            "text/plain": [
              "[1, 2, 3, 1, 2, 3]"
            ]
          },
          "metadata": {},
          "execution_count": 4
        }
      ]
    },
    {
      "cell_type": "code",
      "source": [
        "# 01_1_2_2 Indexing\n",
        "# 리스트 속 각각의 항목은 0부터 시작하는 인덱스 번호를 가진다.\n",
        "# 인덱스를 이용하면(즉, idexing을 하면) 일부 값만 얻거나 바꾸는 등의 작업이 가능해진다.\n",
        "# 인덱스 번호는 0부터 시작하지만 마이너스 값을 갖기도 하는데, -1은 리스트에 있는 마지막 항목의 인덱스다.\n",
        "# -2를 한다면 리스트에 있는 마지막 두번째 항목의 리스트가 된다.\n",
        "# 인덱스가 없다면 리스트 내 항목의 개수를 세는 일이 어려워진다.\n",
        "\n",
        "a = [1,2,3,4,5,6]\n",
        "\n",
        "# 리스트 a에서 인덱스 값이 0인 첫번째 항목 1을 출력한다.\n",
        "print(a[0])\n",
        "\n",
        "# 리스트 1에서 인덱스 값이 5인 첫 번째 항목 6을 출력한다.\n",
        "print(a[5])\n",
        "\n",
        "# 리스트 a에서 인덱스 값이 -1인 마지막 항목 6을 출력한다.\n",
        "print(a[-1])\n",
        "\n",
        "# 리스트 a에서 인덱스 값이 -2인 마지막 두 번째 항목 5를 출력한다.\n",
        "print(a[-2])"
      ],
      "metadata": {
        "colab": {
          "base_uri": "https://localhost:8080/"
        },
        "id": "hae5K8J56mJh",
        "outputId": "42895b46-e0fa-4bf8-883b-029cd3417e96"
      },
      "execution_count": null,
      "outputs": [
        {
          "output_type": "stream",
          "name": "stdout",
          "text": [
            "1\n",
            "6\n",
            "6\n",
            "5\n"
          ]
        }
      ]
    },
    {
      "cell_type": "code",
      "source": [
        "# 01_1_2_3 Slicing\n",
        "# 슬라이싱은 인덱스를 이용해 리스트의 일부를 떼어내는 것이다.\n",
        "# 뗴어낸다고 해서 원래 리스트 내용이 변경되는 것은 아니다.\n",
        "# 콜론(:)을 사용해 리스트의 일부분을 잘라내듯이 추출하는 것이다.\n",
        "# [시작 인덱스:끝 인덱스] 형식으로 슬라이싱을 하는데 직전 항목까지 가져온다\n",
        "\n",
        "\n",
        "# [시작 인덱스:끝 인덱스]의 형식으로 사용한다.\n",
        "a = [1,2,3,4,5,6]\n",
        "\n",
        "# 인덱스 0부터 2 이전까지의 항목을 슬라이싱한다.\n",
        "print( a[0:2])\n",
        "\n",
        "# 시작 인덱스가 생략되면 0으로 판단한다.\n",
        "print(a[:2])\n",
        "\n",
        "# 끝 인덱스가 생략되면 마지막 인덱스로 판단한다.\n",
        "print(a[2:])"
      ],
      "metadata": {
        "colab": {
          "base_uri": "https://localhost:8080/"
        },
        "id": "p-nXeEPE7s62",
        "outputId": "2715a8be-4c74-4c8d-addf-872c790f2a95"
      },
      "execution_count": null,
      "outputs": [
        {
          "output_type": "stream",
          "name": "stdout",
          "text": [
            "[1, 2]\n",
            "[1, 2]\n",
            "[3, 4, 5, 6]\n"
          ]
        }
      ]
    },
    {
      "cell_type": "code",
      "source": [
        "# 항목 변경과 삭제\n",
        "# 리스트의 일부 항목을 변경하는 것도 인덱스를 이용해 할 수 있다.\n",
        "# 리스트 또는 리스트 내 일부 항목을 삭제하려면 del()함수를 사용한다.\n",
        "\n",
        "# 리스트의 항목은 인덱스를 지정해 수정할 수 있다.\n",
        "a = [1,2,3,4,5,6]\n",
        "\n",
        "# 2번째 인덱스 항목인 3을 4로 변경한다\n",
        "a[2] = 4\n",
        "print(a)\n",
        "\n",
        "# 리스트 또는 리스트 내 항목을 지우려면 del 함수를 사용한다.\n",
        "# 1번 인덱스를 삭제한다. 리스트 내 2가 없어진다.\n",
        "del a[1]\n",
        "print(a)\n",
        "\n",
        "# 2번 인덱스로부터 마지막까지 지운다\n",
        "# 앞서 1번 인덱스를 지워 리스트는 [1,4,4,5,6]인데, 2번 인덱스부터 마지막까지 지워 [1,4]만 남는다\n",
        "del a[2:]\n",
        "print(a)\n",
        "\n",
        "# 리스트를 통째로 지정하면 리스트라는 객체 자체가 사라진다.\n",
        "# 따라서 리스트 a를 출력하면\n",
        "# NameError: name 'a' is not defined\n",
        "# 에러가 발생한다\n",
        "del a\n",
        "print(a)"
      ],
      "metadata": {
        "colab": {
          "base_uri": "https://localhost:8080/",
          "height": 239
        },
        "id": "HCMKeyC09D8e",
        "outputId": "952f9942-5854-499a-a9eb-51430f137b20"
      },
      "execution_count": null,
      "outputs": [
        {
          "output_type": "stream",
          "name": "stdout",
          "text": [
            "[1, 2, 4, 4, 5, 6]\n",
            "[1, 4, 4, 5, 6]\n",
            "[1, 4]\n"
          ]
        },
        {
          "output_type": "error",
          "ename": "NameError",
          "evalue": "name 'a' is not defined",
          "traceback": [
            "\u001b[0;31m---------------------------------------------------------------------------\u001b[0m",
            "\u001b[0;31mNameError\u001b[0m                                 Traceback (most recent call last)",
            "\u001b[0;32m<ipython-input-1-1c0388f6ae3d>\u001b[0m in \u001b[0;36m<cell line: 27>\u001b[0;34m()\u001b[0m\n\u001b[1;32m     25\u001b[0m \u001b[0;31m# 에러가 발생한다\u001b[0m\u001b[0;34m\u001b[0m\u001b[0;34m\u001b[0m\u001b[0m\n\u001b[1;32m     26\u001b[0m \u001b[0;32mdel\u001b[0m \u001b[0ma\u001b[0m\u001b[0;34m\u001b[0m\u001b[0;34m\u001b[0m\u001b[0m\n\u001b[0;32m---> 27\u001b[0;31m \u001b[0mprint\u001b[0m\u001b[0;34m(\u001b[0m\u001b[0ma\u001b[0m\u001b[0;34m)\u001b[0m\u001b[0;34m\u001b[0m\u001b[0;34m\u001b[0m\u001b[0m\n\u001b[0m",
            "\u001b[0;31mNameError\u001b[0m: name 'a' is not defined"
          ]
        }
      ]
    },
    {
      "cell_type": "code",
      "source": [
        "# 리스트 내 항목의 개수를 얻으려면 파이썬 기본 함수 len()을 사용한다.\n",
        "a = [1,2,3,4,5,6]\n",
        "length = len(a)\n",
        "print(length)"
      ],
      "metadata": {
        "colab": {
          "base_uri": "https://localhost:8080/"
        },
        "id": "HgF69JvbFe8c",
        "outputId": "8d848fb6-4197-41a7-8561-6ab56db54719"
      },
      "execution_count": null,
      "outputs": [
        {
          "output_type": "stream",
          "name": "stdout",
          "text": [
            "6\n"
          ]
        }
      ]
    },
    {
      "cell_type": "code",
      "source": [
        "# 01_1_2_4 Tuple\n",
        "# tuple은 리스트와 비슷한 성격을 가진 자료형 객체인데, 리스트와 달리 변경이 불가능하다.\n",
        "# 리스트는 []를 사용하지만 tuple은 소괄호()을 사용하며, ()없이 콤마(,)로 값을 구분해둬도 튜플이 된다.\n",
        "# 변경이 불가능하다는 것은 단점처럼 보이지만 장점일수도 있는데, 프로그램이 실행되는 동안 내용이 바뀌면 안되는 목록이 있다면 튜플을 사용하기에 좋다.\n",
        "# 여기서, 튜플도 리스트와 같이 인덱싱, 슬라이싱이 가능하며, 튜플끼리 더하거나 곱하거나 len()함수를 이용하여 길이를 구할 수도 있다.\n",
        "a = ()\n",
        "b = (1,2,3,4,5,6)\n",
        "c = 1,2,3,4,5,6\n",
        "\n",
        "print(a)\n",
        "print(b)\n",
        "print(c)"
      ],
      "metadata": {
        "colab": {
          "base_uri": "https://localhost:8080/"
        },
        "id": "1vmgbfZxHOCY",
        "outputId": "916b5d23-e2aa-46ed-c7d7-fefc0913aca3"
      },
      "execution_count": null,
      "outputs": [
        {
          "output_type": "stream",
          "name": "stdout",
          "text": [
            "()\n",
            "(1, 2, 3, 4, 5, 6)\n",
            "(1, 2, 3, 4, 5, 6)\n"
          ]
        }
      ]
    },
    {
      "cell_type": "code",
      "source": [
        "# 01_1_2_5 Dictionary\n",
        "# dictionary는 리스트나 튜플과 많이 다른 데이터 객체이다.\n",
        "# dictionary라는 말처럼 key와 value, 한 쌍이 필요하다\n",
        "# 리스트나 튜플과 달리 숫자로 된 인덱스가 아닌 키를 갖고 값을 다루는 경우 편리하다.\n",
        "# 다만 키는 중복되면 안된다.\n",
        "\n",
        "# 딕셔너리는 {}안에 {key:value}형식으로 만든다\n",
        "a = {'one':1, 'two':2,'three':3,'four':4, 'five':5,'six':6}\n",
        "print(a)"
      ],
      "metadata": {
        "colab": {
          "base_uri": "https://localhost:8080/"
        },
        "id": "V6I3IxjYI5nq",
        "outputId": "c4734a6a-3fdd-431d-dd4f-d44c946ce918"
      },
      "execution_count": null,
      "outputs": [
        {
          "output_type": "stream",
          "name": "stdout",
          "text": [
            "{'one': 1, 'two': 2, 'three': 3, 'four': 4, 'five': 5, 'six': 6}\n"
          ]
        }
      ]
    },
    {
      "cell_type": "code",
      "source": [
        "# 딕셔너리에 새로운 {키:값}을 추가하려면 새로운 키를 딕셔너리에 넣고 값을 할당한다.\n",
        "a['seven'] = 8\n",
        "print(a)"
      ],
      "metadata": {
        "colab": {
          "base_uri": "https://localhost:8080/"
        },
        "id": "i9ZrxqwIKTmc",
        "outputId": "f41175f3-5e74-4b8b-cf53-c764bafc1414"
      },
      "execution_count": null,
      "outputs": [
        {
          "output_type": "stream",
          "name": "stdout",
          "text": [
            "{'one': 1, 'two': 2, 'three': 3, 'four': 4, 'five': 5, 'six': 6, 'seven': 8}\n"
          ]
        }
      ]
    },
    {
      "cell_type": "code",
      "source": [
        "# 딕셔너리를 수정하는 경우 인덱스가 아닌 키를 사용한다. 키가 인덱스 역할을 한다고 보면 된다.\n",
        "a['seven'] = 7\n",
        "print(a)"
      ],
      "metadata": {
        "colab": {
          "base_uri": "https://localhost:8080/"
        },
        "id": "PMrvNXDEKohh",
        "outputId": "cc6914b6-e7ab-46ad-f8c0-95aab44dbd9e"
      },
      "execution_count": null,
      "outputs": [
        {
          "output_type": "stream",
          "name": "stdout",
          "text": [
            "{'one': 1, 'two': 2, 'three': 3, 'four': 4, 'five': 5, 'six': 6, 'seven': 7}\n"
          ]
        }
      ]
    },
    {
      "cell_type": "code",
      "source": [
        "# 딕셔너리 항목을 삭제하는 경우에도 키를 사용한다.\n",
        "del a['one']\n",
        "print(a)"
      ],
      "metadata": {
        "colab": {
          "base_uri": "https://localhost:8080/"
        },
        "id": "dXBY02qwK1Zw",
        "outputId": "65c43f52-aa85-4dd7-a583-10266a7d351a"
      },
      "execution_count": null,
      "outputs": [
        {
          "output_type": "stream",
          "name": "stdout",
          "text": [
            "{'two': 2, 'three': 3, 'four': 4, 'five': 5, 'six': 6, 'seven': 7}\n"
          ]
        }
      ]
    },
    {
      "cell_type": "code",
      "source": [
        "# 모든 항목을 지우려면 clear 함수를 사용한다\n",
        "a.clear()\n",
        "print(a)"
      ],
      "metadata": {
        "colab": {
          "base_uri": "https://localhost:8080/"
        },
        "id": "XSjTkNRSLAj1",
        "outputId": "d3a62c43-a6d0-4b9d-cae6-8a79151b18d1"
      },
      "execution_count": null,
      "outputs": [
        {
          "output_type": "stream",
          "name": "stdout",
          "text": [
            "{}\n"
          ]
        }
      ]
    },
    {
      "cell_type": "code",
      "source": [
        "# 딕셔너라는 키와 값을 다루기 위한 몇 가지 함수를 제공한다.\n",
        "\n",
        "# 딕셔너리 함수들\n",
        "a = {'one':1, 'two':2,'three':3,'four':4, 'five':5,'six':6}\n",
        "\n",
        "# 딕셔너리의 키를 모두 얻으려면 keys 함수를 사용한다.\n",
        "keys = a.keys()\n",
        "for k in keys:\n",
        "  print(k)"
      ],
      "metadata": {
        "colab": {
          "base_uri": "https://localhost:8080/"
        },
        "id": "uFjzuOHGLHr5",
        "outputId": "6d1b0ac5-4b97-4c5b-fa2c-36e4529096c0"
      },
      "execution_count": null,
      "outputs": [
        {
          "output_type": "stream",
          "name": "stdout",
          "text": [
            "one\n",
            "two\n",
            "three\n",
            "four\n",
            "five\n",
            "six\n"
          ]
        }
      ]
    },
    {
      "cell_type": "code",
      "source": [
        "# 딕셔너리의 값을 모두 얻으려면 values 함수를 사용한다.\n",
        "values = a.values()\n",
        "for v in values:\n",
        "  print(v)"
      ],
      "metadata": {
        "colab": {
          "base_uri": "https://localhost:8080/"
        },
        "id": "9wZxJds-x5Y6",
        "outputId": "e71bdd36-ccf1-4ea7-e529-49173eba8a10"
      },
      "execution_count": null,
      "outputs": [
        {
          "output_type": "stream",
          "name": "stdout",
          "text": [
            "1\n",
            "2\n",
            "3\n",
            "4\n",
            "5\n",
            "6\n"
          ]
        }
      ]
    },
    {
      "cell_type": "code",
      "source": [
        "# 딕셔너리의 키와 값을 모두 얻으려면 items 함수를 사용한다.\n",
        "items = a.items()\n",
        "for k,v in items:\n",
        "  print(k, v)"
      ],
      "metadata": {
        "colab": {
          "base_uri": "https://localhost:8080/"
        },
        "id": "RGp_GMqyya-X",
        "outputId": "b560827f-4bc2-4c01-df28-d4c7b21218f8"
      },
      "execution_count": null,
      "outputs": [
        {
          "output_type": "stream",
          "name": "stdout",
          "text": [
            "one 1\n",
            "two 2\n",
            "three 3\n",
            "four 4\n",
            "five 5\n",
            "six 6\n"
          ]
        }
      ]
    },
    {
      "cell_type": "code",
      "source": [
        "# 딕셔너리 내에 키가 있는지 확인하려면 in을 사용한다.\n",
        "# 키가 있으면 Ture, 그렇지 않으면 False다.\n",
        "bln = 'six' in a\n",
        "print(bln)\n",
        "\n",
        "bln = 'seven' in a\n",
        "print(bln)"
      ],
      "metadata": {
        "colab": {
          "base_uri": "https://localhost:8080/"
        },
        "id": "fYDDVKjOzFzx",
        "outputId": "6391a10a-cb49-4ecd-c31f-50907ddbadb8"
      },
      "execution_count": null,
      "outputs": [
        {
          "output_type": "stream",
          "name": "stdout",
          "text": [
            "True\n",
            "False\n"
          ]
        }
      ]
    },
    {
      "cell_type": "code",
      "source": [
        "# 01_1_3 연산자\n",
        "\n",
        "# 할당 연산자\n",
        "a=1\n",
        "a"
      ],
      "metadata": {
        "colab": {
          "base_uri": "https://localhost:8080/"
        },
        "id": "Wi9Gow1GzZVl",
        "outputId": "a7cd3d72-7672-4f81-b89e-25ee077f9320"
      },
      "execution_count": null,
      "outputs": [
        {
          "output_type": "execute_result",
          "data": {
            "text/plain": [
              "1"
            ]
          },
          "metadata": {},
          "execution_count": 12
        }
      ]
    },
    {
      "cell_type": "code",
      "source": [
        "# 사칙연산\n",
        "a=1\n",
        "b=2\n",
        "print(a+b)\n",
        "print(a-b)\n",
        "print(a*b)\n",
        "print(a/b)"
      ],
      "metadata": {
        "colab": {
          "base_uri": "https://localhost:8080/"
        },
        "id": "swCv6cr21L-1",
        "outputId": "a49fd5aa-f087-42c8-d15f-21ad94ca6fae"
      },
      "execution_count": null,
      "outputs": [
        {
          "output_type": "stream",
          "name": "stdout",
          "text": [
            "3\n",
            "-1\n",
            "2\n",
            "0.5\n"
          ]
        }
      ]
    },
    {
      "cell_type": "code",
      "source": [
        "# 거듭제곱\n",
        "c= 9\n",
        "print(c**c)"
      ],
      "metadata": {
        "colab": {
          "base_uri": "https://localhost:8080/"
        },
        "id": "GuYXVGm81TRp",
        "outputId": "4e3175c0-356d-49da-980f-7fed004122f6"
      },
      "execution_count": null,
      "outputs": [
        {
          "output_type": "stream",
          "name": "stdout",
          "text": [
            "387420489\n"
          ]
        }
      ]
    },
    {
      "cell_type": "code",
      "source": [
        "# 나눗셈의 몫\n",
        "print(9//7)"
      ],
      "metadata": {
        "colab": {
          "base_uri": "https://localhost:8080/"
        },
        "id": "KvoB89vW1rT9",
        "outputId": "f2cf470f-b205-4ab0-9776-29f77dcaaaec"
      },
      "execution_count": null,
      "outputs": [
        {
          "output_type": "stream",
          "name": "stdout",
          "text": [
            "1\n"
          ]
        }
      ]
    },
    {
      "cell_type": "code",
      "source": [
        "# 나눗셈의 나머지\n",
        "print(9%7)"
      ],
      "metadata": {
        "colab": {
          "base_uri": "https://localhost:8080/"
        },
        "id": "OzHNq-V812Jt",
        "outputId": "3075d5d9-26e5-4153-830f-bd1ac9469398"
      },
      "execution_count": null,
      "outputs": [
        {
          "output_type": "stream",
          "name": "stdout",
          "text": [
            "2\n"
          ]
        }
      ]
    },
    {
      "cell_type": "code",
      "source": [
        "# 비교연산자\n",
        "# 비교연산자의 경우 둘간의 대소비교를 할때 사용하며, 결과값은 Ture, False로 반환된다.\n",
        "# 크다, 작다\n",
        "print(1<2)\n",
        "print(1>2)\n",
        "# 크거나 같다, 작거나 같다\n",
        "print(1>=2)\n",
        "print(1<=2)\n",
        "# 같다\n",
        "print(1==2)\n",
        "# 같지않다\n",
        "print(1!=2)"
      ],
      "metadata": {
        "colab": {
          "base_uri": "https://localhost:8080/"
        },
        "id": "s1hdUv8h1-hh",
        "outputId": "cb2cd8dc-3a14-4e52-88ce-0e09af8c103f"
      },
      "execution_count": null,
      "outputs": [
        {
          "output_type": "stream",
          "name": "stdout",
          "text": [
            "True\n",
            "False\n",
            "False\n",
            "True\n",
            "False\n",
            "True\n"
          ]
        }
      ]
    },
    {
      "cell_type": "code",
      "source": [
        "# 논리연산자\n",
        "a = True\n",
        "b = False\n",
        "# 부정\n",
        "print(a)\n",
        "# 논리 곱\n",
        "print(a and b)\n",
        "# 논리 합\n",
        "print(a or b)\n"
      ],
      "metadata": {
        "colab": {
          "base_uri": "https://localhost:8080/"
        },
        "id": "mo0D85ZM3amG",
        "outputId": "00679870-3e7a-48d0-b93d-080e1c70d8d1"
      },
      "execution_count": null,
      "outputs": [
        {
          "output_type": "stream",
          "name": "stdout",
          "text": [
            "True\n",
            "False\n",
            "True\n"
          ]
        }
      ]
    },
    {
      "cell_type": "code",
      "source": [
        "# 01_1_3 흐름제어\n",
        "# 통상적으로 프로그램의 코드는 위에서 아래의 순서로 실행되나 흐름 제어를 활용하면 반복 혹은 원하는 조건 추출 등 여러가지 조건 활용이 가능하다.\n",
        "\n",
        "\n",
        "# if 문\n",
        "# if문은 조건이 참 또는 거짓인 경우에 따라 코드를 다르게 실행하는 경우 사용한다.\n",
        "# 조건은 변수, 비교 연산자, 논리 연산자 등을 사용해 결과가 True 혹은 False 가 나오는 식을 말한다.\n",
        "\n",
        "# Outline 1\n",
        "# if 조건:\n",
        "#    조건이 True인 경우 실행할 코드\n",
        "\n",
        "# Outline 2\n",
        "# if 조건1:\n",
        "#    조건 1이 True인 경우 실행할 코드\n",
        "# elif 조건2:\n",
        "#    조건 2가 True인 경우 실행 할 코드\n",
        "# else:\n",
        "#    조건 1과 2가 모두 True가 아닌 경우 실행 할 코드\n",
        "\n",
        "# 가령 total이라는 변수 값의 크기에 따라 다음과 같이 출력을 달리할 수 있다.\n",
        "\n",
        "total = 512\n",
        "if total > 100:\n",
        "  print('total은 100보다 큽니다')\n",
        "elif total == 100:\n",
        "  print('total은 100입니다')\n",
        "elif total >=50 and total<100:\n",
        "  print('total은 50이상 100 미만입니다')\n",
        "else:\n",
        "  print('total은 50 미만입니다.')"
      ],
      "metadata": {
        "colab": {
          "base_uri": "https://localhost:8080/"
        },
        "id": "7WfEkN8N361T",
        "outputId": "3387af5e-fc56-45aa-c5bc-cdc898648827"
      },
      "execution_count": null,
      "outputs": [
        {
          "output_type": "stream",
          "name": "stdout",
          "text": [
            "total은 100보다 큽니다\n"
          ]
        }
      ]
    },
    {
      "cell_type": "code",
      "source": [],
      "metadata": {
        "id": "ERQ9xRrV8Jfn"
      },
      "execution_count": null,
      "outputs": []
    },
    {
      "cell_type": "code",
      "source": [
        "# for 반복문\n",
        "# for문은 정해진 횟수만 반복한다\n",
        "\n",
        "# Outline\n",
        "# for 변수 in range(시작,끝):\n",
        "#    반복할 코드\n",
        "\n",
        "# 여기서 range은 시작부터 끝 직전까지의 범위를 만들어 낸다.\n",
        "\n",
        "# 1부터 9까지 반복하는 for문을 예시\n",
        "for x in range(1,10):\n",
        "  print(x)"
      ],
      "metadata": {
        "colab": {
          "base_uri": "https://localhost:8080/"
        },
        "id": "Zy77RLAo8m3Z",
        "outputId": "3ef2abcf-872f-43f6-b866-d1cb4ba3dcb1"
      },
      "execution_count": null,
      "outputs": [
        {
          "output_type": "stream",
          "name": "stdout",
          "text": [
            "1\n",
            "2\n",
            "3\n",
            "4\n",
            "5\n",
            "6\n",
            "7\n",
            "8\n",
            "9\n"
          ]
        }
      ]
    },
    {
      "cell_type": "code",
      "source": [
        "# 다음은 2,4,6,8 이라는 네 개의 숫자를 곱하는 예시이다.\n",
        "\n",
        "# nums는 2,4,6,8 이라는 네 개의 숫자를 가진 리스트다.\n",
        "nums = [2,4,6,8]\n",
        "\n",
        "# 곱셈의 결과를 저장할 변수 p를 만들고 미리 1을 저장한다.\n",
        "p = 1\n",
        "\n",
        "# 리스트를 반복하는 동안 b은 각 숫자를 가리킨다.\n",
        "for n in nums:\n",
        "  # 미리 준비한 변수 p에 숫자 n을 계속 곱한다.\n",
        "  # 곱셈의 결과는 p가 되고 다시 반복하면\n",
        "  # n과 곱셈을 할 p가 된다.\n",
        "  p = p*n\n",
        "print('The product is:',p)\n"
      ],
      "metadata": {
        "colab": {
          "base_uri": "https://localhost:8080/"
        },
        "id": "wSGzFvlC9H8X",
        "outputId": "f1d84958-dd4f-4c51-ba1d-9c65550a325d"
      },
      "execution_count": null,
      "outputs": [
        {
          "output_type": "stream",
          "name": "stdout",
          "text": [
            "The product is: 384\n"
          ]
        }
      ]
    },
    {
      "cell_type": "code",
      "source": [
        "# 위의 구문들은 들여쓰기를 시행하였는데 파이썬에서 들여쓰기를 하지 않으면 에러가 자주 발생하므로 들여쓰기를 해서 코드를 작성하자"
      ],
      "metadata": {
        "id": "hr5_M_K3-QI6"
      },
      "execution_count": null,
      "outputs": []
    },
    {
      "cell_type": "code",
      "source": [
        "# 01_1_4 함수\n",
        "# 애초에 컴퓨터를 사용하는 목적중 하나는 반복 작업을 줄이는 것이다.\n",
        "# 흐름제어인 for 문과 마찬가지로 함수도 그러한 목적을 가지고 있다.\n",
        "# 가령 자주 사용하는 계산이 있는데, 계산할 때마다 코드를 반복하지 않고 함수를 만들어 필요할 때 호출하면 전체 코드의 양도 줄이고 기능별로 정리된 체계적인 프로그램을 만들 수 있다.\n",
        "\n",
        "# def를 사용하여 함수를 정으하고 다름과 같은 형태를 가진다.\n",
        "# def 함수명(매개변수):\n",
        "#     함수 본체\n",
        "\n",
        "# 다음은 인사말을 돌려주는 간단한 함수이다.\n",
        "# \"Hello World\"라는 문자열을 돌려주는 함수를 만들면 다음과 같다\n",
        "def HelloWorld():\n",
        "  return 'Hello World'\n",
        "# :\"Hello\"라는 문자열과 msg변수(즉, 매개변수)에 담긴 내용을 합쳐 돌려주면 다음과 같다\n",
        "def HelloMessage(msg):\n",
        "  return 'Hello' + msg"
      ],
      "metadata": {
        "id": "U3LcLZIh-0ly"
      },
      "execution_count": null,
      "outputs": []
    },
    {
      "cell_type": "code",
      "source": [
        "# 함수가 값을 돌려주면 변수나 다른 함수를 통해 돌려주는 값을 받는다. 다음 코드에서는 greeting 변수에 HelloWorld(), HelloMessage()의 결과를 돌려준다.\n",
        "# 그리고 print(HelloWorld()), print(HelloMessage('MARY'))와 같이 print() 함수에 결과를 바로 전달해 화면에 출력한다.\n",
        "greeting = HelloWorld()\n",
        "print(greeting)\n",
        "\n",
        "greeting = HelloMessage('MARY')\n",
        "print(greeting)\n",
        "\n",
        "print(HelloWorld())\n",
        "print(HelloMessage('MARY'))\n",
        "\n",
        "# 함수에서 값을 돌려주는 경우 return을 사용한다. 파이썬은 한 번에 여러 개의 값을 돌려줄 수있다."
      ],
      "metadata": {
        "colab": {
          "base_uri": "https://localhost:8080/"
        },
        "id": "awhnvtF9DY9P",
        "outputId": "02d48192-1a4b-47ac-9e5a-3e3abad2b887"
      },
      "execution_count": null,
      "outputs": [
        {
          "output_type": "stream",
          "name": "stdout",
          "text": [
            "Hello World\n",
            "HelloMARY\n",
            "Hello World\n",
            "HelloMARY\n"
          ]
        }
      ]
    },
    {
      "cell_type": "code",
      "source": [
        "# return은 여러 개의 값을 돌려줄 수 있다.\n",
        "# 아래 함수 x()는 네 개의 값을 돌려준다.\n",
        "# 돌려주는 값을 변수 네개가 받는다.\n",
        "def x():\n",
        "  return 1,2,3,4\n",
        "\n",
        "a,b,c,d = x()\n",
        "print(a,b,c,d)"
      ],
      "metadata": {
        "colab": {
          "base_uri": "https://localhost:8080/"
        },
        "id": "uEY4nwTbH0KX",
        "outputId": "e7fdb3a1-978e-420e-dbfd-d994a4f4a37a"
      },
      "execution_count": null,
      "outputs": [
        {
          "output_type": "stream",
          "name": "stdout",
          "text": [
            "1 2 3 4\n"
          ]
        }
      ]
    },
    {
      "cell_type": "code",
      "source": [],
      "metadata": {
        "id": "K2dgel47JByo"
      },
      "execution_count": null,
      "outputs": []
    }
  ]
}
